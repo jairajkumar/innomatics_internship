{
 "cells": [
  {
   "cell_type": "markdown",
   "metadata": {},
   "source": [
    "#### NAME : JAIRAJ KUMAR\n",
    "#### ID : https://www.hackerrank.com/jairajsingh"
   ]
  },
  {
   "cell_type": "markdown",
   "metadata": {},
   "source": [
    "# Question-1"
   ]
  },
  {
   "cell_type": "markdown",
   "metadata": {},
   "source": [
    "https://www.hackerrank.com/challenges/py-hello-world"
   ]
  },
  {
   "cell_type": "markdown",
   "metadata": {},
   "source": [
    "Here is a sample line of code that can be executed in Python:\n",
    "\n",
    "print(\"Hello, World!\")\n",
    "You can just as easily store a string as a variable and then print it to stdout:\n",
    "\n",
    "my_string = \"Hello, World!\"\n",
    "print(my_string)\n",
    "The above code will print Hello, World! on your screen. Try it yourself in the editor below!\n",
    "\n",
    "Input Format\n",
    "\n",
    "You do not need to read any input in this challenge.\n",
    "\n",
    "Output Format\n",
    "\n",
    "Print Hello, World! to stdout.\n",
    "\n",
    "Sample Output 0\n",
    "\n",
    "Hello, World!"
   ]
  },
  {
   "cell_type": "markdown",
   "metadata": {},
   "source": [
    "### solution:\n"
   ]
  },
  {
   "cell_type": "code",
   "execution_count": 1,
   "metadata": {},
   "outputs": [
    {
     "name": "stdout",
     "output_type": "stream",
     "text": [
      "Hello, World!\n"
     ]
    }
   ],
   "source": [
    "print(\"Hello, World!\")\n"
   ]
  },
  {
   "cell_type": "markdown",
   "metadata": {},
   "source": [
    "# Question-2"
   ]
  },
  {
   "cell_type": "markdown",
   "metadata": {},
   "source": [
    "https://www.hackerrank.com/challenges/py-if-else"
   ]
  },
  {
   "cell_type": "markdown",
   "metadata": {},
   "source": [
    "Task\n",
    "Given an integer, , perform the following conditional actions:\n",
    "\n",
    "If  is odd, print Weird\n",
    "If  is even and in the inclusive range of  to , print Not Weird\n",
    "If  is even and in the inclusive range of  to , print Weird\n",
    "If  is even and greater than , print Not Weird\n",
    "Input Format\n",
    "\n",
    "A single line containing a positive integer, .\n",
    "\n",
    "Constraints\n",
    "\n",
    "Output Format\n",
    "\n",
    "Print Weird if the number is weird. Otherwise, print Not Weird.\n",
    "\n",
    "Sample Input 0\n",
    "\n",
    "3\n",
    "Sample Output 0\n",
    "\n",
    "Weird\n",
    "Explanation 0\n",
    "\n",
    "\n",
    " is odd and odd numbers are weird, so print Weird.\n",
    "\n",
    "Sample Input 1\n",
    "\n",
    "24\n",
    "Sample Output 1\n",
    "\n",
    "Not Weird"
   ]
  },
  {
   "cell_type": "markdown",
   "metadata": {},
   "source": [
    "### solution:\n"
   ]
  },
  {
   "cell_type": "code",
   "execution_count": null,
   "metadata": {},
   "outputs": [],
   "source": [
    "\n",
    "\n",
    "import math\n",
    "import os\n",
    "import random\n",
    "import re\n",
    "import sys\n",
    "\n",
    "\n",
    "\n",
    "if __name__ == '__main__':\n",
    "    n = int(input())\n",
    "    if n%2 != 0:\n",
    "        print (\"Weird\")\n",
    "    if n%2 == 0:\n",
    "        if n == 2 or n == 4:\n",
    "            print(\"Not Weird\")\n",
    "        if 6<= n <= 20:\n",
    "            print(\"Weird\")\n",
    "        if n > 20:\n",
    "            print(\"Not Weird\")\n",
    "   \n"
   ]
  },
  {
   "cell_type": "markdown",
   "metadata": {},
   "source": [
    "# Question-3\n"
   ]
  },
  {
   "cell_type": "markdown",
   "metadata": {},
   "source": [
    "https://www.hackerrank.com/challenges/python-arithmetic-operators"
   ]
  },
  {
   "cell_type": "markdown",
   "metadata": {},
   "source": [
    "Task\n",
    "The provided code stub reads two integers from STDIN,  and . Add code to print three lines where:\n",
    "\n",
    "The first line contains the sum of the two numbers.\n",
    "The second line contains the difference of the two numbers (first - second).\n",
    "The third line contains the product of the two numbers.\n",
    "Example\n",
    "\n",
    "\n",
    "Print the following:\n",
    "\n",
    "8\n",
    "-2\n",
    "15\n",
    "Input Format\n",
    "\n",
    "The first line contains the first integer, .\n",
    "The second line contains the second integer, .\n",
    "\n",
    "Constraints\n",
    "\n",
    "\n",
    "\n",
    "Output Format\n",
    "\n",
    "Print the three lines as explained above.\n",
    "\n",
    "Sample Input 0\n",
    "\n",
    "3\n",
    "2\n",
    "Sample Output 0\n",
    "\n",
    "5\n",
    "1\n",
    "6"
   ]
  },
  {
   "cell_type": "markdown",
   "metadata": {},
   "source": [
    "### solution:\n"
   ]
  },
  {
   "cell_type": "code",
   "execution_count": null,
   "metadata": {},
   "outputs": [],
   "source": [
    "if __name__ == '__main__':\n",
    "    a = int(input())\n",
    "    b = int(input())\n",
    "    print(a+b)\n",
    "    print(a-b)\n",
    "    print(a*b)\n"
   ]
  },
  {
   "cell_type": "markdown",
   "metadata": {},
   "source": [
    "# Question-4\n"
   ]
  },
  {
   "cell_type": "markdown",
   "metadata": {},
   "source": [
    "https://www.hackerrank.com/challenges/python-division"
   ]
  },
  {
   "cell_type": "markdown",
   "metadata": {},
   "source": [
    "Task\n",
    "The provided code stub reads two integers,  and , from STDIN.\n",
    "\n",
    "Add logic to print two lines. The first line should contain the result of integer division,  // . The second line should contain the result of float division,  / .\n",
    "\n",
    "No rounding or formatting is necessary.\n",
    "\n",
    "Example\n",
    "\n",
    "\n",
    "The result of the integer division .\n",
    "The result of the float division is .\n",
    "Print:\n",
    "\n",
    "0\n",
    "0.6\n",
    "Input Format\n",
    "\n",
    "The first line contains the first integer, .\n",
    "The second line contains the second integer, .\n",
    "\n",
    "Output Format\n",
    "\n",
    "Print the two lines as described above.\n",
    "\n",
    "Sample Input 0\n",
    "\n",
    "4\n",
    "3\n",
    "Sample Output 0\n",
    "\n",
    "1\n",
    "1.33333333333"
   ]
  },
  {
   "cell_type": "markdown",
   "metadata": {},
   "source": [
    "### solution:\n"
   ]
  },
  {
   "cell_type": "code",
   "execution_count": null,
   "metadata": {},
   "outputs": [],
   "source": [
    "if __name__ == '__main__':\n",
    "    a = int(input())\n",
    "    b = int(input())\n",
    "    print(a//b)\n",
    "    print(a/b)\n"
   ]
  },
  {
   "cell_type": "markdown",
   "metadata": {},
   "source": [
    "# Question-5"
   ]
  },
  {
   "cell_type": "markdown",
   "metadata": {},
   "source": [
    "https://www.hackerrank.com/challenges/python-loops"
   ]
  },
  {
   "cell_type": "markdown",
   "metadata": {},
   "source": [
    "Task\n",
    "The provided code stub reads and integer, , from STDIN. For all non-negative integers , print .\n",
    "\n",
    "Example\n",
    "\n",
    "The list of non-negative integers that are less than  is . Print the square of each number on a separate line.\n",
    "\n",
    "0\n",
    "1\n",
    "4\n",
    "Input Format\n",
    "\n",
    "The first and only line contains the integer, .\n",
    "\n",
    "Constraints\n",
    "\n",
    "\n",
    "Output Format\n",
    "\n",
    "Print  lines, one corresponding to each .\n",
    "\n",
    "Sample Input 0\n",
    "\n",
    "5\n",
    "Sample Output 0\n",
    "\n",
    "0\n",
    "1\n",
    "4\n",
    "9\n",
    "16"
   ]
  },
  {
   "cell_type": "markdown",
   "metadata": {},
   "source": [
    "### solution:\n"
   ]
  },
  {
   "cell_type": "code",
   "execution_count": null,
   "metadata": {},
   "outputs": [],
   "source": [
    "if __name__ == '__main__':\n",
    "    n = int(input())\n",
    "    for i in range(n):\n",
    "        print (i**2)\n"
   ]
  },
  {
   "cell_type": "markdown",
   "metadata": {},
   "source": [
    "# Question-6"
   ]
  },
  {
   "cell_type": "markdown",
   "metadata": {},
   "source": [
    "https://www.hackerrank.com/challenges/write-a-function"
   ]
  },
  {
   "cell_type": "markdown",
   "metadata": {},
   "source": [
    "An extra day is added to the calendar almost every four years as February 29, and the day is called a leap day. It corrects the calendar for the fact that our planet takes approximately 365.25 days to orbit the sun. A leap year contains a leap day.\n",
    "\n",
    "In the Gregorian calendar, three conditions are used to identify leap years:\n",
    "\n",
    "The year can be evenly divided by 4, is a leap year, unless:\n",
    "The year can be evenly divided by 100, it is NOT a leap year, unless:\n",
    "The year is also evenly divisible by 400. Then it is a leap year.\n",
    "This means that in the Gregorian calendar, the years 2000 and 2400 are leap years, while 1800, 1900, 2100, 2200, 2300 and 2500 are NOT leap years. Source\n",
    "\n",
    "Task\n",
    "\n",
    "Given a year, determine whether it is a leap year. If it is a leap year, return the Boolean True, otherwise return False.\n",
    "\n",
    "Note that the code stub provided reads from STDIN and passes arguments to the is_leap function. It is only necessary to complete the is_leap function.\n",
    "\n",
    "Input Format\n",
    "\n",
    "Read , the year to test.\n",
    "\n",
    "Constraints\n",
    "\n",
    "\n",
    "Output Format\n",
    "\n",
    "The function must return a Boolean value (True/False). Output is handled by the provided code stub.\n",
    "\n",
    "Sample Input 0\n",
    "\n",
    "1990\n",
    "Sample Output 0\n",
    "\n",
    "False\n",
    "Explanation 0\n",
    "\n",
    "1990 is not a multiple of 4 hence it's not a leap year."
   ]
  },
  {
   "cell_type": "markdown",
   "metadata": {},
   "source": [
    "### solution:\n"
   ]
  },
  {
   "cell_type": "code",
   "execution_count": null,
   "metadata": {},
   "outputs": [],
   "source": [
    "def is_leap(year):\n",
    "    leap = False\n",
    "    if year%4 == 0:\n",
    "        leap = True\n",
    "        if year%100 == 0:\n",
    "            leap = False\n",
    "            if year%400 == 0:\n",
    "                leap= True\n",
    "       \n",
    "    # Write your logic here\n",
    "    \n",
    "    return leap\n",
    "\n"
   ]
  },
  {
   "cell_type": "markdown",
   "metadata": {},
   "source": [
    "# Question-7"
   ]
  },
  {
   "cell_type": "markdown",
   "metadata": {},
   "source": [
    "https://www.hackerrank.com/challenges/python-print"
   ]
  },
  {
   "cell_type": "markdown",
   "metadata": {},
   "source": [
    "The included code stub will read an integer, , from STDIN.\n",
    "\n",
    "Without using any string methods, try to print the following:\n",
    "\n",
    "\n",
    "Note that \"\" represents the consecutive values in between.\n",
    "\n",
    "Example\n",
    "\n",
    "Print the string .\n",
    "\n",
    "Input Format\n",
    "\n",
    "The first line contains an integer .\n",
    "\n",
    "Constraints\n",
    "\n",
    "\n",
    "Output Format\n",
    "\n",
    "Print the list of integers from  through  as a string, without spaces.\n",
    "\n",
    "Sample Input 0\n",
    "\n",
    "3\n",
    "Sample Output 0\n",
    "\n",
    "123"
   ]
  },
  {
   "cell_type": "markdown",
   "metadata": {},
   "source": [
    "### solution:\n"
   ]
  },
  {
   "cell_type": "code",
   "execution_count": null,
   "metadata": {},
   "outputs": [],
   "source": [
    "if __name__ == '__main__':\n",
    "    n = int(input())\n",
    "    for i in range(1,n+1):\n",
    "        print(i,end=\"\")\n"
   ]
  }
 ],
 "metadata": {
  "kernelspec": {
   "display_name": "Python 3",
   "language": "python",
   "name": "python3"
  },
  "language_info": {
   "codemirror_mode": {
    "name": "ipython",
    "version": 3
   },
   "file_extension": ".py",
   "mimetype": "text/x-python",
   "name": "python",
   "nbconvert_exporter": "python",
   "pygments_lexer": "ipython3",
   "version": "3.8.2"
  }
 },
 "nbformat": 4,
 "nbformat_minor": 4
}
