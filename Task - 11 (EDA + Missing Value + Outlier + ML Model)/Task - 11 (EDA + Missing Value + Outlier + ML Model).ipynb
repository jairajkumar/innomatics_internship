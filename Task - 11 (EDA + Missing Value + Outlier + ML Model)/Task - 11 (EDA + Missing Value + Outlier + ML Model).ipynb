{
 "cells": [
  {
   "cell_type": "code",
   "execution_count": 1,
   "metadata": {},
   "outputs": [],
   "source": [
    "import numpy as np\n",
    "import pandas as pd\n",
    "import matplotlib.pyplot as plt\n",
    "%matplotlib inline\n",
    "import seaborn as sb\n",
    "sb.set(style=\"whitegrid\", color_codes=True)\n",
    "from sklearn import preprocessing"
   ]
  },
  {
   "cell_type": "code",
   "execution_count": 2,
   "metadata": {},
   "outputs": [],
   "source": [
    "df= pd.read_csv('adult.csv')"
   ]
  },
  {
   "cell_type": "code",
   "execution_count": 3,
   "metadata": {},
   "outputs": [
    {
     "data": {
      "text/plain": [
       "(48842, 15)"
      ]
     },
     "execution_count": 3,
     "metadata": {},
     "output_type": "execute_result"
    }
   ],
   "source": [
    "df.shape"
   ]
  },
  {
   "cell_type": "code",
   "execution_count": 4,
   "metadata": {},
   "outputs": [
    {
     "data": {
      "text/plain": [
       "age                0\n",
       "workclass          0\n",
       "fnlwgt             0\n",
       "education          0\n",
       "educational-num    0\n",
       "marital-status     0\n",
       "occupation         0\n",
       "relationship       0\n",
       "race               0\n",
       "gender             0\n",
       "capital-gain       0\n",
       "capital-loss       0\n",
       "hours-per-week     0\n",
       "native-country     0\n",
       "income             0\n",
       "dtype: int64"
      ]
     },
     "execution_count": 4,
     "metadata": {},
     "output_type": "execute_result"
    }
   ],
   "source": [
    "df.isnull().sum()"
   ]
  },
  {
   "cell_type": "code",
   "execution_count": 5,
   "metadata": {},
   "outputs": [],
   "source": [
    "df=df.replace('?',np.nan)"
   ]
  },
  {
   "cell_type": "code",
   "execution_count": 6,
   "metadata": {},
   "outputs": [
    {
     "data": {
      "text/plain": [
       "age                 0.0 %\n",
       "workclass          5.73 %\n",
       "fnlwgt              0.0 %\n",
       "education           0.0 %\n",
       "educational-num     0.0 %\n",
       "marital-status      0.0 %\n",
       "occupation         5.75 %\n",
       "relationship        0.0 %\n",
       "race                0.0 %\n",
       "gender              0.0 %\n",
       "capital-gain        0.0 %\n",
       "capital-loss        0.0 %\n",
       "hours-per-week      0.0 %\n",
       "native-country     1.75 %\n",
       "income              0.0 %\n",
       "dtype: object"
      ]
     },
     "execution_count": 6,
     "metadata": {},
     "output_type": "execute_result"
    }
   ],
   "source": [
    "round((df.isnull().sum() / df.shape[0]) * 100, 2).astype(str) + ' %'"
   ]
  },
  {
   "cell_type": "code",
   "execution_count": 7,
   "metadata": {},
   "outputs": [],
   "source": [
    "columns_with_nan = ['workclass', 'occupation', 'native-country']"
   ]
  },
  {
   "cell_type": "code",
   "execution_count": 8,
   "metadata": {},
   "outputs": [],
   "source": [
    "for col in columns_with_nan:\n",
    "    df[col].fillna(df[col].mode()[0], inplace=True)"
   ]
  },
  {
   "cell_type": "code",
   "execution_count": 9,
   "metadata": {},
   "outputs": [
    {
     "data": {
      "text/html": [
       "<div>\n",
       "<style scoped>\n",
       "    .dataframe tbody tr th:only-of-type {\n",
       "        vertical-align: middle;\n",
       "    }\n",
       "\n",
       "    .dataframe tbody tr th {\n",
       "        vertical-align: top;\n",
       "    }\n",
       "\n",
       "    .dataframe thead th {\n",
       "        text-align: right;\n",
       "    }\n",
       "</style>\n",
       "<table border=\"1\" class=\"dataframe\">\n",
       "  <thead>\n",
       "    <tr style=\"text-align: right;\">\n",
       "      <th></th>\n",
       "      <th>age</th>\n",
       "      <th>workclass</th>\n",
       "      <th>fnlwgt</th>\n",
       "      <th>education</th>\n",
       "      <th>educational-num</th>\n",
       "      <th>marital-status</th>\n",
       "      <th>occupation</th>\n",
       "      <th>relationship</th>\n",
       "      <th>race</th>\n",
       "      <th>gender</th>\n",
       "      <th>capital-gain</th>\n",
       "      <th>capital-loss</th>\n",
       "      <th>hours-per-week</th>\n",
       "      <th>native-country</th>\n",
       "      <th>income</th>\n",
       "    </tr>\n",
       "  </thead>\n",
       "  <tbody>\n",
       "    <tr>\n",
       "      <th>0</th>\n",
       "      <td>25</td>\n",
       "      <td>Private</td>\n",
       "      <td>226802</td>\n",
       "      <td>11th</td>\n",
       "      <td>7</td>\n",
       "      <td>Never-married</td>\n",
       "      <td>Machine-op-inspct</td>\n",
       "      <td>Own-child</td>\n",
       "      <td>Black</td>\n",
       "      <td>Male</td>\n",
       "      <td>0</td>\n",
       "      <td>0</td>\n",
       "      <td>40</td>\n",
       "      <td>United-States</td>\n",
       "      <td>&lt;=50K</td>\n",
       "    </tr>\n",
       "    <tr>\n",
       "      <th>1</th>\n",
       "      <td>38</td>\n",
       "      <td>Private</td>\n",
       "      <td>89814</td>\n",
       "      <td>HS-grad</td>\n",
       "      <td>9</td>\n",
       "      <td>Married-civ-spouse</td>\n",
       "      <td>Farming-fishing</td>\n",
       "      <td>Husband</td>\n",
       "      <td>White</td>\n",
       "      <td>Male</td>\n",
       "      <td>0</td>\n",
       "      <td>0</td>\n",
       "      <td>50</td>\n",
       "      <td>United-States</td>\n",
       "      <td>&lt;=50K</td>\n",
       "    </tr>\n",
       "    <tr>\n",
       "      <th>2</th>\n",
       "      <td>28</td>\n",
       "      <td>Local-gov</td>\n",
       "      <td>336951</td>\n",
       "      <td>Assoc-acdm</td>\n",
       "      <td>12</td>\n",
       "      <td>Married-civ-spouse</td>\n",
       "      <td>Protective-serv</td>\n",
       "      <td>Husband</td>\n",
       "      <td>White</td>\n",
       "      <td>Male</td>\n",
       "      <td>0</td>\n",
       "      <td>0</td>\n",
       "      <td>40</td>\n",
       "      <td>United-States</td>\n",
       "      <td>&gt;50K</td>\n",
       "    </tr>\n",
       "    <tr>\n",
       "      <th>3</th>\n",
       "      <td>44</td>\n",
       "      <td>Private</td>\n",
       "      <td>160323</td>\n",
       "      <td>Some-college</td>\n",
       "      <td>10</td>\n",
       "      <td>Married-civ-spouse</td>\n",
       "      <td>Machine-op-inspct</td>\n",
       "      <td>Husband</td>\n",
       "      <td>Black</td>\n",
       "      <td>Male</td>\n",
       "      <td>7688</td>\n",
       "      <td>0</td>\n",
       "      <td>40</td>\n",
       "      <td>United-States</td>\n",
       "      <td>&gt;50K</td>\n",
       "    </tr>\n",
       "    <tr>\n",
       "      <th>4</th>\n",
       "      <td>18</td>\n",
       "      <td>Private</td>\n",
       "      <td>103497</td>\n",
       "      <td>Some-college</td>\n",
       "      <td>10</td>\n",
       "      <td>Never-married</td>\n",
       "      <td>Prof-specialty</td>\n",
       "      <td>Own-child</td>\n",
       "      <td>White</td>\n",
       "      <td>Female</td>\n",
       "      <td>0</td>\n",
       "      <td>0</td>\n",
       "      <td>30</td>\n",
       "      <td>United-States</td>\n",
       "      <td>&lt;=50K</td>\n",
       "    </tr>\n",
       "    <tr>\n",
       "      <th>...</th>\n",
       "      <td>...</td>\n",
       "      <td>...</td>\n",
       "      <td>...</td>\n",
       "      <td>...</td>\n",
       "      <td>...</td>\n",
       "      <td>...</td>\n",
       "      <td>...</td>\n",
       "      <td>...</td>\n",
       "      <td>...</td>\n",
       "      <td>...</td>\n",
       "      <td>...</td>\n",
       "      <td>...</td>\n",
       "      <td>...</td>\n",
       "      <td>...</td>\n",
       "      <td>...</td>\n",
       "    </tr>\n",
       "    <tr>\n",
       "      <th>48837</th>\n",
       "      <td>27</td>\n",
       "      <td>Private</td>\n",
       "      <td>257302</td>\n",
       "      <td>Assoc-acdm</td>\n",
       "      <td>12</td>\n",
       "      <td>Married-civ-spouse</td>\n",
       "      <td>Tech-support</td>\n",
       "      <td>Wife</td>\n",
       "      <td>White</td>\n",
       "      <td>Female</td>\n",
       "      <td>0</td>\n",
       "      <td>0</td>\n",
       "      <td>38</td>\n",
       "      <td>United-States</td>\n",
       "      <td>&lt;=50K</td>\n",
       "    </tr>\n",
       "    <tr>\n",
       "      <th>48838</th>\n",
       "      <td>40</td>\n",
       "      <td>Private</td>\n",
       "      <td>154374</td>\n",
       "      <td>HS-grad</td>\n",
       "      <td>9</td>\n",
       "      <td>Married-civ-spouse</td>\n",
       "      <td>Machine-op-inspct</td>\n",
       "      <td>Husband</td>\n",
       "      <td>White</td>\n",
       "      <td>Male</td>\n",
       "      <td>0</td>\n",
       "      <td>0</td>\n",
       "      <td>40</td>\n",
       "      <td>United-States</td>\n",
       "      <td>&gt;50K</td>\n",
       "    </tr>\n",
       "    <tr>\n",
       "      <th>48839</th>\n",
       "      <td>58</td>\n",
       "      <td>Private</td>\n",
       "      <td>151910</td>\n",
       "      <td>HS-grad</td>\n",
       "      <td>9</td>\n",
       "      <td>Widowed</td>\n",
       "      <td>Adm-clerical</td>\n",
       "      <td>Unmarried</td>\n",
       "      <td>White</td>\n",
       "      <td>Female</td>\n",
       "      <td>0</td>\n",
       "      <td>0</td>\n",
       "      <td>40</td>\n",
       "      <td>United-States</td>\n",
       "      <td>&lt;=50K</td>\n",
       "    </tr>\n",
       "    <tr>\n",
       "      <th>48840</th>\n",
       "      <td>22</td>\n",
       "      <td>Private</td>\n",
       "      <td>201490</td>\n",
       "      <td>HS-grad</td>\n",
       "      <td>9</td>\n",
       "      <td>Never-married</td>\n",
       "      <td>Adm-clerical</td>\n",
       "      <td>Own-child</td>\n",
       "      <td>White</td>\n",
       "      <td>Male</td>\n",
       "      <td>0</td>\n",
       "      <td>0</td>\n",
       "      <td>20</td>\n",
       "      <td>United-States</td>\n",
       "      <td>&lt;=50K</td>\n",
       "    </tr>\n",
       "    <tr>\n",
       "      <th>48841</th>\n",
       "      <td>52</td>\n",
       "      <td>Self-emp-inc</td>\n",
       "      <td>287927</td>\n",
       "      <td>HS-grad</td>\n",
       "      <td>9</td>\n",
       "      <td>Married-civ-spouse</td>\n",
       "      <td>Exec-managerial</td>\n",
       "      <td>Wife</td>\n",
       "      <td>White</td>\n",
       "      <td>Female</td>\n",
       "      <td>15024</td>\n",
       "      <td>0</td>\n",
       "      <td>40</td>\n",
       "      <td>United-States</td>\n",
       "      <td>&gt;50K</td>\n",
       "    </tr>\n",
       "  </tbody>\n",
       "</table>\n",
       "<p>48842 rows × 15 columns</p>\n",
       "</div>"
      ],
      "text/plain": [
       "       age     workclass  fnlwgt     education  educational-num  \\\n",
       "0       25       Private  226802          11th                7   \n",
       "1       38       Private   89814       HS-grad                9   \n",
       "2       28     Local-gov  336951    Assoc-acdm               12   \n",
       "3       44       Private  160323  Some-college               10   \n",
       "4       18       Private  103497  Some-college               10   \n",
       "...    ...           ...     ...           ...              ...   \n",
       "48837   27       Private  257302    Assoc-acdm               12   \n",
       "48838   40       Private  154374       HS-grad                9   \n",
       "48839   58       Private  151910       HS-grad                9   \n",
       "48840   22       Private  201490       HS-grad                9   \n",
       "48841   52  Self-emp-inc  287927       HS-grad                9   \n",
       "\n",
       "           marital-status         occupation relationship   race  gender  \\\n",
       "0           Never-married  Machine-op-inspct    Own-child  Black    Male   \n",
       "1      Married-civ-spouse    Farming-fishing      Husband  White    Male   \n",
       "2      Married-civ-spouse    Protective-serv      Husband  White    Male   \n",
       "3      Married-civ-spouse  Machine-op-inspct      Husband  Black    Male   \n",
       "4           Never-married     Prof-specialty    Own-child  White  Female   \n",
       "...                   ...                ...          ...    ...     ...   \n",
       "48837  Married-civ-spouse       Tech-support         Wife  White  Female   \n",
       "48838  Married-civ-spouse  Machine-op-inspct      Husband  White    Male   \n",
       "48839             Widowed       Adm-clerical    Unmarried  White  Female   \n",
       "48840       Never-married       Adm-clerical    Own-child  White    Male   \n",
       "48841  Married-civ-spouse    Exec-managerial         Wife  White  Female   \n",
       "\n",
       "       capital-gain  capital-loss  hours-per-week native-country income  \n",
       "0                 0             0              40  United-States  <=50K  \n",
       "1                 0             0              50  United-States  <=50K  \n",
       "2                 0             0              40  United-States   >50K  \n",
       "3              7688             0              40  United-States   >50K  \n",
       "4                 0             0              30  United-States  <=50K  \n",
       "...             ...           ...             ...            ...    ...  \n",
       "48837             0             0              38  United-States  <=50K  \n",
       "48838             0             0              40  United-States   >50K  \n",
       "48839             0             0              40  United-States  <=50K  \n",
       "48840             0             0              20  United-States  <=50K  \n",
       "48841         15024             0              40  United-States   >50K  \n",
       "\n",
       "[48842 rows x 15 columns]"
      ]
     },
     "execution_count": 9,
     "metadata": {},
     "output_type": "execute_result"
    }
   ],
   "source": [
    "df"
   ]
  },
  {
   "cell_type": "code",
   "execution_count": 10,
   "metadata": {
    "scrolled": true
   },
   "outputs": [
    {
     "data": {
      "text/plain": [
       "age                0.0 %\n",
       "workclass          0.0 %\n",
       "fnlwgt             0.0 %\n",
       "education          0.0 %\n",
       "educational-num    0.0 %\n",
       "marital-status     0.0 %\n",
       "occupation         0.0 %\n",
       "relationship       0.0 %\n",
       "race               0.0 %\n",
       "gender             0.0 %\n",
       "capital-gain       0.0 %\n",
       "capital-loss       0.0 %\n",
       "hours-per-week     0.0 %\n",
       "native-country     0.0 %\n",
       "income             0.0 %\n",
       "dtype: object"
      ]
     },
     "execution_count": 10,
     "metadata": {},
     "output_type": "execute_result"
    }
   ],
   "source": [
    "round((df.isnull().sum() / df.shape[0]) * 100, 2).astype(str) + ' %'"
   ]
  },
  {
   "cell_type": "code",
   "execution_count": 11,
   "metadata": {},
   "outputs": [
    {
     "data": {
      "text/html": [
       "<div>\n",
       "<style scoped>\n",
       "    .dataframe tbody tr th:only-of-type {\n",
       "        vertical-align: middle;\n",
       "    }\n",
       "\n",
       "    .dataframe tbody tr th {\n",
       "        vertical-align: top;\n",
       "    }\n",
       "\n",
       "    .dataframe thead th {\n",
       "        text-align: right;\n",
       "    }\n",
       "</style>\n",
       "<table border=\"1\" class=\"dataframe\">\n",
       "  <thead>\n",
       "    <tr style=\"text-align: right;\">\n",
       "      <th></th>\n",
       "      <th>age</th>\n",
       "      <th>workclass</th>\n",
       "      <th>fnlwgt</th>\n",
       "      <th>education</th>\n",
       "      <th>educational-num</th>\n",
       "      <th>marital-status</th>\n",
       "      <th>occupation</th>\n",
       "      <th>relationship</th>\n",
       "      <th>race</th>\n",
       "      <th>gender</th>\n",
       "      <th>capital-gain</th>\n",
       "      <th>capital-loss</th>\n",
       "      <th>hours-per-week</th>\n",
       "      <th>native-country</th>\n",
       "      <th>income</th>\n",
       "    </tr>\n",
       "  </thead>\n",
       "  <tbody>\n",
       "    <tr>\n",
       "      <th>count</th>\n",
       "      <td>48842.000000</td>\n",
       "      <td>48842</td>\n",
       "      <td>4.884200e+04</td>\n",
       "      <td>48842</td>\n",
       "      <td>48842.000000</td>\n",
       "      <td>48842</td>\n",
       "      <td>48842</td>\n",
       "      <td>48842</td>\n",
       "      <td>48842</td>\n",
       "      <td>48842</td>\n",
       "      <td>48842.000000</td>\n",
       "      <td>48842.000000</td>\n",
       "      <td>48842.000000</td>\n",
       "      <td>48842</td>\n",
       "      <td>48842</td>\n",
       "    </tr>\n",
       "    <tr>\n",
       "      <th>unique</th>\n",
       "      <td>NaN</td>\n",
       "      <td>8</td>\n",
       "      <td>NaN</td>\n",
       "      <td>16</td>\n",
       "      <td>NaN</td>\n",
       "      <td>7</td>\n",
       "      <td>14</td>\n",
       "      <td>6</td>\n",
       "      <td>5</td>\n",
       "      <td>2</td>\n",
       "      <td>NaN</td>\n",
       "      <td>NaN</td>\n",
       "      <td>NaN</td>\n",
       "      <td>41</td>\n",
       "      <td>2</td>\n",
       "    </tr>\n",
       "    <tr>\n",
       "      <th>top</th>\n",
       "      <td>NaN</td>\n",
       "      <td>Private</td>\n",
       "      <td>NaN</td>\n",
       "      <td>HS-grad</td>\n",
       "      <td>NaN</td>\n",
       "      <td>Married-civ-spouse</td>\n",
       "      <td>Prof-specialty</td>\n",
       "      <td>Husband</td>\n",
       "      <td>White</td>\n",
       "      <td>Male</td>\n",
       "      <td>NaN</td>\n",
       "      <td>NaN</td>\n",
       "      <td>NaN</td>\n",
       "      <td>United-States</td>\n",
       "      <td>&lt;=50K</td>\n",
       "    </tr>\n",
       "    <tr>\n",
       "      <th>freq</th>\n",
       "      <td>NaN</td>\n",
       "      <td>36705</td>\n",
       "      <td>NaN</td>\n",
       "      <td>15784</td>\n",
       "      <td>NaN</td>\n",
       "      <td>22379</td>\n",
       "      <td>8981</td>\n",
       "      <td>19716</td>\n",
       "      <td>41762</td>\n",
       "      <td>32650</td>\n",
       "      <td>NaN</td>\n",
       "      <td>NaN</td>\n",
       "      <td>NaN</td>\n",
       "      <td>44689</td>\n",
       "      <td>37155</td>\n",
       "    </tr>\n",
       "    <tr>\n",
       "      <th>mean</th>\n",
       "      <td>38.643585</td>\n",
       "      <td>NaN</td>\n",
       "      <td>1.896641e+05</td>\n",
       "      <td>NaN</td>\n",
       "      <td>10.078089</td>\n",
       "      <td>NaN</td>\n",
       "      <td>NaN</td>\n",
       "      <td>NaN</td>\n",
       "      <td>NaN</td>\n",
       "      <td>NaN</td>\n",
       "      <td>1079.067626</td>\n",
       "      <td>87.502314</td>\n",
       "      <td>40.422382</td>\n",
       "      <td>NaN</td>\n",
       "      <td>NaN</td>\n",
       "    </tr>\n",
       "    <tr>\n",
       "      <th>std</th>\n",
       "      <td>13.710510</td>\n",
       "      <td>NaN</td>\n",
       "      <td>1.056040e+05</td>\n",
       "      <td>NaN</td>\n",
       "      <td>2.570973</td>\n",
       "      <td>NaN</td>\n",
       "      <td>NaN</td>\n",
       "      <td>NaN</td>\n",
       "      <td>NaN</td>\n",
       "      <td>NaN</td>\n",
       "      <td>7452.019058</td>\n",
       "      <td>403.004552</td>\n",
       "      <td>12.391444</td>\n",
       "      <td>NaN</td>\n",
       "      <td>NaN</td>\n",
       "    </tr>\n",
       "    <tr>\n",
       "      <th>min</th>\n",
       "      <td>17.000000</td>\n",
       "      <td>NaN</td>\n",
       "      <td>1.228500e+04</td>\n",
       "      <td>NaN</td>\n",
       "      <td>1.000000</td>\n",
       "      <td>NaN</td>\n",
       "      <td>NaN</td>\n",
       "      <td>NaN</td>\n",
       "      <td>NaN</td>\n",
       "      <td>NaN</td>\n",
       "      <td>0.000000</td>\n",
       "      <td>0.000000</td>\n",
       "      <td>1.000000</td>\n",
       "      <td>NaN</td>\n",
       "      <td>NaN</td>\n",
       "    </tr>\n",
       "    <tr>\n",
       "      <th>25%</th>\n",
       "      <td>28.000000</td>\n",
       "      <td>NaN</td>\n",
       "      <td>1.175505e+05</td>\n",
       "      <td>NaN</td>\n",
       "      <td>9.000000</td>\n",
       "      <td>NaN</td>\n",
       "      <td>NaN</td>\n",
       "      <td>NaN</td>\n",
       "      <td>NaN</td>\n",
       "      <td>NaN</td>\n",
       "      <td>0.000000</td>\n",
       "      <td>0.000000</td>\n",
       "      <td>40.000000</td>\n",
       "      <td>NaN</td>\n",
       "      <td>NaN</td>\n",
       "    </tr>\n",
       "    <tr>\n",
       "      <th>50%</th>\n",
       "      <td>37.000000</td>\n",
       "      <td>NaN</td>\n",
       "      <td>1.781445e+05</td>\n",
       "      <td>NaN</td>\n",
       "      <td>10.000000</td>\n",
       "      <td>NaN</td>\n",
       "      <td>NaN</td>\n",
       "      <td>NaN</td>\n",
       "      <td>NaN</td>\n",
       "      <td>NaN</td>\n",
       "      <td>0.000000</td>\n",
       "      <td>0.000000</td>\n",
       "      <td>40.000000</td>\n",
       "      <td>NaN</td>\n",
       "      <td>NaN</td>\n",
       "    </tr>\n",
       "    <tr>\n",
       "      <th>75%</th>\n",
       "      <td>48.000000</td>\n",
       "      <td>NaN</td>\n",
       "      <td>2.376420e+05</td>\n",
       "      <td>NaN</td>\n",
       "      <td>12.000000</td>\n",
       "      <td>NaN</td>\n",
       "      <td>NaN</td>\n",
       "      <td>NaN</td>\n",
       "      <td>NaN</td>\n",
       "      <td>NaN</td>\n",
       "      <td>0.000000</td>\n",
       "      <td>0.000000</td>\n",
       "      <td>45.000000</td>\n",
       "      <td>NaN</td>\n",
       "      <td>NaN</td>\n",
       "    </tr>\n",
       "    <tr>\n",
       "      <th>max</th>\n",
       "      <td>90.000000</td>\n",
       "      <td>NaN</td>\n",
       "      <td>1.490400e+06</td>\n",
       "      <td>NaN</td>\n",
       "      <td>16.000000</td>\n",
       "      <td>NaN</td>\n",
       "      <td>NaN</td>\n",
       "      <td>NaN</td>\n",
       "      <td>NaN</td>\n",
       "      <td>NaN</td>\n",
       "      <td>99999.000000</td>\n",
       "      <td>4356.000000</td>\n",
       "      <td>99.000000</td>\n",
       "      <td>NaN</td>\n",
       "      <td>NaN</td>\n",
       "    </tr>\n",
       "  </tbody>\n",
       "</table>\n",
       "</div>"
      ],
      "text/plain": [
       "                 age workclass        fnlwgt education  educational-num  \\\n",
       "count   48842.000000     48842  4.884200e+04     48842     48842.000000   \n",
       "unique           NaN         8           NaN        16              NaN   \n",
       "top              NaN   Private           NaN   HS-grad              NaN   \n",
       "freq             NaN     36705           NaN     15784              NaN   \n",
       "mean       38.643585       NaN  1.896641e+05       NaN        10.078089   \n",
       "std        13.710510       NaN  1.056040e+05       NaN         2.570973   \n",
       "min        17.000000       NaN  1.228500e+04       NaN         1.000000   \n",
       "25%        28.000000       NaN  1.175505e+05       NaN         9.000000   \n",
       "50%        37.000000       NaN  1.781445e+05       NaN        10.000000   \n",
       "75%        48.000000       NaN  2.376420e+05       NaN        12.000000   \n",
       "max        90.000000       NaN  1.490400e+06       NaN        16.000000   \n",
       "\n",
       "            marital-status      occupation relationship   race gender  \\\n",
       "count                48842           48842        48842  48842  48842   \n",
       "unique                   7              14            6      5      2   \n",
       "top     Married-civ-spouse  Prof-specialty      Husband  White   Male   \n",
       "freq                 22379            8981        19716  41762  32650   \n",
       "mean                   NaN             NaN          NaN    NaN    NaN   \n",
       "std                    NaN             NaN          NaN    NaN    NaN   \n",
       "min                    NaN             NaN          NaN    NaN    NaN   \n",
       "25%                    NaN             NaN          NaN    NaN    NaN   \n",
       "50%                    NaN             NaN          NaN    NaN    NaN   \n",
       "75%                    NaN             NaN          NaN    NaN    NaN   \n",
       "max                    NaN             NaN          NaN    NaN    NaN   \n",
       "\n",
       "        capital-gain  capital-loss  hours-per-week native-country income  \n",
       "count   48842.000000  48842.000000    48842.000000          48842  48842  \n",
       "unique           NaN           NaN             NaN             41      2  \n",
       "top              NaN           NaN             NaN  United-States  <=50K  \n",
       "freq             NaN           NaN             NaN          44689  37155  \n",
       "mean     1079.067626     87.502314       40.422382            NaN    NaN  \n",
       "std      7452.019058    403.004552       12.391444            NaN    NaN  \n",
       "min         0.000000      0.000000        1.000000            NaN    NaN  \n",
       "25%         0.000000      0.000000       40.000000            NaN    NaN  \n",
       "50%         0.000000      0.000000       40.000000            NaN    NaN  \n",
       "75%         0.000000      0.000000       45.000000            NaN    NaN  \n",
       "max     99999.000000   4356.000000       99.000000            NaN    NaN  "
      ]
     },
     "execution_count": 11,
     "metadata": {},
     "output_type": "execute_result"
    }
   ],
   "source": [
    "df.describe(include=\"all\")"
   ]
  },
  {
   "cell_type": "code",
   "execution_count": 12,
   "metadata": {},
   "outputs": [
    {
     "name": "stdout",
     "output_type": "stream",
     "text": [
      "<class 'pandas.core.frame.DataFrame'>\n",
      "RangeIndex: 48842 entries, 0 to 48841\n",
      "Data columns (total 15 columns):\n",
      " #   Column           Non-Null Count  Dtype \n",
      "---  ------           --------------  ----- \n",
      " 0   age              48842 non-null  int64 \n",
      " 1   workclass        48842 non-null  object\n",
      " 2   fnlwgt           48842 non-null  int64 \n",
      " 3   education        48842 non-null  object\n",
      " 4   educational-num  48842 non-null  int64 \n",
      " 5   marital-status   48842 non-null  object\n",
      " 6   occupation       48842 non-null  object\n",
      " 7   relationship     48842 non-null  object\n",
      " 8   race             48842 non-null  object\n",
      " 9   gender           48842 non-null  object\n",
      " 10  capital-gain     48842 non-null  int64 \n",
      " 11  capital-loss     48842 non-null  int64 \n",
      " 12  hours-per-week   48842 non-null  int64 \n",
      " 13  native-country   48842 non-null  object\n",
      " 14  income           48842 non-null  object\n",
      "dtypes: int64(6), object(9)\n",
      "memory usage: 5.6+ MB\n"
     ]
    }
   ],
   "source": [
    "df.info()"
   ]
  },
  {
   "cell_type": "code",
   "execution_count": 13,
   "metadata": {},
   "outputs": [
    {
     "data": {
      "text/plain": [
       "age                0\n",
       "workclass          0\n",
       "fnlwgt             0\n",
       "education          0\n",
       "educational-num    0\n",
       "marital-status     0\n",
       "occupation         0\n",
       "relationship       0\n",
       "race               0\n",
       "gender             0\n",
       "capital-gain       0\n",
       "capital-loss       0\n",
       "hours-per-week     0\n",
       "native-country     0\n",
       "income             0\n",
       "dtype: int64"
      ]
     },
     "execution_count": 13,
     "metadata": {},
     "output_type": "execute_result"
    }
   ],
   "source": [
    "df.isnull().sum()"
   ]
  },
  {
   "cell_type": "code",
   "execution_count": 14,
   "metadata": {},
   "outputs": [
    {
     "data": {
      "text/plain": [
       "age                 int64\n",
       "workclass          object\n",
       "fnlwgt              int64\n",
       "education          object\n",
       "educational-num     int64\n",
       "marital-status     object\n",
       "occupation         object\n",
       "relationship       object\n",
       "race               object\n",
       "gender             object\n",
       "capital-gain        int64\n",
       "capital-loss        int64\n",
       "hours-per-week      int64\n",
       "native-country     object\n",
       "income             object\n",
       "dtype: object"
      ]
     },
     "execution_count": 14,
     "metadata": {},
     "output_type": "execute_result"
    }
   ],
   "source": [
    "df.dtypes"
   ]
  },
  {
   "cell_type": "markdown",
   "metadata": {},
   "source": [
    "finding the outliers\n"
   ]
  },
  {
   "cell_type": "code",
   "execution_count": 15,
   "metadata": {},
   "outputs": [
    {
     "name": "stdout",
     "output_type": "stream",
     "text": [
      "Outliers: [99999, 27828, 99999, 99999, 99999, 27828, 99999, 99999, 99999, 27828, 25236, 99999, 99999, 99999, 99999, 99999, 27828, 99999, 99999, 99999, 99999, 99999, 99999, 99999, 99999, 99999, 99999, 27828, 41310, 99999, 99999, 34095, 99999, 99999, 99999, 99999, 99999, 27828, 99999, 99999, 99999, 99999, 99999, 27828, 27828, 27828, 99999, 99999, 99999, 99999, 99999, 99999, 27828, 99999, 99999, 99999, 27828, 99999, 99999, 99999, 99999, 99999, 99999, 99999, 27828, 99999, 27828, 25124, 99999, 99999, 99999, 99999, 99999, 99999, 99999, 99999, 99999, 99999, 99999, 99999, 99999, 99999, 27828, 25236, 99999, 27828, 99999, 27828, 99999, 99999, 99999, 99999, 99999, 99999, 99999, 99999, 25236, 27828, 27828, 27828, 27828, 99999, 27828, 99999, 99999, 99999, 99999, 27828, 99999, 27828, 25124, 99999, 99999, 99999, 99999, 27828, 34095, 25236, 99999, 99999, 99999, 99999, 25124, 99999, 99999, 27828, 99999, 99999, 99999, 99999, 99999, 99999, 99999, 99999, 99999, 99999, 99999, 27828, 99999, 99999, 34095, 99999, 99999, 99999, 27828, 99999, 99999, 99999, 99999, 27828, 99999, 99999, 99999, 27828, 41310, 25236, 99999, 27828, 25236, 27828, 99999, 99999, 34095, 99999, 27828, 99999, 99999, 99999, 99999, 99999, 99999, 99999, 99999, 99999, 99999, 99999, 27828, 99999, 27828, 99999, 99999, 25236, 99999, 99999, 99999, 99999, 99999, 99999, 27828, 99999, 25236, 99999, 99999, 99999, 99999, 99999, 99999, 99999, 99999, 99999, 99999, 99999, 99999, 27828, 99999, 99999, 99999, 27828, 99999, 27828, 99999, 99999, 99999, 34095, 99999, 99999, 99999, 99999, 99999, 99999, 27828, 99999, 34095, 99999, 99999, 99999, 99999, 99999, 27828, 99999, 99999, 99999, 99999, 99999, 99999, 25124, 99999, 99999, 99999, 99999, 99999, 27828, 99999, 99999, 27828, 99999, 41310, 27828, 99999, 99999, 27828, 99999, 99999, 27828, 99999, 25236, 25236, 25236, 25124, 99999, 99999, 99999, 99999, 99999, 25124, 99999, 99999, 99999, 99999, 99999, 99999, 99999, 27828, 99999, 99999, 99999, 99999, 99999, 25236, 99999, 99999, 99999, 99999, 99999, 99999, 27828, 99999, 99999, 99999, 27828, 99999, 99999, 27828, 25236, 99999, 99999, 99999, 99999, 99999, 99999, 27828, 99999, 99999, 27828, 99999, 99999, 27828, 27828, 99999, 25236, 99999, 99999, 99999, 99999, 99999, 27828, 99999, 27828, 99999, 27828, 99999, 99999, 27828, 99999, 99999, 99999, 99999, 99999, 99999, 27828, 99999]\n"
     ]
    }
   ],
   "source": [
    "out=[]\n",
    "def Zscore_outlier(df):\n",
    "    m = np.mean(df)\n",
    "    sd = np.std(df)\n",
    "    for i in df: \n",
    "        z = (i-m)/sd\n",
    "        if np.abs(z) > 3: \n",
    "            out.append(i)\n",
    "    print(\"Outliers:\",out)\n",
    "Zscore_outlier(df['capital-gain'])"
   ]
  },
  {
   "cell_type": "code",
   "execution_count": 16,
   "metadata": {
    "scrolled": true
   },
   "outputs": [
    {
     "name": "stdout",
     "output_type": "stream",
     "text": [
      "Outliers: [80, 90, 80, 81, 82, 83, 81, 85, 80, 90, 81, 84, 81, 89, 81, 83, 81, 82, 80, 90, 81, 83, 80, 90, 90, 84, 80, 80, 80, 81, 90, 85, 90, 81, 81, 80, 80, 81, 80, 88, 87, 90, 83, 80, 90, 81, 81, 90, 82, 90, 87, 81, 88, 80, 81, 80, 81, 90, 88, 89, 84, 80, 80, 83, 81, 90, 80, 81, 90, 88, 90, 90, 80, 90, 81, 82, 81, 80, 83, 90, 90, 81, 90, 90, 80, 90, 90, 84, 90, 80, 90, 81, 83, 84, 81, 85, 82, 80, 90, 90, 90, 84, 80, 90, 90, 84, 90, 90, 90, 90, 82, 81, 90, 84, 81, 82, 81, 80, 90, 80, 84, 82, 90, 84, 90, 83, 81, 80, 80, 80, 90, 90, 80, 90, 90, 81, 83, 82, 90, 90, 81, 80, 80, 90, 80, 82, 85, 80, 90, 81, 80, 81, 82, 88, 90, 82, 88, 84, 83, 86, 90, 90, 82, 83, 81, 90, 80, 81, 84, 84, 90, 80, 81, 81, 81, 90, 87, 90, 80, 80, 82, 90, 90, 85, 82, 81]\n"
     ]
    }
   ],
   "source": [
    "out=[]\n",
    "def Zscore_outlier(df):\n",
    "    m = np.mean(df)\n",
    "    sd = np.std(df)\n",
    "    for i in df: \n",
    "        z = (i-m)/sd\n",
    "        if np.abs(z) > 3: \n",
    "            out.append(i)\n",
    "    print(\"Outliers:\",out)\n",
    "Zscore_outlier(df['age'])"
   ]
  },
  {
   "cell_type": "code",
   "execution_count": 17,
   "metadata": {},
   "outputs": [
    {
     "name": "stdout",
     "output_type": "stream",
     "text": [
      "Outliers: [1721, 1876, 2415, 1887, 1887, 1887, 1887, 1977, 2057, 1429, 1590, 2057, 1721, 1887, 1485, 1485, 1977, 1887, 1721, 1887, 2051, 2377, 1672, 1628, 1902, 1672, 1602, 1902, 1590, 1977, 1741, 1887, 2444, 1876, 1902, 1408, 1902, 2001, 2001, 2415, 2042, 1740, 1876, 1825, 1902, 1887, 1977, 1887, 1902, 1887, 1902, 2415, 1848, 1719, 3004, 1590, 1977, 1887, 1977, 2001, 1902, 1977, 2179, 1902, 1573, 1429, 2205, 1977, 2339, 1887, 2339, 1726, 2258, 1672, 1590, 1887, 1340, 2415, 1602, 1504, 1887, 2415, 2559, 1977, 1848, 2258, 1902, 1887, 1668, 1974, 1977, 1741, 2205, 1980, 2051, 2377, 1902, 2444, 1564, 1408, 1902, 1977, 2547, 1902, 2002, 2057, 2001, 1977, 1977, 1628, 1902, 1876, 1848, 1719, 1669, 1902, 1902, 2339, 1902, 2339, 1902, 1887, 1902, 1887, 1719, 1429, 2001, 1485, 1902, 1980, 1504, 1887, 1902, 1977, 1617, 1741, 2051, 2205, 1980, 1902, 1887, 2205, 1721, 1602, 1573, 1977, 2415, 3175, 1668, 2472, 1669, 1602, 2057, 1504, 2174, 1902, 1902, 1579, 1902, 1741, 1902, 1902, 1579, 1590, 1977, 1848, 1977, 2444, 1719, 1485, 1590, 1887, 2179, 2415, 1902, 1974, 1564, 1902, 1628, 1590, 1848, 1977, 1485, 1887, 1740, 1977, 2339, 2129, 1510, 1902, 2001, 1719, 2444, 1669, 1408, 1902, 1887, 1887, 2002, 1735, 1902, 1902, 1564, 1876, 2205, 2339, 1669, 2444, 1902, 1741, 2339, 1887, 2415, 2282, 1980, 2205, 1977, 2129, 2559, 1876, 1887, 2444, 1672, 1485, 2559, 1740, 1504, 1887, 1887, 1902, 1740, 1977, 1902, 1887, 2339, 1870, 1977, 1902, 1977, 1411, 1628, 1887, 1911, 1902, 1887, 2444, 1980, 1651, 1485, 1887, 1887, 1721, 1902, 1902, 1902, 1902, 1977, 2002, 1887, 1504, 2444, 1902, 1719, 1974, 1902, 1602, 1887, 1980, 1485, 1504, 1977, 2057, 1669, 1902, 1719, 1762, 1485, 1902, 1977, 2179, 1504, 1573, 1564, 2415, 1902, 1721, 1602, 2472, 1579, 1741, 1902, 1902, 1887, 1408, 1762, 1669, 1740, 1762, 1590, 1721, 1876, 1672, 2457, 1340, 1579, 2231, 2238, 2205, 1902, 1902, 2258, 1848, 1887, 1628, 1902, 2231, 2415, 1740, 1977, 1876, 1887, 2415, 1740, 1887, 3004, 1408, 1485, 2057, 1485, 1876, 1977, 2415, 1762, 1579, 2559, 1887, 1590, 1408, 1977, 2258, 1408, 1977, 2002, 1740, 2179, 1902, 1848, 2246, 1590, 2246, 1876, 1977, 1740, 1977, 1719, 1887, 2415, 2002, 1980, 2415, 2603, 1602, 1977, 1741, 2392, 1485, 1977, 2051, 1510, 1902, 1944, 1876, 1848, 1408, 1485, 1590, 1902, 2002, 1977, 1902, 1887, 1848, 1876, 1848, 1974, 1977, 1902, 1980, 2002, 1380, 1902, 1974, 1564, 1602, 1980, 1590, 2002, 1887, 1672, 2001, 1980, 1902, 2415, 1902, 1977, 1902, 2559, 1977, 1672, 1902, 1719, 2002, 1726, 1485, 1848, 1340, 1590, 1741, 1887, 2258, 1669, 2001, 1590, 1902, 1887, 2465, 1421, 1719, 3770, 1602, 1594, 2149, 1380, 3004, 2231, 1669, 2001, 1628, 2377, 1564, 1564, 1977, 1902, 2258, 1977, 1977, 1902, 2042, 2149, 1887, 1887, 1564, 1902, 1485, 1902, 1887, 2042, 1977, 1902, 1564, 1977, 1579, 1887, 2258, 2238, 1669, 2129, 1977, 2002, 1590, 1977, 1726, 1887, 2824, 1564, 1740, 1977, 1887, 1485, 1977, 1672, 1719, 1668, 1848, 1848, 1977, 1848, 1902, 1902, 1602, 1887, 1741, 1602, 2415, 1726, 1762, 1579, 1740, 2051, 1876, 1977, 1902, 1977, 2205, 1719, 1408, 1902, 1977, 1485, 1977, 1887, 1902, 1579, 2057, 1721, 1977, 1668, 1902, 1672, 1887, 1740, 1876, 1902, 1977, 1669, 1590, 1721, 1876, 1977, 1902, 1887, 1741, 1977, 2174, 1977, 2415, 1564, 1602, 1977, 1579, 1844, 1977, 2205, 1602, 1672, 1590, 2001, 1672, 1564, 1762, 1977, 1902, 1564, 2002, 2051, 1980, 1977, 1977, 1408, 1977, 1672, 1902, 2149, 1741, 1848, 1977, 1719, 2205, 1944, 1902, 1902, 1411, 1902, 1741, 1408, 1977, 1726, 2415, 2415, 1887, 1977, 1902, 1980, 2258, 1887, 1902, 3770, 2051, 1380, 1408, 1485, 1564, 1902, 2603, 1887, 1902, 1902, 1887, 2258, 1740, 1977, 2001, 2824, 2824, 1887, 2231, 1408, 1977, 1887, 1902, 1977, 1741, 2258, 1887, 1719, 1876, 2057, 1977, 1977, 1602, 2057, 2002, 1974, 1977, 1844, 1977, 2467, 1564, 1672, 1902, 1977, 1887, 2258, 2258, 1902, 1902, 1741, 2415, 2163, 1902, 2129, 1902, 2824, 1579, 1902, 2392, 1887, 2179, 1564, 1902, 1876, 1617, 1628, 1408, 1672, 1887, 1876, 1741, 1977, 1980, 1668, 1977, 1628, 1719, 1977, 1876, 1340, 1887, 2415, 2051, 1977, 2174, 1848, 1741, 1887, 1974, 1887, 1564, 1741, 2377, 1816, 1740, 2415, 1590, 1887, 2339, 1902, 1902, 2377, 1411, 1816, 1977, 1628, 2258, 1887, 1977, 1510, 1887, 1974, 1573, 1573, 1573, 1977, 1672, 2258, 1977, 1902, 1887, 1977, 1719, 2415, 1876, 1485, 1977, 1887, 3175, 1590, 1721, 1887, 1741, 1504, 1740, 1741, 1648, 1740, 1902, 1485, 1974, 1590, 1977, 1741, 1590, 1564, 2339, 2472, 1651, 1902, 1902, 1974, 1902, 1672, 1602, 2057, 1590, 1669, 1902, 2042, 1408, 1902, 1573, 1902, 1887, 1719, 1762, 1564, 2179, 1816, 1980, 1977, 1876, 1340, 2206, 1741, 1977, 1485, 1887, 1564, 2339, 2415, 2179, 1977, 1887, 1408, 1980, 1977, 1380, 1977, 1887, 1902, 1762, 1721, 1902, 1380, 2051, 2377, 1669, 2352, 1902, 1721, 1672, 2415, 2415, 1977, 2392, 1504, 1902, 1719, 2001, 1902, 1902, 1977, 1902, 1902, 1590, 1977, 1651, 2415, 1977, 1902, 1762, 1887, 1977, 1876, 1628, 1848, 1564, 1887, 1762, 1887, 1672, 1902, 2051, 2001, 1980, 1340, 2339, 1628, 1887, 1848, 1977, 1740, 2002, 1902, 1887, 1902, 1902, 1719, 2339, 1902, 1579, 1590, 1902, 1741, 1628, 2415, 1408, 1740, 2258, 1485, 1848, 1977, 1485, 1887, 1902, 1669, 1887, 1977, 1741, 1602, 1902, 1719, 1902, 1887, 1887, 1887, 1408, 1590, 1579, 1741, 1564, 2547, 2174, 2206, 2415, 1590, 2415, 1980, 1741, 1977, 1340, 1602, 1902, 1977, 1902, 2339, 1977, 2205, 1977, 1726, 1485, 2444, 2392, 1672, 1902, 1740, 1669, 1902, 1762, 2415, 2238, 1876, 2258, 1977, 1672, 2352, 1977, 1977, 1977, 1977, 1977, 2415, 2002, 1902, 1887, 1669, 1848, 1590, 1590, 2179, 1719, 1669, 1902, 1977, 2377, 1902, 1887, 2392, 1485, 1848, 1902, 1672, 1628, 1740, 1977, 1876, 1816, 1887, 1485, 1977, 1887, 1848, 1590, 1902, 2002, 1741, 1876, 1977, 2002, 1628, 2392, 1977, 1887, 1719, 2258, 1902, 1887, 1887, 1902, 1902, 1672, 1980, 1902, 1887, 1504, 1902, 1539, 1848, 1762, 1977, 1485, 1741, 2415, 1902, 1485, 1848, 1579, 1887, 1668, 1902, 1848, 1564, 1564, 2001, 1594, 1887, 1902, 1485, 1876, 1902, 1740, 1902, 1902, 1977, 1590, 1672, 1977, 1977, 1902, 1672, 1902, 2377, 1628, 1740, 1740, 2415, 1887, 1902, 1740, 2001, 3004, 2042, 1590, 2231, 1579, 1844, 1740, 1977, 2258, 1902, 1902, 1602, 1848, 2824, 1977, 2051, 1602, 1719, 1740, 1740, 1977, 2559, 1887, 1876, 1977, 2258, 2051, 1902, 1977, 1902, 1887, 2051, 1902, 1902, 1977, 1902, 2051, 2392, 2057, 1573, 1740, 1977, 2559, 2205, 1672, 1504, 1902, 2559, 1504, 1564, 1977, 1902, 1887, 1902, 2051, 1876, 1974, 1672, 1590, 1848, 1902, 2205, 1848, 1590, 1977, 1740, 1564, 2559, 2415, 1590, 1669, 1876, 1977, 1876, 2258, 1887, 1977, 1762, 1590, 1602, 1602, 1887, 1977, 1902, 1977, 1887, 1485, 2002, 1974, 1408, 1485, 1672, 1887, 1408, 2339, 1672, 1848, 2174, 1579, 1876, 1485, 1721, 2559, 1579, 1485, 2149, 1887, 1902, 1719, 1740, 1902, 1848, 1977, 1825, 1902, 1602, 1485, 1902, 1902, 2415, 1887, 1564, 2205, 1876, 1735, 2206, 1887, 1977, 2129, 2002, 2603, 1977, 1485, 1485, 2282, 1741, 1672, 1902, 1980, 1902, 1602, 1590, 1902, 2002, 1485, 1602, 1590, 1672, 2258, 1602, 1721, 2179, 1977, 1672, 1902, 4356, 1977, 2179, 1564, 1408, 1590, 1485, 2174, 1721, 1902, 1887, 1977, 1902, 2002, 1977, 1902, 1579, 1602, 1672, 1902, 2377, 1977, 2042, 1602, 1980, 1876, 1887, 1380, 1902, 2001, 2042, 2415, 2377, 1590, 1977, 1485, 1408, 1602, 1902, 1977, 1977, 1876, 2603, 2231, 2444, 1590, 2246, 1977, 1980, 1902, 1977, 1590, 1594, 1669, 1902, 1977, 1602, 1848, 2149, 1887, 1741, 2258, 1980, 2051, 1977, 1617, 2258, 2444, 1848, 1485, 1648, 1977, 2002, 1602, 2559, 1848, 1980, 2824, 1977, 1564, 1977, 1977, 1485, 1617, 1902, 1887, 1887, 1902, 1848, 1977, 1902, 1980, 2258, 1977, 1887, 1902, 1977, 2001, 2231, 1876, 1825, 1902, 2051, 2001, 1887, 1902, 1735, 1887, 1590, 1740, 1594, 1564, 1504, 1902, 2057, 1579, 2547, 1887, 2415, 2489, 2377, 1974, 1669, 2001, 1902, 1719, 1504, 1902, 1977, 1579, 1485, 1977, 3770, 1977, 1902, 1887, 1590, 1887, 1977, 1672, 1902, 1977, 1408, 1617, 1579, 1887, 1887, 1876, 1564, 2246, 1848, 1974, 1977, 1602, 1485, 1672, 1651, 1902, 1902, 1848, 1719, 1887, 2001, 1887, 1628, 1977, 1741, 1902, 2206, 1590, 1755, 3683, 1887, 1902, 2205, 1902, 1762, 1594, 1977, 1977, 1719, 1977, 1977, 1876, 1651, 1902, 1902, 1887, 2392, 1721, 1887, 1902, 2339, 1974, 1902, 1740, 1887, 1719, 1669, 2824, 1564, 2258, 1977, 1887, 1977, 1602, 1977, 2415, 1977, 1977, 1977, 1762, 2444, 1579, 1977, 2002, 1628, 2339, 1977, 1902, 1672, 1848, 1887, 1668, 1669, 1902, 2415, 1590, 1719, 1977, 2415, 2415, 2339, 1602, 1902, 1902, 1848, 1762, 1902, 1902, 1902, 1504, 1740, 1651, 1485, 1740, 2129, 2415, 1848, 2001, 1876, 1617, 4356, 1902, 1485, 1408, 1408, 1740, 1902, 1485, 1721, 1590, 1669, 1887, 2339, 1977, 1980, 1977, 1977, 2415, 1485, 1740, 1876, 1726, 1902, 1672, 1974, 1902, 1902, 1902, 1977, 1876, 1887, 1564, 2174, 1977, 1564, 1672, 2267, 1887, 1887, 1876, 1902, 1721, 1590, 1876, 1887, 1887, 1485, 1564, 1902, 2002, 2080, 1564, 1669, 1876, 1980, 3770, 1672, 1504, 1902, 1980, 1721, 1602, 2415, 1876, 1887, 1977, 1887, 1590, 1980, 2051, 1887, 1887, 1669, 2339, 2824, 1974, 1902, 2002, 1380, 1848, 1887, 1762, 1977, 1485, 1887, 1974, 1887, 1977, 1902, 1740, 1902, 1504, 2415, 1887, 1902, 1887, 1721, 1504, 1977, 1902, 1902, 1902, 2559, 1977, 2415, 1590, 1628, 1719, 1974, 2001, 2559, 1887, 2457, 2179, 1504, 1594, 1876, 2246, 1887, 1876, 2444, 1848, 1887, 2415, 2267, 1977, 1902, 2258, 1887, 1876, 1672, 1902, 1887, 1719, 2057, 1977, 1977, 1848, 1902, 1669, 2001, 2205, 1564, 1602, 2603, 1848, 2339, 1669, 1762, 1848, 1977, 1977, 2339, 1902, 1602, 1887, 1617, 1980, 1573, 1902, 1887, 1902, 1617, 1902, 1902, 1848, 1887, 1602, 1485, 1672, 2415, 1887, 1721, 1902, 1902, 1628, 1651, 1408, 2001, 2246, 1977, 1848, 1590, 1977, 1977, 1408, 2824, 1590, 1594, 2377, 1564, 1740, 1902, 1485, 1902, 2559, 1762, 1741, 1602, 2824, 1848, 1721, 1977, 1974, 1602, 1740, 2415, 1564, 1887, 1977, 1876, 1876, 2377, 2415, 1887, 1902, 1887, 1651, 1977, 2258, 1887, 1902, 1876, 1408, 2205, 1876, 2051, 2444, 2258, 1977, 2179, 1887, 1902, 1590, 2179, 1887, 2179, 1887, 2206, 2179, 1977, 1887, 1602, 1485, 1485, 1504, 1902, 2001, 1579, 2174, 1902, 1977, 1974, 2002, 3900, 2201, 2001, 1902, 1721, 1887, 1977, 2415, 1876, 1902, 1977, 2051, 2246, 1902, 2042, 2002, 1977, 1902, 1485, 1876, 1672, 2415, 1977, 1340, 1977, 2547, 2042, 1944, 2258, 1887, 1504, 1887, 1876, 1902, 2205, 2001, 1902, 2258, 1980, 2415, 1669, 1887, 2238, 2415, 1902, 1740, 1504, 1602, 1977, 1848, 1590, 1602, 1726, 2377, 1740, 1669, 2129, 1887, 2002, 2415, 1740, 2457, 1485, 2001, 1887, 1887, 1741, 1573, 1602, 1977, 2415, 1590, 2415, 1977, 1669, 1887, 1740, 1504, 1848, 1590, 1902, 1902, 1485, 2339, 1719, 1741, 2258, 1902, 1902, 2415, 1977, 2179, 1977, 2002, 1602, 2415, 1902, 2467, 1887, 1594, 2824, 1887, 1848, 1669, 2057, 1977, 1902, 1887, 3683, 2001, 1590, 1602, 2339, 1980, 1848, 2377, 1887, 1902, 1669, 1977, 1980, 1977, 2377, 1977, 1408, 1579, 1887, 2179, 1848, 2205, 1628, 1579, 1977, 1887, 1602, 1848, 3900, 2392, 1887, 1740, 2415, 1977, 1977, 1887, 1887, 2002, 1887, 2051, 1887, 1902, 1902, 1902, 1628, 1974, 1573, 2339, 1902, 1902, 2444, 2001, 1902, 1977, 1887, 2392, 1485, 1740, 1902, 1672, 1887, 1902, 2377, 1408, 1980, 1740, 2163, 1887, 1617, 2415, 1648, 1628, 1902, 2246, 1876, 1902, 2258, 2051, 1602, 1902, 1485, 1902, 1902, 1579, 1848, 1977, 1340, 1564, 1902, 1485, 1977, 1564, 1408, 1669, 1380, 1977, 2559, 1902, 1741, 1977, 1672, 1848, 1902, 1628, 2001, 1887, 1672, 1980, 1977, 2377, 1977, 1740, 2001, 2444, 2258, 1887, 2824, 1740, 1651, 1887, 1876, 1902, 2339, 2754, 2415, 1887, 1977, 2179, 1977, 1902, 1590, 1504, 1977, 2444, 1602, 1485, 1741, 2258, 1485, 1848, 1408, 2559, 1408, 1668, 1672, 1602, 1579, 1977, 1887, 1887, 1977, 2042, 1977, 1887, 1887, 1617, 2457, 1380, 1602, 1887, 1485, 2001, 2002, 1902, 1902, 1902, 1977, 1977, 2824, 1726, 2051, 1977, 2051, 1741, 1590, 1602, 1902, 1848, 2415, 1977, 1887, 1485, 1848, 2377, 1485, 2603, 1721, 1485, 1887, 1887, 1741, 1579, 2002, 2547, 2179, 1974, 1579, 2603, 2377, 1740, 1672, 1902, 1602, 1504, 2444, 1721, 1902, 1977, 1590, 2377, 1980, 1651, 2174, 1887, 1740, 1902, 1977, 1848, 2001, 2206, 1902, 2392, 1887, 1876, 2179, 1977, 1672, 1902, 1902, 1741, 2377, 1887, 2258, 2377, 1719, 2258, 1977, 1902, 1602, 2754, 1887, 1977, 1740, 1977, 1669, 2377, 1902, 1974, 1887, 1876, 1980, 1902, 2415, 2002, 1977, 1573, 1977, 2258, 1848, 1887, 1848, 1602, 1668, 1590, 1590, 1848, 1740, 1887, 1902, 1740, 1974, 1977, 1602, 2472, 1651, 1740, 1977, 1977, 1902, 1504, 1902, 1887, 2057, 1887, 1719, 1902, 1887, 2415, 1408, 1755, 1974, 1741, 1887, 1721, 1902, 1602, 1579, 2415, 1887, 2824, 2174, 1887, 1902, 2267, 2002, 1977, 2057, 1719, 1887, 1602, 1887, 1380, 2001, 1977, 1719, 1887, 1887, 1740, 1825, 2415, 1876, 1719, 1485, 1977, 2415, 1902, 1887, 1825, 1602, 1887, 1902, 2051, 1721, 1340, 1887, 1902, 1721, 1485, 3004, 1902, 1602, 1974, 1902, 2051, 1977, 1617, 1848, 1740, 1887, 1887, 1974, 2051, 1902, 1887, 4356, 2444, 1741, 1590, 1594, 1902, 1848, 1977, 1887, 1887, 1977, 1564, 1902, 1848, 1902, 1669, 1887, 1485, 1672, 1902, 2051, 1887, 1564, 1740, 1977, 1340, 1628, 1887, 1902, 1887, 1741, 2377, 1579, 1902, 1719, 1602, 2415, 1887, 1977, 1740, 1902, 1741, 2339, 1848, 1902, 1887, 1902, 2415, 1887, 1485, 1485, 1848, 2258, 1887, 1741, 2051, 1762, 1672, 1887, 1977, 2258, 2444, 1408, 1602, 1902, 1672, 1902, 2415, 1977, 1485, 2042, 1887, 1902, 2042, 1411, 1977, 2559, 1741, 1887, 1902, 1887, 1602, 1669, 1977]\n"
     ]
    }
   ],
   "source": [
    "out=[]\n",
    "def Zscore_outlier(df):\n",
    "    m = np.mean(df)\n",
    "    sd = np.std(df)\n",
    "    for i in df: \n",
    "        z = (i-m)/sd\n",
    "        if np.abs(z) > 3: \n",
    "            out.append(i)\n",
    "    print(\"Outliers:\",out)\n",
    "Zscore_outlier(df['capital-loss'])"
   ]
  },
  {
   "cell_type": "code",
   "execution_count": 18,
   "metadata": {
    "scrolled": true
   },
   "outputs": [
    {
     "data": {
      "text/plain": [
       "array([   0, 1721, 1876, 2415, 1887,  625, 1977, 2057, 1429, 1590, 1485,\n",
       "       2051, 2377, 1672, 1628, 1902, 1602, 1741, 2444, 1408, 2001, 2042,\n",
       "       1740, 1825, 1848, 1719, 3004, 2179, 1573, 2205, 1258, 2339, 1726,\n",
       "       2258, 1340, 1504, 2559, 1668, 1974, 1980, 1564, 2547, 2002, 1669,\n",
       "       1617,  323, 3175, 2472, 2174, 1579, 2129, 1510, 1735, 2282, 1870,\n",
       "       1411, 1911, 1651, 1092, 1762, 2457, 2231, 2238,  653, 1138, 2246,\n",
       "       2603, 2392, 1944, 1380, 2465, 1421, 3770, 1594,  213, 2149, 2824,\n",
       "       1844, 2467, 2163, 1816, 1648, 2206, 2352,  419, 1539,  880,  810,\n",
       "        974, 4356, 2489, 1755, 3683, 2267, 2080,  155, 3900, 2201, 2754],\n",
       "      dtype=int64)"
      ]
     },
     "execution_count": 18,
     "metadata": {},
     "output_type": "execute_result"
    }
   ],
   "source": [
    "df['capital-loss'].unique()"
   ]
  },
  {
   "cell_type": "code",
   "execution_count": 19,
   "metadata": {},
   "outputs": [
    {
     "name": "stdout",
     "output_type": "stream",
     "text": [
      "Outliers: [90, 84, 80, 84, 80, 99, 80, 80, 96, 90, 3, 1, 99, 80, 80, 84, 99, 99, 2, 2, 78, 80, 99, 84, 80, 3, 80, 80, 80, 99, 92, 3, 80, 84, 99, 80, 84, 85, 1, 99, 2, 84, 80, 99, 98, 80, 84, 96, 99, 80, 90, 78, 84, 80, 90, 80, 86, 80, 84, 80, 99, 80, 85, 80, 80, 80, 80, 3, 2, 80, 84, 99, 80, 84, 2, 99, 99, 99, 99, 90, 80, 80, 96, 2, 84, 99, 99, 90, 99, 80, 88, 2, 80, 80, 90, 79, 78, 84, 2, 80, 80, 84, 3, 1, 84, 99, 89, 98, 80, 80, 90, 3, 80, 99, 80, 78, 2, 99, 99, 80, 80, 2, 80, 80, 99, 80, 99, 99, 80, 80, 90, 80, 78, 84, 3, 80, 80, 1, 80, 99, 99, 99, 80, 99, 80, 88, 3, 90, 3, 80, 85, 84, 3, 98, 80, 99, 84, 2, 80, 99, 99, 1, 2, 99, 96, 84, 99, 80, 1, 99, 99, 2, 99, 1, 84, 80, 90, 3, 2, 99, 99, 3, 85, 99, 3, 3, 99, 3, 80, 80, 99, 2, 99, 99, 80, 80, 99, 99, 2, 80, 2, 80, 86, 80, 3, 80, 2, 84, 3, 80, 80, 3, 84, 99, 80, 99, 80, 84, 99, 2, 80, 3, 80, 2, 80, 99, 2, 80, 90, 84, 92, 80, 80, 99, 80, 3, 84, 84, 80, 90, 80, 80, 80, 2, 2, 1, 98, 80, 80, 80, 99, 2, 1, 80, 80, 99, 80, 1, 80, 78, 90, 2, 80, 80, 90, 84, 99, 80, 3, 80, 90, 3, 84, 3, 3, 84, 98, 2, 80, 85, 84, 80, 2, 3, 84, 99, 80, 3, 84, 99, 84, 78, 3, 85, 99, 80, 80, 84, 99, 3, 84, 84, 90, 98, 2, 80, 99, 99, 80, 80, 80, 1, 3, 1, 80, 1, 1, 85, 3, 98, 80, 2, 87, 88, 90, 80, 99, 90, 90, 80, 80, 2, 99, 2, 80, 89, 80, 80, 80, 97, 85, 78, 80, 90, 90, 84, 99, 84, 80, 80, 80, 99, 80, 2, 1, 80, 80, 84, 80, 99, 84, 80, 80, 80, 80, 99, 90, 80, 94, 1, 3, 80, 80, 85, 80, 99, 99, 80, 85, 84, 80, 99, 85, 99, 96, 99, 82, 2, 80, 80, 90, 3, 99, 3, 80, 80, 1, 80, 97, 2, 99, 84, 80, 99, 85, 80, 3, 80, 80, 99, 99, 80, 2, 90, 3, 80, 80, 2, 86, 80, 2, 99, 99, 99, 80, 3, 84, 99, 3, 84, 2, 3, 84, 80, 84, 80, 99, 91, 2, 81, 84, 96, 99, 99, 99, 80, 78, 3, 99, 80, 99, 80, 84, 84, 98, 80, 80, 80, 3, 80, 80, 80, 99, 99, 80, 88, 98, 99, 80, 98, 80, 80, 84, 3, 99, 81, 2, 90, 84, 3, 98, 99, 84, 84, 84, 99, 3, 80, 99, 99, 92, 3, 1, 2, 99, 80, 2, 90, 99, 99, 1, 3, 80, 80, 80, 80, 99, 99, 80, 1, 80, 84, 2, 84, 80, 80, 2, 80, 90, 1, 99, 99, 84, 3, 80, 80, 85, 91, 85, 80, 80, 2, 80, 99, 84, 99, 2, 84, 99, 99, 3, 90, 1, 80, 98, 99, 3, 99, 2, 80, 84, 99, 80, 80, 96, 1, 80, 99, 90, 90, 99, 80, 90, 90, 3, 78, 1, 80, 99, 95, 85, 86, 1, 80, 80, 80, 80, 85, 84, 99, 80, 80, 80, 99, 90, 99, 99, 84, 99, 80, 80, 80, 99, 3, 84, 84, 99, 99, 90, 90, 99, 80, 80, 98, 99, 3, 96, 80, 84, 99, 99, 84, 80, 99, 78, 90, 80, 80, 95, 80, 84, 80, 80, 2, 99, 91, 80, 84, 80, 3, 80, 78, 99, 1, 96, 2, 3, 99, 2, 84, 99, 2, 90, 78, 84, 80, 85, 99, 3, 99, 99, 90, 80, 99, 80, 90, 90, 2, 3, 2, 80, 80, 80, 90, 99, 99, 80, 3, 3, 98, 80, 80, 80, 81, 89, 3, 99, 84, 3, 1, 99]\n"
     ]
    }
   ],
   "source": [
    "out=[]\n",
    "def Zscore_outlier(df):\n",
    "    m = np.mean(df)\n",
    "    sd = np.std(df)\n",
    "    for i in df: \n",
    "        z = (i-m)/sd\n",
    "        if np.abs(z) > 3: \n",
    "            out.append(i)\n",
    "    print(\"Outliers:\",out)\n",
    "Zscore_outlier(df['hours-per-week'])"
   ]
  },
  {
   "cell_type": "code",
   "execution_count": 20,
   "metadata": {
    "scrolled": true
   },
   "outputs": [
    {
     "data": {
      "text/plain": [
       "<matplotlib.axes._subplots.AxesSubplot at 0x2c15143b340>"
      ]
     },
     "execution_count": 20,
     "metadata": {},
     "output_type": "execute_result"
    },
    {
     "data": {
      "image/png": "[encoded data removed]",
      "text/plain": [
       "<Figure size 432x288 with 1 Axes>"
      ]
     },
     "metadata": {},
     "output_type": "display_data"
    }
   ],
   "source": [
    "sb.boxplot(df['capital-gain'])"
   ]
  },
  {
   "cell_type": "code",
   "execution_count": 21,
   "metadata": {},
   "outputs": [
    {
     "data": {
      "text/plain": [
       "<=50K    76.07 %\n",
       ">50K     23.93 %\n",
       "Name: income, dtype: object"
      ]
     },
     "execution_count": 21,
     "metadata": {},
     "output_type": "execute_result"
    }
   ],
   "source": [
    "income = df['income'].value_counts(normalize=True)\n",
    "round(income * 100, 2).astype('str') + ' %'"
   ]
  },
  {
   "cell_type": "code",
   "execution_count": 22,
   "metadata": {},
   "outputs": [
    {
     "data": {
      "text/plain": [
       "(48595, 15)"
      ]
     },
     "execution_count": 22,
     "metadata": {},
     "output_type": "execute_result"
    }
   ],
   "source": [
    "### we find outliers only in captail-gain ,capital gain >40000 is very rare because most of them have salary less than or equal to 50\n",
    "\n",
    "\n",
    "df.drop(df[ df['capital-gain'] > 40000 ].index,inplace=True)\n",
    "df.shape"
   ]
  },
  {
   "cell_type": "code",
   "execution_count": 23,
   "metadata": {},
   "outputs": [
    {
     "data": {
      "text/plain": [
       "<matplotlib.axes._subplots.AxesSubplot at 0x2c1513b8580>"
      ]
     },
     "execution_count": 23,
     "metadata": {},
     "output_type": "execute_result"
    },
    {
     "data": {
      "image/png": "[encoded data removed]",
      "text/plain": [
       "<Figure size 432x288 with 1 Axes>"
      ]
     },
     "metadata": {},
     "output_type": "display_data"
    }
   ],
   "source": [
    "sb.boxplot(df['capital-gain'])"
   ]
  },
  {
   "cell_type": "markdown",
   "metadata": {},
   "source": [
    "Visualization\n",
    "Separating the Categorical and Numerical data"
   ]
  },
  {
   "cell_type": "code",
   "execution_count": 24,
   "metadata": {
    "scrolled": true
   },
   "outputs": [
    {
     "data": {
      "text/plain": [
       "Index(['age', 'fnlwgt', 'educational-num', 'capital-gain', 'capital-loss',\n",
       "       'hours-per-week'],\n",
       "      dtype='object')"
      ]
     },
     "execution_count": 24,
     "metadata": {},
     "output_type": "execute_result"
    }
   ],
   "source": [
    "numerical=df.select_dtypes(include=[\"int64\"]).keys()\n",
    "numerical"
   ]
  },
  {
   "cell_type": "code",
   "execution_count": 25,
   "metadata": {},
   "outputs": [
    {
     "data": {
      "image/png": "[encoded data removed]",
      "text/plain": [
       "<Figure size 1440x1080 with 6 Axes>"
      ]
     },
     "metadata": {},
     "output_type": "display_data"
    }
   ],
   "source": [
    "df.hist(bins=15, figsize=(20,15), color = 'green')\n",
    "plt.show()"
   ]
  },
  {
   "cell_type": "code",
   "execution_count": 26,
   "metadata": {
    "scrolled": true
   },
   "outputs": [
    {
     "data": {
      "text/plain": [
       "<matplotlib.axes._subplots.AxesSubplot at 0x2c151ac4250>"
      ]
     },
     "execution_count": 26,
     "metadata": {},
     "output_type": "execute_result"
    },
    {
     "data": {
      "image/png": "[encoded data removed]",
      "text/plain": [
       "<Figure size 432x288 with 1 Axes>"
      ]
     },
     "metadata": {},
     "output_type": "display_data"
    }
   ],
   "source": [
    "sb.distplot(df['age'].dropna(), kde=False, bins = 39)"
   ]
  },
  {
   "cell_type": "code",
   "execution_count": 27,
   "metadata": {},
   "outputs": [
    {
     "data": {
      "text/plain": [
       "<matplotlib.axes._subplots.AxesSubplot at 0x2c151b77eb0>"
      ]
     },
     "execution_count": 27,
     "metadata": {},
     "output_type": "execute_result"
    },
    {
     "data": {
      "image/png": "[encoded data removed]",
      "text/plain": [
       "<Figure size 432x288 with 1 Axes>"
      ]
     },
     "metadata": {},
     "output_type": "display_data"
    }
   ],
   "source": [
    "sb.distplot(df['educational-num'].dropna(), kde=False, bins = 39)"
   ]
  },
  {
   "cell_type": "code",
   "execution_count": 28,
   "metadata": {},
   "outputs": [
    {
     "data": {
      "text/plain": [
       "<matplotlib.axes._subplots.AxesSubplot at 0x2c151fb10a0>"
      ]
     },
     "execution_count": 28,
     "metadata": {},
     "output_type": "execute_result"
    },
    {
     "data": {
      "image/png": "[encoded data removed]",
      "text/plain": [
       "<Figure size 432x288 with 1 Axes>"
      ]
     },
     "metadata": {},
     "output_type": "display_data"
    }
   ],
   "source": [
    "sb.distplot(df['capital-gain'].dropna(), kde=False, bins = 39)"
   ]
  },
  {
   "cell_type": "code",
   "execution_count": 29,
   "metadata": {},
   "outputs": [
    {
     "data": {
      "text/plain": [
       "<matplotlib.axes._subplots.AxesSubplot at 0x2c15204edf0>"
      ]
     },
     "execution_count": 29,
     "metadata": {},
     "output_type": "execute_result"
    },
    {
     "data": {
      "image/png": "[encoded data removed]",
      "text/plain": [
       "<Figure size 432x288 with 1 Axes>"
      ]
     },
     "metadata": {},
     "output_type": "display_data"
    }
   ],
   "source": [
    "sb.distplot(df['capital-loss'].dropna(), kde=False, bins = 39)"
   ]
  },
  {
   "cell_type": "code",
   "execution_count": 30,
   "metadata": {},
   "outputs": [
    {
     "data": {
      "text/plain": [
       "<matplotlib.axes._subplots.AxesSubplot at 0x2c151850610>"
      ]
     },
     "execution_count": 30,
     "metadata": {},
     "output_type": "execute_result"
    },
    {
     "data": {
      "image/png": "[encoded data removed]",
      "text/plain": [
       "<Figure size 432x288 with 1 Axes>"
      ]
     },
     "metadata": {},
     "output_type": "display_data"
    }
   ],
   "source": [
    "sb.distplot(df['hours-per-week'].dropna(), kde=False, bins = 39)"
   ]
  },
  {
   "cell_type": "markdown",
   "metadata": {},
   "source": [
    "categorial"
   ]
  },
  {
   "cell_type": "code",
   "execution_count": 31,
   "metadata": {},
   "outputs": [
    {
     "data": {
      "image/png": "[encoded data removed]",
      "text/plain": [
       "<Figure size 1440x288 with 1 Axes>"
      ]
     },
     "metadata": {},
     "output_type": "display_data"
    }
   ],
   "source": [
    "plt.figure(figsize=(20, 4))\n",
    "\n",
    "sb.countplot(df['education'].dropna(), order = df['education'].value_counts().index);"
   ]
  },
  {
   "cell_type": "code",
   "execution_count": 32,
   "metadata": {
    "scrolled": true
   },
   "outputs": [
    {
     "data": {
      "text/plain": [
       "Index(['workclass', 'education', 'marital-status', 'occupation',\n",
       "       'relationship', 'race', 'gender', 'native-country', 'income'],\n",
       "      dtype='object')"
      ]
     },
     "execution_count": 32,
     "metadata": {},
     "output_type": "execute_result"
    }
   ],
   "source": [
    "categorical = df.select_dtypes(include = [\"object\"]).keys()\n",
    "categorical"
   ]
  },
  {
   "cell_type": "code",
   "execution_count": 33,
   "metadata": {},
   "outputs": [
    {
     "data": {
      "image/png": "[encoded data removed]",
      "text/plain": [
       "<Figure size 1440x576 with 1 Axes>"
      ]
     },
     "metadata": {},
     "output_type": "display_data"
    }
   ],
   "source": [
    "plt.figure(figsize=(20, 8))\n",
    "\n",
    "sb.countplot(df['marital-status'].dropna(), order = df['marital-status'].value_counts().index);"
   ]
  },
  {
   "cell_type": "code",
   "execution_count": 34,
   "metadata": {},
   "outputs": [
    {
     "data": {
      "image/png": "[encoded data removed]",
      "text/plain": [
       "<Figure size 1584x576 with 1 Axes>"
      ]
     },
     "metadata": {},
     "output_type": "display_data"
    }
   ],
   "source": [
    "plt.figure(figsize=(22, 8))\n",
    "\n",
    "sb.countplot(df['occupation'].dropna(), order = df['occupation'].value_counts().index);"
   ]
  },
  {
   "cell_type": "code",
   "execution_count": 35,
   "metadata": {},
   "outputs": [
    {
     "data": {
      "image/png": "[encoded data removed]",
      "text/plain": [
       "<Figure size 1440x720 with 1 Axes>"
      ]
     },
     "metadata": {},
     "output_type": "display_data"
    }
   ],
   "source": [
    "plt.figure(figsize=(20, 10))\n",
    "\n",
    "sb.countplot(df['relationship'].dropna(), order = df['relationship'].value_counts().index);"
   ]
  },
  {
   "cell_type": "code",
   "execution_count": 36,
   "metadata": {},
   "outputs": [
    {
     "data": {
      "image/png": "[encoded data removed]",
      "text/plain": [
       "<Figure size 720x360 with 1 Axes>"
      ]
     },
     "metadata": {},
     "output_type": "display_data"
    }
   ],
   "source": [
    "plt.figure(figsize=(10, 5))\n",
    "\n",
    "sb.countplot(df['gender'].dropna(), order = df['gender'].value_counts().index);"
   ]
  },
  {
   "cell_type": "code",
   "execution_count": 37,
   "metadata": {
    "scrolled": true
   },
   "outputs": [
    {
     "data": {
      "image/png": "[encoded data removed]",
      "text/plain": [
       "<Figure size 720x360 with 1 Axes>"
      ]
     },
     "metadata": {},
     "output_type": "display_data"
    },
    {
     "data": {
      "image/png": "[encoded data removed]",
      "text/plain": [
       "<Figure size 1440x720 with 1 Axes>"
      ]
     },
     "metadata": {},
     "output_type": "display_data"
    },
    {
     "data": {
      "image/png": "[encoded data removed]",
      "text/plain": [
       "<Figure size 1440x576 with 1 Axes>"
      ]
     },
     "metadata": {},
     "output_type": "display_data"
    }
   ],
   "source": [
    "plt.figure(figsize=(10, 5))\n",
    "\n",
    "sb.countplot(df['gender'].dropna(), order = df['gender'].value_counts().index);\n",
    "\n",
    "plt.figure(figsize=(20, 10))\n",
    "\n",
    "sb.countplot(df['relationship'].dropna(), order = df['relationship'].value_counts().index);\n",
    "\n",
    "plt.figure(figsize=(20, 8))\n",
    "\n",
    "sb.countplot(df['marital-status'].dropna(), order = df['marital-status'].value_counts().index);"
   ]
  },
  {
   "cell_type": "code",
   "execution_count": 38,
   "metadata": {
    "scrolled": true
   },
   "outputs": [
    {
     "data": {
      "image/png": "[encoded data removed]",
      "text/plain": [
       "<Figure size 720x360 with 1 Axes>"
      ]
     },
     "metadata": {},
     "output_type": "display_data"
    }
   ],
   "source": [
    "fig = plt.figure(figsize=(10,5))\n",
    "sb.countplot('workclass', hue='income', data=df)\n",
    "plt.tight_layout()\n",
    "plt.show()"
   ]
  },
  {
   "cell_type": "code",
   "execution_count": 39,
   "metadata": {
    "scrolled": true
   },
   "outputs": [
    {
     "data": {
      "image/png": "[encoded data removed]",
      "text/plain": [
       "<Figure size 720x360 with 1 Axes>"
      ]
     },
     "metadata": {},
     "output_type": "display_data"
    }
   ],
   "source": [
    "fig = plt.figure(figsize=(10,5))\n",
    "sb.countplot('marital-status', hue='income', data=df)\n",
    "plt.tight_layout()\n",
    "plt.show()"
   ]
  },
  {
   "cell_type": "code",
   "execution_count": 40,
   "metadata": {},
   "outputs": [
    {
     "data": {
      "image/png": "[encoded data removed]",
      "text/plain": [
       "<Figure size 720x360 with 1 Axes>"
      ]
     },
     "metadata": {},
     "output_type": "display_data"
    }
   ],
   "source": [
    "fig = plt.figure(figsize=(10,5))\n",
    "sb.countplot('gender', hue='income', data=df)\n",
    "plt.tight_layout()\n",
    "plt.show()"
   ]
  },
  {
   "cell_type": "code",
   "execution_count": 41,
   "metadata": {},
   "outputs": [
    {
     "data": {
      "image/png": "[encoded data removed]",
      "text/plain": [
       "<Figure size 1080x504 with 1 Axes>"
      ]
     },
     "metadata": {},
     "output_type": "display_data"
    }
   ],
   "source": [
    "fig = plt.figure(figsize=(15,7))\n",
    "sb.countplot('education', hue='income', data=df)\n",
    "plt.tight_layout()\n",
    "plt.show()"
   ]
  },
  {
   "cell_type": "markdown",
   "metadata": {},
   "source": [
    "### HEXBIN PLOT :--\n",
    "\n",
    "A hexbin plot is useful to represent the relationship of 2 numerical variables when you have a lot of data points. Without overlapping of the points, the plotting window is split into several hexbins. The color of each hexbin denotes the number of points in it. This can be easily done using the hexbin() function of matplotlib. Note that you can change the size of the bins using the gridsize argument. "
   ]
  },
  {
   "cell_type": "code",
   "execution_count": 42,
   "metadata": {
    "scrolled": true
   },
   "outputs": [
    {
     "data": {
      "image/png": "[encoded data removed]",
      "text/plain": [
       "<Figure size 432x288 with 1 Axes>"
      ]
     },
     "metadata": {},
     "output_type": "display_data"
    },
    {
     "data": {
      "image/png": "[encoded data removed]",
      "text/plain": [
       "<Figure size 432x288 with 1 Axes>"
      ]
     },
     "metadata": {},
     "output_type": "display_data"
    }
   ],
   "source": [
    "\n",
    "x= df['capital-gain']\n",
    "y= df['hours-per-week']\n",
    " \n",
    "# Make the plot\n",
    "plt.hexbin(x, y, gridsize=(15,15) )\n",
    "plt.show()\n",
    " \n",
    "# We can control the size of the bins:\n",
    "plt.hexbin(x, y, gridsize=(150,150) )\n",
    "plt.show()"
   ]
  },
  {
   "cell_type": "markdown",
   "metadata": {
    "scrolled": false
   },
   "source": [
    "ax = sb.swarmplot(x=\"educational-num\", y=\"age\", data=df)"
   ]
  },
  {
   "cell_type": "code",
   "execution_count": 43,
   "metadata": {},
   "outputs": [
    {
     "data": {
      "text/html": [
       "<div>\n",
       "<style scoped>\n",
       "    .dataframe tbody tr th:only-of-type {\n",
       "        vertical-align: middle;\n",
       "    }\n",
       "\n",
       "    .dataframe tbody tr th {\n",
       "        vertical-align: top;\n",
       "    }\n",
       "\n",
       "    .dataframe thead th {\n",
       "        text-align: right;\n",
       "    }\n",
       "</style>\n",
       "<table border=\"1\" class=\"dataframe\">\n",
       "  <thead>\n",
       "    <tr style=\"text-align: right;\">\n",
       "      <th></th>\n",
       "      <th>age</th>\n",
       "      <th>fnlwgt</th>\n",
       "      <th>educational-num</th>\n",
       "      <th>capital-gain</th>\n",
       "      <th>capital-loss</th>\n",
       "      <th>hours-per-week</th>\n",
       "    </tr>\n",
       "  </thead>\n",
       "  <tbody>\n",
       "    <tr>\n",
       "      <th>age</th>\n",
       "      <td>1.000000</td>\n",
       "      <td>-0.076617</td>\n",
       "      <td>0.027210</td>\n",
       "      <td>0.114328</td>\n",
       "      <td>0.057726</td>\n",
       "      <td>0.069919</td>\n",
       "    </tr>\n",
       "    <tr>\n",
       "      <th>fnlwgt</th>\n",
       "      <td>-0.076617</td>\n",
       "      <td>1.000000</td>\n",
       "      <td>-0.038856</td>\n",
       "      <td>-0.003841</td>\n",
       "      <td>-0.004412</td>\n",
       "      <td>-0.013932</td>\n",
       "    </tr>\n",
       "    <tr>\n",
       "      <th>educational-num</th>\n",
       "      <td>0.027210</td>\n",
       "      <td>-0.038856</td>\n",
       "      <td>1.000000</td>\n",
       "      <td>0.146414</td>\n",
       "      <td>0.082698</td>\n",
       "      <td>0.139017</td>\n",
       "    </tr>\n",
       "    <tr>\n",
       "      <th>capital-gain</th>\n",
       "      <td>0.114328</td>\n",
       "      <td>-0.003841</td>\n",
       "      <td>0.146414</td>\n",
       "      <td>1.000000</td>\n",
       "      <td>-0.050169</td>\n",
       "      <td>0.082599</td>\n",
       "    </tr>\n",
       "    <tr>\n",
       "      <th>capital-loss</th>\n",
       "      <td>0.057726</td>\n",
       "      <td>-0.004412</td>\n",
       "      <td>0.082698</td>\n",
       "      <td>-0.050169</td>\n",
       "      <td>1.000000</td>\n",
       "      <td>0.055620</td>\n",
       "    </tr>\n",
       "    <tr>\n",
       "      <th>hours-per-week</th>\n",
       "      <td>0.069919</td>\n",
       "      <td>-0.013932</td>\n",
       "      <td>0.139017</td>\n",
       "      <td>0.082599</td>\n",
       "      <td>0.055620</td>\n",
       "      <td>1.000000</td>\n",
       "    </tr>\n",
       "  </tbody>\n",
       "</table>\n",
       "</div>"
      ],
      "text/plain": [
       "                      age    fnlwgt  educational-num  capital-gain  \\\n",
       "age              1.000000 -0.076617         0.027210      0.114328   \n",
       "fnlwgt          -0.076617  1.000000        -0.038856     -0.003841   \n",
       "educational-num  0.027210 -0.038856         1.000000      0.146414   \n",
       "capital-gain     0.114328 -0.003841         0.146414      1.000000   \n",
       "capital-loss     0.057726 -0.004412         0.082698     -0.050169   \n",
       "hours-per-week   0.069919 -0.013932         0.139017      0.082599   \n",
       "\n",
       "                 capital-loss  hours-per-week  \n",
       "age                  0.057726        0.069919  \n",
       "fnlwgt              -0.004412       -0.013932  \n",
       "educational-num      0.082698        0.139017  \n",
       "capital-gain        -0.050169        0.082599  \n",
       "capital-loss         1.000000        0.055620  \n",
       "hours-per-week       0.055620        1.000000  "
      ]
     },
     "execution_count": 43,
     "metadata": {},
     "output_type": "execute_result"
    }
   ],
   "source": [
    "df.corr()"
   ]
  },
  {
   "cell_type": "markdown",
   "metadata": {},
   "source": [
    "#### CONCLUSION:-\n",
    "\n",
    "\n",
    " \n",
    " \n",
    " ##### AT LAST, BY OBVERSING AND ANALYSIS, \"PROF-SPECIALTY\" IS HAVING MORE NO.OF COUNT IN BOTH MALE AND FEMALE."
   ]
  },
  {
   "cell_type": "code",
   "execution_count": 44,
   "metadata": {},
   "outputs": [
    {
     "data": {
      "text/plain": [
       "Index(['age', 'fnlwgt', 'educational-num', 'capital-gain', 'capital-loss',\n",
       "       'hours-per-week'],\n",
       "      dtype='object')"
      ]
     },
     "execution_count": 44,
     "metadata": {},
     "output_type": "execute_result"
    }
   ],
   "source": [
    "numerical=df.select_dtypes(include=[\"int64\"]).keys()\n",
    "numerical"
   ]
  },
  {
   "cell_type": "code",
   "execution_count": 45,
   "metadata": {},
   "outputs": [
    {
     "name": "stdout",
     "output_type": "stream",
     "text": [
      "[-0.23044397 -0.23044397 -0.23044397 ... -0.23044397 -0.23044397\n",
      "  5.73990111]\n"
     ]
    }
   ],
   "source": [
    "capital_gain = preprocessing.scale(df['capital-gain'])\n",
    "\n",
    "print(capital_gain)"
   ]
  },
  {
   "cell_type": "code",
   "execution_count": 46,
   "metadata": {},
   "outputs": [
    {
     "name": "stdout",
     "output_type": "stream",
     "text": [
      "[-0.21770429 -0.21770429 -0.21770429 ... -0.21770429 -0.21770429\n",
      " -0.21770429]\n"
     ]
    }
   ],
   "source": [
    "capital_loss = preprocessing.scale(df['capital-loss'])\n",
    "\n",
    "print(capital_loss)"
   ]
  },
  {
   "cell_type": "code",
   "execution_count": 47,
   "metadata": {},
   "outputs": [
    {
     "name": "stdout",
     "output_type": "stream",
     "text": [
      "[-0.02999964  0.77855982 -0.02999964 ... -0.02999964 -1.64711856\n",
      " -0.02999964]\n"
     ]
    }
   ],
   "source": [
    "hours_per_week = preprocessing.scale(df['hours-per-week'])\n",
    "\n",
    "print(hours_per_week)"
   ]
  },
  {
   "cell_type": "code",
   "execution_count": 48,
   "metadata": {
    "scrolled": true
   },
   "outputs": [
    {
     "data": {
      "text/html": [
       "<div>\n",
       "<style scoped>\n",
       "    .dataframe tbody tr th:only-of-type {\n",
       "        vertical-align: middle;\n",
       "    }\n",
       "\n",
       "    .dataframe tbody tr th {\n",
       "        vertical-align: top;\n",
       "    }\n",
       "\n",
       "    .dataframe thead th {\n",
       "        text-align: right;\n",
       "    }\n",
       "</style>\n",
       "<table border=\"1\" class=\"dataframe\">\n",
       "  <thead>\n",
       "    <tr style=\"text-align: right;\">\n",
       "      <th></th>\n",
       "      <th>age</th>\n",
       "      <th>fnlwgt</th>\n",
       "      <th>educational-num</th>\n",
       "      <th>relationship</th>\n",
       "      <th>race</th>\n",
       "      <th>gender</th>\n",
       "      <th>capital-gain</th>\n",
       "      <th>capital-loss</th>\n",
       "      <th>hours-per-week</th>\n",
       "      <th>native-country</th>\n",
       "      <th>...</th>\n",
       "      <th>occupation_Farming-fishing</th>\n",
       "      <th>occupation_Handlers-cleaners</th>\n",
       "      <th>occupation_Machine-op-inspct</th>\n",
       "      <th>occupation_Other-service</th>\n",
       "      <th>occupation_Priv-house-serv</th>\n",
       "      <th>occupation_Prof-specialty</th>\n",
       "      <th>occupation_Protective-serv</th>\n",
       "      <th>occupation_Sales</th>\n",
       "      <th>occupation_Tech-support</th>\n",
       "      <th>occupation_Transport-moving</th>\n",
       "    </tr>\n",
       "  </thead>\n",
       "  <tbody>\n",
       "    <tr>\n",
       "      <th>0</th>\n",
       "      <td>25</td>\n",
       "      <td>226802</td>\n",
       "      <td>7</td>\n",
       "      <td>Own-child</td>\n",
       "      <td>Black</td>\n",
       "      <td>Male</td>\n",
       "      <td>0</td>\n",
       "      <td>0</td>\n",
       "      <td>40</td>\n",
       "      <td>United-States</td>\n",
       "      <td>...</td>\n",
       "      <td>0</td>\n",
       "      <td>0</td>\n",
       "      <td>1</td>\n",
       "      <td>0</td>\n",
       "      <td>0</td>\n",
       "      <td>0</td>\n",
       "      <td>0</td>\n",
       "      <td>0</td>\n",
       "      <td>0</td>\n",
       "      <td>0</td>\n",
       "    </tr>\n",
       "    <tr>\n",
       "      <th>1</th>\n",
       "      <td>38</td>\n",
       "      <td>89814</td>\n",
       "      <td>9</td>\n",
       "      <td>Husband</td>\n",
       "      <td>White</td>\n",
       "      <td>Male</td>\n",
       "      <td>0</td>\n",
       "      <td>0</td>\n",
       "      <td>50</td>\n",
       "      <td>United-States</td>\n",
       "      <td>...</td>\n",
       "      <td>1</td>\n",
       "      <td>0</td>\n",
       "      <td>0</td>\n",
       "      <td>0</td>\n",
       "      <td>0</td>\n",
       "      <td>0</td>\n",
       "      <td>0</td>\n",
       "      <td>0</td>\n",
       "      <td>0</td>\n",
       "      <td>0</td>\n",
       "    </tr>\n",
       "    <tr>\n",
       "      <th>2</th>\n",
       "      <td>28</td>\n",
       "      <td>336951</td>\n",
       "      <td>12</td>\n",
       "      <td>Husband</td>\n",
       "      <td>White</td>\n",
       "      <td>Male</td>\n",
       "      <td>0</td>\n",
       "      <td>0</td>\n",
       "      <td>40</td>\n",
       "      <td>United-States</td>\n",
       "      <td>...</td>\n",
       "      <td>0</td>\n",
       "      <td>0</td>\n",
       "      <td>0</td>\n",
       "      <td>0</td>\n",
       "      <td>0</td>\n",
       "      <td>0</td>\n",
       "      <td>1</td>\n",
       "      <td>0</td>\n",
       "      <td>0</td>\n",
       "      <td>0</td>\n",
       "    </tr>\n",
       "    <tr>\n",
       "      <th>3</th>\n",
       "      <td>44</td>\n",
       "      <td>160323</td>\n",
       "      <td>10</td>\n",
       "      <td>Husband</td>\n",
       "      <td>Black</td>\n",
       "      <td>Male</td>\n",
       "      <td>7688</td>\n",
       "      <td>0</td>\n",
       "      <td>40</td>\n",
       "      <td>United-States</td>\n",
       "      <td>...</td>\n",
       "      <td>0</td>\n",
       "      <td>0</td>\n",
       "      <td>1</td>\n",
       "      <td>0</td>\n",
       "      <td>0</td>\n",
       "      <td>0</td>\n",
       "      <td>0</td>\n",
       "      <td>0</td>\n",
       "      <td>0</td>\n",
       "      <td>0</td>\n",
       "    </tr>\n",
       "    <tr>\n",
       "      <th>4</th>\n",
       "      <td>18</td>\n",
       "      <td>103497</td>\n",
       "      <td>10</td>\n",
       "      <td>Own-child</td>\n",
       "      <td>White</td>\n",
       "      <td>Female</td>\n",
       "      <td>0</td>\n",
       "      <td>0</td>\n",
       "      <td>30</td>\n",
       "      <td>United-States</td>\n",
       "      <td>...</td>\n",
       "      <td>0</td>\n",
       "      <td>0</td>\n",
       "      <td>0</td>\n",
       "      <td>0</td>\n",
       "      <td>0</td>\n",
       "      <td>1</td>\n",
       "      <td>0</td>\n",
       "      <td>0</td>\n",
       "      <td>0</td>\n",
       "      <td>0</td>\n",
       "    </tr>\n",
       "    <tr>\n",
       "      <th>...</th>\n",
       "      <td>...</td>\n",
       "      <td>...</td>\n",
       "      <td>...</td>\n",
       "      <td>...</td>\n",
       "      <td>...</td>\n",
       "      <td>...</td>\n",
       "      <td>...</td>\n",
       "      <td>...</td>\n",
       "      <td>...</td>\n",
       "      <td>...</td>\n",
       "      <td>...</td>\n",
       "      <td>...</td>\n",
       "      <td>...</td>\n",
       "      <td>...</td>\n",
       "      <td>...</td>\n",
       "      <td>...</td>\n",
       "      <td>...</td>\n",
       "      <td>...</td>\n",
       "      <td>...</td>\n",
       "      <td>...</td>\n",
       "      <td>...</td>\n",
       "    </tr>\n",
       "    <tr>\n",
       "      <th>48837</th>\n",
       "      <td>27</td>\n",
       "      <td>257302</td>\n",
       "      <td>12</td>\n",
       "      <td>Wife</td>\n",
       "      <td>White</td>\n",
       "      <td>Female</td>\n",
       "      <td>0</td>\n",
       "      <td>0</td>\n",
       "      <td>38</td>\n",
       "      <td>United-States</td>\n",
       "      <td>...</td>\n",
       "      <td>0</td>\n",
       "      <td>0</td>\n",
       "      <td>0</td>\n",
       "      <td>0</td>\n",
       "      <td>0</td>\n",
       "      <td>0</td>\n",
       "      <td>0</td>\n",
       "      <td>0</td>\n",
       "      <td>1</td>\n",
       "      <td>0</td>\n",
       "    </tr>\n",
       "    <tr>\n",
       "      <th>48838</th>\n",
       "      <td>40</td>\n",
       "      <td>154374</td>\n",
       "      <td>9</td>\n",
       "      <td>Husband</td>\n",
       "      <td>White</td>\n",
       "      <td>Male</td>\n",
       "      <td>0</td>\n",
       "      <td>0</td>\n",
       "      <td>40</td>\n",
       "      <td>United-States</td>\n",
       "      <td>...</td>\n",
       "      <td>0</td>\n",
       "      <td>0</td>\n",
       "      <td>1</td>\n",
       "      <td>0</td>\n",
       "      <td>0</td>\n",
       "      <td>0</td>\n",
       "      <td>0</td>\n",
       "      <td>0</td>\n",
       "      <td>0</td>\n",
       "      <td>0</td>\n",
       "    </tr>\n",
       "    <tr>\n",
       "      <th>48839</th>\n",
       "      <td>58</td>\n",
       "      <td>151910</td>\n",
       "      <td>9</td>\n",
       "      <td>Unmarried</td>\n",
       "      <td>White</td>\n",
       "      <td>Female</td>\n",
       "      <td>0</td>\n",
       "      <td>0</td>\n",
       "      <td>40</td>\n",
       "      <td>United-States</td>\n",
       "      <td>...</td>\n",
       "      <td>0</td>\n",
       "      <td>0</td>\n",
       "      <td>0</td>\n",
       "      <td>0</td>\n",
       "      <td>0</td>\n",
       "      <td>0</td>\n",
       "      <td>0</td>\n",
       "      <td>0</td>\n",
       "      <td>0</td>\n",
       "      <td>0</td>\n",
       "    </tr>\n",
       "    <tr>\n",
       "      <th>48840</th>\n",
       "      <td>22</td>\n",
       "      <td>201490</td>\n",
       "      <td>9</td>\n",
       "      <td>Own-child</td>\n",
       "      <td>White</td>\n",
       "      <td>Male</td>\n",
       "      <td>0</td>\n",
       "      <td>0</td>\n",
       "      <td>20</td>\n",
       "      <td>United-States</td>\n",
       "      <td>...</td>\n",
       "      <td>0</td>\n",
       "      <td>0</td>\n",
       "      <td>0</td>\n",
       "      <td>0</td>\n",
       "      <td>0</td>\n",
       "      <td>0</td>\n",
       "      <td>0</td>\n",
       "      <td>0</td>\n",
       "      <td>0</td>\n",
       "      <td>0</td>\n",
       "    </tr>\n",
       "    <tr>\n",
       "      <th>48841</th>\n",
       "      <td>52</td>\n",
       "      <td>287927</td>\n",
       "      <td>9</td>\n",
       "      <td>Wife</td>\n",
       "      <td>White</td>\n",
       "      <td>Female</td>\n",
       "      <td>15024</td>\n",
       "      <td>0</td>\n",
       "      <td>40</td>\n",
       "      <td>United-States</td>\n",
       "      <td>...</td>\n",
       "      <td>0</td>\n",
       "      <td>0</td>\n",
       "      <td>0</td>\n",
       "      <td>0</td>\n",
       "      <td>0</td>\n",
       "      <td>0</td>\n",
       "      <td>0</td>\n",
       "      <td>0</td>\n",
       "      <td>0</td>\n",
       "      <td>0</td>\n",
       "    </tr>\n",
       "  </tbody>\n",
       "</table>\n",
       "<p>48595 rows × 56 columns</p>\n",
       "</div>"
      ],
      "text/plain": [
       "       age  fnlwgt  educational-num relationship   race  gender  capital-gain  \\\n",
       "0       25  226802                7    Own-child  Black    Male             0   \n",
       "1       38   89814                9      Husband  White    Male             0   \n",
       "2       28  336951               12      Husband  White    Male             0   \n",
       "3       44  160323               10      Husband  Black    Male          7688   \n",
       "4       18  103497               10    Own-child  White  Female             0   \n",
       "...    ...     ...              ...          ...    ...     ...           ...   \n",
       "48837   27  257302               12         Wife  White  Female             0   \n",
       "48838   40  154374                9      Husband  White    Male             0   \n",
       "48839   58  151910                9    Unmarried  White  Female             0   \n",
       "48840   22  201490                9    Own-child  White    Male             0   \n",
       "48841   52  287927                9         Wife  White  Female         15024   \n",
       "\n",
       "       capital-loss  hours-per-week native-country  ...  \\\n",
       "0                 0              40  United-States  ...   \n",
       "1                 0              50  United-States  ...   \n",
       "2                 0              40  United-States  ...   \n",
       "3                 0              40  United-States  ...   \n",
       "4                 0              30  United-States  ...   \n",
       "...             ...             ...            ...  ...   \n",
       "48837             0              38  United-States  ...   \n",
       "48838             0              40  United-States  ...   \n",
       "48839             0              40  United-States  ...   \n",
       "48840             0              20  United-States  ...   \n",
       "48841             0              40  United-States  ...   \n",
       "\n",
       "      occupation_Farming-fishing  occupation_Handlers-cleaners  \\\n",
       "0                              0                             0   \n",
       "1                              1                             0   \n",
       "2                              0                             0   \n",
       "3                              0                             0   \n",
       "4                              0                             0   \n",
       "...                          ...                           ...   \n",
       "48837                          0                             0   \n",
       "48838                          0                             0   \n",
       "48839                          0                             0   \n",
       "48840                          0                             0   \n",
       "48841                          0                             0   \n",
       "\n",
       "       occupation_Machine-op-inspct  occupation_Other-service  \\\n",
       "0                                 1                         0   \n",
       "1                                 0                         0   \n",
       "2                                 0                         0   \n",
       "3                                 1                         0   \n",
       "4                                 0                         0   \n",
       "...                             ...                       ...   \n",
       "48837                             0                         0   \n",
       "48838                             1                         0   \n",
       "48839                             0                         0   \n",
       "48840                             0                         0   \n",
       "48841                             0                         0   \n",
       "\n",
       "       occupation_Priv-house-serv  occupation_Prof-specialty  \\\n",
       "0                               0                          0   \n",
       "1                               0                          0   \n",
       "2                               0                          0   \n",
       "3                               0                          0   \n",
       "4                               0                          1   \n",
       "...                           ...                        ...   \n",
       "48837                           0                          0   \n",
       "48838                           0                          0   \n",
       "48839                           0                          0   \n",
       "48840                           0                          0   \n",
       "48841                           0                          0   \n",
       "\n",
       "       occupation_Protective-serv  occupation_Sales  occupation_Tech-support  \\\n",
       "0                               0                 0                        0   \n",
       "1                               0                 0                        0   \n",
       "2                               1                 0                        0   \n",
       "3                               0                 0                        0   \n",
       "4                               0                 0                        0   \n",
       "...                           ...               ...                      ...   \n",
       "48837                           0                 0                        1   \n",
       "48838                           0                 0                        0   \n",
       "48839                           0                 0                        0   \n",
       "48840                           0                 0                        0   \n",
       "48841                           0                 0                        0   \n",
       "\n",
       "       occupation_Transport-moving  \n",
       "0                                0  \n",
       "1                                0  \n",
       "2                                0  \n",
       "3                                0  \n",
       "4                                0  \n",
       "...                            ...  \n",
       "48837                            0  \n",
       "48838                            0  \n",
       "48839                            0  \n",
       "48840                            0  \n",
       "48841                            0  \n",
       "\n",
       "[48595 rows x 56 columns]"
      ]
     },
     "execution_count": 48,
     "metadata": {},
     "output_type": "execute_result"
    }
   ],
   "source": [
    "dumydata=pd.get_dummies(df, columns=[\"workclass\", \"education\", \"marital-status\", \"occupation\"])\n",
    "dumydata"
   ]
  },
  {
   "cell_type": "code",
   "execution_count": 49,
   "metadata": {},
   "outputs": [],
   "source": [
    "dumydata=dumydata.drop(columns=[\"relationship\",\"race\",\"native-country\"])"
   ]
  },
  {
   "cell_type": "code",
   "execution_count": 50,
   "metadata": {},
   "outputs": [
    {
     "data": {
      "text/plain": [
       "0        <=50K\n",
       "1        <=50K\n",
       "2         >50K\n",
       "3         >50K\n",
       "4        <=50K\n",
       "         ...  \n",
       "48837    <=50K\n",
       "48838     >50K\n",
       "48839    <=50K\n",
       "48840    <=50K\n",
       "48841     >50K\n",
       "Name: income, Length: 48595, dtype: object"
      ]
     },
     "execution_count": 50,
     "metadata": {},
     "output_type": "execute_result"
    }
   ],
   "source": [
    "df.income"
   ]
  },
  {
   "cell_type": "code",
   "execution_count": 51,
   "metadata": {},
   "outputs": [],
   "source": [
    "def sex_to_numeric(x):\n",
    " if x=='Male':\n",
    "     return 1\n",
    " if x=='Female':\n",
    "     return 0\n",
    "\n",
    "dumydata['gender'] = dumydata['gender'].apply(sex_to_numeric)"
   ]
  },
  {
   "cell_type": "code",
   "execution_count": 52,
   "metadata": {},
   "outputs": [],
   "source": [
    "x= dumydata.drop(['income'],axis=1)"
   ]
  },
  {
   "cell_type": "code",
   "execution_count": 53,
   "metadata": {},
   "outputs": [
    {
     "data": {
      "text/html": [
       "<div>\n",
       "<style scoped>\n",
       "    .dataframe tbody tr th:only-of-type {\n",
       "        vertical-align: middle;\n",
       "    }\n",
       "\n",
       "    .dataframe tbody tr th {\n",
       "        vertical-align: top;\n",
       "    }\n",
       "\n",
       "    .dataframe thead th {\n",
       "        text-align: right;\n",
       "    }\n",
       "</style>\n",
       "<table border=\"1\" class=\"dataframe\">\n",
       "  <thead>\n",
       "    <tr style=\"text-align: right;\">\n",
       "      <th></th>\n",
       "      <th>age</th>\n",
       "      <th>fnlwgt</th>\n",
       "      <th>educational-num</th>\n",
       "      <th>gender</th>\n",
       "      <th>capital-gain</th>\n",
       "      <th>capital-loss</th>\n",
       "      <th>hours-per-week</th>\n",
       "      <th>workclass_Federal-gov</th>\n",
       "      <th>workclass_Local-gov</th>\n",
       "      <th>workclass_Never-worked</th>\n",
       "      <th>...</th>\n",
       "      <th>occupation_Farming-fishing</th>\n",
       "      <th>occupation_Handlers-cleaners</th>\n",
       "      <th>occupation_Machine-op-inspct</th>\n",
       "      <th>occupation_Other-service</th>\n",
       "      <th>occupation_Priv-house-serv</th>\n",
       "      <th>occupation_Prof-specialty</th>\n",
       "      <th>occupation_Protective-serv</th>\n",
       "      <th>occupation_Sales</th>\n",
       "      <th>occupation_Tech-support</th>\n",
       "      <th>occupation_Transport-moving</th>\n",
       "    </tr>\n",
       "  </thead>\n",
       "  <tbody>\n",
       "    <tr>\n",
       "      <th>0</th>\n",
       "      <td>25</td>\n",
       "      <td>226802</td>\n",
       "      <td>7</td>\n",
       "      <td>1</td>\n",
       "      <td>0</td>\n",
       "      <td>0</td>\n",
       "      <td>40</td>\n",
       "      <td>0</td>\n",
       "      <td>0</td>\n",
       "      <td>0</td>\n",
       "      <td>...</td>\n",
       "      <td>0</td>\n",
       "      <td>0</td>\n",
       "      <td>1</td>\n",
       "      <td>0</td>\n",
       "      <td>0</td>\n",
       "      <td>0</td>\n",
       "      <td>0</td>\n",
       "      <td>0</td>\n",
       "      <td>0</td>\n",
       "      <td>0</td>\n",
       "    </tr>\n",
       "    <tr>\n",
       "      <th>1</th>\n",
       "      <td>38</td>\n",
       "      <td>89814</td>\n",
       "      <td>9</td>\n",
       "      <td>1</td>\n",
       "      <td>0</td>\n",
       "      <td>0</td>\n",
       "      <td>50</td>\n",
       "      <td>0</td>\n",
       "      <td>0</td>\n",
       "      <td>0</td>\n",
       "      <td>...</td>\n",
       "      <td>1</td>\n",
       "      <td>0</td>\n",
       "      <td>0</td>\n",
       "      <td>0</td>\n",
       "      <td>0</td>\n",
       "      <td>0</td>\n",
       "      <td>0</td>\n",
       "      <td>0</td>\n",
       "      <td>0</td>\n",
       "      <td>0</td>\n",
       "    </tr>\n",
       "    <tr>\n",
       "      <th>2</th>\n",
       "      <td>28</td>\n",
       "      <td>336951</td>\n",
       "      <td>12</td>\n",
       "      <td>1</td>\n",
       "      <td>0</td>\n",
       "      <td>0</td>\n",
       "      <td>40</td>\n",
       "      <td>0</td>\n",
       "      <td>1</td>\n",
       "      <td>0</td>\n",
       "      <td>...</td>\n",
       "      <td>0</td>\n",
       "      <td>0</td>\n",
       "      <td>0</td>\n",
       "      <td>0</td>\n",
       "      <td>0</td>\n",
       "      <td>0</td>\n",
       "      <td>1</td>\n",
       "      <td>0</td>\n",
       "      <td>0</td>\n",
       "      <td>0</td>\n",
       "    </tr>\n",
       "    <tr>\n",
       "      <th>3</th>\n",
       "      <td>44</td>\n",
       "      <td>160323</td>\n",
       "      <td>10</td>\n",
       "      <td>1</td>\n",
       "      <td>7688</td>\n",
       "      <td>0</td>\n",
       "      <td>40</td>\n",
       "      <td>0</td>\n",
       "      <td>0</td>\n",
       "      <td>0</td>\n",
       "      <td>...</td>\n",
       "      <td>0</td>\n",
       "      <td>0</td>\n",
       "      <td>1</td>\n",
       "      <td>0</td>\n",
       "      <td>0</td>\n",
       "      <td>0</td>\n",
       "      <td>0</td>\n",
       "      <td>0</td>\n",
       "      <td>0</td>\n",
       "      <td>0</td>\n",
       "    </tr>\n",
       "    <tr>\n",
       "      <th>4</th>\n",
       "      <td>18</td>\n",
       "      <td>103497</td>\n",
       "      <td>10</td>\n",
       "      <td>0</td>\n",
       "      <td>0</td>\n",
       "      <td>0</td>\n",
       "      <td>30</td>\n",
       "      <td>0</td>\n",
       "      <td>0</td>\n",
       "      <td>0</td>\n",
       "      <td>...</td>\n",
       "      <td>0</td>\n",
       "      <td>0</td>\n",
       "      <td>0</td>\n",
       "      <td>0</td>\n",
       "      <td>0</td>\n",
       "      <td>1</td>\n",
       "      <td>0</td>\n",
       "      <td>0</td>\n",
       "      <td>0</td>\n",
       "      <td>0</td>\n",
       "    </tr>\n",
       "    <tr>\n",
       "      <th>...</th>\n",
       "      <td>...</td>\n",
       "      <td>...</td>\n",
       "      <td>...</td>\n",
       "      <td>...</td>\n",
       "      <td>...</td>\n",
       "      <td>...</td>\n",
       "      <td>...</td>\n",
       "      <td>...</td>\n",
       "      <td>...</td>\n",
       "      <td>...</td>\n",
       "      <td>...</td>\n",
       "      <td>...</td>\n",
       "      <td>...</td>\n",
       "      <td>...</td>\n",
       "      <td>...</td>\n",
       "      <td>...</td>\n",
       "      <td>...</td>\n",
       "      <td>...</td>\n",
       "      <td>...</td>\n",
       "      <td>...</td>\n",
       "      <td>...</td>\n",
       "    </tr>\n",
       "    <tr>\n",
       "      <th>48837</th>\n",
       "      <td>27</td>\n",
       "      <td>257302</td>\n",
       "      <td>12</td>\n",
       "      <td>0</td>\n",
       "      <td>0</td>\n",
       "      <td>0</td>\n",
       "      <td>38</td>\n",
       "      <td>0</td>\n",
       "      <td>0</td>\n",
       "      <td>0</td>\n",
       "      <td>...</td>\n",
       "      <td>0</td>\n",
       "      <td>0</td>\n",
       "      <td>0</td>\n",
       "      <td>0</td>\n",
       "      <td>0</td>\n",
       "      <td>0</td>\n",
       "      <td>0</td>\n",
       "      <td>0</td>\n",
       "      <td>1</td>\n",
       "      <td>0</td>\n",
       "    </tr>\n",
       "    <tr>\n",
       "      <th>48838</th>\n",
       "      <td>40</td>\n",
       "      <td>154374</td>\n",
       "      <td>9</td>\n",
       "      <td>1</td>\n",
       "      <td>0</td>\n",
       "      <td>0</td>\n",
       "      <td>40</td>\n",
       "      <td>0</td>\n",
       "      <td>0</td>\n",
       "      <td>0</td>\n",
       "      <td>...</td>\n",
       "      <td>0</td>\n",
       "      <td>0</td>\n",
       "      <td>1</td>\n",
       "      <td>0</td>\n",
       "      <td>0</td>\n",
       "      <td>0</td>\n",
       "      <td>0</td>\n",
       "      <td>0</td>\n",
       "      <td>0</td>\n",
       "      <td>0</td>\n",
       "    </tr>\n",
       "    <tr>\n",
       "      <th>48839</th>\n",
       "      <td>58</td>\n",
       "      <td>151910</td>\n",
       "      <td>9</td>\n",
       "      <td>0</td>\n",
       "      <td>0</td>\n",
       "      <td>0</td>\n",
       "      <td>40</td>\n",
       "      <td>0</td>\n",
       "      <td>0</td>\n",
       "      <td>0</td>\n",
       "      <td>...</td>\n",
       "      <td>0</td>\n",
       "      <td>0</td>\n",
       "      <td>0</td>\n",
       "      <td>0</td>\n",
       "      <td>0</td>\n",
       "      <td>0</td>\n",
       "      <td>0</td>\n",
       "      <td>0</td>\n",
       "      <td>0</td>\n",
       "      <td>0</td>\n",
       "    </tr>\n",
       "    <tr>\n",
       "      <th>48840</th>\n",
       "      <td>22</td>\n",
       "      <td>201490</td>\n",
       "      <td>9</td>\n",
       "      <td>1</td>\n",
       "      <td>0</td>\n",
       "      <td>0</td>\n",
       "      <td>20</td>\n",
       "      <td>0</td>\n",
       "      <td>0</td>\n",
       "      <td>0</td>\n",
       "      <td>...</td>\n",
       "      <td>0</td>\n",
       "      <td>0</td>\n",
       "      <td>0</td>\n",
       "      <td>0</td>\n",
       "      <td>0</td>\n",
       "      <td>0</td>\n",
       "      <td>0</td>\n",
       "      <td>0</td>\n",
       "      <td>0</td>\n",
       "      <td>0</td>\n",
       "    </tr>\n",
       "    <tr>\n",
       "      <th>48841</th>\n",
       "      <td>52</td>\n",
       "      <td>287927</td>\n",
       "      <td>9</td>\n",
       "      <td>0</td>\n",
       "      <td>15024</td>\n",
       "      <td>0</td>\n",
       "      <td>40</td>\n",
       "      <td>0</td>\n",
       "      <td>0</td>\n",
       "      <td>0</td>\n",
       "      <td>...</td>\n",
       "      <td>0</td>\n",
       "      <td>0</td>\n",
       "      <td>0</td>\n",
       "      <td>0</td>\n",
       "      <td>0</td>\n",
       "      <td>0</td>\n",
       "      <td>0</td>\n",
       "      <td>0</td>\n",
       "      <td>0</td>\n",
       "      <td>0</td>\n",
       "    </tr>\n",
       "  </tbody>\n",
       "</table>\n",
       "<p>48595 rows × 52 columns</p>\n",
       "</div>"
      ],
      "text/plain": [
       "       age  fnlwgt  educational-num  gender  capital-gain  capital-loss  \\\n",
       "0       25  226802                7       1             0             0   \n",
       "1       38   89814                9       1             0             0   \n",
       "2       28  336951               12       1             0             0   \n",
       "3       44  160323               10       1          7688             0   \n",
       "4       18  103497               10       0             0             0   \n",
       "...    ...     ...              ...     ...           ...           ...   \n",
       "48837   27  257302               12       0             0             0   \n",
       "48838   40  154374                9       1             0             0   \n",
       "48839   58  151910                9       0             0             0   \n",
       "48840   22  201490                9       1             0             0   \n",
       "48841   52  287927                9       0         15024             0   \n",
       "\n",
       "       hours-per-week  workclass_Federal-gov  workclass_Local-gov  \\\n",
       "0                  40                      0                    0   \n",
       "1                  50                      0                    0   \n",
       "2                  40                      0                    1   \n",
       "3                  40                      0                    0   \n",
       "4                  30                      0                    0   \n",
       "...               ...                    ...                  ...   \n",
       "48837              38                      0                    0   \n",
       "48838              40                      0                    0   \n",
       "48839              40                      0                    0   \n",
       "48840              20                      0                    0   \n",
       "48841              40                      0                    0   \n",
       "\n",
       "       workclass_Never-worked  ...  occupation_Farming-fishing  \\\n",
       "0                           0  ...                           0   \n",
       "1                           0  ...                           1   \n",
       "2                           0  ...                           0   \n",
       "3                           0  ...                           0   \n",
       "4                           0  ...                           0   \n",
       "...                       ...  ...                         ...   \n",
       "48837                       0  ...                           0   \n",
       "48838                       0  ...                           0   \n",
       "48839                       0  ...                           0   \n",
       "48840                       0  ...                           0   \n",
       "48841                       0  ...                           0   \n",
       "\n",
       "       occupation_Handlers-cleaners  occupation_Machine-op-inspct  \\\n",
       "0                                 0                             1   \n",
       "1                                 0                             0   \n",
       "2                                 0                             0   \n",
       "3                                 0                             1   \n",
       "4                                 0                             0   \n",
       "...                             ...                           ...   \n",
       "48837                             0                             0   \n",
       "48838                             0                             1   \n",
       "48839                             0                             0   \n",
       "48840                             0                             0   \n",
       "48841                             0                             0   \n",
       "\n",
       "       occupation_Other-service  occupation_Priv-house-serv  \\\n",
       "0                             0                           0   \n",
       "1                             0                           0   \n",
       "2                             0                           0   \n",
       "3                             0                           0   \n",
       "4                             0                           0   \n",
       "...                         ...                         ...   \n",
       "48837                         0                           0   \n",
       "48838                         0                           0   \n",
       "48839                         0                           0   \n",
       "48840                         0                           0   \n",
       "48841                         0                           0   \n",
       "\n",
       "       occupation_Prof-specialty  occupation_Protective-serv  \\\n",
       "0                              0                           0   \n",
       "1                              0                           0   \n",
       "2                              0                           1   \n",
       "3                              0                           0   \n",
       "4                              1                           0   \n",
       "...                          ...                         ...   \n",
       "48837                          0                           0   \n",
       "48838                          0                           0   \n",
       "48839                          0                           0   \n",
       "48840                          0                           0   \n",
       "48841                          0                           0   \n",
       "\n",
       "       occupation_Sales  occupation_Tech-support  occupation_Transport-moving  \n",
       "0                     0                        0                            0  \n",
       "1                     0                        0                            0  \n",
       "2                     0                        0                            0  \n",
       "3                     0                        0                            0  \n",
       "4                     0                        0                            0  \n",
       "...                 ...                      ...                          ...  \n",
       "48837                 0                        1                            0  \n",
       "48838                 0                        0                            0  \n",
       "48839                 0                        0                            0  \n",
       "48840                 0                        0                            0  \n",
       "48841                 0                        0                            0  \n",
       "\n",
       "[48595 rows x 52 columns]"
      ]
     },
     "execution_count": 53,
     "metadata": {},
     "output_type": "execute_result"
    }
   ],
   "source": [
    "x"
   ]
  },
  {
   "cell_type": "code",
   "execution_count": 54,
   "metadata": {},
   "outputs": [],
   "source": [
    "y= dumydata['income']"
   ]
  },
  {
   "cell_type": "code",
   "execution_count": 55,
   "metadata": {},
   "outputs": [
    {
     "data": {
      "text/plain": [
       "0        <=50K\n",
       "1        <=50K\n",
       "2         >50K\n",
       "3         >50K\n",
       "4        <=50K\n",
       "         ...  \n",
       "48837    <=50K\n",
       "48838     >50K\n",
       "48839    <=50K\n",
       "48840    <=50K\n",
       "48841     >50K\n",
       "Name: income, Length: 48595, dtype: object"
      ]
     },
     "execution_count": 55,
     "metadata": {},
     "output_type": "execute_result"
    }
   ],
   "source": [
    "y"
   ]
  },
  {
   "cell_type": "code",
   "execution_count": 56,
   "metadata": {},
   "outputs": [],
   "source": [
    "from sklearn.model_selection import train_test_split"
   ]
  },
  {
   "cell_type": "code",
   "execution_count": 57,
   "metadata": {},
   "outputs": [],
   "source": [
    " X_train, X_test, y_train, y_test = train_test_split(x, y, test_size=0.33, random_state=0)"
   ]
  },
  {
   "cell_type": "code",
   "execution_count": 58,
   "metadata": {},
   "outputs": [],
   "source": [
    "from sklearn.linear_model import LogisticRegression"
   ]
  },
  {
   "cell_type": "code",
   "execution_count": 59,
   "metadata": {},
   "outputs": [],
   "source": [
    "model= LogisticRegression()"
   ]
  },
  {
   "cell_type": "code",
   "execution_count": 60,
   "metadata": {},
   "outputs": [
    {
     "data": {
      "text/plain": [
       "LogisticRegression()"
      ]
     },
     "execution_count": 60,
     "metadata": {},
     "output_type": "execute_result"
    }
   ],
   "source": [
    "model.fit(x,y)"
   ]
  },
  {
   "cell_type": "code",
   "execution_count": 61,
   "metadata": {},
   "outputs": [
    {
     "data": {
      "text/plain": [
       "79.68926844325549"
      ]
     },
     "execution_count": 61,
     "metadata": {},
     "output_type": "execute_result"
    }
   ],
   "source": [
    "lr_score =  model.score(x,y)*100 \n",
    "lr_score"
   ]
  },
  {
   "cell_type": "code",
   "execution_count": 62,
   "metadata": {},
   "outputs": [
    {
     "data": {
      "text/plain": [
       "array([[-7.55264156e-03, -3.66606362e-06, -1.74333576e-03,\n",
       "         1.30599078e-05,  3.47783811e-04,  7.72827882e-04,\n",
       "        -8.13185986e-03,  1.41085247e-05,  1.69093581e-07,\n",
       "        -2.87281676e-07, -3.79655330e-04,  3.85979448e-05,\n",
       "        -2.26459908e-05, -9.23543343e-06, -5.80635048e-07,\n",
       "        -3.65702060e-05, -5.11135958e-05, -1.62569030e-05,\n",
       "        -6.19763453e-06, -1.18537946e-05, -2.68338036e-05,\n",
       "        -2.05159338e-05, -6.10224808e-06, -1.44460157e-05,\n",
       "         9.59514059e-05,  2.58737175e-05, -2.55294983e-04,\n",
       "         6.76924791e-05, -2.21203601e-06,  3.22521066e-05,\n",
       "        -1.33901663e-04, -1.66404299e-04,  3.02160912e-07,\n",
       "         3.75556959e-04, -1.50156474e-05, -4.70300531e-04,\n",
       "        -4.02515153e-05, -4.34162346e-05, -1.03101076e-04,\n",
       "         1.65484798e-07, -4.75535402e-05,  1.13336195e-04,\n",
       "        -3.75577931e-05, -5.20991999e-05, -5.84461609e-05,\n",
       "        -1.47846257e-04, -7.83205119e-06,  2.30281678e-05,\n",
       "         5.19599481e-06, -2.19046328e-05, -6.88624779e-07,\n",
       "        -2.42256132e-05]])"
      ]
     },
     "execution_count": 62,
     "metadata": {},
     "output_type": "execute_result"
    }
   ],
   "source": [
    "model.coef_"
   ]
  },
  {
   "cell_type": "code",
   "execution_count": 63,
   "metadata": {},
   "outputs": [
    {
     "data": {
      "text/plain": [
       "array([-0.00035953])"
      ]
     },
     "execution_count": 63,
     "metadata": {},
     "output_type": "execute_result"
    }
   ],
   "source": [
    "model.intercept_"
   ]
  },
  {
   "cell_type": "code",
   "execution_count": 64,
   "metadata": {
    "scrolled": false
   },
   "outputs": [
    {
     "data": {
      "text/plain": [
       "array(['<=50K', '<=50K', '<=50K', ..., '<=50K', '<=50K', '<=50K'],\n",
       "      dtype=object)"
      ]
     },
     "execution_count": 64,
     "metadata": {},
     "output_type": "execute_result"
    }
   ],
   "source": [
    "model.predict(X_test)"
   ]
  },
  {
   "cell_type": "code",
   "execution_count": 65,
   "metadata": {},
   "outputs": [],
   "source": [
    "from sklearn.tree import DecisionTreeClassifier"
   ]
  },
  {
   "cell_type": "code",
   "execution_count": 66,
   "metadata": {},
   "outputs": [
    {
     "data": {
      "text/plain": [
       "DecisionTreeClassifier()"
      ]
     },
     "execution_count": 66,
     "metadata": {},
     "output_type": "execute_result"
    }
   ],
   "source": [
    "dt = DecisionTreeClassifier()\n",
    "dt.fit(X_train, y_train)"
   ]
  },
  {
   "cell_type": "code",
   "execution_count": 67,
   "metadata": {},
   "outputs": [
    {
     "data": {
      "text/plain": [
       "82.07270686537382"
      ]
     },
     "execution_count": 67,
     "metadata": {},
     "output_type": "execute_result"
    }
   ],
   "source": [
    "dtc_score = dt.score(X_test, y_test)*100\n",
    "dtc_score"
   ]
  },
  {
   "cell_type": "code",
   "execution_count": 68,
   "metadata": {},
   "outputs": [
    {
     "data": {
      "text/html": [
       "<div>\n",
       "<style scoped>\n",
       "    .dataframe tbody tr th:only-of-type {\n",
       "        vertical-align: middle;\n",
       "    }\n",
       "\n",
       "    .dataframe tbody tr th {\n",
       "        vertical-align: top;\n",
       "    }\n",
       "\n",
       "    .dataframe thead th {\n",
       "        text-align: right;\n",
       "    }\n",
       "</style>\n",
       "<table border=\"1\" class=\"dataframe\">\n",
       "  <thead>\n",
       "    <tr style=\"text-align: right;\">\n",
       "      <th></th>\n",
       "      <th>LogisticRegression</th>\n",
       "      <th>DecisionTreeClassifier</th>\n",
       "    </tr>\n",
       "  </thead>\n",
       "  <tbody>\n",
       "    <tr>\n",
       "      <th>Score</th>\n",
       "      <td>79.689268</td>\n",
       "      <td>82.072707</td>\n",
       "    </tr>\n",
       "  </tbody>\n",
       "</table>\n",
       "</div>"
      ],
      "text/plain": [
       "       LogisticRegression  DecisionTreeClassifier\n",
       "Score           79.689268               82.072707"
      ]
     },
     "execution_count": 68,
     "metadata": {},
     "output_type": "execute_result"
    }
   ],
   "source": [
    "sc = pd.DataFrame([{'LogisticRegression':lr_score,'DecisionTreeClassifier':dtc_score}],index=['Score'])\n",
    "sc"
   ]
  }
 ],
 "metadata": {
  "kernelspec": {
   "display_name": "Python 3",
   "language": "python",
   "name": "python3"
  },
  "language_info": {
   "codemirror_mode": {
    "name": "ipython",
    "version": 3
   },
   "file_extension": ".py",
   "mimetype": "text/x-python",
   "name": "python",
   "nbconvert_exporter": "python",
   "pygments_lexer": "ipython3",
   "version": "3.8.2"
  }
 },
 "nbformat": 4,
 "nbformat_minor": 4
}
