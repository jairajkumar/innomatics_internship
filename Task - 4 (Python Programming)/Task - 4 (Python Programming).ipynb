{
 "cells": [
  {
   "cell_type": "markdown",
   "metadata": {},
   "source": [
    "# Question-1"
   ]
  },
  {
   "cell_type": "markdown",
   "metadata": {},
   "source": [
    "https://www.hackerrank.com/challenges/swap-case"
   ]
  },
  {
   "cell_type": "markdown",
   "metadata": {},
   "source": [
    "You are given a string and your task is to swap cases. In other words, convert all lowercase letters to uppercase letters and vice versa.\n",
    "\n",
    "For Example:\n",
    "\n",
    "Www.HackerRank.com → wWW.hACKERrANK.COM\n",
    "Pythonist 2 → pYTHONIST 2  \n",
    "Function Description\n",
    "\n",
    "Complete the swap_case function in the editor below.\n",
    "\n",
    "swap_case has the following parameters:\n",
    "\n",
    "string s: the string to modify\n",
    "Returns\n",
    "\n",
    "string: the modified string\n",
    "Input Format\n",
    "\n",
    "A single line containing a string .\n",
    "\n",
    "Constraints\n",
    "\n",
    "\n",
    "Sample Input 0\n",
    "\n",
    "HackerRank.com presents \"Pythonist 2\".\n",
    "Sample Output 0\n",
    "\n",
    "hACKERrANK.COM PRESENTS \"pYTHONIST 2\"."
   ]
  },
  {
   "cell_type": "markdown",
   "metadata": {},
   "source": [
    "### solution:"
   ]
  },
  {
   "cell_type": "code",
   "execution_count": null,
   "metadata": {},
   "outputs": [],
   "source": [
    "def swap_case(s):\n",
    "    for i in s:\n",
    "        if i.islower():\n",
    "            print(i.upper(), end= '')\n",
    "        if i.isupper():\n",
    "            print(i.lower(), end = '')\n",
    "        if i.isalnum() == False:\n",
    "            print(i,end='')\n",
    "        if i.isdigit():\n",
    "            print(i,end='')\n",
    "    return ('')"
   ]
  },
  {
   "cell_type": "markdown",
   "metadata": {},
   "source": [
    "# Question-2"
   ]
  },
  {
   "cell_type": "markdown",
   "metadata": {},
   "source": [
    "https://www.hackerrank.com/challenges/python-string-split-and-join"
   ]
  },
  {
   "cell_type": "markdown",
   "metadata": {},
   "source": [
    "In Python, a string can be split on a delimiter.\n",
    "\n",
    "Example:\n",
    "\n",
    ">>> a = \"this is a string\"\n",
    ">>> a = a.split(\" \") # a is converted to a list of strings. \n",
    ">>> print a\n",
    "['this', 'is', 'a', 'string']\n",
    "Joining a string is simple:\n",
    "\n",
    ">>> a = \"-\".join(a)\n",
    ">>> print a\n",
    "this-is-a-string \n",
    "Task\n",
    "You are given a string. Split the string on a \" \" (space) delimiter and join using a - hyphen.\n",
    "\n",
    "Function Description\n",
    "\n",
    "Complete the split_and_join function in the editor below.\n",
    "\n",
    "split_and_join has the following parameters:\n",
    "\n",
    "string line: a string of space-separated words\n",
    "Returns\n",
    "\n",
    "string: the resulting string\n",
    "Input Format\n",
    "The one line contains a string consisting of space separated words.\n",
    "\n",
    "Sample Input\n",
    "\n",
    "this is a string   \n",
    "Sample Output\n",
    "\n",
    "this-is-a-string"
   ]
  },
  {
   "cell_type": "markdown",
   "metadata": {},
   "source": [
    "### solution:"
   ]
  },
  {
   "cell_type": "code",
   "execution_count": null,
   "metadata": {},
   "outputs": [],
   "source": [
    "def split_and_join(line):\n",
    "    line = list(line.split())\n",
    "    return (\"-\".join(line))"
   ]
  },
  {
   "cell_type": "markdown",
   "metadata": {},
   "source": [
    "# Question-3"
   ]
  },
  {
   "cell_type": "markdown",
   "metadata": {},
   "source": [
    "https://www.hackerrank.com/challenges/whats-your-name"
   ]
  },
  {
   "cell_type": "markdown",
   "metadata": {},
   "source": [
    "You are given the firstname and lastname of a person on two different lines. Your task is to read them and print the following:\n",
    "\n",
    "Hello firstname lastname! You just delved into python.\n",
    "\n",
    "Function Description\n",
    "\n",
    "Complete the print_full_name function in the editor below.\n",
    "\n",
    "print_full_name has the following parameters:\n",
    "\n",
    "string first: the first name\n",
    "string last: the last name\n",
    "Prints\n",
    "\n",
    "string: 'Hello  ! You just delved into python' where  and  are replaced with  and .\n",
    "Input Format\n",
    "\n",
    "The first line contains the first name, and the second line contains the last name.\n",
    "\n",
    "Constraints\n",
    "\n",
    "The length of the first and last names are each ≤ .\n",
    "\n",
    "Sample Input 0\n",
    "\n",
    "Ross\n",
    "Taylor\n",
    "Sample Output 0\n",
    "\n",
    "Hello Ross Taylor! You just delved into python.\n",
    "Explanation 0\n",
    "\n",
    "The input read by the program is stored as a string data type. A string is a collection of characters."
   ]
  },
  {
   "cell_type": "markdown",
   "metadata": {},
   "source": [
    "### solution:"
   ]
  },
  {
   "cell_type": "code",
   "execution_count": null,
   "metadata": {},
   "outputs": [],
   "source": [
    "def print_full_name(a, b):\n",
    "    print(f\"Hello {a} {b}! You just delved into python.\")"
   ]
  },
  {
   "cell_type": "markdown",
   "metadata": {},
   "source": [
    "# Question-4"
   ]
  },
  {
   "cell_type": "markdown",
   "metadata": {},
   "source": [
    "https://www.hackerrank.com/challenges/python-mutations"
   ]
  },
  {
   "cell_type": "markdown",
   "metadata": {},
   "source": [
    "We have seen that lists are mutable (they can be changed), and tuples are immutable (they cannot be changed).\n",
    "\n",
    "Let's try to understand this with an example.\n",
    "\n",
    "You are given an immutable string, and you want to make changes to it.\n",
    "\n",
    "Example\n",
    "\n",
    ">>> string = \"abracadabra\"\n",
    "You can access an index by:\n",
    "\n",
    ">>> print string[5]\n",
    "a\n",
    "What if you would like to assign a value?\n",
    "\n",
    ">>> string[5] = 'k' \n",
    "Traceback (most recent call last):\n",
    "  File \"<stdin>\", line 1, in <module>\n",
    "TypeError: 'str' object does not support item assignment\n",
    "How would you approach this?\n",
    "\n",
    "One solution is to convert the string to a list and then change the value.\n",
    "Example\n",
    "\n",
    ">>> string = \"abracadabra\"\n",
    ">>> l = list(string)\n",
    ">>> l[5] = 'k'\n",
    ">>> string = ''.join(l)\n",
    ">>> print string\n",
    "abrackdabra\n",
    "Another approach is to slice the string and join it back.\n",
    "Example\n",
    "\n",
    ">>> string = string[:5] + \"k\" + string[6:]\n",
    ">>> print string\n",
    "abrackdabra\n",
    "Task\n",
    "Read a given string, change the character at a given index and then print the modified string.\n",
    "Function Description\n",
    "\n",
    "Complete the mutate_string function in the editor below.\n",
    "\n",
    "mutate_string has the following parameters:\n",
    "\n",
    "string string: the string to change\n",
    "int position: the index to insert the character at\n",
    "string character: the character to insert\n",
    "Returns\n",
    "\n",
    "string: the altered string\n",
    "Input Format\n",
    "\n",
    "The first line contains a string, .\n",
    "The next line contains an integer , the index location and a string , separated by a space.\n",
    "\n",
    "Sample Input\n",
    "\n",
    "STDIN           Function\n",
    "-----           --------\n",
    "abracadabra     s = 'abracadabra'\n",
    "5 k             position = 5, character = 'k'\n",
    "Sample Output\n",
    "\n",
    "abrackdabra"
   ]
  },
  {
   "cell_type": "markdown",
   "metadata": {},
   "source": [
    "### solution:"
   ]
  },
  {
   "cell_type": "code",
   "execution_count": null,
   "metadata": {},
   "outputs": [],
   "source": [
    "def mutate_string(string, position, character):\n",
    "    string = string[:position] + character + string[position+1:]\n",
    "    return (string)"
   ]
  },
  {
   "cell_type": "markdown",
   "metadata": {},
   "source": [
    "# Question-5"
   ]
  },
  {
   "cell_type": "markdown",
   "metadata": {},
   "source": [
    "https://www.hackerrank.com/challenges/find-a-string"
   ]
  },
  {
   "cell_type": "markdown",
   "metadata": {},
   "source": [
    "In this challenge, the user enters a string and a substring. You have to print the number of times that the substring occurs in the given string. String traversal will take place from left to right, not from right to left.\n",
    "\n",
    "NOTE: String letters are case-sensitive.\n",
    "\n",
    "Input Format\n",
    "\n",
    "The first line of input contains the original string. The next line contains the substring.\n",
    "\n",
    "Constraints\n",
    "\n",
    "\n",
    "Each character in the string is an ascii character.\n",
    "\n",
    "Output Format\n",
    "\n",
    "Output the integer number indicating the total number of occurrences of the substring in the original string.\n",
    "\n",
    "Sample Input\n",
    "\n",
    "ABCDCDC\n",
    "CDC\n",
    "Sample Output\n",
    "\n",
    "2\n",
    "Concept\n",
    "\n",
    "Some string processing examples, such as these, might be useful.\n",
    "There are a couple of new concepts:\n",
    "In Python, the length of a string is found by the function len(s), where  is the string.\n",
    "To traverse through the length of a string, use a for loop:\n",
    "\n",
    "for i in range(0, len(s)):\n",
    "    print (s[i])\n",
    "A range function is used to loop over some length:\n",
    "\n",
    "range (0, 5)\n",
    "Here, the range loops over  to .  is excluded."
   ]
  },
  {
   "cell_type": "markdown",
   "metadata": {},
   "source": [
    "### solution:"
   ]
  },
  {
   "cell_type": "code",
   "execution_count": null,
   "metadata": {},
   "outputs": [],
   "source": [
    "def count_substring(string, sub_string):\n",
    "    count=0\n",
    "    a=string\n",
    "    b=sub_string\n",
    "    for i in range(len(a)):\n",
    "        if a[i:i+len(b)]==b:\n",
    "            count+=1\n",
    "    return(count)"
   ]
  },
  {
   "cell_type": "markdown",
   "metadata": {},
   "source": [
    "# Question-6"
   ]
  },
  {
   "cell_type": "markdown",
   "metadata": {},
   "source": [
    "https://www.hackerrank.com/challenges/string-validators"
   ]
  },
  {
   "cell_type": "markdown",
   "metadata": {},
   "source": [
    "Python has built-in string validation methods for basic data. It can check if a string is composed of alphabetical characters, alphanumeric characters, digits, etc.\n",
    "\n",
    "str.isalnum()\n",
    "This method checks if all the characters of a string are alphanumeric (a-z, A-Z and 0-9).\n",
    "\n",
    ">>> print 'ab123'.isalnum()\n",
    "True\n",
    ">>> print 'ab123#'.isalnum()\n",
    "False\n",
    "str.isalpha()\n",
    "This method checks if all the characters of a string are alphabetical (a-z and A-Z).\n",
    "\n",
    ">>> print 'abcD'.isalpha()\n",
    "True\n",
    ">>> print 'abcd1'.isalpha()\n",
    "False\n",
    "str.isdigit()\n",
    "This method checks if all the characters of a string are digits (0-9).\n",
    "\n",
    ">>> print '1234'.isdigit()\n",
    "True\n",
    ">>> print '123edsd'.isdigit()\n",
    "False\n",
    "str.islower()\n",
    "This method checks if all the characters of a string are lowercase characters (a-z).\n",
    "\n",
    ">>> print 'abcd123#'.islower()\n",
    "True\n",
    ">>> print 'Abcd123#'.islower()\n",
    "False\n",
    "str.isupper()\n",
    "This method checks if all the characters of a string are uppercase characters (A-Z).\n",
    "\n",
    ">>> print 'ABCD123#'.isupper()\n",
    "True\n",
    ">>> print 'Abcd123#'.isupper()\n",
    "False\n",
    "Task\n",
    "\n",
    "You are given a string .\n",
    "Your task is to find out if the string  contains: alphanumeric characters, alphabetical characters, digits, lowercase and uppercase characters.\n",
    "\n",
    "Input Format\n",
    "\n",
    "A single line containing a string .\n",
    "\n",
    "Constraints\n",
    "\n",
    "\n",
    "Output Format\n",
    "\n",
    "In the first line, print True if  has any alphanumeric characters. Otherwise, print False.\n",
    "In the second line, print True if  has any alphabetical characters. Otherwise, print False.\n",
    "In the third line, print True if  has any digits. Otherwise, print False.\n",
    "In the fourth line, print True if  has any lowercase characters. Otherwise, print False.\n",
    "In the fifth line, print True if  has any uppercase characters. Otherwise, print False.\n",
    "\n",
    "Sample Input\n",
    "\n",
    "qA2\n",
    "Sample Output\n",
    "\n",
    "True\n",
    "True\n",
    "True\n",
    "True\n",
    "True"
   ]
  },
  {
   "cell_type": "markdown",
   "metadata": {},
   "source": [
    "### solution:"
   ]
  },
  {
   "cell_type": "code",
   "execution_count": null,
   "metadata": {},
   "outputs": [],
   "source": [
    "if __name__ == '__main__':\n",
    "    s = input()\n",
    "    print(any([i.isalnum() for i in s ]))\n",
    "    print(any([i.isalpha() for i in s ]))\n",
    "    print(any([i.isdigit() for i in s ]))\n",
    "    print(any([i.islower() for i in s ]))\n",
    "    print(any([i.isupper() for i in s ]))"
   ]
  },
  {
   "cell_type": "markdown",
   "metadata": {},
   "source": [
    "# Question-7"
   ]
  },
  {
   "cell_type": "markdown",
   "metadata": {},
   "source": [
    "https://www.hackerrank.com/challenges/text-alignment"
   ]
  },
  {
   "cell_type": "markdown",
   "metadata": {},
   "source": [
    "In Python, a string of text can be aligned left, right and center.\n",
    "\n",
    ".ljust(width)\n",
    "\n",
    "This method returns a left aligned string of length width.\n",
    "\n",
    ">>> width = 20\n",
    ">>> print 'HackerRank'.ljust(width,'-')\n",
    "HackerRank----------  \n",
    ".center(width)\n",
    "\n",
    "This method returns a centered string of length width.\n",
    "\n",
    ">>> width = 20\n",
    ">>> print 'HackerRank'.center(width,'-')\n",
    "-----HackerRank-----\n",
    ".rjust(width)\n",
    "\n",
    "This method returns a right aligned string of length width.\n",
    "\n",
    ">>> width = 20\n",
    ">>> print 'HackerRank'.rjust(width,'-')\n",
    "----------HackerRank\n",
    "Task\n",
    "\n",
    "You are given a partial code that is used for generating the HackerRank Logo of variable thickness.\n",
    "Your task is to replace the blank (______) with rjust, ljust or center.\n",
    "\n",
    "Input Format\n",
    "\n",
    "A single line containing the thickness value for the logo.\n",
    "\n",
    "Constraints\n",
    "\n",
    "The thickness must be an odd number.\n",
    "\n",
    "Output Format\n",
    "\n",
    "Output the desired logo.\n",
    "\n",
    "Sample Input\n",
    "\n",
    "5\n",
    "Sample Output\n",
    "\n",
    "    H    \n",
    "   HHH   \n",
    "  HHHHH  \n",
    " HHHHHHH \n",
    "HHHHHHHHH\n",
    "  HHHHH               HHHHH             \n",
    "  HHHHH               HHHHH             \n",
    "  HHHHH               HHHHH             \n",
    "  HHHHH               HHHHH             \n",
    "  HHHHH               HHHHH             \n",
    "  HHHHH               HHHHH             \n",
    "  HHHHHHHHHHHHHHHHHHHHHHHHH   \n",
    "  HHHHHHHHHHHHHHHHHHHHHHHHH   \n",
    "  HHHHHHHHHHHHHHHHHHHHHHHHH   \n",
    "  HHHHH               HHHHH             \n",
    "  HHHHH               HHHHH             \n",
    "  HHHHH               HHHHH             \n",
    "  HHHHH               HHHHH             \n",
    "  HHHHH               HHHHH             \n",
    "  HHHHH               HHHHH             \n",
    "                    HHHHHHHHH \n",
    "                     HHHHHHH  \n",
    "                      HHHHH   \n",
    "                       HHH    \n",
    "                        H "
   ]
  },
  {
   "cell_type": "markdown",
   "metadata": {},
   "source": [
    "### solution:"
   ]
  },
  {
   "cell_type": "code",
   "execution_count": null,
   "metadata": {},
   "outputs": [],
   "source": [
    "#Replace all ______ with rjust, ljust or center. \n",
    "\n",
    "thickness = int(input()) #This must me an odd number\n",
    "c = 'H'\n",
    "\n",
    "#Top Cone\n",
    "for i in range(thickness):\n",
    "    print((c*i).rjust(thickness-1)+c+(c*i).ljust(thickness-1))\n",
    "\n",
    "#Top Pillars\n",
    "for i in range(thickness+1):\n",
    "    print((c*thickness).center(thickness*2)+(c*thickness).center(thickness*6))\n",
    "\n",
    "#Middle Belt\n",
    "for i in range((thickness+1)//2):\n",
    "    print((c*thickness*5).center(thickness*6))    \n",
    "\n",
    "#Bottom Pillars\n",
    "for i in range(thickness+1):\n",
    "    print((c*thickness).center(thickness*2)+(c*thickness).center(thickness*6))    \n",
    "\n",
    "#Bottom Cone\n",
    "for i in range(thickness):\n",
    "    print(((c*(thickness-i-1)).rjust(thickness)+c+(c*(thickness-i-1)).ljust(thickness)).rjust(thickness*6))  \n"
   ]
  },
  {
   "cell_type": "markdown",
   "metadata": {},
   "source": [
    "# Question-8"
   ]
  },
  {
   "cell_type": "markdown",
   "metadata": {},
   "source": [
    "https://www.hackerrank.com/challenges/text-wrap"
   ]
  },
  {
   "cell_type": "markdown",
   "metadata": {},
   "source": [
    "You are given a string  and width .\n",
    "Your task is to wrap the string into a paragraph of width .\n",
    "\n",
    "Function Description\n",
    "\n",
    "Complete the wrap function in the editor below.\n",
    "\n",
    "wrap has the following parameters:\n",
    "\n",
    "string string: a long string\n",
    "int max_width: the width to wrap to\n",
    "Returns\n",
    "\n",
    "string: a single string with newline characters ('\\n') where the breaks should be\n",
    "Input Format\n",
    "\n",
    "The first line contains a string, .\n",
    "The second line contains the width, .\n",
    "\n",
    "Constraints\n",
    "\n",
    "Sample Input 0\n",
    "\n",
    "ABCDEFGHIJKLIMNOQRSTUVWXYZ\n",
    "4\n",
    "Sample Output 0\n",
    "\n",
    "ABCD\n",
    "EFGH\n",
    "IJKL\n",
    "IMNO\n",
    "QRST\n",
    "UVWX\n",
    "YZ"
   ]
  },
  {
   "cell_type": "markdown",
   "metadata": {},
   "source": [
    "### solution:"
   ]
  },
  {
   "cell_type": "code",
   "execution_count": null,
   "metadata": {},
   "outputs": [],
   "source": [
    "def wrap(string, max_width):\n",
    "    # b = 0\n",
    "    # a = int(max_width)\n",
    "    # while a<=len(string)+int(max_width):\n",
    "    #     print(string[b:a])\n",
    "    #     b,a = a,a+4\n",
    "    # # print(string[0:max_width],string[max_width:max_width+4])\n",
    "\n",
    "\n",
    "    # return('')\n",
    "    return(textwrap.fill(string,int(max_width)))"
   ]
  },
  {
   "cell_type": "markdown",
   "metadata": {},
   "source": [
    "# Question-9"
   ]
  },
  {
   "cell_type": "markdown",
   "metadata": {},
   "source": [
    "https://www.hackerrank.com/challenges/designer-door-mat"
   ]
  },
  {
   "cell_type": "markdown",
   "metadata": {},
   "source": [
    "Mr. Vincent works in a door mat manufacturing company. One day, he designed a new door mat with the following specifications:\n",
    "\n",
    "Mat size must be X. ( is an odd natural number, and  is  times .)\n",
    "The design should have 'WELCOME' written in the center.\n",
    "The design pattern should only use |, . and - characters.\n",
    "Sample Designs\n",
    "\n",
    "    Size: 7 x 21 \n",
    "    ---------.|.---------\n",
    "    ------.|..|..|.------\n",
    "    ---.|..|..|..|..|.---\n",
    "    -------WELCOME-------\n",
    "    ---.|..|..|..|..|.---\n",
    "    ------.|..|..|.------\n",
    "    ---------.|.---------\n",
    "    \n",
    "    Size: 11 x 33\n",
    "    ---------------.|.---------------\n",
    "    ------------.|..|..|.------------\n",
    "    ---------.|..|..|..|..|.---------\n",
    "    ------.|..|..|..|..|..|..|.------\n",
    "    ---.|..|..|..|..|..|..|..|..|.---\n",
    "    -------------WELCOME-------------\n",
    "    ---.|..|..|..|..|..|..|..|..|.---\n",
    "    ------.|..|..|..|..|..|..|.------\n",
    "    ---------.|..|..|..|..|.---------\n",
    "    ------------.|..|..|.------------\n",
    "    ---------------.|.---------------\n",
    "Input Format\n",
    "\n",
    "A single line containing the space separated values of  and .\n",
    "\n",
    "Constraints\n",
    "\n",
    "Output Format\n",
    "\n",
    "Output the design pattern.\n",
    "\n",
    "Sample Input\n",
    "\n",
    "9 27\n",
    "Sample Output\n",
    "\n",
    "------------.|.------------\n",
    "---------.|..|..|.---------\n",
    "------.|..|..|..|..|.------\n",
    "---.|..|..|..|..|..|..|.---\n",
    "----------WELCOME----------\n",
    "---.|..|..|..|..|..|..|.---\n",
    "------.|..|..|..|..|.------\n",
    "---------.|..|..|.---------\n",
    "------------.|.------------"
   ]
  },
  {
   "cell_type": "markdown",
   "metadata": {},
   "source": [
    "### solution:"
   ]
  },
  {
   "cell_type": "code",
   "execution_count": null,
   "metadata": {},
   "outputs": [],
   "source": [
    "# Enter your code here. Read input from STDIN. Print output to STDOUT\n",
    "n, m = map(int,input().split())\n",
    "pattern = [('.|.'*(2*i + 1)).center(m, '-') for i in range(n//2)]\n",
    "print('\\n'.join(pattern + ['WELCOME'.center(m, '-')] + pattern[::-1]))"
   ]
  },
  {
   "cell_type": "markdown",
   "metadata": {},
   "source": [
    "# Question-10"
   ]
  },
  {
   "cell_type": "markdown",
   "metadata": {},
   "source": [
    "https://www.hackerrank.com/challenges/python-string-formatting"
   ]
  },
  {
   "cell_type": "markdown",
   "metadata": {},
   "source": [
    "Given an integer, , print the following values for each integer  from  to :\n",
    "\n",
    "Decimal\n",
    "Octal\n",
    "Hexadecimal (capitalized)\n",
    "Binary\n",
    "Function Description\n",
    "\n",
    "Complete the print_formatted function in the editor below.\n",
    "\n",
    "print_formatted has the following parameters:\n",
    "\n",
    "int number: the maximum value to print\n",
    "Prints\n",
    "\n",
    "The four values must be printed on a single line in the order specified above for each  from  to . Each value should be space-padded to match the width of the binary value of  and the values should be separated by a single space.\n",
    "\n",
    "Input Format\n",
    "\n",
    "A single integer denoting .\n",
    "\n",
    "Constraints\n",
    "\n",
    "Sample Input\n",
    "\n",
    "17\n",
    "Sample Output\n",
    "\n",
    "    1     1     1     1\n",
    "    2     2     2    10\n",
    "    3     3     3    11\n",
    "    4     4     4   100\n",
    "    5     5     5   101\n",
    "    6     6     6   110\n",
    "    7     7     7   111\n",
    "    8    10     8  1000\n",
    "    9    11     9  1001\n",
    "   10    12     A  1010\n",
    "   11    13     B  1011\n",
    "   12    14     C  1100\n",
    "   13    15     D  1101\n",
    "   14    16     E  1110\n",
    "   15    17     F  1111\n",
    "   16    20    10 10000\n",
    "   17    21    11 10001"
   ]
  },
  {
   "cell_type": "markdown",
   "metadata": {},
   "source": [
    "### solution:"
   ]
  },
  {
   "cell_type": "code",
   "execution_count": null,
   "metadata": {},
   "outputs": [],
   "source": [
    "def print_formatted(number):\n",
    "    l=len(bin(number).replace('0b',''))\n",
    "    for i in range(1,number+1):\n",
    "        print(f\"{str(i).rjust(l)} {oct(i).replace('0o','').rjust(l)} {hex(i).upper().replace('0X','').rjust(l)} {(bin(i).replace('0b','')).rjust(l)}\")\n",
    "    # your code goes here"
   ]
  },
  {
   "cell_type": "markdown",
   "metadata": {},
   "source": [
    "# Question-11"
   ]
  },
  {
   "cell_type": "markdown",
   "metadata": {},
   "source": [
    "https://www.hackerrank.com/challenges/alphabet-rangoli"
   ]
  },
  {
   "cell_type": "markdown",
   "metadata": {},
   "source": [
    "You are given an integer, . Your task is to print an alphabet rangoli of size . (Rangoli is a form of Indian folk art based on creation of patterns.)\n",
    "\n",
    "Different sizes of alphabet rangoli are shown below:\n",
    "\n",
    "#size 3\n",
    "\n",
    "----c----\n",
    "--c-b-c--\n",
    "c-b-a-b-c\n",
    "--c-b-c--\n",
    "----c----\n",
    "\n",
    "#size 5\n",
    "\n",
    "--------e--------\n",
    "------e-d-e------\n",
    "----e-d-c-d-e----\n",
    "--e-d-c-b-c-d-e--\n",
    "e-d-c-b-a-b-c-d-e\n",
    "--e-d-c-b-c-d-e--\n",
    "----e-d-c-d-e----\n",
    "------e-d-e------\n",
    "--------e--------\n",
    "\n",
    "#size 10\n",
    "\n",
    "------------------j------------------\n",
    "----------------j-i-j----------------\n",
    "--------------j-i-h-i-j--------------\n",
    "------------j-i-h-g-h-i-j------------\n",
    "----------j-i-h-g-f-g-h-i-j----------\n",
    "--------j-i-h-g-f-e-f-g-h-i-j--------\n",
    "------j-i-h-g-f-e-d-e-f-g-h-i-j------\n",
    "----j-i-h-g-f-e-d-c-d-e-f-g-h-i-j----\n",
    "--j-i-h-g-f-e-d-c-b-c-d-e-f-g-h-i-j--\n",
    "j-i-h-g-f-e-d-c-b-a-b-c-d-e-f-g-h-i-j\n",
    "--j-i-h-g-f-e-d-c-b-c-d-e-f-g-h-i-j--\n",
    "----j-i-h-g-f-e-d-c-d-e-f-g-h-i-j----\n",
    "------j-i-h-g-f-e-d-e-f-g-h-i-j------\n",
    "--------j-i-h-g-f-e-f-g-h-i-j--------\n",
    "----------j-i-h-g-f-g-h-i-j----------\n",
    "------------j-i-h-g-h-i-j------------\n",
    "--------------j-i-h-i-j--------------\n",
    "----------------j-i-j----------------\n",
    "------------------j------------------\n",
    "The center of the rangoli has the first alphabet letter a, and the boundary has the  alphabet letter (in alphabetical order).\n",
    "\n",
    "Function Description\n",
    "\n",
    "Complete the rangoli function in the editor below.\n",
    "\n",
    "rangoli has the following parameters:\n",
    "\n",
    "int size: the size of the rangoli\n",
    "Returns\n",
    "\n",
    "string: a single string made up of each of the lines of the rangoli separated by a newline character (\\n)\n",
    "Input Format\n",
    "\n",
    "Only one line of input containing , the size of the rangoli.\n",
    "\n",
    "Constraints\n",
    "\n",
    "\n",
    "Sample Input\n",
    "\n",
    "5\n",
    "Sample Output\n",
    "\n",
    "--------e--------\n",
    "------e-d-e------\n",
    "----e-d-c-d-e----\n",
    "--e-d-c-b-c-d-e--\n",
    "e-d-c-b-a-b-c-d-e\n",
    "--e-d-c-b-c-d-e--\n",
    "----e-d-c-d-e----\n",
    "------e-d-e------\n",
    "--------e--------"
   ]
  },
  {
   "cell_type": "markdown",
   "metadata": {},
   "source": [
    "### solution:"
   ]
  },
  {
   "cell_type": "code",
   "execution_count": null,
   "metadata": {},
   "outputs": [],
   "source": [
    "def print_rangoli(size):\n",
    "    import string\n",
    "    alpha = string.ascii_lowercase\n",
    "\n",
    "    \n",
    "    L = []\n",
    "    for i in range(n):\n",
    "        s = \"-\".join(alpha[i:n])\n",
    "        L.append((s[::-1]+s[1:]).center(4*n-3, \"-\"))\n",
    "    print('\\n'.join(L[:0:-1]+L))\n",
    "    # your code goes here\n",
    "    return "
   ]
  },
  {
   "cell_type": "markdown",
   "metadata": {},
   "source": [
    "# Question-12"
   ]
  },
  {
   "cell_type": "markdown",
   "metadata": {},
   "source": [
    "https://www.hackerrank.com/challenges/capitalize"
   ]
  },
  {
   "cell_type": "markdown",
   "metadata": {},
   "source": [
    "You are asked to ensure that the first and last names of people begin with a capital letter in their passports. For example, alison heck should be capitalised correctly as Alison Heck.\n",
    "\n",
    "\n",
    "Given a full name, your task is to capitalize the name appropriately.\n",
    "\n",
    "Input Format\n",
    "\n",
    "A single line of input containing the full name, .\n",
    "\n",
    "Constraints\n",
    "\n",
    "The string consists of alphanumeric characters and spaces.\n",
    "Note: in a word only the first character is capitalized. Example 12abc when capitalized remains 12abc.\n",
    "\n",
    "Output Format\n",
    "\n",
    "Print the capitalized string, .\n",
    "\n",
    "Sample Input\n",
    "\n",
    "chris alan\n",
    "Sample Output\n",
    "\n",
    "Chris Alan"
   ]
  },
  {
   "cell_type": "markdown",
   "metadata": {},
   "source": [
    "### solution:"
   ]
  },
  {
   "cell_type": "code",
   "execution_count": null,
   "metadata": {},
   "outputs": [],
   "source": [
    "\n",
    "import string\n",
    "# Complete the solve function below.\n",
    "def solve(s):\n",
    "   \n",
    "    return string.capwords(s,sep = \" \")"
   ]
  },
  {
   "cell_type": "markdown",
   "metadata": {},
   "source": [
    "# Question-13"
   ]
  },
  {
   "cell_type": "markdown",
   "metadata": {},
   "source": [
    "https://www.hackerrank.com/challenges/the-minion-game"
   ]
  },
  {
   "cell_type": "markdown",
   "metadata": {},
   "source": [
    "Kevin and Stuart want to play the 'The Minion Game'.\n",
    "\n",
    "Game Rules\n",
    "\n",
    "Both players are given the same string, .\n",
    "Both players have to make substrings using the letters of the string .\n",
    "Stuart has to make words starting with consonants.\n",
    "Kevin has to make words starting with vowels.\n",
    "The game ends when both players have made all possible substrings.\n",
    "\n",
    "Scoring\n",
    "A player gets +1 point for each occurrence of the substring in the string .\n",
    "\n",
    "For Example:\n",
    "String  = BANANA\n",
    "Kevin's vowel beginning word = ANA\n",
    "Here, ANA occurs twice in BANANA. Hence, Kevin will get 2 Points.\n",
    "\n",
    "For better understanding, see the image below:\n",
    "\n",
    "banana.png\n",
    "\n",
    "Your task is to determine the winner of the game and their score.\n",
    "\n",
    "Function Description\n",
    "\n",
    "Complete the minion_game in the editor below.\n",
    "\n",
    "minion_game has the following parameters:\n",
    "\n",
    "string string: the string to analyze\n",
    "Prints\n",
    "\n",
    "string: the winner's name and score, separated by a space on one line, or Draw if there is no winner\n",
    "Input Format\n",
    "\n",
    "A single line of input containing the string .\n",
    "Note: The string  will contain only uppercase letters: .\n",
    "\n",
    "Constraints\n",
    "\n",
    "\n",
    "\n",
    "Sample Input\n",
    "\n",
    "BANANA\n",
    "Sample Output\n",
    "\n",
    "Stuart 12\n",
    "Note :\n",
    "Vowels are only defined as . In this problem,  is not considered a vowel."
   ]
  },
  {
   "cell_type": "markdown",
   "metadata": {},
   "source": [
    "### solution:"
   ]
  },
  {
   "cell_type": "code",
   "execution_count": null,
   "metadata": {},
   "outputs": [],
   "source": [
    "def minion_game(s):\n",
    "\n",
    "\n",
    "    vowels = 'AEIOU'\n",
    "\n",
    "    kevsc = 0\n",
    "    stusc = 0\n",
    "    for i in range(len(s)):\n",
    "        if s[i] in vowels:\n",
    "            kevsc += (len(s)-i)\n",
    "        else:\n",
    "            stusc += (len(s)-i)\n",
    "\n",
    "    if kevsc > stusc:\n",
    "        print (\"Kevin\", kevsc)\n",
    "    elif kevsc < stusc:\n",
    "        print (\"Stuart\", stusc)\n",
    "    else:\n",
    "        print (\"Draw\")\n",
    "        # your code goes here"
   ]
  },
  {
   "cell_type": "markdown",
   "metadata": {},
   "source": [
    "# Question-14"
   ]
  },
  {
   "cell_type": "markdown",
   "metadata": {},
   "source": [
    "https://www.hackerrank.com/challenges/merge-the-tools"
   ]
  },
  {
   "cell_type": "markdown",
   "metadata": {},
   "source": [
    "Consider the following:\n",
    "\n",
    "A string, , of length  where .\n",
    "An integer, , where  is a factor of .\n",
    "We can split  into  substrings where each subtring, , consists of a contiguous block of  characters in . Then, use each  to create string  such that:\n",
    "\n",
    "The characters in  are a subsequence of the characters in .\n",
    "Any repeat occurrence of a character is removed from the string such that each character in  occurs exactly once. In other words, if the character at some index  in  occurs at a previous index  in , then do not include the character in string .\n",
    "Given  and , print  lines where each line  denotes string .\n",
    "\n",
    "Example\n",
    "\n",
    "\n",
    "There are three substrings of length  to consider: 'AAA', 'BCA' and 'DDE'. The first substring is all 'A' characters, so . The second substring has all distinct characters, so . The third substring has  different characters, so . Note that a subsequence maintains the original order of characters encountered. The order of characters in each subsequence shown is important.\n",
    "\n",
    "Function Description\n",
    "\n",
    "Complete the merge_the_tools function in the editor below.\n",
    "\n",
    "merge_the_tools has the following parameters:\n",
    "\n",
    "string s: the string to analyze\n",
    "int k: the size of substrings to analyze\n",
    "Prints\n",
    "\n",
    "Print each subsequence on a new line. There will be  of them. No return value is expected.\n",
    "\n",
    "Input Format\n",
    "\n",
    "The first line contains a single string, .\n",
    "The second line contains an integer, , the length of each substring.\n",
    "\n",
    "Constraints\n",
    "\n",
    ", where  is the length of \n",
    "It is guaranteed that  is a multiple of .\n",
    "Sample Input\n",
    "\n",
    "STDIN       Function\n",
    "-----       --------\n",
    "AABCAAADA   s = 'AABCAAADA'\n",
    "3           k = 3\n",
    "Sample Output\n",
    "\n",
    "AB\n",
    "CA\n",
    "AD\n",
    "Explanation\n",
    "\n",
    "Split  into  equal parts of length . Convert each  to  by removing any subsequent occurrences of non-distinct characters in :\n",
    "\n",
    "Print each  on a new line."
   ]
  },
  {
   "cell_type": "markdown",
   "metadata": {},
   "source": [
    "### solution:"
   ]
  },
  {
   "cell_type": "code",
   "execution_count": null,
   "metadata": {},
   "outputs": [],
   "source": [
    "def merge_the_tools(string, k):\n",
    "    sub = len(string)/k\n",
    "    a = 0\n",
    "    b = 0\n",
    "    c = 0\n",
    "    d = 0\n",
    "    while d<sub:\n",
    "        lst1 = []   \n",
    "        for i in string[a:a+k]:\n",
    "            # print(i)\n",
    "            \n",
    "            if i not in lst1:\n",
    "                lst1.append(i)\n",
    "            else:\n",
    "                continue\n",
    "            # print(lst1)\n",
    "        a = a+k\n",
    "        d +=1\n",
    "        print(''.join(lst1))\n",
    "\n",
    "    # your code goes here"
   ]
  }
 ],
 "metadata": {
  "kernelspec": {
   "display_name": "Python 3",
   "language": "python",
   "name": "python3"
  },
  "language_info": {
   "codemirror_mode": {
    "name": "ipython",
    "version": 3
   },
   "file_extension": ".py",
   "mimetype": "text/x-python",
   "name": "python",
   "nbconvert_exporter": "python",
   "pygments_lexer": "ipython3",
   "version": "3.8.2"
  }
 },
 "nbformat": 4,
 "nbformat_minor": 4
}
