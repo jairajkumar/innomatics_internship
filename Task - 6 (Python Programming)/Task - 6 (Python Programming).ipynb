{
 "cells": [
  {
   "cell_type": "markdown",
   "metadata": {},
   "source": [
    "# Question-1"
   ]
  },
  {
   "cell_type": "markdown",
   "metadata": {},
   "source": [
    "https://www.hackerrank.com/challenges/np-arrays/problem"
   ]
  },
  {
   "cell_type": "markdown",
   "metadata": {},
   "source": [
    "The NumPy (Numeric Python) package helps us manipulate large arrays and matrices of numeric data.\n",
    "\n",
    "To use the NumPy module, we need to import it using:\n",
    "\n",
    "import numpy\n",
    "Arrays\n",
    "\n",
    "A NumPy array is a grid of values. They are similar to lists, except that every element of an array must be the same type.\n",
    "\n",
    "import numpy\n",
    "\n",
    "a = numpy.array([1,2,3,4,5])\n",
    "print a[1]          #2\n",
    "\n",
    "b = numpy.array([1,2,3,4,5],float)\n",
    "print b[1]          #2.0\n",
    "In the above example, numpy.array() is used to convert a list into a NumPy array. The second argument (float) can be used to set the type of array elements.\n",
    "\n",
    "Task\n",
    "\n",
    "You are given a space separated list of numbers.\n",
    "Your task is to print a reversed NumPy array with the element type float.\n",
    "\n",
    "Input Format\n",
    "\n",
    "A single line of input containing space separated numbers.\n",
    "\n",
    "Output Format\n",
    "\n",
    "Print the reverse NumPy array with type float.\n",
    "\n",
    "Sample Input\n",
    "\n",
    "1 2 3 4 -8 -10\n",
    "Sample Output\n",
    "\n",
    "[-10.  -8.   4.   3.   2.   1.]"
   ]
  },
  {
   "cell_type": "markdown",
   "metadata": {},
   "source": [
    "### solution:"
   ]
  },
  {
   "cell_type": "code",
   "execution_count": null,
   "metadata": {},
   "outputs": [],
   "source": [
    "\n",
    "\n",
    "def arrays(arr):\n",
    "    # complete this function\n",
    "    # use numpy.array\n",
    "    arr = numpy.array(arr[::-1], dtype = float)\n",
    "    return arr\n",
    "\n"
   ]
  },
  {
   "cell_type": "markdown",
   "metadata": {},
   "source": [
    "# Question-2"
   ]
  },
  {
   "cell_type": "markdown",
   "metadata": {},
   "source": [
    "https://www.hackerrank.com/challenges/np-shape-reshape"
   ]
  },
  {
   "cell_type": "markdown",
   "metadata": {},
   "source": [
    "shape\n",
    "\n",
    "The shape tool gives a tuple of array dimensions and can be used to change the dimensions of an array.\n",
    "\n",
    "(a). Using shape to get array dimensions\n",
    "\n",
    "import numpy\n",
    "\n",
    "my__1D_array = numpy.array([1, 2, 3, 4, 5])\n",
    "print my_1D_array.shape     #(5,) -> 1 row and 5 columns\n",
    "\n",
    "my__2D_array = numpy.array([[1, 2],[3, 4],[6,5]])\n",
    "print my_2D_array.shape     #(3, 2) -> 3 rows and 2 columns \n",
    "(b). Using shape to change array dimensions\n",
    "\n",
    "import numpy\n",
    "\n",
    "change_array = numpy.array([1,2,3,4,5,6])\n",
    "change_array.shape = (3, 2)\n",
    "print change_array      \n",
    "\n",
    "#Output\n",
    "[[1 2]\n",
    "[3 4]\n",
    "[5 6]]\n",
    "reshape\n",
    "\n",
    "The reshape tool gives a new shape to an array without changing its data. It creates a new array and does not modify the original array itself.\n",
    "\n",
    "import numpy\n",
    "\n",
    "my_array = numpy.array([1,2,3,4,5,6])\n",
    "print numpy.reshape(my_array,(3,2))\n",
    "\n",
    "#Output\n",
    "[[1 2]\n",
    "[3 4]\n",
    "[5 6]]\n",
    "Task\n",
    "\n",
    "You are given a space separated list of nine integers. Your task is to convert this list into a X NumPy array.\n",
    "\n",
    "Input Format\n",
    "\n",
    "A single line of input containing  space separated integers.\n",
    "\n",
    "Output Format\n",
    "\n",
    "Print the X NumPy array.\n",
    "\n",
    "Sample Input\n",
    "\n",
    "1 2 3 4 5 6 7 8 9\n",
    "Sample Output\n",
    "\n",
    "[[1 2 3]\n",
    " [4 5 6]\n",
    " [7 8 9]]"
   ]
  },
  {
   "cell_type": "markdown",
   "metadata": {},
   "source": [
    "### solution:"
   ]
  },
  {
   "cell_type": "code",
   "execution_count": null,
   "metadata": {},
   "outputs": [],
   "source": [
    "import numpy\n",
    "\n",
    "v = numpy.array(input().split(), numpy.integer)\n",
    "m = numpy.reshape(v, (3, 3))\n",
    "print(m)"
   ]
  },
  {
   "cell_type": "markdown",
   "metadata": {},
   "source": [
    "# Question-3"
   ]
  },
  {
   "cell_type": "markdown",
   "metadata": {},
   "source": [
    "https://www.hackerrank.com/challenges/np-transpose-and-flatten"
   ]
  },
  {
   "cell_type": "markdown",
   "metadata": {},
   "source": [
    "Transpose\n",
    "\n",
    "We can generate the transposition of an array using the tool numpy.transpose.\n",
    "It will not affect the original array, but it will create a new array.\n",
    "\n",
    "import numpy\n",
    "\n",
    "my_array = numpy.array([[1,2,3],\n",
    "                        [4,5,6]])\n",
    "print numpy.transpose(my_array)\n",
    "\n",
    "#Output\n",
    "[[1 4]\n",
    " [2 5]\n",
    " [3 6]]\n",
    "Flatten\n",
    "\n",
    "The tool flatten creates a copy of the input array flattened to one dimension.\n",
    "\n",
    "import numpy\n",
    "\n",
    "my_array = numpy.array([[1,2,3],\n",
    "                        [4,5,6]])\n",
    "print my_array.flatten()\n",
    "\n",
    "#Output\n",
    "[1 2 3 4 5 6]\n",
    "Task\n",
    "\n",
    "You are given a X integer array matrix with space separated elements ( = rows and  = columns).\n",
    "Your task is to print the transpose and flatten results.\n",
    "\n",
    "Input Format\n",
    "\n",
    "The first line contains the space separated values of  and .\n",
    "The next  lines contains the space separated elements of  columns.\n",
    "\n",
    "Output Format\n",
    "\n",
    "First, print the transpose array and then print the flatten.\n",
    "\n",
    "Sample Input\n",
    "\n",
    "2 2\n",
    "1 2\n",
    "3 4\n",
    "Sample Output\n",
    "\n",
    "[[1 3]\n",
    " [2 4]]\n",
    "[1 2 3 4]"
   ]
  },
  {
   "cell_type": "markdown",
   "metadata": {},
   "source": [
    "### solution:"
   ]
  },
  {
   "cell_type": "code",
   "execution_count": null,
   "metadata": {},
   "outputs": [],
   "source": [
    "import numpy\n",
    "\n",
    "n, m = map(int, input().split())\n",
    "\n",
    "M = numpy.array([input().split() for i in range(n)], numpy.int)\n",
    "\n",
    "print(M.transpose())\n",
    "print(M.flatten())"
   ]
  },
  {
   "cell_type": "markdown",
   "metadata": {},
   "source": [
    "# Question-4"
   ]
  },
  {
   "cell_type": "markdown",
   "metadata": {},
   "source": [
    "https://www.hackerrank.com/challenges/np-concatenate"
   ]
  },
  {
   "cell_type": "markdown",
   "metadata": {},
   "source": [
    "Concatenate\n",
    "\n",
    "Two or more arrays can be concatenated together using the concatenate function with a tuple of the arrays to be joined:\n",
    "\n",
    "import numpy\n",
    "\n",
    "array_1 = numpy.array([1,2,3])\n",
    "array_2 = numpy.array([4,5,6])\n",
    "array_3 = numpy.array([7,8,9])\n",
    "\n",
    "print numpy.concatenate((array_1, array_2, array_3))    \n",
    "\n",
    "#Output\n",
    "[1 2 3 4 5 6 7 8 9]\n",
    "If an array has more than one dimension, it is possible to specify the axis along which multiple arrays are concatenated. By default, it is along the first dimension.\n",
    "\n",
    "import numpy\n",
    "\n",
    "array_1 = numpy.array([[1,2,3],[0,0,0]])\n",
    "array_2 = numpy.array([[0,0,0],[7,8,9]])\n",
    "\n",
    "print numpy.concatenate((array_1, array_2), axis = 1)   \n",
    "\n",
    "#Output\n",
    "[[1 2 3 0 0 0]\n",
    " [0 0 0 7 8 9]]    \n",
    "Task\n",
    "\n",
    "You are given two integer arrays of size X and X ( &  are rows, and  is the column). Your task is to concatenate the arrays along axis .\n",
    "\n",
    "Input Format\n",
    "\n",
    "The first line contains space separated integers ,  and .\n",
    "The next  lines contains the space separated elements of the  columns.\n",
    "After that, the next  lines contains the space separated elements of the  columns.\n",
    "\n",
    "Output Format\n",
    "\n",
    "Print the concatenated array of size X.\n",
    "\n",
    "Sample Input\n",
    "\n",
    "4 3 2\n",
    "1 2\n",
    "1 2 \n",
    "1 2\n",
    "1 2\n",
    "3 4\n",
    "3 4\n",
    "3 4 \n",
    "Sample Output\n",
    "\n",
    "[[1 2]\n",
    " [1 2]\n",
    " [1 2]\n",
    " [1 2]\n",
    " [3 4]\n",
    " [3 4]\n",
    " [3 4]] "
   ]
  },
  {
   "cell_type": "markdown",
   "metadata": {},
   "source": [
    "### solution:"
   ]
  },
  {
   "cell_type": "code",
   "execution_count": null,
   "metadata": {},
   "outputs": [],
   "source": [
    "import numpy\n",
    "\n",
    "n, m, p = map(int, input().split())\n",
    "\n",
    "N = numpy.array([list(map(int, input().split())) for _ in range(n)])\n",
    "M = numpy.array([list(map(int, input().split())) for _ in range(m)])\n",
    "\n",
    "print(numpy.concatenate((N, M), axis = 0))"
   ]
  },
  {
   "cell_type": "markdown",
   "metadata": {},
   "source": [
    "# Question-5"
   ]
  },
  {
   "cell_type": "markdown",
   "metadata": {},
   "source": [
    "https://www.hackerrank.com/challenges/np-zeros-and-ones"
   ]
  },
  {
   "cell_type": "markdown",
   "metadata": {},
   "source": [
    "zeros\n",
    "\n",
    "The zeros tool returns a new array with a given shape and type filled with 's.\n",
    "\n",
    "import numpy\n",
    "\n",
    "print numpy.zeros((1,2))                    #Default type is float\n",
    "#Output : [[ 0.  0.]] \n",
    "\n",
    "print numpy.zeros((1,2), dtype = numpy.int) #Type changes to int\n",
    "#Output : [[0 0]]\n",
    "ones\n",
    "\n",
    "The ones tool returns a new array with a given shape and type filled with 's.\n",
    "\n",
    "import numpy\n",
    "\n",
    "print numpy.ones((1,2))                    #Default type is float\n",
    "#Output : [[ 1.  1.]] \n",
    "\n",
    "print numpy.ones((1,2), dtype = numpy.int) #Type changes to int\n",
    "#Output : [[1 1]]   \n",
    "Task\n",
    "\n",
    "You are given the shape of the array in the form of space-separated integers, each integer representing the size of different dimensions, your task is to print an array of the given shape and integer type using the tools numpy.zeros and numpy.ones.\n",
    "\n",
    "Input Format\n",
    "\n",
    "A single line containing the space-separated integers.\n",
    "\n",
    "Constraints\n",
    "\n",
    "\n",
    "Output Format\n",
    "\n",
    "First, print the array using the numpy.zeros tool and then print the array with the numpy.ones tool.\n",
    "\n",
    "Sample Input 0\n",
    "\n",
    "3 3 3\n",
    "Sample Output 0\n",
    "\n",
    "[[[0 0 0]\n",
    "  [0 0 0]\n",
    "  [0 0 0]]\n",
    "\n",
    " [[0 0 0]\n",
    "  [0 0 0]\n",
    "  [0 0 0]]\n",
    "\n",
    " [[0 0 0]\n",
    "  [0 0 0]\n",
    "  [0 0 0]]]\n",
    "[[[1 1 1]\n",
    "  [1 1 1]\n",
    "  [1 1 1]]\n",
    "\n",
    " [[1 1 1]\n",
    "  [1 1 1]\n",
    "  [1 1 1]]\n",
    "\n",
    " [[1 1 1]\n",
    "  [1 1 1]\n",
    "  [1 1 1]]]\n",
    "Explanation 0\n",
    "\n",
    "Print the array built using numpy.zeros and numpy.ones tools and you get the result as shown."
   ]
  },
  {
   "cell_type": "markdown",
   "metadata": {},
   "source": [
    "### solution:"
   ]
  },
  {
   "cell_type": "code",
   "execution_count": null,
   "metadata": {},
   "outputs": [],
   "source": [
    "import numpy\n",
    "\n",
    "shape = tuple(map(int, input().split()))\n",
    "\n",
    "print(numpy.zeros(shape, dtype=numpy.int))\n",
    "\n",
    "print(numpy.ones(shape, dtype=numpy.int))"
   ]
  },
  {
   "cell_type": "markdown",
   "metadata": {},
   "source": [
    "# Question-6"
   ]
  },
  {
   "cell_type": "markdown",
   "metadata": {},
   "source": [
    "https://www.hackerrank.com/challenges/np-eye-and-identity"
   ]
  },
  {
   "cell_type": "markdown",
   "metadata": {},
   "source": [
    "identity\n",
    "\n",
    "The identity tool returns an identity array. An identity array is a square matrix with all the main diagonal elements as  and the rest as . The default type of elements is float.\n",
    "\n",
    "import numpy\n",
    "print numpy.identity(3) #3 is for  dimension 3 X 3\n",
    "\n",
    "#Output\n",
    "[[ 1.  0.  0.]\n",
    " [ 0.  1.  0.]\n",
    " [ 0.  0.  1.]]\n",
    "eye\n",
    "\n",
    "The eye tool returns a 2-D array with 's as the diagonal and 's elsewhere. The diagonal can be main, upper or lower depending on the optional parameter . A positive  is for the upper diagonal, a negative  is for the lower, and a   (default) is for the main diagonal.\n",
    "\n",
    "import numpy\n",
    "print numpy.eye(8, 7, k = 1)    # 8 X 7 Dimensional array with first upper diagonal 1.\n",
    "\n",
    "#Output\n",
    "[[ 0.  1.  0.  0.  0.  0.  0.]\n",
    " [ 0.  0.  1.  0.  0.  0.  0.]\n",
    " [ 0.  0.  0.  1.  0.  0.  0.]\n",
    " [ 0.  0.  0.  0.  1.  0.  0.]\n",
    " [ 0.  0.  0.  0.  0.  1.  0.]\n",
    " [ 0.  0.  0.  0.  0.  0.  1.]\n",
    " [ 0.  0.  0.  0.  0.  0.  0.]\n",
    " [ 0.  0.  0.  0.  0.  0.  0.]]\n",
    "\n",
    "print numpy.eye(8, 7, k = -2)   # 8 X 7 Dimensional array with second lower diagonal 1.\n",
    "Task\n",
    "\n",
    "Your task is to print an array of size X with its main diagonal elements as 's and 's everywhere else.\n",
    "\n",
    "Note\n",
    "\n",
    "In order to get alignment correct, please insert the line  below the numpy import.\n",
    "\n",
    "Input Format\n",
    "\n",
    "A single line containing the space separated values of  and .\n",
    " denotes the rows.\n",
    " denotes the columns.\n",
    "\n",
    "Output Format\n",
    "\n",
    "Print the desired X array.\n",
    "\n",
    "Sample Input\n",
    "\n",
    "3 3\n",
    "Sample Output\n",
    "\n",
    "[[ 1.  0.  0.]\n",
    " [ 0.  1.  0.]\n",
    " [ 0.  0.  1.]]"
   ]
  },
  {
   "cell_type": "markdown",
   "metadata": {},
   "source": [
    "### solution:"
   ]
  },
  {
   "cell_type": "code",
   "execution_count": null,
   "metadata": {},
   "outputs": [],
   "source": [
    "import numpy\n",
    "\n",
    "\n",
    "n, m = map(int, input().split())\n",
    "\n",
    "print(numpy.eye(n, m))"
   ]
  },
  {
   "cell_type": "markdown",
   "metadata": {},
   "source": [
    "# Question-7"
   ]
  },
  {
   "cell_type": "markdown",
   "metadata": {},
   "source": [
    "https://www.hackerrank.com/challenges/np-array-mathematics"
   ]
  },
  {
   "cell_type": "markdown",
   "metadata": {},
   "source": [
    "Basic mathematical functions operate element-wise on arrays. They are available both as operator overloads and as functions in the NumPy module.\n",
    "\n",
    "import numpy\n",
    "\n",
    "a = numpy.array([1,2,3,4], float)\n",
    "b = numpy.array([5,6,7,8], float)\n",
    "\n",
    "print a + b                     #[  6.   8.  10.  12.]\n",
    "print numpy.add(a, b)           #[  6.   8.  10.  12.]\n",
    "\n",
    "print a - b                     #[-4. -4. -4. -4.]\n",
    "print numpy.subtract(a, b)      #[-4. -4. -4. -4.]\n",
    "\n",
    "print a * b                     #[  5.  12.  21.  32.]\n",
    "print numpy.multiply(a, b)      #[  5.  12.  21.  32.]\n",
    "\n",
    "print a / b                     #[ 0.2         0.33333333  0.42857143  0.5       ]\n",
    "print numpy.divide(a, b)        #[ 0.2         0.33333333  0.42857143  0.5       ]\n",
    "\n",
    "print a % b                     #[ 1.  2.  3.  4.]\n",
    "print numpy.mod(a, b)           #[ 1.  2.  3.  4.]\n",
    "\n",
    "print a**b                      #[  1.00000000e+00   6.40000000e+01   2.18700000e+03   6.55360000e+04]\n",
    "print numpy.power(a, b)         #[  1.00000000e+00   6.40000000e+01   2.18700000e+03   6.55360000e+04]\n",
    "Task\n",
    "\n",
    "You are given two integer arrays,  and  of dimensions X.\n",
    "Your task is to perform the following operations:\n",
    "\n",
    "Add ( + )\n",
    "Subtract ( - )\n",
    "Multiply ( * )\n",
    "Integer Division ( / )\n",
    "Mod ( % )\n",
    "Power ( ** )\n",
    "Note\n",
    "There is a method numpy.floor_divide() that works like numpy.divide() except it performs a floor division.\n",
    "\n",
    "Input Format\n",
    "\n",
    "The first line contains two space separated integers,  and .\n",
    "The next  lines contains  space separated integers of array .\n",
    "The following  lines contains  space separated integers of array .\n",
    "\n",
    "Output Format\n",
    "\n",
    "Print the result of each operation in the given order under Task.\n",
    "\n",
    "Sample Input\n",
    "\n",
    "1 4\n",
    "1 2 3 4\n",
    "5 6 7 8\n",
    "Sample Output\n",
    "\n",
    "[[ 6  8 10 12]]\n",
    "[[-4 -4 -4 -4]]\n",
    "[[ 5 12 21 32]]\n",
    "[[0 0 0 0]]\n",
    "[[1 2 3 4]]\n",
    "[[    1    64  2187 65536]] \n",
    "Use // for division in Python 3."
   ]
  },
  {
   "cell_type": "markdown",
   "metadata": {},
   "source": [
    "### solution:"
   ]
  },
  {
   "cell_type": "code",
   "execution_count": null,
   "metadata": {},
   "outputs": [],
   "source": [
    "import numpy\n",
    "\n",
    "n, m = map(int, input().split())\n",
    "\n",
    "A = numpy.array([input().split() for i in range(n)], numpy.int)\n",
    "B = numpy.array([input().split() for i in range(n)], numpy.int)\n",
    "\n",
    "print(A + B)\n",
    "print(A - B)\n",
    "print(A * B)\n",
    "print(A // B)\n",
    "print(A % B)\n",
    "print(A ** B)"
   ]
  },
  {
   "cell_type": "markdown",
   "metadata": {},
   "source": [
    "# Question-8"
   ]
  },
  {
   "cell_type": "markdown",
   "metadata": {},
   "source": [
    "https://www.hackerrank.com/challenges/floor-ceil-and-rint"
   ]
  },
  {
   "cell_type": "markdown",
   "metadata": {},
   "source": [
    "floor\n",
    "The tool floor returns the floor of the input element-wise.\n",
    "The floor of  is the largest integer  where .\n",
    "\n",
    "import numpy\n",
    "\n",
    "my_array = numpy.array([1.1, 2.2, 3.3, 4.4, 5.5, 6.6, 7.7, 8.8, 9.9])\n",
    "print numpy.floor(my_array)         #[ 1.  2.  3.  4.  5.  6.  7.  8.  9.]\n",
    "ceil\n",
    "The tool ceil returns the ceiling of the input element-wise.\n",
    "The ceiling of  is the smallest integer  where .\n",
    "\n",
    "import numpy\n",
    "\n",
    "my_array = numpy.array([1.1, 2.2, 3.3, 4.4, 5.5, 6.6, 7.7, 8.8, 9.9])\n",
    "print numpy.ceil(my_array)          #[  2.   3.   4.   5.   6.   7.   8.   9.  10.]\n",
    "rint\n",
    "The rint tool rounds to the nearest integer of input element-wise.\n",
    "\n",
    "import numpy\n",
    "\n",
    "my_array = numpy.array([1.1, 2.2, 3.3, 4.4, 5.5, 6.6, 7.7, 8.8, 9.9])\n",
    "print numpy.rint(my_array)          #[  1.   2.   3.   4.   6.   7.   8.   9.  10.]\n",
    "Task\n",
    "You are given a 1-D array, . Your task is to print the ,  and  of all the elements of .\n",
    "\n",
    "Note\n",
    "In order to get the correct output format, add the line  below the numpy import.\n",
    "\n",
    "Input Format\n",
    "\n",
    "A single line of input containing the space separated elements of array .\n",
    "\n",
    "Output Format\n",
    "\n",
    "On the first line, print the  of A.\n",
    "On the second line, print the  of A.\n",
    "On the third line, print the  of A.\n",
    "\n",
    "Sample Input\n",
    "\n",
    "1.1 2.2 3.3 4.4 5.5 6.6 7.7 8.8 9.9\n",
    "Sample Output\n",
    "\n",
    "[ 1.  2.  3.  4.  5.  6.  7.  8.  9.]\n",
    "[  2.   3.   4.   5.   6.   7.   8.   9.  10.]\n",
    "[  1.   2.   3.   4.   6.   7.   8.   9.  10.]"
   ]
  },
  {
   "cell_type": "markdown",
   "metadata": {},
   "source": [
    "### solution:"
   ]
  },
  {
   "cell_type": "code",
   "execution_count": null,
   "metadata": {},
   "outputs": [],
   "source": [
    "import numpy\n",
    "\n",
    "a = numpy.array(input().split(), numpy.float)\n",
    "print(numpy.floor(a))\n",
    "print(numpy.ceil(a))\n",
    "print(numpy.rint(a))"
   ]
  },
  {
   "cell_type": "markdown",
   "metadata": {},
   "source": [
    "# Question-9"
   ]
  },
  {
   "cell_type": "markdown",
   "metadata": {},
   "source": [
    "https://www.hackerrank.com/challenges/np-sum-and-prod"
   ]
  },
  {
   "cell_type": "markdown",
   "metadata": {},
   "source": [
    "sum\n",
    "\n",
    "The sum tool returns the sum of array elements over a given axis.\n",
    "\n",
    "import numpy\n",
    "\n",
    "my_array = numpy.array([ [1, 2], [3, 4] ])\n",
    "\n",
    "print numpy.sum(my_array, axis = 0)         #Output : [4 6]\n",
    "print numpy.sum(my_array, axis = 1)         #Output : [3 7]\n",
    "print numpy.sum(my_array, axis = None)      #Output : 10\n",
    "print numpy.sum(my_array)                   #Output : 10\n",
    "By default, the axis value is None. Therefore, it performs a sum over all the dimensions of the input array.\n",
    "\n",
    "prod\n",
    "\n",
    "The prod tool returns the product of array elements over a given axis.\n",
    "\n",
    "import numpy\n",
    "\n",
    "my_array = numpy.array([ [1, 2], [3, 4] ])\n",
    "\n",
    "print numpy.prod(my_array, axis = 0)            #Output : [3 8]\n",
    "print numpy.prod(my_array, axis = 1)            #Output : [ 2 12]\n",
    "print numpy.prod(my_array, axis = None)         #Output : 24\n",
    "print numpy.prod(my_array)                      #Output : 24\n",
    "By default, the axis value is None. Therefore, it performs the product over all the dimensions of the input array.\n",
    "\n",
    "Task\n",
    "\n",
    "You are given a 2-D array with dimensions X.\n",
    "Your task is to perform the  tool over axis  and then find the  of that result.\n",
    "\n",
    "Input Format\n",
    "\n",
    "The first line of input contains space separated values of  and .\n",
    "The next  lines contains  space separated integers.\n",
    "\n",
    "Output Format\n",
    "\n",
    "Compute the sum along axis . Then, print the product of that sum.\n",
    "\n",
    "Sample Input\n",
    "\n",
    "2 2\n",
    "1 2\n",
    "3 4\n",
    "Sample Output\n",
    "\n",
    "24\n",
    "Explanation\n",
    "\n",
    "The sum along axis  = [ ]\n",
    "The product of this sum = "
   ]
  },
  {
   "cell_type": "markdown",
   "metadata": {},
   "source": [
    "### solution:"
   ]
  },
  {
   "cell_type": "code",
   "execution_count": null,
   "metadata": {},
   "outputs": [],
   "source": [
    "import numpy\n",
    "\n",
    "n, m = map(int, input().split())\n",
    "A = numpy.array([input().split() for i in range(n)], numpy.int)\n",
    "\n",
    "print(numpy.prod(numpy.sum(A, axis=0)))"
   ]
  },
  {
   "cell_type": "markdown",
   "metadata": {},
   "source": [
    "# Question-10"
   ]
  },
  {
   "cell_type": "markdown",
   "metadata": {},
   "source": [
    "https://www.hackerrank.com/challenges/np-min-and-max"
   ]
  },
  {
   "cell_type": "markdown",
   "metadata": {},
   "source": [
    "min\n",
    "\n",
    "The tool min returns the minimum value along a given axis.\n",
    "\n",
    "import numpy\n",
    "\n",
    "my_array = numpy.array([[2, 5], \n",
    "                        [3, 7],\n",
    "                        [1, 3],\n",
    "                        [4, 0]])\n",
    "\n",
    "print numpy.min(my_array, axis = 0)         #Output : [1 0]\n",
    "print numpy.min(my_array, axis = 1)         #Output : [2 3 1 0]\n",
    "print numpy.min(my_array, axis = None)      #Output : 0\n",
    "print numpy.min(my_array)                   #Output : 0\n",
    "By default, the axis value is None. Therefore, it finds the minimum over all the dimensions of the input array.\n",
    "\n",
    "max\n",
    "\n",
    "The tool max returns the maximum value along a given axis.\n",
    "\n",
    "import numpy\n",
    "\n",
    "my_array = numpy.array([[2, 5], \n",
    "                        [3, 7],\n",
    "                        [1, 3],\n",
    "                        [4, 0]])\n",
    "\n",
    "print numpy.max(my_array, axis = 0)         #Output : [4 7]\n",
    "print numpy.max(my_array, axis = 1)         #Output : [5 7 3 4]\n",
    "print numpy.max(my_array, axis = None)      #Output : 7\n",
    "print numpy.max(my_array)                   #Output : 7\n",
    "By default, the axis value is None. Therefore, it finds the maximum over all the dimensions of the input array.\n",
    "\n",
    "Task\n",
    "\n",
    "You are given a 2-D array with dimensions X.\n",
    "Your task is to perform the min function over axis  and then find the max of that.\n",
    "\n",
    "Input Format\n",
    "\n",
    "The first line of input contains the space separated values of  and .\n",
    "The next  lines contains  space separated integers.\n",
    "\n",
    "Output Format\n",
    "\n",
    "Compute the min along axis  and then print the max of that result.\n",
    "\n",
    "Sample Input\n",
    "\n",
    "4 2\n",
    "2 5\n",
    "3 7\n",
    "1 3\n",
    "4 0\n",
    "Sample Output\n",
    "\n",
    "3\n",
    "Explanation\n",
    "\n",
    "The min along axis  = \n",
    "The max of  = "
   ]
  },
  {
   "cell_type": "markdown",
   "metadata": {},
   "source": [
    "### solution:"
   ]
  },
  {
   "cell_type": "code",
   "execution_count": null,
   "metadata": {},
   "outputs": [],
   "source": [
    "import numpy\n",
    "\n",
    "n, m = map(int, input().split())\n",
    "A = numpy.array([input().split() for i in range(n)], numpy.int)\n",
    "\n",
    "print(numpy.max(numpy.min(A, axis=1)))"
   ]
  },
  {
   "cell_type": "markdown",
   "metadata": {},
   "source": [
    "# Question-11"
   ]
  },
  {
   "cell_type": "markdown",
   "metadata": {},
   "source": [
    "https://www.hackerrank.com/challenges/np-mean-var-and-std"
   ]
  },
  {
   "cell_type": "markdown",
   "metadata": {},
   "source": [
    "mean\n",
    "\n",
    "The mean tool computes the arithmetic mean along the specified axis.\n",
    "\n",
    "import numpy\n",
    "\n",
    "my_array = numpy.array([ [1, 2], [3, 4] ])\n",
    "\n",
    "print numpy.mean(my_array, axis = 0)        #Output : [ 2.  3.]\n",
    "print numpy.mean(my_array, axis = 1)        #Output : [ 1.5  3.5]\n",
    "print numpy.mean(my_array, axis = None)     #Output : 2.5\n",
    "print numpy.mean(my_array)                  #Output : 2.5\n",
    "By default, the axis is None. Therefore, it computes the mean of the flattened array.\n",
    "\n",
    "var\n",
    "\n",
    "The var tool computes the arithmetic variance along the specified axis.\n",
    "\n",
    "import numpy\n",
    "\n",
    "my_array = numpy.array([ [1, 2], [3, 4] ])\n",
    "\n",
    "print numpy.var(my_array, axis = 0)         #Output : [ 1.  1.]\n",
    "print numpy.var(my_array, axis = 1)         #Output : [ 0.25  0.25]\n",
    "print numpy.var(my_array, axis = None)      #Output : 1.25\n",
    "print numpy.var(my_array)                   #Output : 1.25\n",
    "By default, the axis is None. Therefore, it computes the variance of the flattened array.\n",
    "\n",
    "std\n",
    "\n",
    "The std tool computes the arithmetic standard deviation along the specified axis.\n",
    "\n",
    "import numpy\n",
    "\n",
    "my_array = numpy.array([ [1, 2], [3, 4] ])\n",
    "\n",
    "print numpy.std(my_array, axis = 0)         #Output : [ 1.  1.]\n",
    "print numpy.std(my_array, axis = 1)         #Output : [ 0.5  0.5]\n",
    "print numpy.std(my_array, axis = None)      #Output : 1.11803398875\n",
    "print numpy.std(my_array)                   #Output : 1.11803398875\n",
    "By default, the axis is None. Therefore, it computes the standard deviation of the flattened array.\n",
    "\n",
    "Task\n",
    "\n",
    "You are given a 2-D array of size X.\n",
    "Your task is to find:\n",
    "\n",
    "The mean along axis \n",
    "The var along axis \n",
    "The std along axis \n",
    "Input Format\n",
    "\n",
    "The first line contains the space separated values of  and .\n",
    "The next  lines contains  space separated integers.\n",
    "\n",
    "Output Format\n",
    "\n",
    "First, print the mean.\n",
    "Second, print the var.\n",
    "Third, print the std.\n",
    "\n",
    "Sample Input\n",
    "\n",
    "2 2\n",
    "1 2\n",
    "3 4\n",
    "Sample Output\n",
    "\n",
    "[ 1.5  3.5]\n",
    "[ 1.  1.]\n",
    "1.11803398875"
   ]
  },
  {
   "cell_type": "markdown",
   "metadata": {},
   "source": [
    "### solution:"
   ]
  },
  {
   "cell_type": "code",
   "execution_count": null,
   "metadata": {},
   "outputs": [],
   "source": [
    "import numpy\n",
    "\n",
    "n, m = map(int, input().split())\n",
    "A = numpy.array([input().split() for i in range(n)], numpy.int)\n",
    "\n",
    "print(numpy.mean(A, axis=1))\n",
    "print(numpy.var(A, axis=0))\n",
    "print(numpy.std(A, axis=None))"
   ]
  },
  {
   "cell_type": "markdown",
   "metadata": {},
   "source": [
    "# Question-12"
   ]
  },
  {
   "cell_type": "markdown",
   "metadata": {},
   "source": [
    "https://www.hackerrank.com/challenges/np-dot-and-cross"
   ]
  },
  {
   "cell_type": "markdown",
   "metadata": {},
   "source": [
    "dot\n",
    "\n",
    "The dot tool returns the dot product of two arrays.\n",
    "\n",
    "import numpy\n",
    "\n",
    "A = numpy.array([ 1, 2 ])\n",
    "B = numpy.array([ 3, 4 ])\n",
    "\n",
    "print numpy.dot(A, B)       #Output : 11\n",
    "cross\n",
    "\n",
    "The cross tool returns the cross product of two arrays.\n",
    "\n",
    "import numpy\n",
    "\n",
    "A = numpy.array([ 1, 2 ])\n",
    "B = numpy.array([ 3, 4 ])\n",
    "\n",
    "print numpy.cross(A, B)     #Output : -2\n",
    "Task\n",
    "\n",
    "You are given two arrays  and . Both have dimensions of X.\n",
    "Your task is to compute their matrix product.\n",
    "\n",
    "Input Format\n",
    "\n",
    "The first line contains the integer .\n",
    "The next  lines contains  space separated integers of array .\n",
    "The following  lines contains  space separated integers of array .\n",
    "\n",
    "Output Format\n",
    "\n",
    "Print the matrix multiplication of  and .\n",
    "\n",
    "Sample Input\n",
    "\n",
    "2\n",
    "1 2\n",
    "3 4\n",
    "1 2\n",
    "3 4\n",
    "Sample Output\n",
    "\n",
    "[[ 7 10]\n",
    " [15 22]]"
   ]
  },
  {
   "cell_type": "markdown",
   "metadata": {},
   "source": [
    "### solution:"
   ]
  },
  {
   "cell_type": "code",
   "execution_count": null,
   "metadata": {},
   "outputs": [],
   "source": [
    "import numpy\n",
    "\n",
    "n = int(input())\n",
    "\n",
    "A = numpy.array([input().split() for i in range(n)], numpy.int)\n",
    "B = numpy.array([input().split() for i in range(n)], numpy.int)\n",
    "\n",
    "print(A.dot(B))"
   ]
  },
  {
   "cell_type": "markdown",
   "metadata": {},
   "source": [
    "# Question-13"
   ]
  },
  {
   "cell_type": "markdown",
   "metadata": {},
   "source": [
    "https://www.hackerrank.com/challenges/np-inner-and-outer"
   ]
  },
  {
   "cell_type": "markdown",
   "metadata": {},
   "source": [
    "inner\n",
    "\n",
    "The inner tool returns the inner product of two arrays.\n",
    "\n",
    "import numpy\n",
    "\n",
    "A = numpy.array([0, 1])\n",
    "B = numpy.array([3, 4])\n",
    "\n",
    "print numpy.inner(A, B)     #Output : 4\n",
    "outer\n",
    "\n",
    "The outer tool returns the outer product of two arrays.\n",
    "\n",
    "import numpy\n",
    "\n",
    "A = numpy.array([0, 1])\n",
    "B = numpy.array([3, 4])\n",
    "\n",
    "print numpy.outer(A, B)     #Output : [[0 0]\n",
    "                            #          [3 4]]\n",
    "Task\n",
    "\n",
    "You are given two arrays:  and .\n",
    "Your task is to compute their inner and outer product.\n",
    "\n",
    "Input Format\n",
    "\n",
    "The first line contains the space separated elements of array .\n",
    "The second line contains the space separated elements of array .\n",
    "\n",
    "Output Format\n",
    "\n",
    "First, print the inner product.\n",
    "Second, print the outer product.\n",
    "\n",
    "Sample Input\n",
    "\n",
    "0 1\n",
    "2 3\n",
    "Sample Output\n",
    "\n",
    "3\n",
    "[[0 0]\n",
    " [2 3]]"
   ]
  },
  {
   "cell_type": "markdown",
   "metadata": {},
   "source": [
    "### solution:"
   ]
  },
  {
   "cell_type": "code",
   "execution_count": null,
   "metadata": {},
   "outputs": [],
   "source": [
    "import numpy\n",
    "\n",
    "u = numpy.array(input().split(), numpy.int)\n",
    "v = numpy.array(input().split(), numpy.int)\n",
    "\n",
    "print(numpy.inner(u, v))\n",
    "print(numpy.outer(u, v))"
   ]
  },
  {
   "cell_type": "markdown",
   "metadata": {},
   "source": [
    "# Question-14"
   ]
  },
  {
   "cell_type": "markdown",
   "metadata": {},
   "source": [
    "https://www.hackerrank.com/challenges/np-polynomials"
   ]
  },
  {
   "cell_type": "markdown",
   "metadata": {},
   "source": [
    "poly\n",
    "\n",
    "The poly tool returns the coefficients of a polynomial with the given sequence of roots.\n",
    "\n",
    "print numpy.poly([-1, 1, 1, 10])        #Output : [  1 -11   9  11 -10]\n",
    "roots\n",
    "\n",
    "The roots tool returns the roots of a polynomial with the given coefficients.\n",
    "\n",
    "print numpy.roots([1, 0, -1])           #Output : [-1.  1.]\n",
    "polyint\n",
    "\n",
    "The polyint tool returns an antiderivative (indefinite integral) of a polynomial.\n",
    "\n",
    "print numpy.polyint([1, 1, 1])          #Output : [ 0.33333333  0.5         1.          0.        ]\n",
    "polyder\n",
    "\n",
    "The polyder tool returns the derivative of the specified order of a polynomial.\n",
    "\n",
    "print numpy.polyder([1, 1, 1, 1])       #Output : [3 2 1]\n",
    "polyval\n",
    "\n",
    "The polyval tool evaluates the polynomial at specific value.\n",
    "\n",
    "print numpy.polyval([1, -2, 0, 2], 4)   #Output : 34\n",
    "polyfit\n",
    "\n",
    "The polyfit tool fits a polynomial of a specified order to a set of data using a least-squares approach.\n",
    "\n",
    "print numpy.polyfit([0,1,-1, 2, -2], [0,1,1, 4, 4], 2)\n",
    "#Output : [  1.00000000e+00   0.00000000e+00  -3.97205465e-16]\n",
    "The functions polyadd, polysub, polymul, and polydiv also handle proper addition, subtraction, multiplication, and division of polynomial coefficients, respectively.\n",
    "\n",
    "Task\n",
    "\n",
    "You are given the coefficients of a polynomial .\n",
    "Your task is to find the value of  at point .\n",
    "\n",
    "Input Format\n",
    "\n",
    "The first line contains the space separated value of the coefficients in .\n",
    "The second line contains the value of .\n",
    "\n",
    "Output Format\n",
    "\n",
    "Print the desired value.\n",
    "\n",
    "Sample Input\n",
    "\n",
    "1.1 2 3\n",
    "0\n",
    "Sample Output\n",
    "\n",
    "3.0"
   ]
  },
  {
   "cell_type": "markdown",
   "metadata": {},
   "source": [
    "### solution:"
   ]
  },
  {
   "cell_type": "code",
   "execution_count": null,
   "metadata": {},
   "outputs": [],
   "source": [
    "import numpy\n",
    "\n",
    "p = list(map(float, input().split()))\n",
    "print(numpy.polyval(p, float(input())))"
   ]
  },
  {
   "cell_type": "markdown",
   "metadata": {},
   "source": [
    "# Question-15"
   ]
  },
  {
   "cell_type": "markdown",
   "metadata": {},
   "source": [
    "https://www.hackerrank.com/challenges/np-linear-algebra"
   ]
  },
  {
   "cell_type": "markdown",
   "metadata": {},
   "source": [
    "The NumPy module also comes with a number of built-in routines for linear algebra calculations. These can be found in the sub-module linalg.\n",
    "\n",
    "linalg.det\n",
    "\n",
    "The linalg.det tool computes the determinant of an array.\n",
    "\n",
    "print numpy.linalg.det([[1 , 2], [2, 1]])       #Output : -3.0\n",
    "linalg.eig\n",
    "\n",
    "The linalg.eig computes the eigenvalues and right eigenvectors of a square array.\n",
    "\n",
    "vals, vecs = numpy.linalg.eig([[1 , 2], [2, 1]])\n",
    "print vals                                      #Output : [ 3. -1.]\n",
    "print vecs                                      #Output : [[ 0.70710678 -0.70710678]\n",
    "                                                #          [ 0.70710678  0.70710678]]\n",
    "linalg.inv\n",
    "\n",
    "The linalg.inv tool computes the (multiplicative) inverse of a matrix.\n",
    "\n",
    "print numpy.linalg.inv([[1 , 2], [2, 1]])       #Output : [[-0.33333333  0.66666667]\n",
    "                                                #          [ 0.66666667 -0.33333333]]\n",
    "Other routines can be found here\n",
    "\n",
    "Task\n",
    "\n",
    "You are given a square matrix  with dimensions X. Your task is to find the determinant. Note: Round the answer to 2 places after the decimal.\n",
    "\n",
    "Input Format\n",
    "\n",
    "The first line contains the integer .\n",
    "The next  lines contains the  space separated elements of array .\n",
    "\n",
    "Output Format\n",
    "\n",
    "Print the determinant of .\n",
    "\n",
    "Sample Input\n",
    "\n",
    "2\n",
    "1.1 1.1\n",
    "1.1 1.1\n",
    "Sample Output\n",
    "\n",
    "0.0"
   ]
  },
  {
   "cell_type": "markdown",
   "metadata": {},
   "source": [
    "### solution:"
   ]
  },
  {
   "cell_type": "code",
   "execution_count": null,
   "metadata": {},
   "outputs": [],
   "source": [
    "import numpy\n",
    "\n",
    "m = numpy.array([input().split() for i in range(int(input()))], numpy.float)\n",
    "print(numpy.linalg.det(m))"
   ]
  }
 ],
 "metadata": {
  "kernelspec": {
   "display_name": "Python 3",
   "language": "python",
   "name": "python3"
  },
  "language_info": {
   "codemirror_mode": {
    "name": "ipython",
    "version": 3
   },
   "file_extension": ".py",
   "mimetype": "text/x-python",
   "name": "python",
   "nbconvert_exporter": "python",
   "pygments_lexer": "ipython3",
   "version": "3.8.2"
  }
 },
 "nbformat": 4,
 "nbformat_minor": 4
}
