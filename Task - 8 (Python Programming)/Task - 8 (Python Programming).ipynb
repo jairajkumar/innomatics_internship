{
 "cells": [
  {
   "cell_type": "markdown",
   "metadata": {},
   "source": [
    "Problem Number\n",
    "Problem URL\n",
    "\n",
    "1\n",
    "https://www.hackerrank.com/challenges/s10-binomial-distribution-1\n",
    "\n",
    "2\n",
    "https://www.hackerrank.com/challenges/s10-binomial-distribution-2\n",
    "\n",
    "3\n",
    "https://www.hackerrank.com/challenges/s10-normal-distribution-1\n",
    "\n",
    "4\n",
    "https://www.hackerrank.com/challenges/s10-normal-distribution-2\n",
    "\n",
    "5\n",
    "https://www.hackerrank.com/challenges/s10-the-central-limit-theorem-1\n",
    "\n",
    "6\n",
    "https://www.hackerrank.com/challenges/s10-the-central-limit-theorem-2\n",
    "\n",
    "7\n",
    "https://www.hackerrank.com/challenges/s10-the-central-limit-theorem-3\n",
    "\n",
    "8\n",
    "https://www.hackerrank.com/challenges/s10-pearson-correlation-coefficient\n",
    "\n",
    "9\n",
    "https://www.hackerrank.com/challenges/s10-least-square-regression-line\n",
    "\n",
    "10\n",
    "https://www.hackerrank.com/challenges/s10-multiple-linear-regression\n",
    "\n"
   ]
  },
  {
   "cell_type": "markdown",
   "metadata": {},
   "source": [
    "# question 1"
   ]
  },
  {
   "cell_type": "code",
   "execution_count": null,
   "metadata": {},
   "outputs": [],
   "source": [
    "def fact(n):\n",
    "    return 1 if n == 0 else n*fact(n-1)\n",
    "\n",
    "def comb(n, x):\n",
    "    return fact(n) / (fact(x) * fact(n-x))\n",
    "\n",
    "def b(x, n, p):\n",
    "    return comb(n, x) * p**x * (1-p)**(n-x)\n",
    "\n",
    "l, r = list(map(float, input().split(\" \")))\n",
    "odds = l / r\n",
    "print(round(sum([b(i, 6, odds / (1 + odds)) for i in range(3, 7)]), 3))\n"
   ]
  },
  {
   "cell_type": "markdown",
   "metadata": {},
   "source": [
    "# question 2"
   ]
  },
  {
   "cell_type": "code",
   "execution_count": null,
   "metadata": {},
   "outputs": [],
   "source": [
    "import math\n",
    "\n",
    "\n",
    "p = 0.12\n",
    "ans1 = 0\n",
    "for i in range(0, 3):\n",
    "    ans1 += math.factorial(10)/math.factorial(i)/math.factorial(10-i) * p**i * (1-p)**(10-i)\n",
    "    if i == 1:\n",
    "        ans2 = 1 - ans1\n",
    "\n",
    "print(round(ans1, 3))\n",
    "print(round(ans2, 3))"
   ]
  },
  {
   "cell_type": "markdown",
   "metadata": {},
   "source": [
    "# question 3"
   ]
  },
  {
   "cell_type": "code",
   "execution_count": null,
   "metadata": {},
   "outputs": [],
   "source": [
    "import math\n",
    "\n",
    "\n",
    "def cdf(x, mean, std):\n",
    "    return 1/2*(1+math.erf((x-mean) / std / 2**(1/2)))\n",
    "\n",
    "\n",
    "mean = 20\n",
    "std = 2\n",
    "\n",
    "print(round(cdf(19.5, mean, std), 3))\n",
    "print(round(cdf(22, mean, std) - cdf(20, mean, std), 3))"
   ]
  },
  {
   "cell_type": "markdown",
   "metadata": {},
   "source": [
    "# question 4"
   ]
  },
  {
   "cell_type": "code",
   "execution_count": null,
   "metadata": {},
   "outputs": [],
   "source": [
    "import math\n",
    "\n",
    "\n",
    "def cdf(x, mean, std):\n",
    "    return 1/2*(1+math.erf((x-mean) / std / 2**(1/2)))\n",
    "\n",
    "\n",
    "mean = 70\n",
    "std = 10\n",
    "\n",
    "print(round((1 - cdf(80, mean, std))*100, 2))\n",
    "print(round((1 - cdf(60, mean, std))*100, 2))\n",
    "print(round(cdf(60, mean, std)*100, 2))"
   ]
  },
  {
   "cell_type": "markdown",
   "metadata": {},
   "source": [
    "# question 5"
   ]
  },
  {
   "cell_type": "code",
   "execution_count": null,
   "metadata": {},
   "outputs": [],
   "source": [
    "import math\n",
    "\n",
    "\n",
    "def cdf(x, mean, std):\n",
    "    return 1/2*(1+math.erf((x-mean) / std / 2**(1/2)))\n",
    "\n",
    "\n",
    "mean = 205\n",
    "std = 15\n",
    "n = 49\n",
    "target = 9800\n",
    "\n",
    "mean_s = n * mean\n",
    "std_s = std * n**(1/2)\n",
    "\n",
    "print(round(cdf(target, mean_s, std_s), 4))"
   ]
  },
  {
   "cell_type": "markdown",
   "metadata": {},
   "source": [
    "# question 6"
   ]
  },
  {
   "cell_type": "code",
   "execution_count": null,
   "metadata": {},
   "outputs": [],
   "source": [
    "import math\n",
    "\n",
    "\n",
    "def cdf(x, mean, std):\n",
    "    return 1/2*(1+math.erf((x-mean) / std / 2**(1/2)))\n",
    "\n",
    "mean = 2.4\n",
    "std = 2\n",
    "n = 100\n",
    "target = 250\n",
    "\n",
    "mean_s = n * mean\n",
    "std_s = std * n**(1/2)\n",
    "\n",
    "print(round(cdf(target, mean_s, std_s), 4))"
   ]
  },
  {
   "cell_type": "markdown",
   "metadata": {},
   "source": [
    "# question 7"
   ]
  },
  {
   "cell_type": "code",
   "execution_count": null,
   "metadata": {},
   "outputs": [],
   "source": [
    "mean = 500\n",
    "std = 80\n",
    "n = 100\n",
    "a = 1.96\n",
    "\n",
    "mean = mean\n",
    "std = std / n**(1/2)\n",
    "\n",
    "print(round(mean - std * a, 2))\n",
    "print(round(mean + std * a, 2))"
   ]
  },
  {
   "cell_type": "markdown",
   "metadata": {},
   "source": [
    "# question 8"
   ]
  },
  {
   "cell_type": "code",
   "execution_count": null,
   "metadata": {},
   "outputs": [],
   "source": [
    "def std(x):\n",
    "    return (sum([(i-(sum(x))/len(x))**2 for i in x])/len(x))**0.5\n",
    "\n",
    "N = int(input())\n",
    "X = list(map(float, input().split()))\n",
    "Y = list(map(float, input().split()))\n",
    "\n",
    "X_M = sum(X)/len(X)\n",
    "Y_M = sum(Y)/len(Y)\n",
    "\n",
    "X_S = std(X)\n",
    "Y_S = std(Y)\n",
    "\n",
    "print(round(sum([(i-X_M)*(j-Y_M) for i, j in zip(X, Y)])/(N*X_S*Y_S), 3))"
   ]
  },
  {
   "cell_type": "markdown",
   "metadata": {},
   "source": [
    "# question 9"
   ]
  },
  {
   "cell_type": "code",
   "execution_count": null,
   "metadata": {},
   "outputs": [],
   "source": [
    "def mean(X):\n",
    "    return sum(X)/len(X)\n",
    "\n",
    "def lsr(X, Y):\n",
    "    B = sum([(X[i] - mean(X)) * (Y[i] - mean(Y)) for i in range(len(X))])/sum([(j - mean(X))**2 for j in X])\n",
    "    A = mean(Y) - (B*mean(X))\n",
    "    return A+(B*80)\n",
    "\n",
    "X = []\n",
    "Y = []\n",
    "\n",
    "for i in range(5):\n",
    "    A, B = list(map(int, input().split()))\n",
    "    X.append(A)\n",
    "    Y.append(B)\n",
    "\n",
    "print(round(lsr(X, Y), 3))"
   ]
  },
  {
   "cell_type": "markdown",
   "metadata": {},
   "source": [
    "# question 10"
   ]
  },
  {
   "cell_type": "code",
   "execution_count": null,
   "metadata": {},
   "outputs": [],
   "source": [
    "from sklearn import linear_model\n",
    "\n",
    "M, N = list(map(int, input().strip().split()))\n",
    "X = [0]*N\n",
    "Y = [0]*N\n",
    "\n",
    "for i in range(N):\n",
    "    inp = list(map(float, input().strip().split()))\n",
    "    X[i] = inp[:-1]\n",
    "    Y[i] = inp[-1]\n",
    "\n",
    "LM = linear_model.LinearRegression()\n",
    "LM.fit(X, Y)\n",
    "A = LM.intercept_\n",
    "B = LM.coef_\n",
    "\n",
    "Q = int(input())\n",
    "\n",
    "for i in range(Q):\n",
    "    f = list(map(float, input().strip().split()))\n",
    "    Y = A + sum([B[j] * f[j] for j in range(M)])\n",
    "    print(round(Y, 2))"
   ]
  }
 ],
 "metadata": {
  "kernelspec": {
   "display_name": "Python 3",
   "language": "python",
   "name": "python3"
  },
  "language_info": {
   "codemirror_mode": {
    "name": "ipython",
    "version": 3
   },
   "file_extension": ".py",
   "mimetype": "text/x-python",
   "name": "python",
   "nbconvert_exporter": "python",
   "pygments_lexer": "ipython3",
   "version": "3.8.2"
  }
 },
 "nbformat": 4,
 "nbformat_minor": 4
}
