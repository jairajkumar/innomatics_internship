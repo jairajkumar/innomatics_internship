{
 "cells": [
  {
   "cell_type": "markdown",
   "metadata": {},
   "source": [
    "## Dataset Information\n",
    "\n",
    "Million Songs Dataset contains of two files: triplet_file and unique_tracks_file. The triplet_file contains user_id, song_id and listen time. The unique_tracks_file contains song_id, title, song_name, and artist_name. Million Songs Dataset is a mixture of song from various website with the rating that users gave after listening to the song.\n",
    "\n",
    "There are 3 types of recommendation system: content-based, collaborative and popularity."
   ]
  },
  {
   "cell_type": "markdown",
   "metadata": {},
   "source": [
    "## What are Recommendation Systems?\n",
    "Every day we view and purchase products on Amazon, browse Netflix, stream music on Spotify. Have you ever wondered how accurately they know your tastes and preferences and make Recommendations based on your interests ?\n",
    "\n",
    "The answer is they have personalized Recommendation Engines which uses advanced algorithms to recommend products to you... When you want to watch a new movie, you usually ask your friends for suggesting movies, they know your interests and accordingly they suggest you a good movie.\n",
    "\n",
    "So, Recommendation Systems work the same way, they are nothing but data filtering tools that uses algorithms to recommend most relevant items to a particular user."
   ]
  },
  {
   "cell_type": "markdown",
   "metadata": {},
   "source": [
    "## Importing Module"
   ]
  },
  {
   "cell_type": "code",
   "execution_count": 1,
   "metadata": {},
   "outputs": [],
   "source": [
    "import numpy as np\n",
    "import pandas\n",
    "import matplotlib.pyplot as plt\n",
    "import seaborn as sns\n",
    "\n",
    "import warnings\n",
    "warnings.filterwarnings('ignore')\n",
    "from tqdm import tqdm\n",
    "import joblib\n",
    "import time\n"
   ]
  },
  {
   "cell_type": "markdown",
   "metadata": {},
   "source": [
    "## Loading the dataset"
   ]
  },
  {
   "cell_type": "code",
   "execution_count": 2,
   "metadata": {},
   "outputs": [],
   "source": [
    "df=pandas.read_csv('kaggle_visible_evaluation_triplets.csv')"
   ]
  },
  {
   "cell_type": "code",
   "execution_count": 3,
   "metadata": {
    "scrolled": true
   },
   "outputs": [
    {
     "data": {
      "text/html": [
       "<div>\n",
       "<style scoped>\n",
       "    .dataframe tbody tr th:only-of-type {\n",
       "        vertical-align: middle;\n",
       "    }\n",
       "\n",
       "    .dataframe tbody tr th {\n",
       "        vertical-align: top;\n",
       "    }\n",
       "\n",
       "    .dataframe thead th {\n",
       "        text-align: right;\n",
       "    }\n",
       "</style>\n",
       "<table border=\"1\" class=\"dataframe\">\n",
       "  <thead>\n",
       "    <tr style=\"text-align: right;\">\n",
       "      <th></th>\n",
       "      <th>user_id</th>\n",
       "      <th>song_id</th>\n",
       "      <th>count</th>\n",
       "    </tr>\n",
       "  </thead>\n",
       "  <tbody>\n",
       "    <tr>\n",
       "      <th>0</th>\n",
       "      <td>fd50c4007b68a3737fe052d5a4f78ce8aa117f3d</td>\n",
       "      <td>SOBONKR12A58A7A7E0</td>\n",
       "      <td>1</td>\n",
       "    </tr>\n",
       "    <tr>\n",
       "      <th>1</th>\n",
       "      <td>fd50c4007b68a3737fe052d5a4f78ce8aa117f3d</td>\n",
       "      <td>SOEGIYH12A6D4FC0E3</td>\n",
       "      <td>1</td>\n",
       "    </tr>\n",
       "    <tr>\n",
       "      <th>2</th>\n",
       "      <td>fd50c4007b68a3737fe052d5a4f78ce8aa117f3d</td>\n",
       "      <td>SOFLJQZ12A6D4FADA6</td>\n",
       "      <td>1</td>\n",
       "    </tr>\n",
       "    <tr>\n",
       "      <th>3</th>\n",
       "      <td>fd50c4007b68a3737fe052d5a4f78ce8aa117f3d</td>\n",
       "      <td>SOHTKMO12AB01843B0</td>\n",
       "      <td>1</td>\n",
       "    </tr>\n",
       "    <tr>\n",
       "      <th>4</th>\n",
       "      <td>fd50c4007b68a3737fe052d5a4f78ce8aa117f3d</td>\n",
       "      <td>SODQZCY12A6D4F9D11</td>\n",
       "      <td>1</td>\n",
       "    </tr>\n",
       "    <tr>\n",
       "      <th>...</th>\n",
       "      <td>...</td>\n",
       "      <td>...</td>\n",
       "      <td>...</td>\n",
       "    </tr>\n",
       "    <tr>\n",
       "      <th>1048570</th>\n",
       "      <td>90aeb21b2f36eb46d1c5d48fa030b4b8fa818b52</td>\n",
       "      <td>SOEPEVY12AB01822A1</td>\n",
       "      <td>2</td>\n",
       "    </tr>\n",
       "    <tr>\n",
       "      <th>1048571</th>\n",
       "      <td>90aeb21b2f36eb46d1c5d48fa030b4b8fa818b52</td>\n",
       "      <td>SOLHTJY12A58A7AFE7</td>\n",
       "      <td>1</td>\n",
       "    </tr>\n",
       "    <tr>\n",
       "      <th>1048572</th>\n",
       "      <td>90aeb21b2f36eb46d1c5d48fa030b4b8fa818b52</td>\n",
       "      <td>SODBAHE12A8C132D34</td>\n",
       "      <td>2</td>\n",
       "    </tr>\n",
       "    <tr>\n",
       "      <th>1048573</th>\n",
       "      <td>90aeb21b2f36eb46d1c5d48fa030b4b8fa818b52</td>\n",
       "      <td>SOAVWHY12AB017C6C0</td>\n",
       "      <td>3</td>\n",
       "    </tr>\n",
       "    <tr>\n",
       "      <th>1048574</th>\n",
       "      <td>90aeb21b2f36eb46d1c5d48fa030b4b8fa818b52</td>\n",
       "      <td>SOMYECL12A6701D9C8</td>\n",
       "      <td>1</td>\n",
       "    </tr>\n",
       "  </tbody>\n",
       "</table>\n",
       "<p>1048575 rows × 3 columns</p>\n",
       "</div>"
      ],
      "text/plain": [
       "                                          user_id             song_id  count\n",
       "0        fd50c4007b68a3737fe052d5a4f78ce8aa117f3d  SOBONKR12A58A7A7E0      1\n",
       "1        fd50c4007b68a3737fe052d5a4f78ce8aa117f3d  SOEGIYH12A6D4FC0E3      1\n",
       "2        fd50c4007b68a3737fe052d5a4f78ce8aa117f3d  SOFLJQZ12A6D4FADA6      1\n",
       "3        fd50c4007b68a3737fe052d5a4f78ce8aa117f3d  SOHTKMO12AB01843B0      1\n",
       "4        fd50c4007b68a3737fe052d5a4f78ce8aa117f3d  SODQZCY12A6D4F9D11      1\n",
       "...                                           ...                 ...    ...\n",
       "1048570  90aeb21b2f36eb46d1c5d48fa030b4b8fa818b52  SOEPEVY12AB01822A1      2\n",
       "1048571  90aeb21b2f36eb46d1c5d48fa030b4b8fa818b52  SOLHTJY12A58A7AFE7      1\n",
       "1048572  90aeb21b2f36eb46d1c5d48fa030b4b8fa818b52  SODBAHE12A8C132D34      2\n",
       "1048573  90aeb21b2f36eb46d1c5d48fa030b4b8fa818b52  SOAVWHY12AB017C6C0      3\n",
       "1048574  90aeb21b2f36eb46d1c5d48fa030b4b8fa818b52  SOMYECL12A6701D9C8      1\n",
       "\n",
       "[1048575 rows x 3 columns]"
      ]
     },
     "execution_count": 3,
     "metadata": {},
     "output_type": "execute_result"
    }
   ],
   "source": [
    "df"
   ]
  },
  {
   "cell_type": "code",
   "execution_count": 4,
   "metadata": {},
   "outputs": [
    {
     "data": {
      "text/plain": [
       "Index(['user_id', 'song_id', 'count'], dtype='object')"
      ]
     },
     "execution_count": 4,
     "metadata": {},
     "output_type": "execute_result"
    }
   ],
   "source": [
    "df.columns"
   ]
  },
  {
   "cell_type": "code",
   "execution_count": 5,
   "metadata": {},
   "outputs": [],
   "source": [
    "df1=pandas.read_csv('unique_tracks.csv')"
   ]
  },
  {
   "cell_type": "code",
   "execution_count": 6,
   "metadata": {
    "scrolled": true
   },
   "outputs": [
    {
     "data": {
      "text/html": [
       "<div>\n",
       "<style scoped>\n",
       "    .dataframe tbody tr th:only-of-type {\n",
       "        vertical-align: middle;\n",
       "    }\n",
       "\n",
       "    .dataframe tbody tr th {\n",
       "        vertical-align: top;\n",
       "    }\n",
       "\n",
       "    .dataframe thead th {\n",
       "        text-align: right;\n",
       "    }\n",
       "</style>\n",
       "<table border=\"1\" class=\"dataframe\">\n",
       "  <thead>\n",
       "    <tr style=\"text-align: right;\">\n",
       "      <th></th>\n",
       "      <th>taste_id</th>\n",
       "      <th>song_id</th>\n",
       "      <th>artist</th>\n",
       "      <th>song_name</th>\n",
       "    </tr>\n",
       "  </thead>\n",
       "  <tbody>\n",
       "    <tr>\n",
       "      <th>0</th>\n",
       "      <td>TRMMMYQ128F932D901</td>\n",
       "      <td>SOQMMHC12AB0180CB8</td>\n",
       "      <td>Faster Pussy cat</td>\n",
       "      <td>Silent Night</td>\n",
       "    </tr>\n",
       "    <tr>\n",
       "      <th>1</th>\n",
       "      <td>TRMMMKD128F425225D</td>\n",
       "      <td>SOVFVAK12A8C1350D9</td>\n",
       "      <td>Karkkiautomaatti</td>\n",
       "      <td>Tanssi vaan</td>\n",
       "    </tr>\n",
       "    <tr>\n",
       "      <th>2</th>\n",
       "      <td>TRMMMRX128F93187D9</td>\n",
       "      <td>SOGTUKN12AB017F4F1</td>\n",
       "      <td>Hudson Mohawke</td>\n",
       "      <td>No One Could Ever</td>\n",
       "    </tr>\n",
       "    <tr>\n",
       "      <th>3</th>\n",
       "      <td>TRMMMCH128F425532C</td>\n",
       "      <td>SOBNYVR12A8C13558C</td>\n",
       "      <td>Yerba Brava</td>\n",
       "      <td>Si Vos QuerÃ©s</td>\n",
       "    </tr>\n",
       "    <tr>\n",
       "      <th>4</th>\n",
       "      <td>TRMMMWA128F426B589</td>\n",
       "      <td>SOHSBXH12A8C13B0DF</td>\n",
       "      <td>Der Mystic</td>\n",
       "      <td>Tangle Of Aspens</td>\n",
       "    </tr>\n",
       "    <tr>\n",
       "      <th>...</th>\n",
       "      <td>...</td>\n",
       "      <td>...</td>\n",
       "      <td>...</td>\n",
       "      <td>...</td>\n",
       "    </tr>\n",
       "    <tr>\n",
       "      <th>999995</th>\n",
       "      <td>TRYYYUS12903CD2DF0</td>\n",
       "      <td>SOTXAME12AB018F136</td>\n",
       "      <td>Kiko Navarro</td>\n",
       "      <td>O Samba Da Vida</td>\n",
       "    </tr>\n",
       "    <tr>\n",
       "      <th>999996</th>\n",
       "      <td>TRYYYJO128F426DA37</td>\n",
       "      <td>SOXQYIQ12A8C137FBB</td>\n",
       "      <td>Kuldeep Manak</td>\n",
       "      <td>Jago Chhadeo</td>\n",
       "    </tr>\n",
       "    <tr>\n",
       "      <th>999997</th>\n",
       "      <td>TRYYYMG128F4260ECA</td>\n",
       "      <td>SOHODZI12A8C137BB3</td>\n",
       "      <td>Gabriel Le Mar</td>\n",
       "      <td>Novemba</td>\n",
       "    </tr>\n",
       "    <tr>\n",
       "      <th>999998</th>\n",
       "      <td>TRYYYDJ128F9310A21</td>\n",
       "      <td>SOLXGOR12A81C21EB7</td>\n",
       "      <td>Elude</td>\n",
       "      <td>Faraday</td>\n",
       "    </tr>\n",
       "    <tr>\n",
       "      <th>999999</th>\n",
       "      <td>TRYYYVU12903CD01E3</td>\n",
       "      <td>SOWXJXQ12AB0189F43</td>\n",
       "      <td>Texta</td>\n",
       "      <td>Fernweh feat. Sektion KuchikÃ¤schtli</td>\n",
       "    </tr>\n",
       "  </tbody>\n",
       "</table>\n",
       "<p>1000000 rows × 4 columns</p>\n",
       "</div>"
      ],
      "text/plain": [
       "                  taste_id             song_id            artist  \\\n",
       "0       TRMMMYQ128F932D901  SOQMMHC12AB0180CB8  Faster Pussy cat   \n",
       "1       TRMMMKD128F425225D  SOVFVAK12A8C1350D9  Karkkiautomaatti   \n",
       "2       TRMMMRX128F93187D9  SOGTUKN12AB017F4F1    Hudson Mohawke   \n",
       "3       TRMMMCH128F425532C  SOBNYVR12A8C13558C       Yerba Brava   \n",
       "4       TRMMMWA128F426B589  SOHSBXH12A8C13B0DF        Der Mystic   \n",
       "...                    ...                 ...               ...   \n",
       "999995  TRYYYUS12903CD2DF0  SOTXAME12AB018F136      Kiko Navarro   \n",
       "999996  TRYYYJO128F426DA37  SOXQYIQ12A8C137FBB     Kuldeep Manak   \n",
       "999997  TRYYYMG128F4260ECA  SOHODZI12A8C137BB3    Gabriel Le Mar   \n",
       "999998  TRYYYDJ128F9310A21  SOLXGOR12A81C21EB7             Elude   \n",
       "999999  TRYYYVU12903CD01E3  SOWXJXQ12AB0189F43             Texta   \n",
       "\n",
       "                                   song_name  \n",
       "0                               Silent Night  \n",
       "1                                Tanssi vaan  \n",
       "2                          No One Could Ever  \n",
       "3                             Si Vos QuerÃ©s  \n",
       "4                           Tangle Of Aspens  \n",
       "...                                      ...  \n",
       "999995                       O Samba Da Vida  \n",
       "999996                          Jago Chhadeo  \n",
       "999997                               Novemba  \n",
       "999998                               Faraday  \n",
       "999999  Fernweh feat. Sektion KuchikÃ¤schtli  \n",
       "\n",
       "[1000000 rows x 4 columns]"
      ]
     },
     "execution_count": 6,
     "metadata": {},
     "output_type": "execute_result"
    }
   ],
   "source": [
    "df1"
   ]
  },
  {
   "cell_type": "markdown",
   "metadata": {},
   "source": [
    "## Merging both the dataset on song_id"
   ]
  },
  {
   "cell_type": "code",
   "execution_count": 7,
   "metadata": {},
   "outputs": [],
   "source": [
    "df_new=pandas.merge(df,df1.drop_duplicates(['song_id']),on='song_id',how='left')"
   ]
  },
  {
   "cell_type": "code",
   "execution_count": 8,
   "metadata": {},
   "outputs": [
    {
     "data": {
      "text/html": [
       "<div>\n",
       "<style scoped>\n",
       "    .dataframe tbody tr th:only-of-type {\n",
       "        vertical-align: middle;\n",
       "    }\n",
       "\n",
       "    .dataframe tbody tr th {\n",
       "        vertical-align: top;\n",
       "    }\n",
       "\n",
       "    .dataframe thead th {\n",
       "        text-align: right;\n",
       "    }\n",
       "</style>\n",
       "<table border=\"1\" class=\"dataframe\">\n",
       "  <thead>\n",
       "    <tr style=\"text-align: right;\">\n",
       "      <th></th>\n",
       "      <th>user_id</th>\n",
       "      <th>song_id</th>\n",
       "      <th>count</th>\n",
       "      <th>taste_id</th>\n",
       "      <th>artist</th>\n",
       "      <th>song_name</th>\n",
       "    </tr>\n",
       "  </thead>\n",
       "  <tbody>\n",
       "    <tr>\n",
       "      <th>0</th>\n",
       "      <td>fd50c4007b68a3737fe052d5a4f78ce8aa117f3d</td>\n",
       "      <td>SOBONKR12A58A7A7E0</td>\n",
       "      <td>1</td>\n",
       "      <td>TRAEHHJ12903CF492F</td>\n",
       "      <td>Dwight Yoakam</td>\n",
       "      <td>You're The One</td>\n",
       "    </tr>\n",
       "    <tr>\n",
       "      <th>1</th>\n",
       "      <td>fd50c4007b68a3737fe052d5a4f78ce8aa117f3d</td>\n",
       "      <td>SOEGIYH12A6D4FC0E3</td>\n",
       "      <td>1</td>\n",
       "      <td>TRLGMFJ128F4217DBE</td>\n",
       "      <td>Barry Tuckwell/Academy of St Martin-in-the-Fie...</td>\n",
       "      <td>Horn Concerto No. 4 in E flat K495: II. Romanc...</td>\n",
       "    </tr>\n",
       "    <tr>\n",
       "      <th>2</th>\n",
       "      <td>fd50c4007b68a3737fe052d5a4f78ce8aa117f3d</td>\n",
       "      <td>SOFLJQZ12A6D4FADA6</td>\n",
       "      <td>1</td>\n",
       "      <td>TRTNDNE128F1486812</td>\n",
       "      <td>Cartola</td>\n",
       "      <td>Tive Sim</td>\n",
       "    </tr>\n",
       "    <tr>\n",
       "      <th>3</th>\n",
       "      <td>fd50c4007b68a3737fe052d5a4f78ce8aa117f3d</td>\n",
       "      <td>SOHTKMO12AB01843B0</td>\n",
       "      <td>1</td>\n",
       "      <td>TRASTUE128F930D488</td>\n",
       "      <td>Lonnie Gordon</td>\n",
       "      <td>Catch You Baby (Steve Pitron &amp; Max Sanna Radio...</td>\n",
       "    </tr>\n",
       "    <tr>\n",
       "      <th>4</th>\n",
       "      <td>fd50c4007b68a3737fe052d5a4f78ce8aa117f3d</td>\n",
       "      <td>SODQZCY12A6D4F9D11</td>\n",
       "      <td>1</td>\n",
       "      <td>TRFPLWO128F1486B9E</td>\n",
       "      <td>Miguel Calo</td>\n",
       "      <td>El Cuatrero</td>\n",
       "    </tr>\n",
       "    <tr>\n",
       "      <th>...</th>\n",
       "      <td>...</td>\n",
       "      <td>...</td>\n",
       "      <td>...</td>\n",
       "      <td>...</td>\n",
       "      <td>...</td>\n",
       "      <td>...</td>\n",
       "    </tr>\n",
       "    <tr>\n",
       "      <th>1048570</th>\n",
       "      <td>90aeb21b2f36eb46d1c5d48fa030b4b8fa818b52</td>\n",
       "      <td>SOEPEVY12AB01822A1</td>\n",
       "      <td>2</td>\n",
       "      <td>TRXHJNZ128F93443A5</td>\n",
       "      <td>De Saloon</td>\n",
       "      <td>Hombre muerto</td>\n",
       "    </tr>\n",
       "    <tr>\n",
       "      <th>1048571</th>\n",
       "      <td>90aeb21b2f36eb46d1c5d48fa030b4b8fa818b52</td>\n",
       "      <td>SOLHTJY12A58A7AFE7</td>\n",
       "      <td>1</td>\n",
       "      <td>TREIPHK128F42626AB</td>\n",
       "      <td>Suicidal Tendencies</td>\n",
       "      <td>Go Skate! (Possessed To Skate '97)</td>\n",
       "    </tr>\n",
       "    <tr>\n",
       "      <th>1048572</th>\n",
       "      <td>90aeb21b2f36eb46d1c5d48fa030b4b8fa818b52</td>\n",
       "      <td>SODBAHE12A8C132D34</td>\n",
       "      <td>2</td>\n",
       "      <td>TRQEQHH12903CA6CE5</td>\n",
       "      <td>Shakira</td>\n",
       "      <td>Sombra De Ti</td>\n",
       "    </tr>\n",
       "    <tr>\n",
       "      <th>1048573</th>\n",
       "      <td>90aeb21b2f36eb46d1c5d48fa030b4b8fa818b52</td>\n",
       "      <td>SOAVWHY12AB017C6C0</td>\n",
       "      <td>3</td>\n",
       "      <td>TRGSVZA128F92CF92E</td>\n",
       "      <td>The Killers</td>\n",
       "      <td>Losing Touch</td>\n",
       "    </tr>\n",
       "    <tr>\n",
       "      <th>1048574</th>\n",
       "      <td>90aeb21b2f36eb46d1c5d48fa030b4b8fa818b52</td>\n",
       "      <td>SOMYECL12A6701D9C8</td>\n",
       "      <td>1</td>\n",
       "      <td>TRLSHFY128E0785FF1</td>\n",
       "      <td>Jack Johnson</td>\n",
       "      <td>Never Know</td>\n",
       "    </tr>\n",
       "  </tbody>\n",
       "</table>\n",
       "<p>1048575 rows × 6 columns</p>\n",
       "</div>"
      ],
      "text/plain": [
       "                                          user_id             song_id  count  \\\n",
       "0        fd50c4007b68a3737fe052d5a4f78ce8aa117f3d  SOBONKR12A58A7A7E0      1   \n",
       "1        fd50c4007b68a3737fe052d5a4f78ce8aa117f3d  SOEGIYH12A6D4FC0E3      1   \n",
       "2        fd50c4007b68a3737fe052d5a4f78ce8aa117f3d  SOFLJQZ12A6D4FADA6      1   \n",
       "3        fd50c4007b68a3737fe052d5a4f78ce8aa117f3d  SOHTKMO12AB01843B0      1   \n",
       "4        fd50c4007b68a3737fe052d5a4f78ce8aa117f3d  SODQZCY12A6D4F9D11      1   \n",
       "...                                           ...                 ...    ...   \n",
       "1048570  90aeb21b2f36eb46d1c5d48fa030b4b8fa818b52  SOEPEVY12AB01822A1      2   \n",
       "1048571  90aeb21b2f36eb46d1c5d48fa030b4b8fa818b52  SOLHTJY12A58A7AFE7      1   \n",
       "1048572  90aeb21b2f36eb46d1c5d48fa030b4b8fa818b52  SODBAHE12A8C132D34      2   \n",
       "1048573  90aeb21b2f36eb46d1c5d48fa030b4b8fa818b52  SOAVWHY12AB017C6C0      3   \n",
       "1048574  90aeb21b2f36eb46d1c5d48fa030b4b8fa818b52  SOMYECL12A6701D9C8      1   \n",
       "\n",
       "                   taste_id  \\\n",
       "0        TRAEHHJ12903CF492F   \n",
       "1        TRLGMFJ128F4217DBE   \n",
       "2        TRTNDNE128F1486812   \n",
       "3        TRASTUE128F930D488   \n",
       "4        TRFPLWO128F1486B9E   \n",
       "...                     ...   \n",
       "1048570  TRXHJNZ128F93443A5   \n",
       "1048571  TREIPHK128F42626AB   \n",
       "1048572  TRQEQHH12903CA6CE5   \n",
       "1048573  TRGSVZA128F92CF92E   \n",
       "1048574  TRLSHFY128E0785FF1   \n",
       "\n",
       "                                                    artist  \\\n",
       "0                                            Dwight Yoakam   \n",
       "1        Barry Tuckwell/Academy of St Martin-in-the-Fie...   \n",
       "2                                                  Cartola   \n",
       "3                                            Lonnie Gordon   \n",
       "4                                              Miguel Calo   \n",
       "...                                                    ...   \n",
       "1048570                                          De Saloon   \n",
       "1048571                                Suicidal Tendencies   \n",
       "1048572                                            Shakira   \n",
       "1048573                                        The Killers   \n",
       "1048574                                       Jack Johnson   \n",
       "\n",
       "                                                 song_name  \n",
       "0                                           You're The One  \n",
       "1        Horn Concerto No. 4 in E flat K495: II. Romanc...  \n",
       "2                                                 Tive Sim  \n",
       "3        Catch You Baby (Steve Pitron & Max Sanna Radio...  \n",
       "4                                              El Cuatrero  \n",
       "...                                                    ...  \n",
       "1048570                                      Hombre muerto  \n",
       "1048571                 Go Skate! (Possessed To Skate '97)  \n",
       "1048572                                       Sombra De Ti  \n",
       "1048573                                       Losing Touch  \n",
       "1048574                                         Never Know  \n",
       "\n",
       "[1048575 rows x 6 columns]"
      ]
     },
     "execution_count": 8,
     "metadata": {},
     "output_type": "execute_result"
    }
   ],
   "source": [
    "df_new"
   ]
  },
  {
   "cell_type": "code",
   "execution_count": 9,
   "metadata": {},
   "outputs": [
    {
     "data": {
      "text/plain": [
       "user_id      0\n",
       "song_id      0\n",
       "count        0\n",
       "taste_id     0\n",
       "artist       0\n",
       "song_name    1\n",
       "dtype: int64"
      ]
     },
     "execution_count": 9,
     "metadata": {},
     "output_type": "execute_result"
    }
   ],
   "source": [
    "df_new.isnull().sum()"
   ]
  },
  {
   "cell_type": "markdown",
   "metadata": {},
   "source": [
    "## Basic Statistics"
   ]
  },
  {
   "cell_type": "code",
   "execution_count": 10,
   "metadata": {},
   "outputs": [
    {
     "name": "stdout",
     "output_type": "stream",
     "text": [
      "Total data points: 1048575\n",
      "Total number of users: 79451\n",
      "Total number of songs: 142915\n",
      "Total number of tracks: 142915\n"
     ]
    }
   ],
   "source": [
    "print('Total data points:',df_new.shape[0])\n",
    "print('Total number of users:',df_new['user_id'].unique().shape[0])\n",
    "print('Total number of songs:',df_new['song_id'].unique().shape[0])\n",
    "print('Total number of tracks:',df_new['taste_id'].unique().shape[0])"
   ]
  },
  {
   "cell_type": "code",
   "execution_count": 11,
   "metadata": {},
   "outputs": [
    {
     "name": "stdout",
     "output_type": "stream",
     "text": [
      "Number of Unique Release 121476\n",
      "Number of Unique Artist 26487\n"
     ]
    }
   ],
   "source": [
    "print('Number of Unique Release',df_new['song_name'].unique().shape[0])\n",
    "print('Number of Unique Artist',df_new['artist'].unique().shape[0])"
   ]
  },
  {
   "cell_type": "code",
   "execution_count": 12,
   "metadata": {},
   "outputs": [
    {
     "data": {
      "text/html": [
       "<div>\n",
       "<style scoped>\n",
       "    .dataframe tbody tr th:only-of-type {\n",
       "        vertical-align: middle;\n",
       "    }\n",
       "\n",
       "    .dataframe tbody tr th {\n",
       "        vertical-align: top;\n",
       "    }\n",
       "\n",
       "    .dataframe thead th {\n",
       "        text-align: right;\n",
       "    }\n",
       "</style>\n",
       "<table border=\"1\" class=\"dataframe\">\n",
       "  <thead>\n",
       "    <tr style=\"text-align: right;\">\n",
       "      <th></th>\n",
       "      <th>count</th>\n",
       "    </tr>\n",
       "  </thead>\n",
       "  <tbody>\n",
       "    <tr>\n",
       "      <th>count</th>\n",
       "      <td>1.048575e+06</td>\n",
       "    </tr>\n",
       "    <tr>\n",
       "      <th>mean</th>\n",
       "      <td>3.181250e+00</td>\n",
       "    </tr>\n",
       "    <tr>\n",
       "      <th>std</th>\n",
       "      <td>7.070194e+00</td>\n",
       "    </tr>\n",
       "    <tr>\n",
       "      <th>min</th>\n",
       "      <td>1.000000e+00</td>\n",
       "    </tr>\n",
       "    <tr>\n",
       "      <th>25%</th>\n",
       "      <td>1.000000e+00</td>\n",
       "    </tr>\n",
       "    <tr>\n",
       "      <th>50%</th>\n",
       "      <td>1.000000e+00</td>\n",
       "    </tr>\n",
       "    <tr>\n",
       "      <th>75%</th>\n",
       "      <td>3.000000e+00</td>\n",
       "    </tr>\n",
       "    <tr>\n",
       "      <th>max</th>\n",
       "      <td>6.460000e+02</td>\n",
       "    </tr>\n",
       "  </tbody>\n",
       "</table>\n",
       "</div>"
      ],
      "text/plain": [
       "              count\n",
       "count  1.048575e+06\n",
       "mean   3.181250e+00\n",
       "std    7.070194e+00\n",
       "min    1.000000e+00\n",
       "25%    1.000000e+00\n",
       "50%    1.000000e+00\n",
       "75%    3.000000e+00\n",
       "max    6.460000e+02"
      ]
     },
     "execution_count": 12,
     "metadata": {},
     "output_type": "execute_result"
    }
   ],
   "source": [
    "df_new.describe()"
   ]
  },
  {
   "cell_type": "code",
   "execution_count": 13,
   "metadata": {},
   "outputs": [
    {
     "data": {
      "image/png": "[encoded data removed]",
      "text/plain": [
       "<Figure size 360x360 with 1 Axes>"
      ]
     },
     "metadata": {
      "needs_background": "light"
     },
     "output_type": "display_data"
    }
   ],
   "source": [
    "plt.figure(figsize=(5,5))\n",
    "sns.kdeplot(df_new['count'], shade=True);"
   ]
  },
  {
   "cell_type": "code",
   "execution_count": 14,
   "metadata": {
    "scrolled": true
   },
   "outputs": [
    {
     "data": {
      "text/plain": [
       "user_id      object\n",
       "song_id      object\n",
       "count         int64\n",
       "taste_id     object\n",
       "artist       object\n",
       "song_name    object\n",
       "dtype: object"
      ]
     },
     "execution_count": 14,
     "metadata": {},
     "output_type": "execute_result"
    }
   ],
   "source": [
    "df_new.dtypes"
   ]
  },
  {
   "cell_type": "markdown",
   "metadata": {},
   "source": [
    "## Using the groupby"
   ]
  },
  {
   "cell_type": "code",
   "execution_count": 15,
   "metadata": {},
   "outputs": [],
   "source": [
    "x=df_new.groupby(['user_id','count','song_id','taste_id'])"
   ]
  },
  {
   "cell_type": "code",
   "execution_count": 16,
   "metadata": {
    "scrolled": true
   },
   "outputs": [
    {
     "data": {
      "text/html": [
       "<div>\n",
       "<style scoped>\n",
       "    .dataframe tbody tr th:only-of-type {\n",
       "        vertical-align: middle;\n",
       "    }\n",
       "\n",
       "    .dataframe tbody tr th {\n",
       "        vertical-align: top;\n",
       "    }\n",
       "\n",
       "    .dataframe thead th {\n",
       "        text-align: right;\n",
       "    }\n",
       "</style>\n",
       "<table border=\"1\" class=\"dataframe\">\n",
       "  <thead>\n",
       "    <tr style=\"text-align: right;\">\n",
       "      <th></th>\n",
       "      <th></th>\n",
       "      <th></th>\n",
       "      <th></th>\n",
       "      <th>artist</th>\n",
       "      <th>song_name</th>\n",
       "    </tr>\n",
       "    <tr>\n",
       "      <th>user_id</th>\n",
       "      <th>count</th>\n",
       "      <th>song_id</th>\n",
       "      <th>taste_id</th>\n",
       "      <th></th>\n",
       "      <th></th>\n",
       "    </tr>\n",
       "  </thead>\n",
       "  <tbody>\n",
       "    <tr>\n",
       "      <th rowspan=\"5\" valign=\"top\">00007a02388c208ea7176479f6ae06f8224355b3</th>\n",
       "      <th rowspan=\"5\" valign=\"top\">1</th>\n",
       "      <th>SONGABP12A8C1442D4</th>\n",
       "      <th>TRPELED128F92C577D</th>\n",
       "      <td>Stone Temple Pilots</td>\n",
       "      <td>Interstate Love Song (LP Version)</td>\n",
       "    </tr>\n",
       "    <tr>\n",
       "      <th>SONZGLW12A6D4FBBC1</th>\n",
       "      <th>TRFNAOK128F92F4B77</th>\n",
       "      <td>Sam Sparro</td>\n",
       "      <td>Black &amp; Gold</td>\n",
       "    </tr>\n",
       "    <tr>\n",
       "      <th>SOSPTOE12A6D4F938C</th>\n",
       "      <th>TRDPXKD128F1499EF3</th>\n",
       "      <td>Local H</td>\n",
       "      <td>Bound For The Floor</td>\n",
       "    </tr>\n",
       "    <tr>\n",
       "      <th>SOTNDOM12AF729CADB</th>\n",
       "      <th>TRGZUAD128F421CE5E</th>\n",
       "      <td>Sam Sparro</td>\n",
       "      <td>Cottonmouth</td>\n",
       "    </tr>\n",
       "    <tr>\n",
       "      <th>SOXMOQF12A6701FB8B</th>\n",
       "      <th>TRZUWSX128F92F491A</th>\n",
       "      <td>No Doubt</td>\n",
       "      <td>Spiderwebs</td>\n",
       "    </tr>\n",
       "    <tr>\n",
       "      <th>...</th>\n",
       "      <th>...</th>\n",
       "      <th>...</th>\n",
       "      <th>...</th>\n",
       "      <td>...</td>\n",
       "      <td>...</td>\n",
       "    </tr>\n",
       "    <tr>\n",
       "      <th rowspan=\"5\" valign=\"top\">ffff07d7d9bb187aa58c7b81b3d3f35e7cf7c0ee</th>\n",
       "      <th rowspan=\"2\" valign=\"top\">1</th>\n",
       "      <th>SOKTVCV12AB017E793</th>\n",
       "      <th>TRCWCYC128F9343086</th>\n",
       "      <td>Fabolous / Keri Hilson</td>\n",
       "      <td>Everything_ Everyday_ Everywhere</td>\n",
       "    </tr>\n",
       "    <tr>\n",
       "      <th>SOUSQCN12A8C133302</th>\n",
       "      <th>TROXXYE128F4267245</th>\n",
       "      <td>Destiny's Child</td>\n",
       "      <td>Say My Name</td>\n",
       "    </tr>\n",
       "    <tr>\n",
       "      <th>2</th>\n",
       "      <th>SODKXYM12A8C1383FB</th>\n",
       "      <th>TROHVOE128F4276FAB</th>\n",
       "      <td>Reni Jusis</td>\n",
       "      <td>Raczej Inaczej</td>\n",
       "    </tr>\n",
       "    <tr>\n",
       "      <th>5</th>\n",
       "      <th>SOOPDFE12A8C1386BB</th>\n",
       "      <th>TRCAQLO128F4284DD0</th>\n",
       "      <td>Kenny G</td>\n",
       "      <td>Tradewinds</td>\n",
       "    </tr>\n",
       "    <tr>\n",
       "      <th>25</th>\n",
       "      <th>SOPSVIR12A8C138BB5</th>\n",
       "      <th>TRXFYCU128F4258741</th>\n",
       "      <td>Bauhaus</td>\n",
       "      <td>Ziggy Stardust</td>\n",
       "    </tr>\n",
       "  </tbody>\n",
       "</table>\n",
       "<p>1048575 rows × 2 columns</p>\n",
       "</div>"
      ],
      "text/plain": [
       "                                                                                                      artist  \\\n",
       "user_id                                  count song_id            taste_id                                     \n",
       "00007a02388c208ea7176479f6ae06f8224355b3 1     SONGABP12A8C1442D4 TRPELED128F92C577D     Stone Temple Pilots   \n",
       "                                               SONZGLW12A6D4FBBC1 TRFNAOK128F92F4B77              Sam Sparro   \n",
       "                                               SOSPTOE12A6D4F938C TRDPXKD128F1499EF3                 Local H   \n",
       "                                               SOTNDOM12AF729CADB TRGZUAD128F421CE5E              Sam Sparro   \n",
       "                                               SOXMOQF12A6701FB8B TRZUWSX128F92F491A                No Doubt   \n",
       "...                                                                                                      ...   \n",
       "ffff07d7d9bb187aa58c7b81b3d3f35e7cf7c0ee 1     SOKTVCV12AB017E793 TRCWCYC128F9343086  Fabolous / Keri Hilson   \n",
       "                                               SOUSQCN12A8C133302 TROXXYE128F4267245         Destiny's Child   \n",
       "                                         2     SODKXYM12A8C1383FB TROHVOE128F4276FAB              Reni Jusis   \n",
       "                                         5     SOOPDFE12A8C1386BB TRCAQLO128F4284DD0                 Kenny G   \n",
       "                                         25    SOPSVIR12A8C138BB5 TRXFYCU128F4258741                 Bauhaus   \n",
       "\n",
       "                                                                                                              song_name  \n",
       "user_id                                  count song_id            taste_id                                               \n",
       "00007a02388c208ea7176479f6ae06f8224355b3 1     SONGABP12A8C1442D4 TRPELED128F92C577D  Interstate Love Song (LP Version)  \n",
       "                                               SONZGLW12A6D4FBBC1 TRFNAOK128F92F4B77                       Black & Gold  \n",
       "                                               SOSPTOE12A6D4F938C TRDPXKD128F1499EF3                Bound For The Floor  \n",
       "                                               SOTNDOM12AF729CADB TRGZUAD128F421CE5E                        Cottonmouth  \n",
       "                                               SOXMOQF12A6701FB8B TRZUWSX128F92F491A                         Spiderwebs  \n",
       "...                                                                                                                 ...  \n",
       "ffff07d7d9bb187aa58c7b81b3d3f35e7cf7c0ee 1     SOKTVCV12AB017E793 TRCWCYC128F9343086   Everything_ Everyday_ Everywhere  \n",
       "                                               SOUSQCN12A8C133302 TROXXYE128F4267245                        Say My Name  \n",
       "                                         2     SODKXYM12A8C1383FB TROHVOE128F4276FAB                     Raczej Inaczej  \n",
       "                                         5     SOOPDFE12A8C1386BB TRCAQLO128F4284DD0                         Tradewinds  \n",
       "                                         25    SOPSVIR12A8C138BB5 TRXFYCU128F4258741                     Ziggy Stardust  \n",
       "\n",
       "[1048575 rows x 2 columns]"
      ]
     },
     "execution_count": 16,
     "metadata": {},
     "output_type": "execute_result"
    }
   ],
   "source": [
    "x.first()"
   ]
  },
  {
   "cell_type": "code",
   "execution_count": 17,
   "metadata": {},
   "outputs": [],
   "source": [
    "x1=df_new.groupby(['song_id','count'])"
   ]
  },
  {
   "cell_type": "code",
   "execution_count": 18,
   "metadata": {
    "scrolled": false
   },
   "outputs": [
    {
     "data": {
      "text/html": [
       "<div>\n",
       "<style scoped>\n",
       "    .dataframe tbody tr th:only-of-type {\n",
       "        vertical-align: middle;\n",
       "    }\n",
       "\n",
       "    .dataframe tbody tr th {\n",
       "        vertical-align: top;\n",
       "    }\n",
       "\n",
       "    .dataframe thead th {\n",
       "        text-align: right;\n",
       "    }\n",
       "</style>\n",
       "<table border=\"1\" class=\"dataframe\">\n",
       "  <thead>\n",
       "    <tr style=\"text-align: right;\">\n",
       "      <th></th>\n",
       "      <th></th>\n",
       "      <th>user_id</th>\n",
       "      <th>taste_id</th>\n",
       "      <th>artist</th>\n",
       "      <th>song_name</th>\n",
       "    </tr>\n",
       "    <tr>\n",
       "      <th>song_id</th>\n",
       "      <th>count</th>\n",
       "      <th></th>\n",
       "      <th></th>\n",
       "      <th></th>\n",
       "      <th></th>\n",
       "    </tr>\n",
       "  </thead>\n",
       "  <tbody>\n",
       "    <tr>\n",
       "      <th>SOAAAFI12A6D4F9C66</th>\n",
       "      <th>1</th>\n",
       "      <td>d075a43b518c724d8498db70b623eda22cfd2f45</td>\n",
       "      <td>TRZEXLQ128F1491D17</td>\n",
       "      <td>I Love You But I've Chosen Darkness</td>\n",
       "      <td>The Less You See</td>\n",
       "    </tr>\n",
       "    <tr>\n",
       "      <th>SOAAAGK12AB0189572</th>\n",
       "      <th>2</th>\n",
       "      <td>8184aaddf11c4892fdd93fba7dc5e54f8d72eefb</td>\n",
       "      <td>TRDZUFJ12903CE29FC</td>\n",
       "      <td>Au Revoir Simone</td>\n",
       "      <td>Grateful</td>\n",
       "    </tr>\n",
       "    <tr>\n",
       "      <th rowspan=\"3\" valign=\"top\">SOAAAGQ12A8C1420C8</th>\n",
       "      <th>1</th>\n",
       "      <td>0b91b7ba26eea486bcc6aee4e345cbbfe308c4a0</td>\n",
       "      <td>TRJWZII128F92CA924</td>\n",
       "      <td>Bohren &amp; Der Club Of Gore</td>\n",
       "      <td>Orgelblut</td>\n",
       "    </tr>\n",
       "    <tr>\n",
       "      <th>2</th>\n",
       "      <td>4e0a4bcaa5b34b553e61cb6d795ec79d152d4c22</td>\n",
       "      <td>TRJWZII128F92CA924</td>\n",
       "      <td>Bohren &amp; Der Club Of Gore</td>\n",
       "      <td>Orgelblut</td>\n",
       "    </tr>\n",
       "    <tr>\n",
       "      <th>3</th>\n",
       "      <td>89dfb6294d50df97808bacf71854bd75263b6fef</td>\n",
       "      <td>TRJWZII128F92CA924</td>\n",
       "      <td>Bohren &amp; Der Club Of Gore</td>\n",
       "      <td>Orgelblut</td>\n",
       "    </tr>\n",
       "    <tr>\n",
       "      <th>...</th>\n",
       "      <th>...</th>\n",
       "      <td>...</td>\n",
       "      <td>...</td>\n",
       "      <td>...</td>\n",
       "      <td>...</td>\n",
       "    </tr>\n",
       "    <tr>\n",
       "      <th rowspan=\"3\" valign=\"top\">SOZZZPV12A8C1444B5</th>\n",
       "      <th>16</th>\n",
       "      <td>09a1e24438a7c689c31092c01f1f07fcdddc0232</td>\n",
       "      <td>TRUXMIW128F92F999F</td>\n",
       "      <td>Blacks ft. P Money</td>\n",
       "      <td>Fall Back</td>\n",
       "    </tr>\n",
       "    <tr>\n",
       "      <th>17</th>\n",
       "      <td>50af13d5cf3561df99480d2d2dca08ea8f4391de</td>\n",
       "      <td>TRUXMIW128F92F999F</td>\n",
       "      <td>Blacks ft. P Money</td>\n",
       "      <td>Fall Back</td>\n",
       "    </tr>\n",
       "    <tr>\n",
       "      <th>19</th>\n",
       "      <td>7f50bd1bc97d7cca44611fa3036ad3c130561d40</td>\n",
       "      <td>TRUXMIW128F92F999F</td>\n",
       "      <td>Blacks ft. P Money</td>\n",
       "      <td>Fall Back</td>\n",
       "    </tr>\n",
       "    <tr>\n",
       "      <th>SOZZZRV12A8C1361F1</th>\n",
       "      <th>1</th>\n",
       "      <td>9f3e83cd1438ce627fdf1f4569e5ad39d3b58bdb</td>\n",
       "      <td>TRCEWAR128F425D1B6</td>\n",
       "      <td>Sangre Azul</td>\n",
       "      <td>Cuerpo A Cuerpo</td>\n",
       "    </tr>\n",
       "    <tr>\n",
       "      <th>SOZZZWN12AF72A1E29</th>\n",
       "      <th>1</th>\n",
       "      <td>e56969ef30872d84ac6595521fae715ba455d067</td>\n",
       "      <td>TRLAYKX128F92E728C</td>\n",
       "      <td>James McMurtry</td>\n",
       "      <td>Peter Pan</td>\n",
       "    </tr>\n",
       "  </tbody>\n",
       "</table>\n",
       "<p>331270 rows × 4 columns</p>\n",
       "</div>"
      ],
      "text/plain": [
       "                                                           user_id  \\\n",
       "song_id            count                                             \n",
       "SOAAAFI12A6D4F9C66 1      d075a43b518c724d8498db70b623eda22cfd2f45   \n",
       "SOAAAGK12AB0189572 2      8184aaddf11c4892fdd93fba7dc5e54f8d72eefb   \n",
       "SOAAAGQ12A8C1420C8 1      0b91b7ba26eea486bcc6aee4e345cbbfe308c4a0   \n",
       "                   2      4e0a4bcaa5b34b553e61cb6d795ec79d152d4c22   \n",
       "                   3      89dfb6294d50df97808bacf71854bd75263b6fef   \n",
       "...                                                            ...   \n",
       "SOZZZPV12A8C1444B5 16     09a1e24438a7c689c31092c01f1f07fcdddc0232   \n",
       "                   17     50af13d5cf3561df99480d2d2dca08ea8f4391de   \n",
       "                   19     7f50bd1bc97d7cca44611fa3036ad3c130561d40   \n",
       "SOZZZRV12A8C1361F1 1      9f3e83cd1438ce627fdf1f4569e5ad39d3b58bdb   \n",
       "SOZZZWN12AF72A1E29 1      e56969ef30872d84ac6595521fae715ba455d067   \n",
       "\n",
       "                                    taste_id  \\\n",
       "song_id            count                       \n",
       "SOAAAFI12A6D4F9C66 1      TRZEXLQ128F1491D17   \n",
       "SOAAAGK12AB0189572 2      TRDZUFJ12903CE29FC   \n",
       "SOAAAGQ12A8C1420C8 1      TRJWZII128F92CA924   \n",
       "                   2      TRJWZII128F92CA924   \n",
       "                   3      TRJWZII128F92CA924   \n",
       "...                                      ...   \n",
       "SOZZZPV12A8C1444B5 16     TRUXMIW128F92F999F   \n",
       "                   17     TRUXMIW128F92F999F   \n",
       "                   19     TRUXMIW128F92F999F   \n",
       "SOZZZRV12A8C1361F1 1      TRCEWAR128F425D1B6   \n",
       "SOZZZWN12AF72A1E29 1      TRLAYKX128F92E728C   \n",
       "\n",
       "                                                       artist  \\\n",
       "song_id            count                                        \n",
       "SOAAAFI12A6D4F9C66 1      I Love You But I've Chosen Darkness   \n",
       "SOAAAGK12AB0189572 2                         Au Revoir Simone   \n",
       "SOAAAGQ12A8C1420C8 1                Bohren & Der Club Of Gore   \n",
       "                   2                Bohren & Der Club Of Gore   \n",
       "                   3                Bohren & Der Club Of Gore   \n",
       "...                                                       ...   \n",
       "SOZZZPV12A8C1444B5 16                      Blacks ft. P Money   \n",
       "                   17                      Blacks ft. P Money   \n",
       "                   19                      Blacks ft. P Money   \n",
       "SOZZZRV12A8C1361F1 1                              Sangre Azul   \n",
       "SOZZZWN12AF72A1E29 1                           James McMurtry   \n",
       "\n",
       "                                 song_name  \n",
       "song_id            count                    \n",
       "SOAAAFI12A6D4F9C66 1      The Less You See  \n",
       "SOAAAGK12AB0189572 2              Grateful  \n",
       "SOAAAGQ12A8C1420C8 1             Orgelblut  \n",
       "                   2             Orgelblut  \n",
       "                   3             Orgelblut  \n",
       "...                                    ...  \n",
       "SOZZZPV12A8C1444B5 16            Fall Back  \n",
       "                   17            Fall Back  \n",
       "                   19            Fall Back  \n",
       "SOZZZRV12A8C1361F1 1       Cuerpo A Cuerpo  \n",
       "SOZZZWN12AF72A1E29 1             Peter Pan  \n",
       "\n",
       "[331270 rows x 4 columns]"
      ]
     },
     "execution_count": 18,
     "metadata": {},
     "output_type": "execute_result"
    }
   ],
   "source": [
    "x1.first()"
   ]
  },
  {
   "cell_type": "markdown",
   "metadata": {},
   "source": [
    "## Exploring dataset"
   ]
  },
  {
   "cell_type": "markdown",
   "metadata": {},
   "source": [
    "## Analysis of user_id"
   ]
  },
  {
   "cell_type": "code",
   "execution_count": 19,
   "metadata": {
    "scrolled": true
   },
   "outputs": [
    {
     "data": {
      "text/html": [
       "<div>\n",
       "<style scoped>\n",
       "    .dataframe tbody tr th:only-of-type {\n",
       "        vertical-align: middle;\n",
       "    }\n",
       "\n",
       "    .dataframe tbody tr th {\n",
       "        vertical-align: top;\n",
       "    }\n",
       "\n",
       "    .dataframe thead th {\n",
       "        text-align: right;\n",
       "    }\n",
       "</style>\n",
       "<table border=\"1\" class=\"dataframe\">\n",
       "  <thead>\n",
       "    <tr style=\"text-align: right;\">\n",
       "      <th></th>\n",
       "      <th>user_id</th>\n",
       "      <th>count</th>\n",
       "    </tr>\n",
       "  </thead>\n",
       "  <tbody>\n",
       "    <tr>\n",
       "      <th>39030</th>\n",
       "      <td>7d90be8dfdbde170f036ce8a4b915440137cb11c</td>\n",
       "      <td>53</td>\n",
       "    </tr>\n",
       "    <tr>\n",
       "      <th>4813</th>\n",
       "      <td>0f8308935bcbb9a1e04ebb7c4d41c037e5f23b90</td>\n",
       "      <td>52</td>\n",
       "    </tr>\n",
       "    <tr>\n",
       "      <th>14496</th>\n",
       "      <td>2e424b28bff1f62a2dae22a918f09f9c30c06d1b</td>\n",
       "      <td>52</td>\n",
       "    </tr>\n",
       "    <tr>\n",
       "      <th>445</th>\n",
       "      <td>016a24e91a72c159a5048ab1b9b2ba5ce761b526</td>\n",
       "      <td>52</td>\n",
       "    </tr>\n",
       "    <tr>\n",
       "      <th>65523</th>\n",
       "      <td>d30e18323f15426c3cdc8585252ed34459916f51</td>\n",
       "      <td>52</td>\n",
       "    </tr>\n",
       "    <tr>\n",
       "      <th>...</th>\n",
       "      <td>...</td>\n",
       "      <td>...</td>\n",
       "    </tr>\n",
       "    <tr>\n",
       "      <th>33517</th>\n",
       "      <td>6bcb76befd192b0b51898caaa2ffae1b507db95a</td>\n",
       "      <td>5</td>\n",
       "    </tr>\n",
       "    <tr>\n",
       "      <th>67820</th>\n",
       "      <td>da768496925a3df0986c10b634e66a3d0dcdc19d</td>\n",
       "      <td>5</td>\n",
       "    </tr>\n",
       "    <tr>\n",
       "      <th>33527</th>\n",
       "      <td>6bd8287b6cde35f145cfe72ea67021d61d42dc23</td>\n",
       "      <td>5</td>\n",
       "    </tr>\n",
       "    <tr>\n",
       "      <th>72655</th>\n",
       "      <td>ea402a1d523dba446f60ea3d4f38144322c68aa7</td>\n",
       "      <td>5</td>\n",
       "    </tr>\n",
       "    <tr>\n",
       "      <th>39725</th>\n",
       "      <td>7fe5b2a608a2aed9c658ea8546b5433efb904a46</td>\n",
       "      <td>5</td>\n",
       "    </tr>\n",
       "  </tbody>\n",
       "</table>\n",
       "<p>79451 rows × 2 columns</p>\n",
       "</div>"
      ],
      "text/plain": [
       "                                        user_id  count\n",
       "39030  7d90be8dfdbde170f036ce8a4b915440137cb11c     53\n",
       "4813   0f8308935bcbb9a1e04ebb7c4d41c037e5f23b90     52\n",
       "14496  2e424b28bff1f62a2dae22a918f09f9c30c06d1b     52\n",
       "445    016a24e91a72c159a5048ab1b9b2ba5ce761b526     52\n",
       "65523  d30e18323f15426c3cdc8585252ed34459916f51     52\n",
       "...                                         ...    ...\n",
       "33517  6bcb76befd192b0b51898caaa2ffae1b507db95a      5\n",
       "67820  da768496925a3df0986c10b634e66a3d0dcdc19d      5\n",
       "33527  6bd8287b6cde35f145cfe72ea67021d61d42dc23      5\n",
       "72655  ea402a1d523dba446f60ea3d4f38144322c68aa7      5\n",
       "39725  7fe5b2a608a2aed9c658ea8546b5433efb904a46      5\n",
       "\n",
       "[79451 rows x 2 columns]"
      ]
     },
     "execution_count": 19,
     "metadata": {},
     "output_type": "execute_result"
    }
   ],
   "source": [
    "song_grogsruped = df_new.groupby(['user_id']).agg({'count':'count'}).reset_index()\n",
    "song_grogsruped.sort_values(['count'],ascending= False)"
   ]
  },
  {
   "cell_type": "markdown",
   "metadata": {},
   "source": [
    "## Analysis of artist"
   ]
  },
  {
   "cell_type": "code",
   "execution_count": 20,
   "metadata": {
    "scrolled": true
   },
   "outputs": [
    {
     "data": {
      "text/html": [
       "<div>\n",
       "<style scoped>\n",
       "    .dataframe tbody tr th:only-of-type {\n",
       "        vertical-align: middle;\n",
       "    }\n",
       "\n",
       "    .dataframe tbody tr th {\n",
       "        vertical-align: top;\n",
       "    }\n",
       "\n",
       "    .dataframe thead th {\n",
       "        text-align: right;\n",
       "    }\n",
       "</style>\n",
       "<table border=\"1\" class=\"dataframe\">\n",
       "  <thead>\n",
       "    <tr style=\"text-align: right;\">\n",
       "      <th></th>\n",
       "      <th>artist</th>\n",
       "      <th>count</th>\n",
       "    </tr>\n",
       "  </thead>\n",
       "  <tbody>\n",
       "    <tr>\n",
       "      <th>0</th>\n",
       "      <td>!!!</td>\n",
       "      <td>72</td>\n",
       "    </tr>\n",
       "    <tr>\n",
       "      <th>1</th>\n",
       "      <td>!Deladap</td>\n",
       "      <td>2</td>\n",
       "    </tr>\n",
       "    <tr>\n",
       "      <th>2</th>\n",
       "      <td>&amp; And Oceans</td>\n",
       "      <td>1</td>\n",
       "    </tr>\n",
       "    <tr>\n",
       "      <th>3</th>\n",
       "      <td>'68 Comeback</td>\n",
       "      <td>19</td>\n",
       "    </tr>\n",
       "    <tr>\n",
       "      <th>4</th>\n",
       "      <td>'N Sync/Phil Collins</td>\n",
       "      <td>40</td>\n",
       "    </tr>\n",
       "  </tbody>\n",
       "</table>\n",
       "</div>"
      ],
      "text/plain": [
       "                 artist  count\n",
       "0                   !!!     72\n",
       "1              !Deladap      2\n",
       "2          & And Oceans      1\n",
       "3          '68 Comeback     19\n",
       "4  'N Sync/Phil Collins     40"
      ]
     },
     "execution_count": 20,
     "metadata": {},
     "output_type": "execute_result"
    }
   ],
   "source": [
    "artist_group = df_new.groupby(['artist']).agg({'count':'count'}).reset_index()\n",
    "artist_group.sort_values('count')\n",
    "artist_group.head()"
   ]
  },
  {
   "cell_type": "code",
   "execution_count": 21,
   "metadata": {
    "scrolled": true
   },
   "outputs": [
    {
     "data": {
      "text/plain": [
       "array(['Yellow', 'The Scientist', 'Fix You', \"Don't Panic\", 'Sparks',\n",
       "       'Clocks', 'Life In Technicolor ii', 'Such A Rush',\n",
       "       'Fix You (Live)', 'Speed Of Sound', 'Lost!',\n",
       "       'God Put A Smile Upon Your Face', 'Brothers & Sisters',\n",
       "       'A Rush Of Blood To The Head', 'Clocks (Live In Sydney)',\n",
       "       'One I Love', 'For You', 'You Only Live Twice (Live From Norway)',\n",
       "       'Shiver', 'Swallowed In The Sea', 'In My Place',\n",
       "       'Postcards From Far Away', 'Glass Of Water',\n",
       "       \"Things I Don't Understand\", 'Strawberry Swing', '42',\n",
       "       'Til Kingdom Come', 'The Goldrush', 'X & Y', 'Life In Technicolor',\n",
       "       'We Never Change', 'Bigger Stronger', 'What If', 'Trouble',\n",
       "       \"Everything's Not Lost (Includes Hidden Track 'Life Is For Living')\",\n",
       "       'Only Superstition', 'Politik', 'Careful Where You Stand',\n",
       "       'Warning Sign', 'See You Soon', 'Spies', 'Cemeteries Of London',\n",
       "       'A Whisper', 'A Message', 'Square One', 'Low', 'I Bloom Blaum',\n",
       "       'I Ran Away', 'The World Turned Upside Down',\n",
       "       'Talk (Junkie XL Remix)', 'Help Is Round The Corner', 'Daylight',\n",
       "       'Yes', 'High Speed', \"Now My Feet Won't Touch The Ground\",\n",
       "       'Twisted Logic', 'Violet Hill', 'White Shadows',\n",
       "       'See You Soon (Live In Sydney)', 'Proof', 'Amsterdam', '1.36',\n",
       "       'Shiver (Live In Sydney)',\n",
       "       \"Everything's Not Lost (Live In Sydney)\",\n",
       "       'A Rush Of Blood To The Head (Live In Sydney)',\n",
       "       'Yellow (Live In Sydney)', 'Talk (Francois K Dub)', 'Sleeping Sun',\n",
       "       'Pour Me (Live At The Hollywood Bowl)', 'Lost?',\n",
       "       'Moses (Live In Sydney)',\n",
       "       'Life In Technicolor ii (Live @ The O2_ London)',\n",
       "       'In My Place (Live In Sydney)', 'Talk (Thin White Duke Mix)',\n",
       "       'Speed Of Sound (Live)', 'Amsterdam (Live In Sydney)'],\n",
       "      dtype=object)"
      ]
     },
     "execution_count": 21,
     "metadata": {},
     "output_type": "execute_result"
    }
   ],
   "source": [
    "df_new[df_new['artist']=='Coldplay']['song_name'].unique()"
   ]
  },
  {
   "cell_type": "code",
   "execution_count": 22,
   "metadata": {
    "scrolled": false
   },
   "outputs": [
    {
     "data": {
      "text/plain": [
       "array(['Somebody To Love', 'Down To Earth', 'One Time', 'U Smile',\n",
       "       'Favorite Girl', 'Love Me', 'Common Denominator',\n",
       "       'Never Let You Go', 'Stuck In The Moment', 'Up',\n",
       "       'One Less Lonely Girl', 'That Should Be Me', 'Bigger',\n",
       "       'Runaway Love'], dtype=object)"
      ]
     },
     "execution_count": 22,
     "metadata": {},
     "output_type": "execute_result"
    }
   ],
   "source": [
    "df_new[df_new['artist']=='Justin Bieber']['song_name'].unique()"
   ]
  },
  {
   "cell_type": "code",
   "execution_count": 23,
   "metadata": {},
   "outputs": [
    {
     "data": {
      "text/plain": [
       "0                          !!!\n",
       "1                     !Deladap\n",
       "2                 & And Oceans\n",
       "3                 '68 Comeback\n",
       "4         'N Sync/Phil Collins\n",
       "                 ...          \n",
       "26482          Ã“lafur Arnalds\n",
       "26483           Ã‰rika Machado\n",
       "26484            Ã‰tienne Daho\n",
       "26485    Ã�ngeles del Infierno\n",
       "26486                     Ã�on\n",
       "Name: artist, Length: 26487, dtype: object"
      ]
     },
     "execution_count": 23,
     "metadata": {},
     "output_type": "execute_result"
    }
   ],
   "source": [
    "artist_group['artist']"
   ]
  },
  {
   "cell_type": "code",
   "execution_count": 24,
   "metadata": {},
   "outputs": [],
   "source": [
    "artist_per_users=df_new['artist'].value_counts()\n",
    "sorted_artist_per_user=artist_per_users.sort_values(ascending= False)"
   ]
  },
  {
   "cell_type": "code",
   "execution_count": 25,
   "metadata": {
    "scrolled": true
   },
   "outputs": [
    {
     "ename": "TypeError",
     "evalue": "kdeplot() missing 1 required positional argument: 'data'",
     "output_type": "error",
     "traceback": [
      "\u001b[1;31m---------------------------------------------------------------------------\u001b[0m",
      "\u001b[1;31mTypeError\u001b[0m                                 Traceback (most recent call last)",
      "\u001b[1;32m<ipython-input-25-8aead3095e6f>\u001b[0m in \u001b[0;36m<module>\u001b[1;34m\u001b[0m\n\u001b[0;32m      1\u001b[0m \u001b[0mplt\u001b[0m\u001b[1;33m.\u001b[0m\u001b[0mfigure\u001b[0m\u001b[1;33m(\u001b[0m\u001b[0mfigsize\u001b[0m\u001b[1;33m=\u001b[0m\u001b[1;33m(\u001b[0m\u001b[1;36m5\u001b[0m\u001b[1;33m,\u001b[0m\u001b[1;36m5\u001b[0m\u001b[1;33m)\u001b[0m\u001b[1;33m)\u001b[0m\u001b[1;33m\u001b[0m\u001b[1;33m\u001b[0m\u001b[0m\n\u001b[1;32m----> 2\u001b[1;33m \u001b[0msns\u001b[0m\u001b[1;33m.\u001b[0m\u001b[0mkdeplot\u001b[0m\u001b[1;33m(\u001b[0m\u001b[0mx\u001b[0m\u001b[1;33m=\u001b[0m \u001b[0msorted_artist_per_user\u001b[0m\u001b[1;33m,\u001b[0m \u001b[0mshade\u001b[0m\u001b[1;33m=\u001b[0m \u001b[1;32mFalse\u001b[0m\u001b[1;33m)\u001b[0m\u001b[1;33m\u001b[0m\u001b[1;33m\u001b[0m\u001b[0m\n\u001b[0m",
      "\u001b[1;31mTypeError\u001b[0m: kdeplot() missing 1 required positional argument: 'data'"
     ]
    },
    {
     "data": {
      "text/plain": [
       "<Figure size 360x360 with 0 Axes>"
      ]
     },
     "metadata": {},
     "output_type": "display_data"
    }
   ],
   "source": [
    "plt.figure(figsize=(5,5))\n",
    "sns.kdeplot(x= sorted_artist_per_user, shade= False)"
   ]
  },
  {
   "cell_type": "markdown",
   "metadata": {},
   "source": [
    "## Analysis of song_name"
   ]
  },
  {
   "cell_type": "code",
   "execution_count": 26,
   "metadata": {},
   "outputs": [],
   "source": [
    "song_name_per_users=df_new['song_name'].value_counts()"
   ]
  },
  {
   "cell_type": "code",
   "execution_count": 27,
   "metadata": {},
   "outputs": [],
   "source": [
    "song_name_per_usesrs=df_new['song_name'].value_counts().sum()"
   ]
  },
  {
   "cell_type": "code",
   "execution_count": 28,
   "metadata": {},
   "outputs": [
    {
     "data": {
      "text/plain": [
       "1048574"
      ]
     },
     "execution_count": 28,
     "metadata": {},
     "output_type": "execute_result"
    }
   ],
   "source": [
    "song_name_per_usesrs "
   ]
  },
  {
   "cell_type": "code",
   "execution_count": 29,
   "metadata": {
    "scrolled": false
   },
   "outputs": [
    {
     "data": {
      "text/plain": [
       "Uno Mas                        1\n",
       "Starve A Fever (LP Version)    1\n",
       "ALMS                           1\n",
       "Vicissitudes                   1\n",
       "Mass Observation               1\n",
       "Name: song_name, dtype: int64"
      ]
     },
     "execution_count": 29,
     "metadata": {},
     "output_type": "execute_result"
    }
   ],
   "source": [
    "song_name_per_users.sort_values().head()"
   ]
  },
  {
   "cell_type": "code",
   "execution_count": 30,
   "metadata": {},
   "outputs": [
    {
     "data": {
      "text/plain": [
       "Ain't Misbehavin                                                       1229\n",
       "Canada                                                                 1242\n",
       "ReprÃ©sente                                                            1250\n",
       "The Scientist                                                          1268\n",
       "SinceritÃ© Et Jalousie                                                 1301\n",
       "Use Somebody                                                           1377\n",
       "Marry Me                                                               1444\n",
       "Catch You Baby (Steve Pitron & Max Sanna Radio Edit)                   1530\n",
       "OMG                                                                    1600\n",
       "Drop The World                                                         1625\n",
       "Tive Sim                                                               1937\n",
       "Fireflies                                                              1999\n",
       "Hey_ Soul Sister                                                       2049\n",
       "Horn Concerto No. 4 in E flat K495: II. Romance (Andante cantabile)    2397\n",
       "Secrets                                                                2538\n",
       "Revelry                                                                2645\n",
       "Dog Days Are Over (Radio Edit)                                         2711\n",
       "You're The One                                                         3074\n",
       "Undo                                                                   3237\n",
       "Sehr kosmisch                                                          3694\n",
       "Name: song_name, dtype: int64"
      ]
     },
     "execution_count": 30,
     "metadata": {},
     "output_type": "execute_result"
    }
   ],
   "source": [
    "song_name_per_users.sort_values().tail(20)"
   ]
  },
  {
   "cell_type": "code",
   "execution_count": 31,
   "metadata": {},
   "outputs": [
    {
     "data": {
      "text/plain": [
       "<matplotlib.axes._subplots.AxesSubplot at 0x18c5b267908>"
      ]
     },
     "execution_count": 31,
     "metadata": {},
     "output_type": "execute_result"
    },
    {
     "data": {
      "image/png": "[encoded data removed]",
      "text/plain": [
       "<Figure size 360x360 with 1 Axes>"
      ]
     },
     "metadata": {
      "needs_background": "light"
     },
     "output_type": "display_data"
    }
   ],
   "source": [
    "plt.figure(figsize=(5,5))\n",
    "sns.kdeplot(song_name_per_users, shade= False)"
   ]
  },
  {
   "cell_type": "markdown",
   "metadata": {},
   "source": [
    "###"
   ]
  },
  {
   "cell_type": "code",
   "execution_count": 32,
   "metadata": {
    "scrolled": false
   },
   "outputs": [
    {
     "data": {
      "text/html": [
       "<div>\n",
       "<style scoped>\n",
       "    .dataframe tbody tr th:only-of-type {\n",
       "        vertical-align: middle;\n",
       "    }\n",
       "\n",
       "    .dataframe tbody tr th {\n",
       "        vertical-align: top;\n",
       "    }\n",
       "\n",
       "    .dataframe thead th {\n",
       "        text-align: right;\n",
       "    }\n",
       "</style>\n",
       "<table border=\"1\" class=\"dataframe\">\n",
       "  <thead>\n",
       "    <tr style=\"text-align: right;\">\n",
       "      <th></th>\n",
       "      <th>song_name</th>\n",
       "      <th>count</th>\n",
       "    </tr>\n",
       "  </thead>\n",
       "  <tbody>\n",
       "    <tr>\n",
       "      <th>0</th>\n",
       "      <td>Ef Ã‰g HefÃ°i Aldrei...</td>\n",
       "      <td>1</td>\n",
       "    </tr>\n",
       "    <tr>\n",
       "      <th>1</th>\n",
       "      <td>Light Mass Prayers</td>\n",
       "      <td>4</td>\n",
       "    </tr>\n",
       "    <tr>\n",
       "      <th>2</th>\n",
       "      <td>The Arsonist Story\":  Evil Craves Attention/O...</td>\n",
       "      <td>1</td>\n",
       "    </tr>\n",
       "    <tr>\n",
       "      <th>3</th>\n",
       "      <td>Ã‰g Ã�tti GrÃ¡a Ã†sku</td>\n",
       "      <td>4</td>\n",
       "    </tr>\n",
       "    <tr>\n",
       "      <th>4</th>\n",
       "      <td>(Jack The Stripper)</td>\n",
       "      <td>1</td>\n",
       "    </tr>\n",
       "    <tr>\n",
       "      <th>...</th>\n",
       "      <td>...</td>\n",
       "      <td>...</td>\n",
       "    </tr>\n",
       "    <tr>\n",
       "      <th>121470</th>\n",
       "      <td>Ã�rboles Cruzados</td>\n",
       "      <td>16</td>\n",
       "    </tr>\n",
       "    <tr>\n",
       "      <th>121471</th>\n",
       "      <td>Ã�rboles De La Barranca</td>\n",
       "      <td>1</td>\n",
       "    </tr>\n",
       "    <tr>\n",
       "      <th>121472</th>\n",
       "      <td>Ã�rboles de la barranca</td>\n",
       "      <td>1</td>\n",
       "    </tr>\n",
       "    <tr>\n",
       "      <th>121473</th>\n",
       "      <td>Ã�rvore</td>\n",
       "      <td>3</td>\n",
       "    </tr>\n",
       "    <tr>\n",
       "      <th>121474</th>\n",
       "      <td>Ã�tkozott nÃµk</td>\n",
       "      <td>3</td>\n",
       "    </tr>\n",
       "  </tbody>\n",
       "</table>\n",
       "<p>121475 rows × 2 columns</p>\n",
       "</div>"
      ],
      "text/plain": [
       "                                                song_name  count\n",
       "0                                \n",
       "Ef Ã‰g HefÃ°i Aldrei...      1\n",
       "1                                     \n",
       "Light Mass Prayers      4\n",
       "2       \n",
       "The Arsonist Story\":  Evil Craves Attention/O...      1\n",
       "3                                  \n",
       "Ã‰g Ã�tti GrÃ¡a Ã†sku      4\n",
       "4                                     (Jack The Stripper)      1\n",
       "...                                                   ...    ...\n",
       "121470                                  Ã�rboles Cruzados     16\n",
       "121471                            Ã�rboles De La Barranca      1\n",
       "121472                            Ã�rboles de la barranca      1\n",
       "121473                                            Ã�rvore      3\n",
       "121474                                     Ã�tkozott nÃµk      3\n",
       "\n",
       "[121475 rows x 2 columns]"
      ]
     },
     "execution_count": 32,
     "metadata": {},
     "output_type": "execute_result"
    }
   ],
   "source": [
    "sna = df_new.groupby(['song_name']).agg({'count':'count'}).reset_index()\n",
    "sna"
   ]
  },
  {
   "cell_type": "code",
   "execution_count": 33,
   "metadata": {
    "scrolled": true
   },
   "outputs": [
    {
     "data": {
      "text/html": [
       "<div>\n",
       "<style scoped>\n",
       "    .dataframe tbody tr th:only-of-type {\n",
       "        vertical-align: middle;\n",
       "    }\n",
       "\n",
       "    .dataframe tbody tr th {\n",
       "        vertical-align: top;\n",
       "    }\n",
       "\n",
       "    .dataframe thead th {\n",
       "        text-align: right;\n",
       "    }\n",
       "</style>\n",
       "<table border=\"1\" class=\"dataframe\">\n",
       "  <thead>\n",
       "    <tr style=\"text-align: right;\">\n",
       "      <th></th>\n",
       "      <th>user_id</th>\n",
       "      <th>song_id</th>\n",
       "      <th>count</th>\n",
       "      <th>taste_id</th>\n",
       "      <th>artist</th>\n",
       "      <th>song_name</th>\n",
       "      <th>percentage</th>\n",
       "    </tr>\n",
       "  </thead>\n",
       "  <tbody>\n",
       "    <tr>\n",
       "      <th>838445</th>\n",
       "      <td>a1cc4d088600df2db42e6a305974675ffe8c905d</td>\n",
       "      <td>SOPMHHE12AB01845F6</td>\n",
       "      <td>646</td>\n",
       "      <td>TRHIOJT12903CD9C1A</td>\n",
       "      <td>The Beach Boys</td>\n",
       "      <td>What Is a Young Girl Made of</td>\n",
       "      <td>0.019366</td>\n",
       "    </tr>\n",
       "    <tr>\n",
       "      <th>471133</th>\n",
       "      <td>2d9ea6058d0872ccdc5b1c5c685758bb9c55f0a3</td>\n",
       "      <td>SOAOXTG12A67021AA7</td>\n",
       "      <td>597</td>\n",
       "      <td>TRAVFSL128E078E22A</td>\n",
       "      <td>Ms. Dynamite / Kymani Marley</td>\n",
       "      <td>Seed Will Grow</td>\n",
       "      <td>0.017897</td>\n",
       "    </tr>\n",
       "    <tr>\n",
       "      <th>642730</th>\n",
       "      <td>a86e68128c6a48d3392db22ce1151a3bdccf5fcf</td>\n",
       "      <td>SOFVLYV12A8C145D8F</td>\n",
       "      <td>537</td>\n",
       "      <td>TROSVEN128F930160B</td>\n",
       "      <td>Us3</td>\n",
       "      <td>Believe In Yourself</td>\n",
       "      <td>0.016098</td>\n",
       "    </tr>\n",
       "    <tr>\n",
       "      <th>363980</th>\n",
       "      <td>9d12c30de5d9975f621f95f512699989ac544410</td>\n",
       "      <td>SOFFXAQ12A8AE45C2E</td>\n",
       "      <td>535</td>\n",
       "      <td>TRUNNST12903CF45A3</td>\n",
       "      <td>Fear My Thoughts</td>\n",
       "      <td>Death Chamber</td>\n",
       "      <td>0.016038</td>\n",
       "    </tr>\n",
       "    <tr>\n",
       "      <th>178584</th>\n",
       "      <td>fa82c0a1a93b7c52870d7b0a004b444bbdf19401</td>\n",
       "      <td>SOCNAXF12A6D4F9B34</td>\n",
       "      <td>500</td>\n",
       "      <td>TRQNYOA128F1469E1D</td>\n",
       "      <td>Alliance Ethnik</td>\n",
       "      <td>Creil City</td>\n",
       "      <td>0.014989</td>\n",
       "    </tr>\n",
       "    <tr>\n",
       "      <th>...</th>\n",
       "      <td>...</td>\n",
       "      <td>...</td>\n",
       "      <td>...</td>\n",
       "      <td>...</td>\n",
       "      <td>...</td>\n",
       "      <td>...</td>\n",
       "      <td>...</td>\n",
       "    </tr>\n",
       "    <tr>\n",
       "      <th>345483</th>\n",
       "      <td>1e4e2b29cfa9c87ba64c777115fe7021a6f3e196</td>\n",
       "      <td>SOQOVFQ12A6D4FAE4B</td>\n",
       "      <td>1</td>\n",
       "      <td>TRUCXGV128F422BB0D</td>\n",
       "      <td>Barbara Manning</td>\n",
       "      <td>The Arsonist Story\":  Evil Craves Attention/O...</td>\n",
       "      <td>0.000030</td>\n",
       "    </tr>\n",
       "    <tr>\n",
       "      <th>274901</th>\n",
       "      <td>14006a947585d77ca855bb3eb439ccb8b2f857b4</td>\n",
       "      <td>SOJQJJG12A8C13396F</td>\n",
       "      <td>1</td>\n",
       "      <td>TRUEJYF128F4245FEB</td>\n",
       "      <td>Porcupine Tree</td>\n",
       "      <td>Light Mass Prayers</td>\n",
       "      <td>0.000030</td>\n",
       "    </tr>\n",
       "    <tr>\n",
       "      <th>716978</th>\n",
       "      <td>9816b4f28921a16924a5e9330c2e7d9226488f38</td>\n",
       "      <td>SOJQJJG12A8C13396F</td>\n",
       "      <td>1</td>\n",
       "      <td>TRUEJYF128F4245FEB</td>\n",
       "      <td>Porcupine Tree</td>\n",
       "      <td>Light Mass Prayers</td>\n",
       "      <td>0.000030</td>\n",
       "    </tr>\n",
       "    <tr>\n",
       "      <th>739243</th>\n",
       "      <td>2008e7351980e5f641d6c7e5deae9910792890d0</td>\n",
       "      <td>SOJQJJG12A8C13396F</td>\n",
       "      <td>1</td>\n",
       "      <td>TRUEJYF128F4245FEB</td>\n",
       "      <td>Porcupine Tree</td>\n",
       "      <td>Light Mass Prayers</td>\n",
       "      <td>0.000030</td>\n",
       "    </tr>\n",
       "    <tr>\n",
       "      <th>192828</th>\n",
       "      <td>7b3a62a418862aefc4b3d85feb191fa0fd752c69</td>\n",
       "      <td>SOZDBDL12AB018AFFF</td>\n",
       "      <td>1</td>\n",
       "      <td>TROFVVS12903CDCA87</td>\n",
       "      <td>SÃ©bastien Roch</td>\n",
       "      <td>NaN</td>\n",
       "      <td>0.000030</td>\n",
       "    </tr>\n",
       "  </tbody>\n",
       "</table>\n",
       "<p>1048575 rows × 7 columns</p>\n",
       "</div>"
      ],
      "text/plain": [
       "                                         user_id             song_id  count  \\\n",
       "838445  a1cc4d088600df2db42e6a305974675ffe8c905d  SOPMHHE12AB01845F6    646   \n",
       "471133  2d9ea6058d0872ccdc5b1c5c685758bb9c55f0a3  SOAOXTG12A67021AA7    597   \n",
       "642730  a86e68128c6a48d3392db22ce1151a3bdccf5fcf  SOFVLYV12A8C145D8F    537   \n",
       "363980  9d12c30de5d9975f621f95f512699989ac544410  SOFFXAQ12A8AE45C2E    535   \n",
       "178584  fa82c0a1a93b7c52870d7b0a004b444bbdf19401  SOCNAXF12A6D4F9B34    500   \n",
       "...                                          ...                 ...    ...   \n",
       "345483  1e4e2b29cfa9c87ba64c777115fe7021a6f3e196  SOQOVFQ12A6D4FAE4B      1   \n",
       "274901  14006a947585d77ca855bb3eb439ccb8b2f857b4  SOJQJJG12A8C13396F      1   \n",
       "716978  9816b4f28921a16924a5e9330c2e7d9226488f38  SOJQJJG12A8C13396F      1   \n",
       "739243  2008e7351980e5f641d6c7e5deae9910792890d0  SOJQJJG12A8C13396F      1   \n",
       "192828  7b3a62a418862aefc4b3d85feb191fa0fd752c69  SOZDBDL12AB018AFFF      1   \n",
       "\n",
       "                  taste_id                        artist  \\\n",
       "838445  TRHIOJT12903CD9C1A                The Beach Boys   \n",
       "471133  TRAVFSL128E078E22A  Ms. Dynamite / Kymani Marley   \n",
       "642730  TROSVEN128F930160B                           Us3   \n",
       "363980  TRUNNST12903CF45A3              Fear My Thoughts   \n",
       "178584  TRQNYOA128F1469E1D               Alliance Ethnik   \n",
       "...                    ...                           ...   \n",
       "345483  TRUCXGV128F422BB0D               Barbara Manning   \n",
       "274901  TRUEJYF128F4245FEB                Porcupine Tree   \n",
       "716978  TRUEJYF128F4245FEB                Porcupine Tree   \n",
       "739243  TRUEJYF128F4245FEB                Porcupine Tree   \n",
       "192828  TROFVVS12903CDCA87               SÃ©bastien Roch   \n",
       "\n",
       "                                                song_name  percentage  \n",
       "838445                       What Is a Young Girl Made of    0.019366  \n",
       "471133                                     Seed Will Grow    0.017897  \n",
       "642730                                Believe In Yourself    0.016098  \n",
       "363980                                      Death Chamber    0.016038  \n",
       "178584                                         Creil City    0.014989  \n",
       "...                                                   ...         ...  \n",
       "345483  \n",
       "The Arsonist Story\":  Evil Craves Attention/O...    0.000030  \n",
       "274901                                \n",
       "Light Mass Prayers    0.000030  \n",
       "716978                                \n",
       "Light Mass Prayers    0.000030  \n",
       "739243                                \n",
       "Light Mass Prayers    0.000030  \n",
       "192828                                                NaN    0.000030  \n",
       "\n",
       "[1048575 rows x 7 columns]"
      ]
     },
     "execution_count": 33,
     "metadata": {},
     "output_type": "execute_result"
    }
   ],
   "source": [
    "grouped_sum = df_new['count'].sum()\n",
    "df_new['percentage'] = (df_new['count'] / grouped_sum ) * 100\n",
    "df_new.sort_values(['count', 'song_name'], ascending=False)"
   ]
  },
  {
   "cell_type": "code",
   "execution_count": 34,
   "metadata": {},
   "outputs": [
    {
     "data": {
      "image/png": "[encoded data removed]",
      "text/plain": [
       "<Figure size 360x360 with 1 Axes>"
      ]
     },
     "metadata": {
      "needs_background": "light"
     },
     "output_type": "display_data"
    }
   ],
   "source": [
    "sns.relplot(x=\"count\", y=\"percentage\", data=df_new[:5000], kind=\"scatter\");"
   ]
  },
  {
   "cell_type": "code",
   "execution_count": 35,
   "metadata": {
    "scrolled": true
   },
   "outputs": [
    {
     "data": {
      "text/plain": [
       "<matplotlib.axes._subplots.AxesSubplot at 0x18c044090c8>"
      ]
     },
     "execution_count": 35,
     "metadata": {},
     "output_type": "execute_result"
    },
    {
     "data": {
      "image/png": "[encoded data removed]",
      "text/plain": [
       "<Figure size 432x288 with 1 Axes>"
      ]
     },
     "metadata": {
      "needs_background": "light"
     },
     "output_type": "display_data"
    }
   ],
   "source": [
    "sns.violinplot(df_new['percentage'], orient='vertical', color='magenta')"
   ]
  },
  {
   "cell_type": "code",
   "execution_count": 36,
   "metadata": {},
   "outputs": [
    {
     "data": {
      "image/png": "[encoded data removed]",
      "text/plain": [
       "<Figure size 360x360 with 1 Axes>"
      ]
     },
     "metadata": {
      "needs_background": "light"
     },
     "output_type": "display_data"
    }
   ],
   "source": [
    "sns.catplot(x=\"count\", y=\"percentage\", kind='swarm',data=df_new[:500]);"
   ]
  },
  {
   "cell_type": "markdown",
   "metadata": {},
   "source": [
    "## Create a subset of the dataset"
   ]
  },
  {
   "cell_type": "code",
   "execution_count": 37,
   "metadata": {},
   "outputs": [],
   "source": [
    "song_df=df_new[1:10000]"
   ]
  },
  {
   "cell_type": "code",
   "execution_count": 38,
   "metadata": {},
   "outputs": [
    {
     "data": {
      "text/plain": [
       "9999"
      ]
     },
     "execution_count": 38,
     "metadata": {},
     "output_type": "execute_result"
    }
   ],
   "source": [
    "len(song_df)"
   ]
  },
  {
   "cell_type": "markdown",
   "metadata": {},
   "source": [
    "## Count the number of unique users in the dataset"
   ]
  },
  {
   "cell_type": "code",
   "execution_count": 39,
   "metadata": {},
   "outputs": [
    {
     "data": {
      "text/plain": [
       "753"
      ]
     },
     "execution_count": 39,
     "metadata": {},
     "output_type": "execute_result"
    }
   ],
   "source": [
    "users = song_df['user_id'].unique()\n",
    "len(users)"
   ]
  },
  {
   "cell_type": "markdown",
   "metadata": {},
   "source": [
    "## Count the number of unique songs in the datas"
   ]
  },
  {
   "cell_type": "code",
   "execution_count": 40,
   "metadata": {},
   "outputs": [],
   "source": [
    "song_df['song'] = song_df['song_name'].map(str) + \" - \" + song_df['artist']"
   ]
  },
  {
   "cell_type": "code",
   "execution_count": 41,
   "metadata": {},
   "outputs": [
    {
     "data": {
      "text/plain": [
       "7183"
      ]
     },
     "execution_count": 41,
     "metadata": {},
     "output_type": "execute_result"
    }
   ],
   "source": [
    "songs = song_df['song_name'].unique()\n",
    "len(songs)"
   ]
  },
  {
   "cell_type": "markdown",
   "metadata": {},
   "source": [
    "## Why do we need Recommendation Systems?\n",
    "\n",
    "Internet is a vast ocean of Information, it consists of millions of items, a really large catalogue of products. There are some Users that know what they are looking for whereas others have no idea what to look for in such a large library of resources, and thus, Recommendation Systems play a vital role.\n",
    "\n",
    "There are some products which may be really good but have not gained Popularity since they have not been advertised, so recommendation systems help such items gain popularity by bringing such items to one's notice.\n",
    "\n",
    "It even helps in Ad Targeting- Say you're looking to buy a new laptop on Internet, your recent searches are based on laptop suggestions, and soon you'll start seeing ads on websites offering discounts on laptops. So, Ad Targeting is an advertisement technique meant to deliver ads automatically by using specialized software and algorithms that place ads depending on the user’s recent searches. Ad targeting was pegged to have secured 2.7 times as much revenue as non-targeted ads, as shown by a study conducted in 2009 by the Network Advertising Initiative.\n",
    "\n",
    "Thus, it also helps in Increasing Revenues of the product's Organization.\n",
    "\n",
    "\n",
    "\n",
    "\n",
    "## Types of recommendation systems are as follows:\n",
    "\n",
    "1.Popularity based recommendation system\n",
    "\n",
    "2.Collaborative recommendation system\n",
    "\n",
    "3.Content-based recommendation system\n",
    "\n",
    "4.emographic-based recommendation system\n",
    "\n",
    "5.Utility-based recommendation system\n",
    "\n",
    "6.Knowledge-based recommendation system\n",
    "\n",
    "7.Hybrid-recommendation system"
   ]
  },
  {
   "cell_type": "markdown",
   "metadata": {},
   "source": [
    "## Create a song recommender"
   ]
  },
  {
   "cell_type": "code",
   "execution_count": 42,
   "metadata": {
    "scrolled": true
   },
   "outputs": [
    {
     "name": "stdout",
     "output_type": "stream",
     "text": [
      "                                       user_id             song_id  count  \\\n",
      "7389  d3c75a5a579f29a3a853b3a4ba76d3a2e5243655  SOQTHZW12A8C1400F8      2   \n",
      "9275  3071be7411e636fcda6c99277a5b51c45a7c4866  SODQPTQ12AF72A64BC      6   \n",
      "2996  1fa6a4add6eacc3ce1aec44fc37037db2b09bf82  SOAYATB12A6701FD50      1   \n",
      "5317  c8db3788ca8f60d92abf827ad59f424f05897cfc  SOGWZFC12A58A778BF      3   \n",
      "357   6530c4fc41b9110de5d39fe0355fa103c66385f0  SORYRWS12AB0186CD9      2   \n",
      "\n",
      "                taste_id                    artist  \\\n",
      "7389  TRGVRBA128F428E872  CCCP - Fedeli Alla Linea   \n",
      "9275  TRGAXFP128F428DE85            The Budos Band   \n",
      "2996  TREVCGZ128E079232A       Deep Blue Something   \n",
      "5317  TRCRJXI128F425ACF2                   The Ark   \n",
      "357   TRLKZES12903CD8FE2                    Finley   \n",
      "\n",
      "                                 song_name  percentage  \\\n",
      "7389  Aghia Sophia (2008 Digital Remaster)     0.00006   \n",
      "9275                              Scorpion     0.00018   \n",
      "2996                Breakfast At Tiffany's     0.00003   \n",
      "5317        It Takes A Fool To Remain Sane     0.00009   \n",
      "357                  Il Tempo Di Un Minuto     0.00006   \n",
      "\n",
      "                                                   song  \n",
      "7389  Aghia Sophia (2008 Digital Remaster) - CCCP - ...  \n",
      "9275                          Scorpion - The Budos Band  \n",
      "2996       Breakfast At Tiffany's - Deep Blue Something  \n",
      "5317           It Takes A Fool To Remain Sane - The Ark  \n",
      "357                      Il Tempo Di Un Minuto - Finley  \n"
     ]
    }
   ],
   "source": [
    "from sklearn.model_selection import train_test_split\n",
    "train_data, test_data = train_test_split(song_df, test_size = 0.20, random_state=0)\n",
    "print(train_data.head(5))"
   ]
  },
  {
   "cell_type": "markdown",
   "metadata": {},
   "source": [
    "## Popularity based recommendation system\n",
    "\n",
    "Popularity based recommendation system works with the trend. It basically uses the items which are in trend right now. For example, if any product which is usually bought by every new user then there are chances that it may suggest that item to the user who just signed up.\n"
   ]
  },
  {
   "cell_type": "markdown",
   "metadata": {},
   "source": [
    "## Simple popularity-based recommender class"
   ]
  },
  {
   "cell_type": "code",
   "execution_count": 43,
   "metadata": {},
   "outputs": [],
   "source": [
    "import numpy as np\n",
    "import pandas\n",
    "\n",
    "#Class for Popularity based Recommender System model\n",
    "#works on the listen count principle\n",
    "class popularity_recommender_py():\n",
    "    def __init__(self):\n",
    "        self.train_data = None\n",
    "        self.user_id = None\n",
    "        self.item_id = None\n",
    "        self.popularity_recommendations = None\n",
    "        \n",
    "    #Create the popularity based recommender system model\n",
    "    def create(self, train_data, user_id, item_id):\n",
    "        self.train_data = train_data\n",
    "        self.user_id = user_id\n",
    "        self.item_id = item_id\n",
    "\n",
    "        #Get a count of user_ids for each unique song as recommendation score\n",
    "        train_data_grouped = train_data.groupby([self.item_id]).agg({self.user_id: 'count'}).reset_index()\n",
    "        train_data_grouped.rename(columns = {'user_id': 'score'},inplace=True)\n",
    "    \n",
    "        #Sort the songs based upon recommendation score\n",
    "        train_data_sort = train_data_grouped.sort_values(['score', self.item_id], ascending = [0,1])\n",
    "    \n",
    "        #Generate a recommendation rank based upon score\n",
    "        train_data_sort['Rank'] = train_data_sort['score'].rank(ascending=0, method='first')\n",
    "        \n",
    "        #Get the top 10 recommendations\n",
    "        self.popularity_recommendations = train_data_sort.head(10)\n",
    "\n",
    "    #Use the popularity based recommender system model to\n",
    "    #make recommendations\n",
    "    def recommend(self, user_id):    \n",
    "        user_recommendations = self.popularity_recommendations\n",
    "        \n",
    "        #Add user_id column for which the recommendations are being generated\n",
    "        user_recommendations['user_id'] = user_id\n",
    "    \n",
    "        #Bring user_id column to the front\n",
    "        cols = user_recommendations.columns.tolist()\n",
    "        cols = cols[-1:] + cols[:-1]\n",
    "        user_recommendations = user_recommendations[cols]\n",
    "        \n",
    "        return user_recommendations"
   ]
  },
  {
   "cell_type": "markdown",
   "metadata": {},
   "source": [
    "## Create an instance of popularity based recommender class"
   ]
  },
  {
   "cell_type": "code",
   "execution_count": 44,
   "metadata": {},
   "outputs": [],
   "source": [
    "recommender_instance = popularity_recommender_py()\n",
    "recommender_instance.create(train_data, 'user_id', 'song')"
   ]
  },
  {
   "cell_type": "markdown",
   "metadata": {},
   "source": [
    "## Use the popularity model to make some predictions"
   ]
  },
  {
   "cell_type": "code",
   "execution_count": 45,
   "metadata": {
    "scrolled": true
   },
   "outputs": [
    {
     "data": {
      "text/html": [
       "<div>\n",
       "<style scoped>\n",
       "    .dataframe tbody tr th:only-of-type {\n",
       "        vertical-align: middle;\n",
       "    }\n",
       "\n",
       "    .dataframe tbody tr th {\n",
       "        vertical-align: top;\n",
       "    }\n",
       "\n",
       "    .dataframe thead th {\n",
       "        text-align: right;\n",
       "    }\n",
       "</style>\n",
       "<table border=\"1\" class=\"dataframe\">\n",
       "  <thead>\n",
       "    <tr style=\"text-align: right;\">\n",
       "      <th></th>\n",
       "      <th>user_id</th>\n",
       "      <th>song</th>\n",
       "      <th>score</th>\n",
       "      <th>Rank</th>\n",
       "    </tr>\n",
       "  </thead>\n",
       "  <tbody>\n",
       "    <tr>\n",
       "      <th>6013</th>\n",
       "      <td>91b8fac7dc5e03f6cfaf6e2aa7171f14a8354d62</td>\n",
       "      <td>You're The One - Dwight Yoakam</td>\n",
       "      <td>33</td>\n",
       "      <td>1.0</td>\n",
       "    </tr>\n",
       "    <tr>\n",
       "      <th>5534</th>\n",
       "      <td>91b8fac7dc5e03f6cfaf6e2aa7171f14a8354d62</td>\n",
       "      <td>Undo - BjÃ¶rk</td>\n",
       "      <td>32</td>\n",
       "      <td>2.0</td>\n",
       "    </tr>\n",
       "    <tr>\n",
       "      <th>4317</th>\n",
       "      <td>91b8fac7dc5e03f6cfaf6e2aa7171f14a8354d62</td>\n",
       "      <td>Sehr kosmisch - Harmonia</td>\n",
       "      <td>29</td>\n",
       "      <td>3.0</td>\n",
       "    </tr>\n",
       "    <tr>\n",
       "      <th>4089</th>\n",
       "      <td>91b8fac7dc5e03f6cfaf6e2aa7171f14a8354d62</td>\n",
       "      <td>Revelry - Kings Of Leon</td>\n",
       "      <td>26</td>\n",
       "      <td>4.0</td>\n",
       "    </tr>\n",
       "    <tr>\n",
       "      <th>1223</th>\n",
       "      <td>91b8fac7dc5e03f6cfaf6e2aa7171f14a8354d62</td>\n",
       "      <td>Dog Days Are Over (Radio Edit) - Florence + Th...</td>\n",
       "      <td>24</td>\n",
       "      <td>5.0</td>\n",
       "    </tr>\n",
       "    <tr>\n",
       "      <th>1614</th>\n",
       "      <td>91b8fac7dc5e03f6cfaf6e2aa7171f14a8354d62</td>\n",
       "      <td>Fireflies - Charttraxx Karaoke</td>\n",
       "      <td>19</td>\n",
       "      <td>6.0</td>\n",
       "    </tr>\n",
       "    <tr>\n",
       "      <th>549</th>\n",
       "      <td>91b8fac7dc5e03f6cfaf6e2aa7171f14a8354d62</td>\n",
       "      <td>Billionaire [feat. Bruno Mars]  (Explicit Albu...</td>\n",
       "      <td>18</td>\n",
       "      <td>7.0</td>\n",
       "    </tr>\n",
       "    <tr>\n",
       "      <th>4079</th>\n",
       "      <td>91b8fac7dc5e03f6cfaf6e2aa7171f14a8354d62</td>\n",
       "      <td>ReprÃ©sente - Alliance Ethnik</td>\n",
       "      <td>18</td>\n",
       "      <td>8.0</td>\n",
       "    </tr>\n",
       "    <tr>\n",
       "      <th>4309</th>\n",
       "      <td>91b8fac7dc5e03f6cfaf6e2aa7171f14a8354d62</td>\n",
       "      <td>Secrets - OneRepublic</td>\n",
       "      <td>18</td>\n",
       "      <td>9.0</td>\n",
       "    </tr>\n",
       "    <tr>\n",
       "      <th>2153</th>\n",
       "      <td>91b8fac7dc5e03f6cfaf6e2aa7171f14a8354d62</td>\n",
       "      <td>Horn Concerto No. 4 in E flat K495: II. Romanc...</td>\n",
       "      <td>17</td>\n",
       "      <td>10.0</td>\n",
       "    </tr>\n",
       "  </tbody>\n",
       "</table>\n",
       "</div>"
      ],
      "text/plain": [
       "                                       user_id  \\\n",
       "6013  91b8fac7dc5e03f6cfaf6e2aa7171f14a8354d62   \n",
       "5534  91b8fac7dc5e03f6cfaf6e2aa7171f14a8354d62   \n",
       "4317  91b8fac7dc5e03f6cfaf6e2aa7171f14a8354d62   \n",
       "4089  91b8fac7dc5e03f6cfaf6e2aa7171f14a8354d62   \n",
       "1223  91b8fac7dc5e03f6cfaf6e2aa7171f14a8354d62   \n",
       "1614  91b8fac7dc5e03f6cfaf6e2aa7171f14a8354d62   \n",
       "549   91b8fac7dc5e03f6cfaf6e2aa7171f14a8354d62   \n",
       "4079  91b8fac7dc5e03f6cfaf6e2aa7171f14a8354d62   \n",
       "4309  91b8fac7dc5e03f6cfaf6e2aa7171f14a8354d62   \n",
       "2153  91b8fac7dc5e03f6cfaf6e2aa7171f14a8354d62   \n",
       "\n",
       "                                                   song  score  Rank  \n",
       "6013                     You're The One - Dwight Yoakam     33   1.0  \n",
       "5534                                      Undo - BjÃ¶rk     32   2.0  \n",
       "4317                           Sehr kosmisch - Harmonia     29   3.0  \n",
       "4089                            Revelry - Kings Of Leon     26   4.0  \n",
       "1223  Dog Days Are Over (Radio Edit) - Florence + Th...     24   5.0  \n",
       "1614                     Fireflies - Charttraxx Karaoke     19   6.0  \n",
       "549   Billionaire [feat. Bruno Mars]  (Explicit Albu...     18   7.0  \n",
       "4079                      ReprÃ©sente - Alliance Ethnik     18   8.0  \n",
       "4309                              Secrets - OneRepublic     18   9.0  \n",
       "2153  Horn Concerto No. 4 in E flat K495: II. Romanc...     17  10.0  "
      ]
     },
     "execution_count": 45,
     "metadata": {},
     "output_type": "execute_result"
    }
   ],
   "source": [
    "user_id = users[5]\n",
    "recommender_instance.recommend(user_id)"
   ]
  },
  {
   "cell_type": "markdown",
   "metadata": {},
   "source": [
    "## Collaborative Filtering\n",
    "\n",
    "The idea behind collaborative filtering is to consider users’ opinions on different videos and recommend the best video to each user based on the user’s previous rankings and the opinion of other similar types of users."
   ]
  },
  {
   "cell_type": "markdown",
   "metadata": {},
   "source": [
    "## Different techniques of Collaborative filtering:\n",
    "Non-probabilistic algorithm:-\n",
    "\n",
    "1.User-based nearest neighbor.\n",
    "\n",
    "2.Item-based nearest neighbor.\n",
    "\n",
    "3.Reducing dimensionality."
   ]
  },
  {
   "cell_type": "markdown",
   "metadata": {},
   "source": [
    "## Build a song recommender with personalization\n",
    "\n",
    "We now create an item similarity based collaborative filtering model that allows us to make personalized recommendations to each user."
   ]
  },
  {
   "cell_type": "markdown",
   "metadata": {},
   "source": [
    "## Class for an item similarity based personalized recommender system"
   ]
  },
  {
   "cell_type": "code",
   "execution_count": 46,
   "metadata": {},
   "outputs": [],
   "source": [
    "class item_similarity_recommender_py():\n",
    "    def __init__(self):\n",
    "        self.train_data = None\n",
    "        self.user_id = None\n",
    "        self.item_id = None\n",
    "        self.cooccurence_matrix = None\n",
    "        self.songs_dict = None\n",
    "        self.rev_songs_dict = None\n",
    "        self.item_similarity_recommendations = None\n",
    "        \n",
    "    #Get unique items (songs) corresponding to a given user\n",
    "    def get_user_items(self, user):\n",
    "        user_data = self.train_data[self.train_data[self.user_id] == user]\n",
    "        user_items = list(user_data[self.item_id].unique())\n",
    "        \n",
    "        return user_items\n",
    "        \n",
    "    #Get unique users for a given item (song)\n",
    "    def get_item_users(self, item):\n",
    "        item_data = self.train_data[self.train_data[self.item_id] == item]\n",
    "        item_users = set(item_data[self.user_id].unique())\n",
    "            \n",
    "        return item_users\n",
    "        \n",
    "    #Get unique items (songs) in the training data\n",
    "    def get_all_items_train_data(self):\n",
    "        all_items = list(self.train_data[self.item_id].unique())\n",
    "            \n",
    "        return all_items\n",
    "        \n",
    "    #Construct cooccurence matrix\n",
    "    def construct_cooccurence_matrix(self, user_songs, all_songs):\n",
    "            \n",
    "        ####################################\n",
    "        #Get users for all songs in user_songs.\n",
    "        ####################################\n",
    "        user_songs_users = []        \n",
    "        for i in range(0, len(user_songs)):\n",
    "            user_songs_users.append(self.get_item_users(user_songs[i]))\n",
    "            \n",
    "        ###############################################\n",
    "        #Initialize the item cooccurence matrix of size \n",
    "        #len(user_songs) X len(songs)\n",
    "        ###############################################\n",
    "        cooccurence_matrix = np.matrix(np.zeros(shape=(len(user_songs), len(all_songs))), float)\n",
    "           \n",
    "        #############################################################\n",
    "        #Calculate similarity between user songs and all unique songs\n",
    "        #in the training data\n",
    "        #############################################################\n",
    "        for i in tqdm(range(0,len(all_songs))):\n",
    "            #Calculate unique listeners (users) of song (item) i\n",
    "            #print(\" Processing Song #\"+str(i))\n",
    "            songs_i_data = self.train_data[self.train_data[self.item_id] == all_songs[i]]\n",
    "            users_i = set(songs_i_data[self.user_id].unique())\n",
    "            \n",
    "            for j in range(0,len(user_songs)):       \n",
    "                    \n",
    "                #Get unique listeners (users) of song (item) j\n",
    "                users_j = user_songs_users[j]\n",
    "                    \n",
    "                #Calculate intersection of listeners of songs i and j\n",
    "                users_intersection = users_i.intersection(users_j)\n",
    "                \n",
    "                #Calculate cooccurence_matrix[i,j] as Jaccard Index\n",
    "                if len(users_intersection) != 0:\n",
    "                    #Calculate union of listeners of songs i and j\n",
    "                    users_union = users_i.union(users_j)\n",
    "                    \n",
    "                    cooccurence_matrix[j,i] = float(len(users_intersection))/float(len(users_union))\n",
    "                else:\n",
    "                    cooccurence_matrix[j,i] = 0\n",
    "                    \n",
    "        \n",
    "        return cooccurence_matrix\n",
    "\n",
    "    \n",
    "    #Use the cooccurence matrix to make top recommendations\n",
    "    def generate_top_recommendations(self, user, cooccurence_matrix, all_songs, user_songs):\n",
    "        print(\"Non zero values in cooccurence_matrix :%d\" % np.count_nonzero(cooccurence_matrix))\n",
    "        \n",
    "        #Calculate a weighted average of the scores in cooccurence matrix for all user songs.\n",
    "        user_sim_scores = cooccurence_matrix.sum(axis=0)/float(cooccurence_matrix.shape[0])\n",
    "        user_sim_scores = np.array(user_sim_scores)[0].tolist()\n",
    " \n",
    "        #Sort the indices of user_sim_scores based upon their value\n",
    "        #Also maintain the corresponding score\n",
    "        sort_index = sorted(((e,i) for i,e in enumerate(list(user_sim_scores))), reverse=True)\n",
    "    \n",
    "        #Create a dataframe from the following\n",
    "        columns = ['user_id', 'song', 'score', 'rank']\n",
    "        #index = np.arange(1) # array of numbers for the number of samples\n",
    "        df = pandas.DataFrame(columns=columns)\n",
    "         \n",
    "        #Fill the dataframe with top 10 item based recommendations\n",
    "        rank = 1 \n",
    "        for i in range(0,len(sort_index)):\n",
    "            if ~np.isnan(sort_index[i][0]) and all_songs[sort_index[i][1]] not in user_songs and rank <= 10:\n",
    "                df.loc[len(df)]=[user,all_songs[sort_index[i][1]],sort_index[i][0],rank]\n",
    "                rank = rank+1\n",
    "        \n",
    "        #Handle the case where there are no recommendations\n",
    "        if df.shape[0] == 0:\n",
    "            print(\"The current user has no songs for training the item similarity based recommendation model.\")\n",
    "            return -1\n",
    "        else:\n",
    "            return df\n",
    " \n",
    "    #Create the item similarity based recommender system model\n",
    "    def create(self, train_data, user_id, item_id):\n",
    "        self.train_data = train_data\n",
    "        self.user_id = user_id\n",
    "        self.item_id = item_id\n",
    "\n",
    "    #Use the item similarity based recommender system model to\n",
    "    #make recommendations\n",
    "    def recommend(self, user):\n",
    "        \n",
    "        ########################################\n",
    "        #A. Get all unique songs for this user\n",
    "        ########################################\n",
    "        user_songs = self.get_user_items(user)    \n",
    "            \n",
    "        print(\"No. of unique songs for the user: %d\" % len(user_songs))\n",
    "        \n",
    "        ######################################################\n",
    "        #B. Get all unique items (songs) in the training data\n",
    "        ######################################################\n",
    "        all_songs = self.get_all_items_train_data()\n",
    "        \n",
    "        print(\"no. of unique songs in the training set: %d\" % len(all_songs))\n",
    "         \n",
    "        ###############################################\n",
    "        #C. Construct item cooccurence matrix of size \n",
    "        #len(user_songs) X len(songs)\n",
    "        ###############################################\n",
    "        cooccurence_matrix = self.construct_cooccurence_matrix(user_songs, all_songs)\n",
    "        \n",
    "        #######################################################\n",
    "        #D. Use the cooccurence matrix to make recommendations\n",
    "        #######################################################\n",
    "        df_recommendations = self.generate_top_recommendations(user, cooccurence_matrix, all_songs, user_songs)\n",
    "                \n",
    "        return df_recommendations\n",
    "    \n",
    "    #Get similar items to given items\n",
    "    def get_similar_items(self, item_list):\n",
    "        \n",
    "        user_songs = item_list\n",
    "        \n",
    "        ######################################################\n",
    "        #B. Get all unique items (songs) in the training data\n",
    "        ######################################################\n",
    "        all_songs = self.get_all_items_train_data()\n",
    "        \n",
    "        print(\"no. of unique songs in the training set: %d\" % len(all_songs))\n",
    "         \n",
    "        ###############################################\n",
    "        #C. Construct item cooccurence matrix of size \n",
    "        #len(user_songs) X len(songs)\n",
    "        ###############################################\n",
    "        cooccurence_matrix = self.construct_cooccurence_matrix(user_songs, all_songs)\n",
    "        \n",
    "        #######################################################\n",
    "        #D. Use the cooccurence matrix to make recommendations\n",
    "        #######################################################\n",
    "        user = \"\"\n",
    "        df_recommendations = self.generate_top_recommendations(user, cooccurence_matrix, all_songs, user_songs)\n",
    "         \n",
    "        return df_recommendations"
   ]
  },
  {
   "cell_type": "markdown",
   "metadata": {},
   "source": [
    "## Build a song recommender with better adaptivess using collaborative recommendation.\n",
    "## It is of 2 types- User Item and Item-Item\n",
    "\n",
    "### We now create an item similarity based collaborative filtering model that allows us to make personalized recommendations to each user."
   ]
  },
  {
   "cell_type": "code",
   "execution_count": 47,
   "metadata": {
    "scrolled": true
   },
   "outputs": [],
   "source": [
    "import random\n",
    "\n",
    "class precision_recall_calculator():\n",
    "    \n",
    "    def __init__(self, test_data, train_data, pm, is_model):\n",
    "        self.test_data = test_data\n",
    "        self.train_data = train_data\n",
    "        self.user_test_sample = None\n",
    "        self.model1 = pm\n",
    "        self.model2 = is_model\n",
    "        \n",
    "        self.ism_training_dict = dict()\n",
    "        self.pm_training_dict = dict()\n",
    "        self.test_dict = dict()\n",
    "    \n",
    "    #Method to return random percentage of values from a list\n",
    "    def remove_percentage(self, list_a, percentage):\n",
    "        k = int(len(list_a) * percentage)\n",
    "        random.seed(0)\n",
    "        indicies = random.sample(range(len(list_a)), k)\n",
    "        new_list = [list_a[i] for i in indicies]\n",
    "    \n",
    "        return new_list\n",
    "    \n",
    "    #Create a test sample of users for use in calculating precision\n",
    "    #and recall\n",
    "    def create_user_test_sample(self, percentage):\n",
    "        #Find users common between training and test set\n",
    "        users_test_and_training = list(set(self.test_data['user_id'].unique()).intersection(set(self.train_data['user_id'].unique())))\n",
    "        print(\"Length of user_test_and_training:%d\" % len(users_test_and_training))\n",
    "\n",
    "        #Take only random user_sample of users for evaluations\n",
    "        self.users_test_sample = self.remove_percentage(users_test_and_training, percentage)\n",
    "\n",
    "        print(\"Length of user sample:%d\" % len(self.users_test_sample))\n",
    "        \n",
    "    #Method to generate recommendations for users in the user test sample\n",
    "    def get_test_sample_recommendations(self):\n",
    "        #For these test_sample users, get top 10 recommendations from training set\n",
    "        #self.ism_training_dict = {}\n",
    "        #self.pm_training_dict = {}\n",
    "\n",
    "        #self.test_dict = {}\n",
    "\n",
    "        for user_id in self.users_test_sample:\n",
    "            #Get items for user_id from item similarity model\n",
    "            print(\"Getting recommendations for user:%s\" % user_id)\n",
    "            user_sim_items = self.model2.recommend(user_id)\n",
    "            self.ism_training_dict[user_id] = list(user_sim_items[\"song\"])\n",
    "    \n",
    "            #Get items for user_id from popularity model\n",
    "            user_sim_items = self.model1.recommend(user_id)\n",
    "            self.pm_training_dict[user_id] = list(user_sim_items[\"song\"])\n",
    "    \n",
    "            #Get items for user_id from test_data\n",
    "            test_data_user = self.test_data[self.test_data['user_id'] == user_id]\n",
    "            self.test_dict[user_id] = set(test_data_user['song'].unique() )\n",
    "    \n",
    "    #Method to calculate the precision and recall measures\n",
    "    def calculate_precision_recall(self):\n",
    "        #Create cutoff list for precision and recall calculation\n",
    "        cutoff_list = list(range(1,11))\n",
    "\n",
    "\n",
    "        #For each distinct cutoff:\n",
    "        #    1. For each distinct user, calculate precision and recall.\n",
    "        #    2. Calculate average precision and recall.\n",
    "\n",
    "        ism_avg_precision_list = []\n",
    "        ism_avg_recall_list = []\n",
    "        pm_avg_precision_list = []\n",
    "        pm_avg_recall_list = []\n",
    "\n",
    "\n",
    "        num_users_sample = len(self.users_test_sample)\n",
    "        for N in cutoff_list:\n",
    "            ism_sum_precision = 0\n",
    "            ism_sum_recall = 0\n",
    "            pm_sum_precision = 0\n",
    "            pm_sum_recall = 0\n",
    "            ism_avg_precision = 0\n",
    "            ism_avg_recall = 0\n",
    "            pm_avg_precision = 0\n",
    "            pm_avg_recall = 0\n",
    "\n",
    "            for user_id in self.users_test_sample:\n",
    "                ism_hitset = self.test_dict[user_id].intersection(set(self.ism_training_dict[user_id][0:N]))\n",
    "                pm_hitset = self.test_dict[user_id].intersection(set(self.pm_training_dict[user_id][0:N]))\n",
    "                testset = self.test_dict[user_id]\n",
    "        \n",
    "                pm_sum_precision += float(len(pm_hitset))/float(N)\n",
    "                pm_sum_recall += float(len(pm_hitset))/float(len(testset))\n",
    "\n",
    "                ism_sum_precision += float(len(ism_hitset))/float(len(testset))\n",
    "                ism_sum_recall += float(len(ism_hitset))/float(N)\n",
    "        \n",
    "            pm_avg_precision = pm_sum_precision/float(num_users_sample)\n",
    "            pm_avg_recall = pm_sum_recall/float(num_users_sample)\n",
    "    \n",
    "            ism_avg_precision = ism_sum_precision/float(num_users_sample)\n",
    "            ism_avg_recall = ism_sum_recall/float(num_users_sample)\n",
    "\n",
    "            ism_avg_precision_list.append(ism_avg_precision)\n",
    "            ism_avg_recall_list.append(ism_avg_recall)\n",
    "    \n",
    "            pm_avg_precision_list.append(pm_avg_precision)\n",
    "            pm_avg_recall_list.append(pm_avg_recall)\n",
    "            \n",
    "        return (pm_avg_precision_list, pm_avg_recall_list, ism_avg_precision_list, ism_avg_recall_list)\n",
    "     \n",
    "\n",
    "    #A wrapper method to calculate all the evaluation measures\n",
    "    def calculate_measures(self, percentage):\n",
    "        #Create a test sample of users\n",
    "        self.create_user_test_sample(percentage)\n",
    "        \n",
    "        #Generate recommendations for the test sample users\n",
    "        self.get_test_sample_recommendations()\n",
    "        \n",
    "        #Calculate precision and recall at different cutoff values\n",
    "        #for popularity mode (pm) as well as item similarity model (ism)\n",
    "        \n",
    "        return self.calculate_precision_recall()\n",
    "        #return (pm_avg_precision_list, pm_avg_recall_list, ism_avg_precision_list, ism_avg_recall_list)\n"
   ]
  },
  {
   "cell_type": "markdown",
   "metadata": {},
   "source": [
    "## Use the item similarity based recommender model to make some predictions"
   ]
  },
  {
   "cell_type": "code",
   "execution_count": 48,
   "metadata": {},
   "outputs": [
    {
     "name": "stderr",
     "output_type": "stream",
     "text": [
      "  1%|          | 37/6072 [00:00<00:16, 368.79it/s]"
     ]
    },
    {
     "name": "stdout",
     "output_type": "stream",
     "text": [
      "------------------------------------------------------------------------------------\n",
      "Training data song_names for the user userid: 91b8fac7dc5e03f6cfaf6e2aa7171f14a8354d62:\n",
      "------------------------------------------------------------------------------------\n",
      "Love Letters - Dario Marianelli\n",
      "Pastorale - Secret Garden\n",
      "In The Waiting Line - Zero 7\n",
      "Until The Morning - Thievery Corporation\n",
      "The Richest Man In Babylon - Thievery Corporation\n",
      "Un Simple Histoire - Thievery Corporation\n",
      "Big Yellow Taxi - Counting Crows / Vanessa Carlton\n",
      "Kryptonite - 3 Doors Down\n",
      "Passacaglia - Secret Garden\n",
      "Illumination - Secret Garden\n",
      "----------------------------------------------------------------------\n",
      "Recommendation process going on:\n",
      "----------------------------------------------------------------------\n",
      "No. of unique songs for the user: 10\n",
      "no. of unique songs in the training set: 6072\n"
     ]
    },
    {
     "name": "stderr",
     "output_type": "stream",
     "text": [
      "100%|██████████| 6072/6072 [00:15<00:00, 386.03it/s]\n"
     ]
    },
    {
     "name": "stdout",
     "output_type": "stream",
     "text": [
      "Non zero values in cooccurence_matrix :179\n"
     ]
    },
    {
     "data": {
      "text/html": [
       "<div>\n",
       "<style scoped>\n",
       "    .dataframe tbody tr th:only-of-type {\n",
       "        vertical-align: middle;\n",
       "    }\n",
       "\n",
       "    .dataframe tbody tr th {\n",
       "        vertical-align: top;\n",
       "    }\n",
       "\n",
       "    .dataframe thead th {\n",
       "        text-align: right;\n",
       "    }\n",
       "</style>\n",
       "<table border=\"1\" class=\"dataframe\">\n",
       "  <thead>\n",
       "    <tr style=\"text-align: right;\">\n",
       "      <th></th>\n",
       "      <th>user_id</th>\n",
       "      <th>song</th>\n",
       "      <th>score</th>\n",
       "      <th>rank</th>\n",
       "    </tr>\n",
       "  </thead>\n",
       "  <tbody>\n",
       "    <tr>\n",
       "      <th>0</th>\n",
       "      <td>91b8fac7dc5e03f6cfaf6e2aa7171f14a8354d62</td>\n",
       "      <td>Summer Long - Kathleen Edwards</td>\n",
       "      <td>0.05</td>\n",
       "      <td>1</td>\n",
       "    </tr>\n",
       "    <tr>\n",
       "      <th>1</th>\n",
       "      <td>91b8fac7dc5e03f6cfaf6e2aa7171f14a8354d62</td>\n",
       "      <td>To Have And To Hold - Deftones</td>\n",
       "      <td>0.05</td>\n",
       "      <td>2</td>\n",
       "    </tr>\n",
       "    <tr>\n",
       "      <th>2</th>\n",
       "      <td>91b8fac7dc5e03f6cfaf6e2aa7171f14a8354d62</td>\n",
       "      <td>Monster - Kevin Blechdom</td>\n",
       "      <td>0.05</td>\n",
       "      <td>3</td>\n",
       "    </tr>\n",
       "    <tr>\n",
       "      <th>3</th>\n",
       "      <td>91b8fac7dc5e03f6cfaf6e2aa7171f14a8354d62</td>\n",
       "      <td>Muevan Las Industrias (remix) - Los Prisioneros</td>\n",
       "      <td>0.05</td>\n",
       "      <td>4</td>\n",
       "    </tr>\n",
       "    <tr>\n",
       "      <th>4</th>\n",
       "      <td>91b8fac7dc5e03f6cfaf6e2aa7171f14a8354d62</td>\n",
       "      <td>Hate (I Really Don't Like You) - Plain White T's</td>\n",
       "      <td>0.05</td>\n",
       "      <td>5</td>\n",
       "    </tr>\n",
       "    <tr>\n",
       "      <th>5</th>\n",
       "      <td>91b8fac7dc5e03f6cfaf6e2aa7171f14a8354d62</td>\n",
       "      <td>Intro - Horkyze Slyze</td>\n",
       "      <td>0.05</td>\n",
       "      <td>6</td>\n",
       "    </tr>\n",
       "    <tr>\n",
       "      <th>6</th>\n",
       "      <td>91b8fac7dc5e03f6cfaf6e2aa7171f14a8354d62</td>\n",
       "      <td>Approach the Throne - Clues</td>\n",
       "      <td>0.05</td>\n",
       "      <td>7</td>\n",
       "    </tr>\n",
       "    <tr>\n",
       "      <th>7</th>\n",
       "      <td>91b8fac7dc5e03f6cfaf6e2aa7171f14a8354d62</td>\n",
       "      <td>Alison Statton - Pants Yell!</td>\n",
       "      <td>0.05</td>\n",
       "      <td>8</td>\n",
       "    </tr>\n",
       "    <tr>\n",
       "      <th>8</th>\n",
       "      <td>91b8fac7dc5e03f6cfaf6e2aa7171f14a8354d62</td>\n",
       "      <td>Frantic - The Lovely Feathers</td>\n",
       "      <td>0.05</td>\n",
       "      <td>9</td>\n",
       "    </tr>\n",
       "    <tr>\n",
       "      <th>9</th>\n",
       "      <td>91b8fac7dc5e03f6cfaf6e2aa7171f14a8354d62</td>\n",
       "      <td>Intro (Album Version) - Within Temptation</td>\n",
       "      <td>0.05</td>\n",
       "      <td>10</td>\n",
       "    </tr>\n",
       "  </tbody>\n",
       "</table>\n",
       "</div>"
      ],
      "text/plain": [
       "                                    user_id  \\\n",
       "0  91b8fac7dc5e03f6cfaf6e2aa7171f14a8354d62   \n",
       "1  91b8fac7dc5e03f6cfaf6e2aa7171f14a8354d62   \n",
       "2  91b8fac7dc5e03f6cfaf6e2aa7171f14a8354d62   \n",
       "3  91b8fac7dc5e03f6cfaf6e2aa7171f14a8354d62   \n",
       "4  91b8fac7dc5e03f6cfaf6e2aa7171f14a8354d62   \n",
       "5  91b8fac7dc5e03f6cfaf6e2aa7171f14a8354d62   \n",
       "6  91b8fac7dc5e03f6cfaf6e2aa7171f14a8354d62   \n",
       "7  91b8fac7dc5e03f6cfaf6e2aa7171f14a8354d62   \n",
       "8  91b8fac7dc5e03f6cfaf6e2aa7171f14a8354d62   \n",
       "9  91b8fac7dc5e03f6cfaf6e2aa7171f14a8354d62   \n",
       "\n",
       "                                               song  score rank  \n",
       "0                    Summer Long - Kathleen Edwards   0.05    1  \n",
       "1                    To Have And To Hold - Deftones   0.05    2  \n",
       "2                          Monster - Kevin Blechdom   0.05    3  \n",
       "3   Muevan Las Industrias (remix) - Los Prisioneros   0.05    4  \n",
       "4  Hate (I Really Don't Like You) - Plain White T's   0.05    5  \n",
       "5                             Intro - Horkyze Slyze   0.05    6  \n",
       "6                       Approach the Throne - Clues   0.05    7  \n",
       "7                      Alison Statton - Pants Yell!   0.05    8  \n",
       "8                     Frantic - The Lovely Feathers   0.05    9  \n",
       "9         Intro (Album Version) - Within Temptation   0.05   10  "
      ]
     },
     "execution_count": 48,
     "metadata": {},
     "output_type": "execute_result"
    }
   ],
   "source": [
    "#Creating an instance of the item-item collaborative recommendation module\n",
    "\n",
    "is_model = item_similarity_recommender_py()\n",
    "is_model.create(train_data, 'user_id', 'song')\n",
    "\n",
    "#using training data to make some recommendations\n",
    "#Print the song_names for the user in training data\n",
    "user_id = users[5]\n",
    "user_items = is_model.get_user_items(user_id)\n",
    "#\n",
    "print(\"------------------------------------------------------------------------------------\")\n",
    "print(\"Training data song_names for the user userid: %s:\" % user_id)\n",
    "print(\"------------------------------------------------------------------------------------\")\n",
    "\n",
    "for user_item in user_items:\n",
    "    print(user_item)\n",
    "\n",
    "print(\"----------------------------------------------------------------------\")\n",
    "print(\"Recommendation process going on:\")\n",
    "print(\"----------------------------------------------------------------------\")\n",
    "\n",
    "#Recommend song_names for the user using personalized model\n",
    "is_model.recommend(user_id)"
   ]
  },
  {
   "cell_type": "code",
   "execution_count": null,
   "metadata": {
    "scrolled": false
   },
   "outputs": [],
   "source": [
    "\n",
    "start = time.time()\n",
    "\n",
    "#Define what percentage of users to use for precision recall calculation\n",
    "user_sample = 0.05\n",
    "\n",
    "#Instantiate the precision_recall_calculator class\n",
    "pr = precision_recall_calculator(test_data, train_data, recommender_instance, is_model)\n",
    "\n",
    "#Call method to calculate precision and recall values\n",
    "(pm_avg_precision_list, pm_avg_recall_list, ism_avg_precision_list, ism_avg_recall_list) = pr.calculate_measures(user_sample)\n",
    "\n",
    "end = time.time()\n",
    "print(end - start)"
   ]
  },
  {
   "cell_type": "markdown",
   "metadata": {},
   "source": [
    "## Use the above precision recall calculator class to calculate the evaluation measures"
   ]
  },
  {
   "cell_type": "code",
   "execution_count": 49,
   "metadata": {},
   "outputs": [],
   "source": [
    "import pylab as pl\n",
    "\n",
    "#Method to generate precision and recall curve\n",
    "def plot_precision_recall(m1_precision_list, m1_recall_list, m1_label, m2_precision_list, m2_recall_list, m2_label):\n",
    "    pl.clf()    \n",
    "    pl.plot(m1_recall_list, m1_precision_list, label=m1_label)\n",
    "    pl.plot(m2_recall_list, m2_precision_list, label=m2_label)\n",
    "    pl.xlabel('Recall')\n",
    "    pl.ylabel('Precision')\n",
    "    pl.ylim([0.0, 0.20])\n",
    "    pl.xlim([0.0, 0.20])\n",
    "    pl.title('Precision-Recall curve')\n",
    "    #pl.legend(loc=\"upper right\")\n",
    "    pl.legend(loc=9, bbox_to_anchor=(0.5, -0.2))\n",
    "    pl.show()"
   ]
  },
  {
   "cell_type": "markdown",
   "metadata": {},
   "source": [
    "## Code to plot precision recall curve"
   ]
  },
  {
   "cell_type": "code",
   "execution_count": 50,
   "metadata": {},
   "outputs": [],
   "source": [
    "import pylab as pl\n",
    "\n",
    "#Method to generate precision and recall curve\n",
    "def plot_precision_recall(m1_precision_list, m1_recall_list, m1_label, m2_precision_list, m2_recall_list, m2_label):\n",
    "    pl.clf()    \n",
    "    pl.plot(m1_recall_list, m1_precision_list, label=m1_label)\n",
    "    pl.plot(m2_recall_list, m2_precision_list, label=m2_label)\n",
    "    pl.xlabel('Recall')\n",
    "    pl.ylabel('Precision')\n",
    "    pl.ylim([0.0, 0.20])\n",
    "    pl.xlim([0.0, 0.20])\n",
    "    pl.title('Precision-Recall curve')\n",
    "    #pl.legend(loc=\"upper right\")\n",
    "    pl.legend(loc=9, bbox_to_anchor=(0.5, -0.2))\n",
    "    pl.show()"
   ]
  },
  {
   "cell_type": "code",
   "execution_count": 51,
   "metadata": {},
   "outputs": [
    {
     "name": "stdout",
     "output_type": "stream",
     "text": [
      "Plotting precision recall curves.\n"
     ]
    },
    {
     "ename": "NameError",
     "evalue": "name 'pm_avg_precision_list' is not defined",
     "output_type": "error",
     "traceback": [
      "\u001b[1;31m---------------------------------------------------------------------------\u001b[0m",
      "\u001b[1;31mNameError\u001b[0m                                 Traceback (most recent call last)",
      "\u001b[1;32m<ipython-input-51-de42221c1c58>\u001b[0m in \u001b[0;36m<module>\u001b[1;34m\u001b[0m\n\u001b[0;32m      1\u001b[0m \u001b[0mprint\u001b[0m\u001b[1;33m(\u001b[0m\u001b[1;34m\"Plotting precision recall curves.\"\u001b[0m\u001b[1;33m)\u001b[0m\u001b[1;33m\u001b[0m\u001b[1;33m\u001b[0m\u001b[0m\n\u001b[0;32m      2\u001b[0m \u001b[1;33m\u001b[0m\u001b[0m\n\u001b[1;32m----> 3\u001b[1;33m plot_precision_recall(pm_avg_precision_list, pm_avg_recall_list, \"popularity_model\",\n\u001b[0m\u001b[0;32m      4\u001b[0m                       ism_avg_precision_list, ism_avg_recall_list, \"item_similarity_model\")\n",
      "\u001b[1;31mNameError\u001b[0m: name 'pm_avg_precision_list' is not defined"
     ]
    }
   ],
   "source": [
    "print(\"Plotting precision recall curves.\")\n",
    "\n",
    "plot_precision_recall(pm_avg_precision_list, pm_avg_recall_list, \"popularity_model\",\n",
    "                      ism_avg_precision_list, ism_avg_recall_list, \"item_similarity_model\")"
   ]
  },
  {
   "cell_type": "markdown",
   "metadata": {},
   "source": [
    "### Future scope and improvements"
   ]
  },
  {
   "cell_type": "markdown",
   "metadata": {},
   "source": [
    "### The following 4 points are implementable ideas that target scalability issues whilst improving the quality of your collaborative filtering recommendations:-\n",
    "\n",
    "1 — Ditch Your User-Based Collaborative Filtering Model.\n",
    "\n",
    "2 — A Gold Standard Similarity Computation Technique.\n",
    "\n",
    "3 — Boost Your Algorithm Using Model Size.\n",
    "\n",
    "4 — What Drives Your Users, Drives Your Success.\n",
    "\n",
    "###  By thinking about affective and social data, emotion based model and context based model generally improved the standard of exhortation.\n",
    "\n",
    "### The approaches like collaborative filtering, content-based filtering, singular value decomposition (SVD) and factorization machines (FM) are also used. At last, the proposed system is hybridized by using SVD and FM."
   ]
  },
  {
   "cell_type": "markdown",
   "metadata": {},
   "source": [
    "# Content Based Filtering"
   ]
  },
  {
   "cell_type": "markdown",
   "metadata": {},
   "source": [
    "## Dataset"
   ]
  },
  {
   "cell_type": "code",
   "execution_count": 52,
   "metadata": {},
   "outputs": [
    {
     "data": {
      "text/html": [
       "<div>\n",
       "<style scoped>\n",
       "    .dataframe tbody tr th:only-of-type {\n",
       "        vertical-align: middle;\n",
       "    }\n",
       "\n",
       "    .dataframe tbody tr th {\n",
       "        vertical-align: top;\n",
       "    }\n",
       "\n",
       "    .dataframe thead th {\n",
       "        text-align: right;\n",
       "    }\n",
       "</style>\n",
       "<table border=\"1\" class=\"dataframe\">\n",
       "  <thead>\n",
       "    <tr style=\"text-align: right;\">\n",
       "      <th></th>\n",
       "      <th>user_id</th>\n",
       "      <th>song_id</th>\n",
       "      <th>count</th>\n",
       "      <th>taste_id</th>\n",
       "      <th>artist</th>\n",
       "      <th>song_name</th>\n",
       "      <th>percentage</th>\n",
       "    </tr>\n",
       "  </thead>\n",
       "  <tbody>\n",
       "    <tr>\n",
       "      <th>0</th>\n",
       "      <td>fd50c4007b68a3737fe052d5a4f78ce8aa117f3d</td>\n",
       "      <td>SOBONKR12A58A7A7E0</td>\n",
       "      <td>1</td>\n",
       "      <td>TRAEHHJ12903CF492F</td>\n",
       "      <td>Dwight Yoakam</td>\n",
       "      <td>You're The One</td>\n",
       "      <td>0.00003</td>\n",
       "    </tr>\n",
       "    <tr>\n",
       "      <th>1</th>\n",
       "      <td>fd50c4007b68a3737fe052d5a4f78ce8aa117f3d</td>\n",
       "      <td>SOEGIYH12A6D4FC0E3</td>\n",
       "      <td>1</td>\n",
       "      <td>TRLGMFJ128F4217DBE</td>\n",
       "      <td>Barry Tuckwell/Academy of St Martin-in-the-Fie...</td>\n",
       "      <td>Horn Concerto No. 4 in E flat K495: II. Romanc...</td>\n",
       "      <td>0.00003</td>\n",
       "    </tr>\n",
       "    <tr>\n",
       "      <th>2</th>\n",
       "      <td>fd50c4007b68a3737fe052d5a4f78ce8aa117f3d</td>\n",
       "      <td>SOFLJQZ12A6D4FADA6</td>\n",
       "      <td>1</td>\n",
       "      <td>TRTNDNE128F1486812</td>\n",
       "      <td>Cartola</td>\n",
       "      <td>Tive Sim</td>\n",
       "      <td>0.00003</td>\n",
       "    </tr>\n",
       "    <tr>\n",
       "      <th>3</th>\n",
       "      <td>fd50c4007b68a3737fe052d5a4f78ce8aa117f3d</td>\n",
       "      <td>SOHTKMO12AB01843B0</td>\n",
       "      <td>1</td>\n",
       "      <td>TRASTUE128F930D488</td>\n",
       "      <td>Lonnie Gordon</td>\n",
       "      <td>Catch You Baby (Steve Pitron &amp; Max Sanna Radio...</td>\n",
       "      <td>0.00003</td>\n",
       "    </tr>\n",
       "    <tr>\n",
       "      <th>4</th>\n",
       "      <td>fd50c4007b68a3737fe052d5a4f78ce8aa117f3d</td>\n",
       "      <td>SODQZCY12A6D4F9D11</td>\n",
       "      <td>1</td>\n",
       "      <td>TRFPLWO128F1486B9E</td>\n",
       "      <td>Miguel Calo</td>\n",
       "      <td>El Cuatrero</td>\n",
       "      <td>0.00003</td>\n",
       "    </tr>\n",
       "    <tr>\n",
       "      <th>5</th>\n",
       "      <td>fd50c4007b68a3737fe052d5a4f78ce8aa117f3d</td>\n",
       "      <td>SOXLOQG12AF72A2D55</td>\n",
       "      <td>1</td>\n",
       "      <td>TRWBSCZ128F932F2F9</td>\n",
       "      <td>Beastie Boys</td>\n",
       "      <td>Unite (2009 Digital Remaster)</td>\n",
       "      <td>0.00003</td>\n",
       "    </tr>\n",
       "    <tr>\n",
       "      <th>6</th>\n",
       "      <td>d7083f5e1d50c264277d624340edaaf3dc16095b</td>\n",
       "      <td>SOUVUHC12A67020E3B</td>\n",
       "      <td>1</td>\n",
       "      <td>TRCQXMT128E0786397</td>\n",
       "      <td>Moby</td>\n",
       "      <td>Lift Me Up</td>\n",
       "      <td>0.00003</td>\n",
       "    </tr>\n",
       "    <tr>\n",
       "      <th>7</th>\n",
       "      <td>d7083f5e1d50c264277d624340edaaf3dc16095b</td>\n",
       "      <td>SOUQERE12A58A75633</td>\n",
       "      <td>1</td>\n",
       "      <td>TRZLFVB128F429FED0</td>\n",
       "      <td>Guano Apes</td>\n",
       "      <td>Living In A Lie</td>\n",
       "      <td>0.00003</td>\n",
       "    </tr>\n",
       "    <tr>\n",
       "      <th>8</th>\n",
       "      <td>d7083f5e1d50c264277d624340edaaf3dc16095b</td>\n",
       "      <td>SOIPJAX12A8C141A2D</td>\n",
       "      <td>1</td>\n",
       "      <td>TRIKCQI128F92DDC16</td>\n",
       "      <td>Guano Apes</td>\n",
       "      <td>Open Your Eyes</td>\n",
       "      <td>0.00003</td>\n",
       "    </tr>\n",
       "    <tr>\n",
       "      <th>9</th>\n",
       "      <td>d7083f5e1d50c264277d624340edaaf3dc16095b</td>\n",
       "      <td>SOEFCDJ12AB0185FA0</td>\n",
       "      <td>2</td>\n",
       "      <td>TRTBQQG128F9339E23</td>\n",
       "      <td>UDG</td>\n",
       "      <td>Kurtizana</td>\n",
       "      <td>0.00006</td>\n",
       "    </tr>\n",
       "  </tbody>\n",
       "</table>\n",
       "</div>"
      ],
      "text/plain": [
       "                                    user_id             song_id  count  \\\n",
       "0  fd50c4007b68a3737fe052d5a4f78ce8aa117f3d  SOBONKR12A58A7A7E0      1   \n",
       "1  fd50c4007b68a3737fe052d5a4f78ce8aa117f3d  SOEGIYH12A6D4FC0E3      1   \n",
       "2  fd50c4007b68a3737fe052d5a4f78ce8aa117f3d  SOFLJQZ12A6D4FADA6      1   \n",
       "3  fd50c4007b68a3737fe052d5a4f78ce8aa117f3d  SOHTKMO12AB01843B0      1   \n",
       "4  fd50c4007b68a3737fe052d5a4f78ce8aa117f3d  SODQZCY12A6D4F9D11      1   \n",
       "5  fd50c4007b68a3737fe052d5a4f78ce8aa117f3d  SOXLOQG12AF72A2D55      1   \n",
       "6  d7083f5e1d50c264277d624340edaaf3dc16095b  SOUVUHC12A67020E3B      1   \n",
       "7  d7083f5e1d50c264277d624340edaaf3dc16095b  SOUQERE12A58A75633      1   \n",
       "8  d7083f5e1d50c264277d624340edaaf3dc16095b  SOIPJAX12A8C141A2D      1   \n",
       "9  d7083f5e1d50c264277d624340edaaf3dc16095b  SOEFCDJ12AB0185FA0      2   \n",
       "\n",
       "             taste_id                                             artist  \\\n",
       "0  TRAEHHJ12903CF492F                                      Dwight Yoakam   \n",
       "1  TRLGMFJ128F4217DBE  Barry Tuckwell/Academy of St Martin-in-the-Fie...   \n",
       "2  TRTNDNE128F1486812                                            Cartola   \n",
       "3  TRASTUE128F930D488                                      Lonnie Gordon   \n",
       "4  TRFPLWO128F1486B9E                                        Miguel Calo   \n",
       "5  TRWBSCZ128F932F2F9                                       Beastie Boys   \n",
       "6  TRCQXMT128E0786397                                               Moby   \n",
       "7  TRZLFVB128F429FED0                                         Guano Apes   \n",
       "8  TRIKCQI128F92DDC16                                         Guano Apes   \n",
       "9  TRTBQQG128F9339E23                                                UDG   \n",
       "\n",
       "                                           song_name  percentage  \n",
       "0                                     You're The One     0.00003  \n",
       "1  Horn Concerto No. 4 in E flat K495: II. Romanc...     0.00003  \n",
       "2                                           Tive Sim     0.00003  \n",
       "3  Catch You Baby (Steve Pitron & Max Sanna Radio...     0.00003  \n",
       "4                                        El Cuatrero     0.00003  \n",
       "5                      Unite (2009 Digital Remaster)     0.00003  \n",
       "6                                         Lift Me Up     0.00003  \n",
       "7                                    Living In A Lie     0.00003  \n",
       "8                                     Open Your Eyes     0.00003  \n",
       "9                                          Kurtizana     0.00006  "
      ]
     },
     "execution_count": 52,
     "metadata": {},
     "output_type": "execute_result"
    }
   ],
   "source": [
    "df_new.head(10)"
   ]
  },
  {
   "cell_type": "markdown",
   "metadata": {},
   "source": [
    "# Importing required libraries"
   ]
  },
  {
   "cell_type": "code",
   "execution_count": 53,
   "metadata": {},
   "outputs": [],
   "source": [
    "from sklearn.feature_extraction.text import TfidfVectorizer\n",
    "from sklearn.metrics.pairwise import cosine_similarity"
   ]
  },
  {
   "cell_type": "markdown",
   "metadata": {},
   "source": [
    "After that, we use TF-IDF vectorizerthat calculates the TF-IDF score for each song lyric, word-by-word.\n",
    "\n",
    "Here, we pay particular attention to the arguments we can specify."
   ]
  },
  {
   "cell_type": "code",
   "execution_count": 54,
   "metadata": {},
   "outputs": [],
   "source": [
    "tfidf = TfidfVectorizer(analyzer='word', stop_words='english')"
   ]
  },
  {
   "cell_type": "code",
   "execution_count": 55,
   "metadata": {},
   "outputs": [],
   "source": [
    "lyrics_matrix = tfidf.fit_transform(df_new[['user_id','song_id','count','taste_id','artist','song_name']])"
   ]
  },
  {
   "cell_type": "markdown",
   "metadata": {},
   "source": [
    "How do we use this matrix for a recommendation?\n",
    "\n",
    "We now need to calculate the similarity of one lyric to another. We are going to use cosine similarity.\n",
    "\n",
    "We want to calculate the cosine similarity of each item with every other item in the dataset. So we just pass the lyrics_matrix as argument."
   ]
  },
  {
   "cell_type": "code",
   "execution_count": 57,
   "metadata": {},
   "outputs": [],
   "source": [
    "cosine_similarity = cosine_similarity(lyrics_matrix)"
   ]
  },
  {
   "cell_type": "markdown",
   "metadata": {},
   "source": [
    "Once we get the similarities, we'll store in a dictionary the names of the 50 most similar songs for each song in our dataset.\n",
    "\n"
   ]
  },
  {
   "cell_type": "code",
   "execution_count": 58,
   "metadata": {},
   "outputs": [],
   "source": [
    "similarity = {}"
   ]
  },
  {
   "cell_type": "code",
   "execution_count": 61,
   "metadata": {},
   "outputs": [
    {
     "ename": "KeyError",
     "evalue": "0",
     "output_type": "error",
     "traceback": [
      "\u001b[1;31m---------------------------------------------------------------------------\u001b[0m",
      "\u001b[1;31mKeyError\u001b[0m                                  Traceback (most recent call last)",
      "\u001b[1;32m~\\anaconda3\\lib\\site-packages\\pandas\\core\\indexes\\base.py\u001b[0m in \u001b[0;36mget_loc\u001b[1;34m(self, key, method, tolerance)\u001b[0m\n\u001b[0;32m   2645\u001b[0m             \u001b[1;32mtry\u001b[0m\u001b[1;33m:\u001b[0m\u001b[1;33m\u001b[0m\u001b[1;33m\u001b[0m\u001b[0m\n\u001b[1;32m-> 2646\u001b[1;33m                 \u001b[1;32mreturn\u001b[0m \u001b[0mself\u001b[0m\u001b[1;33m.\u001b[0m\u001b[0m_engine\u001b[0m\u001b[1;33m.\u001b[0m\u001b[0mget_loc\u001b[0m\u001b[1;33m(\u001b[0m\u001b[0mkey\u001b[0m\u001b[1;33m)\u001b[0m\u001b[1;33m\u001b[0m\u001b[1;33m\u001b[0m\u001b[0m\n\u001b[0m\u001b[0;32m   2647\u001b[0m             \u001b[1;32mexcept\u001b[0m \u001b[0mKeyError\u001b[0m\u001b[1;33m:\u001b[0m\u001b[1;33m\u001b[0m\u001b[1;33m\u001b[0m\u001b[0m\n",
      "\u001b[1;32mpandas\\_libs\\index.pyx\u001b[0m in \u001b[0;36mpandas._libs.index.IndexEngine.get_loc\u001b[1;34m()\u001b[0m\n",
      "\u001b[1;32mpandas\\_libs\\index.pyx\u001b[0m in \u001b[0;36mpandas._libs.index.IndexEngine.get_loc\u001b[1;34m()\u001b[0m\n",
      "\u001b[1;32mpandas\\_libs\\hashtable_class_helper.pxi\u001b[0m in \u001b[0;36mpandas._libs.hashtable.PyObjectHashTable.get_item\u001b[1;34m()\u001b[0m\n",
      "\u001b[1;32mpandas\\_libs\\hashtable_class_helper.pxi\u001b[0m in \u001b[0;36mpandas._libs.hashtable.PyObjectHashTable.get_item\u001b[1;34m()\u001b[0m\n",
      "\u001b[1;31mKeyError\u001b[0m: 0",
      "\nDuring handling of the above exception, another exception occurred:\n",
      "\u001b[1;31mKeyError\u001b[0m                                  Traceback (most recent call last)",
      "\u001b[1;32m<ipython-input-61-8da6c7b84612>\u001b[0m in \u001b[0;36m<module>\u001b[1;34m\u001b[0m\n\u001b[0;32m      4\u001b[0m     \u001b[1;31m# After that, we'll store in similarities each name of the 50 most similar songs.\u001b[0m\u001b[1;33m\u001b[0m\u001b[1;33m\u001b[0m\u001b[1;33m\u001b[0m\u001b[0m\n\u001b[0;32m      5\u001b[0m     \u001b[1;31m# Except the first one that is the same song.\u001b[0m\u001b[1;33m\u001b[0m\u001b[1;33m\u001b[0m\u001b[1;33m\u001b[0m\u001b[0m\n\u001b[1;32m----> 6\u001b[1;33m     \u001b[0msimilarity\u001b[0m\u001b[1;33m[\u001b[0m\u001b[0mdf_new\u001b[0m\u001b[1;33m[\u001b[0m\u001b[1;34m'song_name'\u001b[0m\u001b[1;33m]\u001b[0m\u001b[1;33m.\u001b[0m\u001b[0miloc\u001b[0m\u001b[1;33m[\u001b[0m\u001b[0mi\u001b[0m\u001b[1;33m]\u001b[0m\u001b[1;33m]\u001b[0m \u001b[1;33m=\u001b[0m \u001b[1;33m[\u001b[0m\u001b[1;33m(\u001b[0m\u001b[0mcosine_similarity\u001b[0m\u001b[1;33m[\u001b[0m\u001b[0mi\u001b[0m\u001b[1;33m]\u001b[0m\u001b[1;33m[\u001b[0m\u001b[0mx\u001b[0m\u001b[1;33m]\u001b[0m\u001b[1;33m,\u001b[0m \u001b[0mdf_new\u001b[0m\u001b[1;33m[\u001b[0m\u001b[1;33m[\u001b[0m\u001b[1;34m'user_id'\u001b[0m\u001b[1;33m,\u001b[0m\u001b[1;34m'song_id'\u001b[0m\u001b[1;33m,\u001b[0m\u001b[1;34m'count'\u001b[0m\u001b[1;33m,\u001b[0m\u001b[1;34m'taste_id'\u001b[0m\u001b[1;33m,\u001b[0m\u001b[1;34m'artist'\u001b[0m\u001b[1;33m,\u001b[0m\u001b[1;34m'song_name'\u001b[0m\u001b[1;33m]\u001b[0m\u001b[1;33m]\u001b[0m\u001b[1;33m[\u001b[0m\u001b[0mx\u001b[0m\u001b[1;33m]\u001b[0m\u001b[1;33m)\u001b[0m \u001b[1;32mfor\u001b[0m \u001b[0mx\u001b[0m \u001b[1;32min\u001b[0m \u001b[0msimilar_indices\u001b[0m\u001b[1;33m]\u001b[0m\u001b[1;33m[\u001b[0m\u001b[1;36m1\u001b[0m\u001b[1;33m:\u001b[0m\u001b[1;33m]\u001b[0m\u001b[1;33m\u001b[0m\u001b[1;33m\u001b[0m\u001b[0m\n\u001b[0m",
      "\u001b[1;32m<ipython-input-61-8da6c7b84612>\u001b[0m in \u001b[0;36m<listcomp>\u001b[1;34m(.0)\u001b[0m\n\u001b[0;32m      4\u001b[0m     \u001b[1;31m# After that, we'll store in similarities each name of the 50 most similar songs.\u001b[0m\u001b[1;33m\u001b[0m\u001b[1;33m\u001b[0m\u001b[1;33m\u001b[0m\u001b[0m\n\u001b[0;32m      5\u001b[0m     \u001b[1;31m# Except the first one that is the same song.\u001b[0m\u001b[1;33m\u001b[0m\u001b[1;33m\u001b[0m\u001b[1;33m\u001b[0m\u001b[0m\n\u001b[1;32m----> 6\u001b[1;33m     \u001b[0msimilarity\u001b[0m\u001b[1;33m[\u001b[0m\u001b[0mdf_new\u001b[0m\u001b[1;33m[\u001b[0m\u001b[1;34m'song_name'\u001b[0m\u001b[1;33m]\u001b[0m\u001b[1;33m.\u001b[0m\u001b[0miloc\u001b[0m\u001b[1;33m[\u001b[0m\u001b[0mi\u001b[0m\u001b[1;33m]\u001b[0m\u001b[1;33m]\u001b[0m \u001b[1;33m=\u001b[0m \u001b[1;33m[\u001b[0m\u001b[1;33m(\u001b[0m\u001b[0mcosine_similarity\u001b[0m\u001b[1;33m[\u001b[0m\u001b[0mi\u001b[0m\u001b[1;33m]\u001b[0m\u001b[1;33m[\u001b[0m\u001b[0mx\u001b[0m\u001b[1;33m]\u001b[0m\u001b[1;33m,\u001b[0m \u001b[0mdf_new\u001b[0m\u001b[1;33m[\u001b[0m\u001b[1;33m[\u001b[0m\u001b[1;34m'user_id'\u001b[0m\u001b[1;33m,\u001b[0m\u001b[1;34m'song_id'\u001b[0m\u001b[1;33m,\u001b[0m\u001b[1;34m'count'\u001b[0m\u001b[1;33m,\u001b[0m\u001b[1;34m'taste_id'\u001b[0m\u001b[1;33m,\u001b[0m\u001b[1;34m'artist'\u001b[0m\u001b[1;33m,\u001b[0m\u001b[1;34m'song_name'\u001b[0m\u001b[1;33m]\u001b[0m\u001b[1;33m]\u001b[0m\u001b[1;33m[\u001b[0m\u001b[0mx\u001b[0m\u001b[1;33m]\u001b[0m\u001b[1;33m)\u001b[0m \u001b[1;32mfor\u001b[0m \u001b[0mx\u001b[0m \u001b[1;32min\u001b[0m \u001b[0msimilar_indices\u001b[0m\u001b[1;33m]\u001b[0m\u001b[1;33m[\u001b[0m\u001b[1;36m1\u001b[0m\u001b[1;33m:\u001b[0m\u001b[1;33m]\u001b[0m\u001b[1;33m\u001b[0m\u001b[1;33m\u001b[0m\u001b[0m\n\u001b[0m",
      "\u001b[1;32m~\\anaconda3\\lib\\site-packages\\pandas\\core\\frame.py\u001b[0m in \u001b[0;36m__getitem__\u001b[1;34m(self, key)\u001b[0m\n\u001b[0;32m   2798\u001b[0m             \u001b[1;32mif\u001b[0m \u001b[0mself\u001b[0m\u001b[1;33m.\u001b[0m\u001b[0mcolumns\u001b[0m\u001b[1;33m.\u001b[0m\u001b[0mnlevels\u001b[0m \u001b[1;33m>\u001b[0m \u001b[1;36m1\u001b[0m\u001b[1;33m:\u001b[0m\u001b[1;33m\u001b[0m\u001b[1;33m\u001b[0m\u001b[0m\n\u001b[0;32m   2799\u001b[0m                 \u001b[1;32mreturn\u001b[0m \u001b[0mself\u001b[0m\u001b[1;33m.\u001b[0m\u001b[0m_getitem_multilevel\u001b[0m\u001b[1;33m(\u001b[0m\u001b[0mkey\u001b[0m\u001b[1;33m)\u001b[0m\u001b[1;33m\u001b[0m\u001b[1;33m\u001b[0m\u001b[0m\n\u001b[1;32m-> 2800\u001b[1;33m             \u001b[0mindexer\u001b[0m \u001b[1;33m=\u001b[0m \u001b[0mself\u001b[0m\u001b[1;33m.\u001b[0m\u001b[0mcolumns\u001b[0m\u001b[1;33m.\u001b[0m\u001b[0mget_loc\u001b[0m\u001b[1;33m(\u001b[0m\u001b[0mkey\u001b[0m\u001b[1;33m)\u001b[0m\u001b[1;33m\u001b[0m\u001b[1;33m\u001b[0m\u001b[0m\n\u001b[0m\u001b[0;32m   2801\u001b[0m             \u001b[1;32mif\u001b[0m \u001b[0mis_integer\u001b[0m\u001b[1;33m(\u001b[0m\u001b[0mindexer\u001b[0m\u001b[1;33m)\u001b[0m\u001b[1;33m:\u001b[0m\u001b[1;33m\u001b[0m\u001b[1;33m\u001b[0m\u001b[0m\n\u001b[0;32m   2802\u001b[0m                 \u001b[0mindexer\u001b[0m \u001b[1;33m=\u001b[0m \u001b[1;33m[\u001b[0m\u001b[0mindexer\u001b[0m\u001b[1;33m]\u001b[0m\u001b[1;33m\u001b[0m\u001b[1;33m\u001b[0m\u001b[0m\n",
      "\u001b[1;32m~\\anaconda3\\lib\\site-packages\\pandas\\core\\indexes\\base.py\u001b[0m in \u001b[0;36mget_loc\u001b[1;34m(self, key, method, tolerance)\u001b[0m\n\u001b[0;32m   2646\u001b[0m                 \u001b[1;32mreturn\u001b[0m \u001b[0mself\u001b[0m\u001b[1;33m.\u001b[0m\u001b[0m_engine\u001b[0m\u001b[1;33m.\u001b[0m\u001b[0mget_loc\u001b[0m\u001b[1;33m(\u001b[0m\u001b[0mkey\u001b[0m\u001b[1;33m)\u001b[0m\u001b[1;33m\u001b[0m\u001b[1;33m\u001b[0m\u001b[0m\n\u001b[0;32m   2647\u001b[0m             \u001b[1;32mexcept\u001b[0m \u001b[0mKeyError\u001b[0m\u001b[1;33m:\u001b[0m\u001b[1;33m\u001b[0m\u001b[1;33m\u001b[0m\u001b[0m\n\u001b[1;32m-> 2648\u001b[1;33m                 \u001b[1;32mreturn\u001b[0m \u001b[0mself\u001b[0m\u001b[1;33m.\u001b[0m\u001b[0m_engine\u001b[0m\u001b[1;33m.\u001b[0m\u001b[0mget_loc\u001b[0m\u001b[1;33m(\u001b[0m\u001b[0mself\u001b[0m\u001b[1;33m.\u001b[0m\u001b[0m_maybe_cast_indexer\u001b[0m\u001b[1;33m(\u001b[0m\u001b[0mkey\u001b[0m\u001b[1;33m)\u001b[0m\u001b[1;33m)\u001b[0m\u001b[1;33m\u001b[0m\u001b[1;33m\u001b[0m\u001b[0m\n\u001b[0m\u001b[0;32m   2649\u001b[0m         \u001b[0mindexer\u001b[0m \u001b[1;33m=\u001b[0m \u001b[0mself\u001b[0m\u001b[1;33m.\u001b[0m\u001b[0mget_indexer\u001b[0m\u001b[1;33m(\u001b[0m\u001b[1;33m[\u001b[0m\u001b[0mkey\u001b[0m\u001b[1;33m]\u001b[0m\u001b[1;33m,\u001b[0m \u001b[0mmethod\u001b[0m\u001b[1;33m=\u001b[0m\u001b[0mmethod\u001b[0m\u001b[1;33m,\u001b[0m \u001b[0mtolerance\u001b[0m\u001b[1;33m=\u001b[0m\u001b[0mtolerance\u001b[0m\u001b[1;33m)\u001b[0m\u001b[1;33m\u001b[0m\u001b[1;33m\u001b[0m\u001b[0m\n\u001b[0;32m   2650\u001b[0m         \u001b[1;32mif\u001b[0m \u001b[0mindexer\u001b[0m\u001b[1;33m.\u001b[0m\u001b[0mndim\u001b[0m \u001b[1;33m>\u001b[0m \u001b[1;36m1\u001b[0m \u001b[1;32mor\u001b[0m \u001b[0mindexer\u001b[0m\u001b[1;33m.\u001b[0m\u001b[0msize\u001b[0m \u001b[1;33m>\u001b[0m \u001b[1;36m1\u001b[0m\u001b[1;33m:\u001b[0m\u001b[1;33m\u001b[0m\u001b[1;33m\u001b[0m\u001b[0m\n",
      "\u001b[1;32mpandas\\_libs\\index.pyx\u001b[0m in \u001b[0;36mpandas._libs.index.IndexEngine.get_loc\u001b[1;34m()\u001b[0m\n",
      "\u001b[1;32mpandas\\_libs\\index.pyx\u001b[0m in \u001b[0;36mpandas._libs.index.IndexEngine.get_loc\u001b[1;34m()\u001b[0m\n",
      "\u001b[1;32mpandas\\_libs\\hashtable_class_helper.pxi\u001b[0m in \u001b[0;36mpandas._libs.hashtable.PyObjectHashTable.get_item\u001b[1;34m()\u001b[0m\n",
      "\u001b[1;32mpandas\\_libs\\hashtable_class_helper.pxi\u001b[0m in \u001b[0;36mpandas._libs.hashtable.PyObjectHashTable.get_item\u001b[1;34m()\u001b[0m\n",
      "\u001b[1;31mKeyError\u001b[0m: 0"
     ]
    }
   ],
   "source": [
    "for i in range(len(cosine_similarity)):\n",
    "    # Now we'll sort each element in cosine_similarities and get the indexes of the songs. \n",
    "    similar_indices = cosine_similarity[i].argsort()[:-50:-1] \n",
    "    # After that, we'll store in similarities each name of the 50 most similar songs.\n",
    "    # Except the first one that is the same song.\n",
    "    similarity[df_new['song_name'].iloc[i]] = [(cosine_similarity[i][x], df_new[['user_id','song_id','count','taste_id','artist','song_name']][x]) for x in similar_indices][1:]"
   ]
  },
  {
   "cell_type": "code",
   "execution_count": 62,
   "metadata": {},
   "outputs": [],
   "source": [
    "class ContentBasedRecommender:\n",
    "    def __init__(self, matrix):\n",
    "        self.matrix_similar = matrix\n",
    "\n",
    "    def _print_message(self, song_name, recom_song_name):\n",
    "        rec_items = len(recom_song_name)\n",
    "        \n",
    "        print(f'The {rec_items} recommended df_new for {song_name} are:')\n",
    "        for i in range(rec_items):\n",
    "            print(f\"Number {i+1}:\")\n",
    "            print(f\"{recom_song_name[i][1]} by {recom_song_name[i][2]} with {round(recom_song_name[i][0], 3)} similarity score\") \n",
    "            print(\"--------------------\")\n",
    "        \n",
    "    def recommend(self, recommendation):\n",
    "        # Get song to find recommendations for\n",
    "        song_name = recommendation['song_name']\n",
    "        # Get number of songs to recommend\n",
    "        number_songs = recommendation['number_songs']\n",
    "        # Get the number of songs most similars from matrix similarities\n",
    "        recom_song_name = self.matrix_similar[song_name][:number_songs]\n",
    "        # print each item\n",
    "        self._print_message(song_name=song_name, recom_song_name=recom_song_name)"
   ]
  },
  {
   "cell_type": "code",
   "execution_count": 64,
   "metadata": {},
   "outputs": [],
   "source": [
    "recommedations = ContentBasedRecommender(similarity)"
   ]
  },
  {
   "cell_type": "code",
   "execution_count": 65,
   "metadata": {},
   "outputs": [],
   "source": [
    "recommendation = {\n",
    "    \"song_name\": df_new['song_name'].iloc[10],\n",
    "    \"number_songs\": 4 \n",
    "}"
   ]
  },
  {
   "cell_type": "code",
   "execution_count": 66,
   "metadata": {},
   "outputs": [
    {
     "ename": "KeyError",
     "evalue": "'Happy Hour Hero'",
     "output_type": "error",
     "traceback": [
      "\u001b[1;31m---------------------------------------------------------------------------\u001b[0m",
      "\u001b[1;31mKeyError\u001b[0m                                  Traceback (most recent call last)",
      "\u001b[1;32m<ipython-input-66-bd9271b111b8>\u001b[0m in \u001b[0;36m<module>\u001b[1;34m\u001b[0m\n\u001b[1;32m----> 1\u001b[1;33m \u001b[0mrecommedations\u001b[0m\u001b[1;33m.\u001b[0m\u001b[0mrecommend\u001b[0m\u001b[1;33m(\u001b[0m\u001b[0mrecommendation\u001b[0m\u001b[1;33m)\u001b[0m\u001b[1;33m\u001b[0m\u001b[1;33m\u001b[0m\u001b[0m\n\u001b[0m",
      "\u001b[1;32m<ipython-input-62-51106f2811fe>\u001b[0m in \u001b[0;36mrecommend\u001b[1;34m(self, recommendation)\u001b[0m\n\u001b[0;32m     18\u001b[0m         \u001b[0mnumber_songs\u001b[0m \u001b[1;33m=\u001b[0m \u001b[0mrecommendation\u001b[0m\u001b[1;33m[\u001b[0m\u001b[1;34m'number_songs'\u001b[0m\u001b[1;33m]\u001b[0m\u001b[1;33m\u001b[0m\u001b[1;33m\u001b[0m\u001b[0m\n\u001b[0;32m     19\u001b[0m         \u001b[1;31m# Get the number of songs most similars from matrix similarities\u001b[0m\u001b[1;33m\u001b[0m\u001b[1;33m\u001b[0m\u001b[1;33m\u001b[0m\u001b[0m\n\u001b[1;32m---> 20\u001b[1;33m         \u001b[0mrecom_song_name\u001b[0m \u001b[1;33m=\u001b[0m \u001b[0mself\u001b[0m\u001b[1;33m.\u001b[0m\u001b[0mmatrix_similar\u001b[0m\u001b[1;33m[\u001b[0m\u001b[0msong_name\u001b[0m\u001b[1;33m]\u001b[0m\u001b[1;33m[\u001b[0m\u001b[1;33m:\u001b[0m\u001b[0mnumber_songs\u001b[0m\u001b[1;33m]\u001b[0m\u001b[1;33m\u001b[0m\u001b[1;33m\u001b[0m\u001b[0m\n\u001b[0m\u001b[0;32m     21\u001b[0m         \u001b[1;31m# print each item\u001b[0m\u001b[1;33m\u001b[0m\u001b[1;33m\u001b[0m\u001b[1;33m\u001b[0m\u001b[0m\n\u001b[0;32m     22\u001b[0m         \u001b[0mself\u001b[0m\u001b[1;33m.\u001b[0m\u001b[0m_print_message\u001b[0m\u001b[1;33m(\u001b[0m\u001b[0msong_name\u001b[0m\u001b[1;33m=\u001b[0m\u001b[0msong_name\u001b[0m\u001b[1;33m,\u001b[0m \u001b[0mrecom_song_name\u001b[0m\u001b[1;33m=\u001b[0m\u001b[0mrecom_song_name\u001b[0m\u001b[1;33m)\u001b[0m\u001b[1;33m\u001b[0m\u001b[1;33m\u001b[0m\u001b[0m\n",
      "\u001b[1;31mKeyError\u001b[0m: 'Happy Hour Hero'"
     ]
    }
   ],
   "source": [
    "recommedations.recommend(recommendation)"
   ]
  },
  {
   "cell_type": "code",
   "execution_count": 67,
   "metadata": {},
   "outputs": [],
   "source": [
    "recommendation2 = {\n",
    "    \"song_name\": df_new['song_name'].iloc[10640],\n",
    "    \"number_songs\": 4 \n",
    "}"
   ]
  },
  {
   "cell_type": "code",
   "execution_count": 68,
   "metadata": {},
   "outputs": [
    {
     "ename": "KeyError",
     "evalue": "\"Baby I'm A Fool\"",
     "output_type": "error",
     "traceback": [
      "\u001b[1;31m---------------------------------------------------------------------------\u001b[0m",
      "\u001b[1;31mKeyError\u001b[0m                                  Traceback (most recent call last)",
      "\u001b[1;32m<ipython-input-68-c6b68a38049c>\u001b[0m in \u001b[0;36m<module>\u001b[1;34m\u001b[0m\n\u001b[1;32m----> 1\u001b[1;33m \u001b[0mrecommedations\u001b[0m\u001b[1;33m.\u001b[0m\u001b[0mrecommend\u001b[0m\u001b[1;33m(\u001b[0m\u001b[0mrecommendation2\u001b[0m\u001b[1;33m)\u001b[0m\u001b[1;33m\u001b[0m\u001b[1;33m\u001b[0m\u001b[0m\n\u001b[0m",
      "\u001b[1;32m<ipython-input-62-51106f2811fe>\u001b[0m in \u001b[0;36mrecommend\u001b[1;34m(self, recommendation)\u001b[0m\n\u001b[0;32m     18\u001b[0m         \u001b[0mnumber_songs\u001b[0m \u001b[1;33m=\u001b[0m \u001b[0mrecommendation\u001b[0m\u001b[1;33m[\u001b[0m\u001b[1;34m'number_songs'\u001b[0m\u001b[1;33m]\u001b[0m\u001b[1;33m\u001b[0m\u001b[1;33m\u001b[0m\u001b[0m\n\u001b[0;32m     19\u001b[0m         \u001b[1;31m# Get the number of songs most similars from matrix similarities\u001b[0m\u001b[1;33m\u001b[0m\u001b[1;33m\u001b[0m\u001b[1;33m\u001b[0m\u001b[0m\n\u001b[1;32m---> 20\u001b[1;33m         \u001b[0mrecom_song_name\u001b[0m \u001b[1;33m=\u001b[0m \u001b[0mself\u001b[0m\u001b[1;33m.\u001b[0m\u001b[0mmatrix_similar\u001b[0m\u001b[1;33m[\u001b[0m\u001b[0msong_name\u001b[0m\u001b[1;33m]\u001b[0m\u001b[1;33m[\u001b[0m\u001b[1;33m:\u001b[0m\u001b[0mnumber_songs\u001b[0m\u001b[1;33m]\u001b[0m\u001b[1;33m\u001b[0m\u001b[1;33m\u001b[0m\u001b[0m\n\u001b[0m\u001b[0;32m     21\u001b[0m         \u001b[1;31m# print each item\u001b[0m\u001b[1;33m\u001b[0m\u001b[1;33m\u001b[0m\u001b[1;33m\u001b[0m\u001b[0m\n\u001b[0;32m     22\u001b[0m         \u001b[0mself\u001b[0m\u001b[1;33m.\u001b[0m\u001b[0m_print_message\u001b[0m\u001b[1;33m(\u001b[0m\u001b[0msong_name\u001b[0m\u001b[1;33m=\u001b[0m\u001b[0msong_name\u001b[0m\u001b[1;33m,\u001b[0m \u001b[0mrecom_song_name\u001b[0m\u001b[1;33m=\u001b[0m\u001b[0mrecom_song_name\u001b[0m\u001b[1;33m)\u001b[0m\u001b[1;33m\u001b[0m\u001b[1;33m\u001b[0m\u001b[0m\n",
      "\u001b[1;31mKeyError\u001b[0m: \"Baby I'm A Fool\""
     ]
    }
   ],
   "source": [
    "recommedations.recommend(recommendation2)"
   ]
  },
  {
   "cell_type": "code",
   "execution_count": null,
   "metadata": {},
   "outputs": [],
   "source": []
  }
 ],
 "metadata": {
  "kernelspec": {
   "display_name": "Python 3",
   "language": "python",
   "name": "python3"
  },
  "language_info": {
   "codemirror_mode": {
    "name": "ipython",
    "version": 3
   },
   "file_extension": ".py",
   "mimetype": "text/x-python",
   "name": "python",
   "nbconvert_exporter": "python",
   "pygments_lexer": "ipython3",
   "version": "3.8.2"
  }
 },
 "nbformat": 4,
 "nbformat_minor": 4
}
