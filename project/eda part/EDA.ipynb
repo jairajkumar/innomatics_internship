{
 "cells": [
  {
   "cell_type": "code",
   "execution_count": 5,
   "metadata": {},
   "outputs": [
    {
     "data": {
      "text/plain": [
       "Index(['user_id', 'song_id', 'count'], dtype='object')"
      ]
     },
     "execution_count": 5,
     "metadata": {},
     "output_type": "execute_result"
    }
   ],
   "source": [
    "df.columns"
   ]
  },
  {
   "cell_type": "code",
   "execution_count": 1,
   "metadata": {},
   "outputs": [],
   "source": [
    "import numpy as np\n",
    "import pandas as pd\n",
    "import matplotlib.pyplot as plt\n",
    "import seaborn as sns\n",
    "\n",
    "import os\n",
    "import random\n",
    "from sklearn.decomposition import TruncatedSVD\n",
    "from sklearn.metrics.pairwise import cosine_similarity"
   ]
  },
  {
   "cell_type": "code",
   "execution_count": 2,
   "metadata": {},
   "outputs": [],
   "source": [
    "import warnings\n",
    "warnings.filterwarnings('ignore')"
   ]
  },
  {
   "cell_type": "code",
   "execution_count": 3,
   "metadata": {},
   "outputs": [],
   "source": [
    "df=pd.read_csv('kaggle_visible_evaluation_triplets.csv')"
   ]
  },
  {
   "cell_type": "code",
   "execution_count": 6,
   "metadata": {},
   "outputs": [],
   "source": [
    "df1=pd.read_csv('unique_tracks.csv')"
   ]
  },
  {
   "cell_type": "code",
   "execution_count": 4,
   "metadata": {
    "scrolled": true
   },
   "outputs": [
    {
     "data": {
      "text/html": [
       "<div>\n",
       "<style scoped>\n",
       "    .dataframe tbody tr th:only-of-type {\n",
       "        vertical-align: middle;\n",
       "    }\n",
       "\n",
       "    .dataframe tbody tr th {\n",
       "        vertical-align: top;\n",
       "    }\n",
       "\n",
       "    .dataframe thead th {\n",
       "        text-align: right;\n",
       "    }\n",
       "</style>\n",
       "<table border=\"1\" class=\"dataframe\">\n",
       "  <thead>\n",
       "    <tr style=\"text-align: right;\">\n",
       "      <th></th>\n",
       "      <th>user_id</th>\n",
       "      <th>song_id</th>\n",
       "      <th>count</th>\n",
       "    </tr>\n",
       "  </thead>\n",
       "  <tbody>\n",
       "    <tr>\n",
       "      <th>0</th>\n",
       "      <td>fd50c4007b68a3737fe052d5a4f78ce8aa117f3d</td>\n",
       "      <td>SOBONKR12A58A7A7E0</td>\n",
       "      <td>1</td>\n",
       "    </tr>\n",
       "    <tr>\n",
       "      <th>1</th>\n",
       "      <td>fd50c4007b68a3737fe052d5a4f78ce8aa117f3d</td>\n",
       "      <td>SOEGIYH12A6D4FC0E3</td>\n",
       "      <td>1</td>\n",
       "    </tr>\n",
       "    <tr>\n",
       "      <th>2</th>\n",
       "      <td>fd50c4007b68a3737fe052d5a4f78ce8aa117f3d</td>\n",
       "      <td>SOFLJQZ12A6D4FADA6</td>\n",
       "      <td>1</td>\n",
       "    </tr>\n",
       "    <tr>\n",
       "      <th>3</th>\n",
       "      <td>fd50c4007b68a3737fe052d5a4f78ce8aa117f3d</td>\n",
       "      <td>SOHTKMO12AB01843B0</td>\n",
       "      <td>1</td>\n",
       "    </tr>\n",
       "    <tr>\n",
       "      <th>4</th>\n",
       "      <td>fd50c4007b68a3737fe052d5a4f78ce8aa117f3d</td>\n",
       "      <td>SODQZCY12A6D4F9D11</td>\n",
       "      <td>1</td>\n",
       "    </tr>\n",
       "    <tr>\n",
       "      <th>...</th>\n",
       "      <td>...</td>\n",
       "      <td>...</td>\n",
       "      <td>...</td>\n",
       "    </tr>\n",
       "    <tr>\n",
       "      <th>1048570</th>\n",
       "      <td>90aeb21b2f36eb46d1c5d48fa030b4b8fa818b52</td>\n",
       "      <td>SOEPEVY12AB01822A1</td>\n",
       "      <td>2</td>\n",
       "    </tr>\n",
       "    <tr>\n",
       "      <th>1048571</th>\n",
       "      <td>90aeb21b2f36eb46d1c5d48fa030b4b8fa818b52</td>\n",
       "      <td>SOLHTJY12A58A7AFE7</td>\n",
       "      <td>1</td>\n",
       "    </tr>\n",
       "    <tr>\n",
       "      <th>1048572</th>\n",
       "      <td>90aeb21b2f36eb46d1c5d48fa030b4b8fa818b52</td>\n",
       "      <td>SODBAHE12A8C132D34</td>\n",
       "      <td>2</td>\n",
       "    </tr>\n",
       "    <tr>\n",
       "      <th>1048573</th>\n",
       "      <td>90aeb21b2f36eb46d1c5d48fa030b4b8fa818b52</td>\n",
       "      <td>SOAVWHY12AB017C6C0</td>\n",
       "      <td>3</td>\n",
       "    </tr>\n",
       "    <tr>\n",
       "      <th>1048574</th>\n",
       "      <td>90aeb21b2f36eb46d1c5d48fa030b4b8fa818b52</td>\n",
       "      <td>SOMYECL12A6701D9C8</td>\n",
       "      <td>1</td>\n",
       "    </tr>\n",
       "  </tbody>\n",
       "</table>\n",
       "<p>1048575 rows × 3 columns</p>\n",
       "</div>"
      ],
      "text/plain": [
       "                                          user_id             song_id  count\n",
       "0        fd50c4007b68a3737fe052d5a4f78ce8aa117f3d  SOBONKR12A58A7A7E0      1\n",
       "1        fd50c4007b68a3737fe052d5a4f78ce8aa117f3d  SOEGIYH12A6D4FC0E3      1\n",
       "2        fd50c4007b68a3737fe052d5a4f78ce8aa117f3d  SOFLJQZ12A6D4FADA6      1\n",
       "3        fd50c4007b68a3737fe052d5a4f78ce8aa117f3d  SOHTKMO12AB01843B0      1\n",
       "4        fd50c4007b68a3737fe052d5a4f78ce8aa117f3d  SODQZCY12A6D4F9D11      1\n",
       "...                                           ...                 ...    ...\n",
       "1048570  90aeb21b2f36eb46d1c5d48fa030b4b8fa818b52  SOEPEVY12AB01822A1      2\n",
       "1048571  90aeb21b2f36eb46d1c5d48fa030b4b8fa818b52  SOLHTJY12A58A7AFE7      1\n",
       "1048572  90aeb21b2f36eb46d1c5d48fa030b4b8fa818b52  SODBAHE12A8C132D34      2\n",
       "1048573  90aeb21b2f36eb46d1c5d48fa030b4b8fa818b52  SOAVWHY12AB017C6C0      3\n",
       "1048574  90aeb21b2f36eb46d1c5d48fa030b4b8fa818b52  SOMYECL12A6701D9C8      1\n",
       "\n",
       "[1048575 rows x 3 columns]"
      ]
     },
     "execution_count": 4,
     "metadata": {},
     "output_type": "execute_result"
    }
   ],
   "source": [
    "df"
   ]
  },
  {
   "cell_type": "code",
   "execution_count": 7,
   "metadata": {
    "scrolled": true
   },
   "outputs": [
    {
     "data": {
      "text/html": [
       "<div>\n",
       "<style scoped>\n",
       "    .dataframe tbody tr th:only-of-type {\n",
       "        vertical-align: middle;\n",
       "    }\n",
       "\n",
       "    .dataframe tbody tr th {\n",
       "        vertical-align: top;\n",
       "    }\n",
       "\n",
       "    .dataframe thead th {\n",
       "        text-align: right;\n",
       "    }\n",
       "</style>\n",
       "<table border=\"1\" class=\"dataframe\">\n",
       "  <thead>\n",
       "    <tr style=\"text-align: right;\">\n",
       "      <th></th>\n",
       "      <th>taste_id</th>\n",
       "      <th>song_id</th>\n",
       "      <th>artist</th>\n",
       "      <th>song_name</th>\n",
       "    </tr>\n",
       "  </thead>\n",
       "  <tbody>\n",
       "    <tr>\n",
       "      <th>0</th>\n",
       "      <td>TRMMMYQ128F932D901</td>\n",
       "      <td>SOQMMHC12AB0180CB8</td>\n",
       "      <td>Faster Pussy cat</td>\n",
       "      <td>Silent Night</td>\n",
       "    </tr>\n",
       "    <tr>\n",
       "      <th>1</th>\n",
       "      <td>TRMMMKD128F425225D</td>\n",
       "      <td>SOVFVAK12A8C1350D9</td>\n",
       "      <td>Karkkiautomaatti</td>\n",
       "      <td>Tanssi vaan</td>\n",
       "    </tr>\n",
       "    <tr>\n",
       "      <th>2</th>\n",
       "      <td>TRMMMRX128F93187D9</td>\n",
       "      <td>SOGTUKN12AB017F4F1</td>\n",
       "      <td>Hudson Mohawke</td>\n",
       "      <td>No One Could Ever</td>\n",
       "    </tr>\n",
       "    <tr>\n",
       "      <th>3</th>\n",
       "      <td>TRMMMCH128F425532C</td>\n",
       "      <td>SOBNYVR12A8C13558C</td>\n",
       "      <td>Yerba Brava</td>\n",
       "      <td>Si Vos QuerÃ©s</td>\n",
       "    </tr>\n",
       "    <tr>\n",
       "      <th>4</th>\n",
       "      <td>TRMMMWA128F426B589</td>\n",
       "      <td>SOHSBXH12A8C13B0DF</td>\n",
       "      <td>Der Mystic</td>\n",
       "      <td>Tangle Of Aspens</td>\n",
       "    </tr>\n",
       "    <tr>\n",
       "      <th>...</th>\n",
       "      <td>...</td>\n",
       "      <td>...</td>\n",
       "      <td>...</td>\n",
       "      <td>...</td>\n",
       "    </tr>\n",
       "    <tr>\n",
       "      <th>999995</th>\n",
       "      <td>TRYYYUS12903CD2DF0</td>\n",
       "      <td>SOTXAME12AB018F136</td>\n",
       "      <td>Kiko Navarro</td>\n",
       "      <td>O Samba Da Vida</td>\n",
       "    </tr>\n",
       "    <tr>\n",
       "      <th>999996</th>\n",
       "      <td>TRYYYJO128F426DA37</td>\n",
       "      <td>SOXQYIQ12A8C137FBB</td>\n",
       "      <td>Kuldeep Manak</td>\n",
       "      <td>Jago Chhadeo</td>\n",
       "    </tr>\n",
       "    <tr>\n",
       "      <th>999997</th>\n",
       "      <td>TRYYYMG128F4260ECA</td>\n",
       "      <td>SOHODZI12A8C137BB3</td>\n",
       "      <td>Gabriel Le Mar</td>\n",
       "      <td>Novemba</td>\n",
       "    </tr>\n",
       "    <tr>\n",
       "      <th>999998</th>\n",
       "      <td>TRYYYDJ128F9310A21</td>\n",
       "      <td>SOLXGOR12A81C21EB7</td>\n",
       "      <td>Elude</td>\n",
       "      <td>Faraday</td>\n",
       "    </tr>\n",
       "    <tr>\n",
       "      <th>999999</th>\n",
       "      <td>TRYYYVU12903CD01E3</td>\n",
       "      <td>SOWXJXQ12AB0189F43</td>\n",
       "      <td>Texta</td>\n",
       "      <td>Fernweh feat. Sektion KuchikÃ¤schtli</td>\n",
       "    </tr>\n",
       "  </tbody>\n",
       "</table>\n",
       "<p>1000000 rows × 4 columns</p>\n",
       "</div>"
      ],
      "text/plain": [
       "                  taste_id             song_id            artist  \\\n",
       "0       TRMMMYQ128F932D901  SOQMMHC12AB0180CB8  Faster Pussy cat   \n",
       "1       TRMMMKD128F425225D  SOVFVAK12A8C1350D9  Karkkiautomaatti   \n",
       "2       TRMMMRX128F93187D9  SOGTUKN12AB017F4F1    Hudson Mohawke   \n",
       "3       TRMMMCH128F425532C  SOBNYVR12A8C13558C       Yerba Brava   \n",
       "4       TRMMMWA128F426B589  SOHSBXH12A8C13B0DF        Der Mystic   \n",
       "...                    ...                 ...               ...   \n",
       "999995  TRYYYUS12903CD2DF0  SOTXAME12AB018F136      Kiko Navarro   \n",
       "999996  TRYYYJO128F426DA37  SOXQYIQ12A8C137FBB     Kuldeep Manak   \n",
       "999997  TRYYYMG128F4260ECA  SOHODZI12A8C137BB3    Gabriel Le Mar   \n",
       "999998  TRYYYDJ128F9310A21  SOLXGOR12A81C21EB7             Elude   \n",
       "999999  TRYYYVU12903CD01E3  SOWXJXQ12AB0189F43             Texta   \n",
       "\n",
       "                                   song_name  \n",
       "0                               Silent Night  \n",
       "1                                Tanssi vaan  \n",
       "2                          No One Could Ever  \n",
       "3                             Si Vos QuerÃ©s  \n",
       "4                           Tangle Of Aspens  \n",
       "...                                      ...  \n",
       "999995                       O Samba Da Vida  \n",
       "999996                          Jago Chhadeo  \n",
       "999997                               Novemba  \n",
       "999998                               Faraday  \n",
       "999999  Fernweh feat. Sektion KuchikÃ¤schtli  \n",
       "\n",
       "[1000000 rows x 4 columns]"
      ]
     },
     "execution_count": 7,
     "metadata": {},
     "output_type": "execute_result"
    }
   ],
   "source": [
    "df1"
   ]
  },
  {
   "cell_type": "markdown",
   "metadata": {},
   "source": [
    "## Merging both the dataset on song_id"
   ]
  },
  {
   "cell_type": "code",
   "execution_count": 8,
   "metadata": {},
   "outputs": [],
   "source": [
    "df_new=pd.merge(df,df1.drop_duplicates(['song_id']),on='song_id',how='left')"
   ]
  },
  {
   "cell_type": "code",
   "execution_count": 9,
   "metadata": {
    "scrolled": true
   },
   "outputs": [
    {
     "data": {
      "text/html": [
       "<div>\n",
       "<style scoped>\n",
       "    .dataframe tbody tr th:only-of-type {\n",
       "        vertical-align: middle;\n",
       "    }\n",
       "\n",
       "    .dataframe tbody tr th {\n",
       "        vertical-align: top;\n",
       "    }\n",
       "\n",
       "    .dataframe thead th {\n",
       "        text-align: right;\n",
       "    }\n",
       "</style>\n",
       "<table border=\"1\" class=\"dataframe\">\n",
       "  <thead>\n",
       "    <tr style=\"text-align: right;\">\n",
       "      <th></th>\n",
       "      <th>user_id</th>\n",
       "      <th>song_id</th>\n",
       "      <th>count</th>\n",
       "      <th>taste_id</th>\n",
       "      <th>artist</th>\n",
       "      <th>song_name</th>\n",
       "    </tr>\n",
       "  </thead>\n",
       "  <tbody>\n",
       "    <tr>\n",
       "      <th>0</th>\n",
       "      <td>fd50c4007b68a3737fe052d5a4f78ce8aa117f3d</td>\n",
       "      <td>SOBONKR12A58A7A7E0</td>\n",
       "      <td>1</td>\n",
       "      <td>TRAEHHJ12903CF492F</td>\n",
       "      <td>Dwight Yoakam</td>\n",
       "      <td>You're The One</td>\n",
       "    </tr>\n",
       "    <tr>\n",
       "      <th>1</th>\n",
       "      <td>fd50c4007b68a3737fe052d5a4f78ce8aa117f3d</td>\n",
       "      <td>SOEGIYH12A6D4FC0E3</td>\n",
       "      <td>1</td>\n",
       "      <td>TRLGMFJ128F4217DBE</td>\n",
       "      <td>Barry Tuckwell/Academy of St Martin-in-the-Fie...</td>\n",
       "      <td>Horn Concerto No. 4 in E flat K495: II. Romanc...</td>\n",
       "    </tr>\n",
       "    <tr>\n",
       "      <th>2</th>\n",
       "      <td>fd50c4007b68a3737fe052d5a4f78ce8aa117f3d</td>\n",
       "      <td>SOFLJQZ12A6D4FADA6</td>\n",
       "      <td>1</td>\n",
       "      <td>TRTNDNE128F1486812</td>\n",
       "      <td>Cartola</td>\n",
       "      <td>Tive Sim</td>\n",
       "    </tr>\n",
       "    <tr>\n",
       "      <th>3</th>\n",
       "      <td>fd50c4007b68a3737fe052d5a4f78ce8aa117f3d</td>\n",
       "      <td>SOHTKMO12AB01843B0</td>\n",
       "      <td>1</td>\n",
       "      <td>TRASTUE128F930D488</td>\n",
       "      <td>Lonnie Gordon</td>\n",
       "      <td>Catch You Baby (Steve Pitron &amp; Max Sanna Radio...</td>\n",
       "    </tr>\n",
       "    <tr>\n",
       "      <th>4</th>\n",
       "      <td>fd50c4007b68a3737fe052d5a4f78ce8aa117f3d</td>\n",
       "      <td>SODQZCY12A6D4F9D11</td>\n",
       "      <td>1</td>\n",
       "      <td>TRFPLWO128F1486B9E</td>\n",
       "      <td>Miguel Calo</td>\n",
       "      <td>El Cuatrero</td>\n",
       "    </tr>\n",
       "    <tr>\n",
       "      <th>...</th>\n",
       "      <td>...</td>\n",
       "      <td>...</td>\n",
       "      <td>...</td>\n",
       "      <td>...</td>\n",
       "      <td>...</td>\n",
       "      <td>...</td>\n",
       "    </tr>\n",
       "    <tr>\n",
       "      <th>1048570</th>\n",
       "      <td>90aeb21b2f36eb46d1c5d48fa030b4b8fa818b52</td>\n",
       "      <td>SOEPEVY12AB01822A1</td>\n",
       "      <td>2</td>\n",
       "      <td>TRXHJNZ128F93443A5</td>\n",
       "      <td>De Saloon</td>\n",
       "      <td>Hombre muerto</td>\n",
       "    </tr>\n",
       "    <tr>\n",
       "      <th>1048571</th>\n",
       "      <td>90aeb21b2f36eb46d1c5d48fa030b4b8fa818b52</td>\n",
       "      <td>SOLHTJY12A58A7AFE7</td>\n",
       "      <td>1</td>\n",
       "      <td>TREIPHK128F42626AB</td>\n",
       "      <td>Suicidal Tendencies</td>\n",
       "      <td>Go Skate! (Possessed To Skate '97)</td>\n",
       "    </tr>\n",
       "    <tr>\n",
       "      <th>1048572</th>\n",
       "      <td>90aeb21b2f36eb46d1c5d48fa030b4b8fa818b52</td>\n",
       "      <td>SODBAHE12A8C132D34</td>\n",
       "      <td>2</td>\n",
       "      <td>TRQEQHH12903CA6CE5</td>\n",
       "      <td>Shakira</td>\n",
       "      <td>Sombra De Ti</td>\n",
       "    </tr>\n",
       "    <tr>\n",
       "      <th>1048573</th>\n",
       "      <td>90aeb21b2f36eb46d1c5d48fa030b4b8fa818b52</td>\n",
       "      <td>SOAVWHY12AB017C6C0</td>\n",
       "      <td>3</td>\n",
       "      <td>TRGSVZA128F92CF92E</td>\n",
       "      <td>The Killers</td>\n",
       "      <td>Losing Touch</td>\n",
       "    </tr>\n",
       "    <tr>\n",
       "      <th>1048574</th>\n",
       "      <td>90aeb21b2f36eb46d1c5d48fa030b4b8fa818b52</td>\n",
       "      <td>SOMYECL12A6701D9C8</td>\n",
       "      <td>1</td>\n",
       "      <td>TRLSHFY128E0785FF1</td>\n",
       "      <td>Jack Johnson</td>\n",
       "      <td>Never Know</td>\n",
       "    </tr>\n",
       "  </tbody>\n",
       "</table>\n",
       "<p>1048575 rows × 6 columns</p>\n",
       "</div>"
      ],
      "text/plain": [
       "                                          user_id             song_id  count  \\\n",
       "0        fd50c4007b68a3737fe052d5a4f78ce8aa117f3d  SOBONKR12A58A7A7E0      1   \n",
       "1        fd50c4007b68a3737fe052d5a4f78ce8aa117f3d  SOEGIYH12A6D4FC0E3      1   \n",
       "2        fd50c4007b68a3737fe052d5a4f78ce8aa117f3d  SOFLJQZ12A6D4FADA6      1   \n",
       "3        fd50c4007b68a3737fe052d5a4f78ce8aa117f3d  SOHTKMO12AB01843B0      1   \n",
       "4        fd50c4007b68a3737fe052d5a4f78ce8aa117f3d  SODQZCY12A6D4F9D11      1   \n",
       "...                                           ...                 ...    ...   \n",
       "1048570  90aeb21b2f36eb46d1c5d48fa030b4b8fa818b52  SOEPEVY12AB01822A1      2   \n",
       "1048571  90aeb21b2f36eb46d1c5d48fa030b4b8fa818b52  SOLHTJY12A58A7AFE7      1   \n",
       "1048572  90aeb21b2f36eb46d1c5d48fa030b4b8fa818b52  SODBAHE12A8C132D34      2   \n",
       "1048573  90aeb21b2f36eb46d1c5d48fa030b4b8fa818b52  SOAVWHY12AB017C6C0      3   \n",
       "1048574  90aeb21b2f36eb46d1c5d48fa030b4b8fa818b52  SOMYECL12A6701D9C8      1   \n",
       "\n",
       "                   taste_id  \\\n",
       "0        TRAEHHJ12903CF492F   \n",
       "1        TRLGMFJ128F4217DBE   \n",
       "2        TRTNDNE128F1486812   \n",
       "3        TRASTUE128F930D488   \n",
       "4        TRFPLWO128F1486B9E   \n",
       "...                     ...   \n",
       "1048570  TRXHJNZ128F93443A5   \n",
       "1048571  TREIPHK128F42626AB   \n",
       "1048572  TRQEQHH12903CA6CE5   \n",
       "1048573  TRGSVZA128F92CF92E   \n",
       "1048574  TRLSHFY128E0785FF1   \n",
       "\n",
       "                                                    artist  \\\n",
       "0                                            Dwight Yoakam   \n",
       "1        Barry Tuckwell/Academy of St Martin-in-the-Fie...   \n",
       "2                                                  Cartola   \n",
       "3                                            Lonnie Gordon   \n",
       "4                                              Miguel Calo   \n",
       "...                                                    ...   \n",
       "1048570                                          De Saloon   \n",
       "1048571                                Suicidal Tendencies   \n",
       "1048572                                            Shakira   \n",
       "1048573                                        The Killers   \n",
       "1048574                                       Jack Johnson   \n",
       "\n",
       "                                                 song_name  \n",
       "0                                           You're The One  \n",
       "1        Horn Concerto No. 4 in E flat K495: II. Romanc...  \n",
       "2                                                 Tive Sim  \n",
       "3        Catch You Baby (Steve Pitron & Max Sanna Radio...  \n",
       "4                                              El Cuatrero  \n",
       "...                                                    ...  \n",
       "1048570                                      Hombre muerto  \n",
       "1048571                 Go Skate! (Possessed To Skate '97)  \n",
       "1048572                                       Sombra De Ti  \n",
       "1048573                                       Losing Touch  \n",
       "1048574                                         Never Know  \n",
       "\n",
       "[1048575 rows x 6 columns]"
      ]
     },
     "execution_count": 9,
     "metadata": {},
     "output_type": "execute_result"
    }
   ],
   "source": [
    "df_new"
   ]
  },
  {
   "cell_type": "code",
   "execution_count": 10,
   "metadata": {},
   "outputs": [
    {
     "data": {
      "text/plain": [
       "user_id      0\n",
       "song_id      0\n",
       "count        0\n",
       "taste_id     0\n",
       "artist       0\n",
       "song_name    1\n",
       "dtype: int64"
      ]
     },
     "execution_count": 10,
     "metadata": {},
     "output_type": "execute_result"
    }
   ],
   "source": [
    "df_new.isnull().sum()"
   ]
  },
  {
   "cell_type": "markdown",
   "metadata": {},
   "source": [
    "## Basic Statistics"
   ]
  },
  {
   "cell_type": "code",
   "execution_count": 11,
   "metadata": {},
   "outputs": [
    {
     "name": "stdout",
     "output_type": "stream",
     "text": [
      "Total data points: 1048575\n",
      "Total number of users: 79451\n",
      "Total number of songs: 142915\n",
      "Total number of tracks: 142915\n"
     ]
    }
   ],
   "source": [
    "print('Total data points:',df_new.shape[0])\n",
    "print('Total number of users:',df_new['user_id'].unique().shape[0])\n",
    "print('Total number of songs:',df_new['song_id'].unique().shape[0])\n",
    "print('Total number of tracks:',df_new['taste_id'].unique().shape[0])"
   ]
  },
  {
   "cell_type": "code",
   "execution_count": 12,
   "metadata": {},
   "outputs": [
    {
     "name": "stdout",
     "output_type": "stream",
     "text": [
      "Number of Unique Release 121476\n",
      "Number of Unique Artist 26487\n"
     ]
    }
   ],
   "source": [
    "print('Number of Unique Release',df_new['song_name'].unique().shape[0])\n",
    "print('Number of Unique Artist',df_new['artist'].unique().shape[0])"
   ]
  },
  {
   "cell_type": "code",
   "execution_count": 54,
   "metadata": {},
   "outputs": [
    {
     "data": {
      "text/plain": [
       "3335779"
      ]
     },
     "execution_count": 54,
     "metadata": {},
     "output_type": "execute_result"
    }
   ],
   "source": [
    "df_new[\"count\"].sum()"
   ]
  },
  {
   "cell_type": "code",
   "execution_count": 13,
   "metadata": {},
   "outputs": [
    {
     "data": {
      "text/html": [
       "<div>\n",
       "<style scoped>\n",
       "    .dataframe tbody tr th:only-of-type {\n",
       "        vertical-align: middle;\n",
       "    }\n",
       "\n",
       "    .dataframe tbody tr th {\n",
       "        vertical-align: top;\n",
       "    }\n",
       "\n",
       "    .dataframe thead th {\n",
       "        text-align: right;\n",
       "    }\n",
       "</style>\n",
       "<table border=\"1\" class=\"dataframe\">\n",
       "  <thead>\n",
       "    <tr style=\"text-align: right;\">\n",
       "      <th></th>\n",
       "      <th>count</th>\n",
       "    </tr>\n",
       "  </thead>\n",
       "  <tbody>\n",
       "    <tr>\n",
       "      <th>count</th>\n",
       "      <td>1.048575e+06</td>\n",
       "    </tr>\n",
       "    <tr>\n",
       "      <th>mean</th>\n",
       "      <td>3.181250e+00</td>\n",
       "    </tr>\n",
       "    <tr>\n",
       "      <th>std</th>\n",
       "      <td>7.070194e+00</td>\n",
       "    </tr>\n",
       "    <tr>\n",
       "      <th>min</th>\n",
       "      <td>1.000000e+00</td>\n",
       "    </tr>\n",
       "    <tr>\n",
       "      <th>25%</th>\n",
       "      <td>1.000000e+00</td>\n",
       "    </tr>\n",
       "    <tr>\n",
       "      <th>50%</th>\n",
       "      <td>1.000000e+00</td>\n",
       "    </tr>\n",
       "    <tr>\n",
       "      <th>75%</th>\n",
       "      <td>3.000000e+00</td>\n",
       "    </tr>\n",
       "    <tr>\n",
       "      <th>max</th>\n",
       "      <td>6.460000e+02</td>\n",
       "    </tr>\n",
       "  </tbody>\n",
       "</table>\n",
       "</div>"
      ],
      "text/plain": [
       "              count\n",
       "count  1.048575e+06\n",
       "mean   3.181250e+00\n",
       "std    7.070194e+00\n",
       "min    1.000000e+00\n",
       "25%    1.000000e+00\n",
       "50%    1.000000e+00\n",
       "75%    3.000000e+00\n",
       "max    6.460000e+02"
      ]
     },
     "execution_count": 13,
     "metadata": {},
     "output_type": "execute_result"
    }
   ],
   "source": [
    "df_new.describe()"
   ]
  },
  {
   "cell_type": "code",
   "execution_count": 14,
   "metadata": {},
   "outputs": [
    {
     "data": {
      "image/png": "[encoded data removed]",
      "text/plain": [
       "<Figure size 360x360 with 1 Axes>"
      ]
     },
     "metadata": {
      "needs_background": "light"
     },
     "output_type": "display_data"
    }
   ],
   "source": [
    "plt.figure(figsize=(5,5))\n",
    "sns.kdeplot(df_new['count'], shade=True);"
   ]
  },
  {
   "cell_type": "code",
   "execution_count": 15,
   "metadata": {},
   "outputs": [
    {
     "data": {
      "text/plain": [
       "user_id      object\n",
       "song_id      object\n",
       "count         int64\n",
       "taste_id     object\n",
       "artist       object\n",
       "song_name    object\n",
       "dtype: object"
      ]
     },
     "execution_count": 15,
     "metadata": {},
     "output_type": "execute_result"
    }
   ],
   "source": [
    "df_new.dtypes"
   ]
  },
  {
   "cell_type": "code",
   "execution_count": 16,
   "metadata": {},
   "outputs": [],
   "source": [
    "x=df_new.groupby(['user_id','count','song_id','taste_id'])"
   ]
  },
  {
   "cell_type": "code",
   "execution_count": 17,
   "metadata": {
    "scrolled": true
   },
   "outputs": [
    {
     "data": {
      "text/html": [
       "<div>\n",
       "<style scoped>\n",
       "    .dataframe tbody tr th:only-of-type {\n",
       "        vertical-align: middle;\n",
       "    }\n",
       "\n",
       "    .dataframe tbody tr th {\n",
       "        vertical-align: top;\n",
       "    }\n",
       "\n",
       "    .dataframe thead th {\n",
       "        text-align: right;\n",
       "    }\n",
       "</style>\n",
       "<table border=\"1\" class=\"dataframe\">\n",
       "  <thead>\n",
       "    <tr style=\"text-align: right;\">\n",
       "      <th></th>\n",
       "      <th></th>\n",
       "      <th></th>\n",
       "      <th></th>\n",
       "      <th>artist</th>\n",
       "      <th>song_name</th>\n",
       "    </tr>\n",
       "    <tr>\n",
       "      <th>user_id</th>\n",
       "      <th>count</th>\n",
       "      <th>song_id</th>\n",
       "      <th>taste_id</th>\n",
       "      <th></th>\n",
       "      <th></th>\n",
       "    </tr>\n",
       "  </thead>\n",
       "  <tbody>\n",
       "    <tr>\n",
       "      <th rowspan=\"5\" valign=\"top\">00007a02388c208ea7176479f6ae06f8224355b3</th>\n",
       "      <th rowspan=\"5\" valign=\"top\">1</th>\n",
       "      <th>SONGABP12A8C1442D4</th>\n",
       "      <th>TRPELED128F92C577D</th>\n",
       "      <td>Stone Temple Pilots</td>\n",
       "      <td>Interstate Love Song (LP Version)</td>\n",
       "    </tr>\n",
       "    <tr>\n",
       "      <th>SONZGLW12A6D4FBBC1</th>\n",
       "      <th>TRFNAOK128F92F4B77</th>\n",
       "      <td>Sam Sparro</td>\n",
       "      <td>Black &amp; Gold</td>\n",
       "    </tr>\n",
       "    <tr>\n",
       "      <th>SOSPTOE12A6D4F938C</th>\n",
       "      <th>TRDPXKD128F1499EF3</th>\n",
       "      <td>Local H</td>\n",
       "      <td>Bound For The Floor</td>\n",
       "    </tr>\n",
       "    <tr>\n",
       "      <th>SOTNDOM12AF729CADB</th>\n",
       "      <th>TRGZUAD128F421CE5E</th>\n",
       "      <td>Sam Sparro</td>\n",
       "      <td>Cottonmouth</td>\n",
       "    </tr>\n",
       "    <tr>\n",
       "      <th>SOXMOQF12A6701FB8B</th>\n",
       "      <th>TRZUWSX128F92F491A</th>\n",
       "      <td>No Doubt</td>\n",
       "      <td>Spiderwebs</td>\n",
       "    </tr>\n",
       "    <tr>\n",
       "      <th>...</th>\n",
       "      <th>...</th>\n",
       "      <th>...</th>\n",
       "      <th>...</th>\n",
       "      <td>...</td>\n",
       "      <td>...</td>\n",
       "    </tr>\n",
       "    <tr>\n",
       "      <th rowspan=\"5\" valign=\"top\">ffff07d7d9bb187aa58c7b81b3d3f35e7cf7c0ee</th>\n",
       "      <th rowspan=\"2\" valign=\"top\">1</th>\n",
       "      <th>SOKTVCV12AB017E793</th>\n",
       "      <th>TRCWCYC128F9343086</th>\n",
       "      <td>Fabolous / Keri Hilson</td>\n",
       "      <td>Everything_ Everyday_ Everywhere</td>\n",
       "    </tr>\n",
       "    <tr>\n",
       "      <th>SOUSQCN12A8C133302</th>\n",
       "      <th>TROXXYE128F4267245</th>\n",
       "      <td>Destiny's Child</td>\n",
       "      <td>Say My Name</td>\n",
       "    </tr>\n",
       "    <tr>\n",
       "      <th>2</th>\n",
       "      <th>SODKXYM12A8C1383FB</th>\n",
       "      <th>TROHVOE128F4276FAB</th>\n",
       "      <td>Reni Jusis</td>\n",
       "      <td>Raczej Inaczej</td>\n",
       "    </tr>\n",
       "    <tr>\n",
       "      <th>5</th>\n",
       "      <th>SOOPDFE12A8C1386BB</th>\n",
       "      <th>TRCAQLO128F4284DD0</th>\n",
       "      <td>Kenny G</td>\n",
       "      <td>Tradewinds</td>\n",
       "    </tr>\n",
       "    <tr>\n",
       "      <th>25</th>\n",
       "      <th>SOPSVIR12A8C138BB5</th>\n",
       "      <th>TRXFYCU128F4258741</th>\n",
       "      <td>Bauhaus</td>\n",
       "      <td>Ziggy Stardust</td>\n",
       "    </tr>\n",
       "  </tbody>\n",
       "</table>\n",
       "<p>1048575 rows × 2 columns</p>\n",
       "</div>"
      ],
      "text/plain": [
       "                                                                                                      artist  \\\n",
       "user_id                                  count song_id            taste_id                                     \n",
       "00007a02388c208ea7176479f6ae06f8224355b3 1     SONGABP12A8C1442D4 TRPELED128F92C577D     Stone Temple Pilots   \n",
       "                                               SONZGLW12A6D4FBBC1 TRFNAOK128F92F4B77              Sam Sparro   \n",
       "                                               SOSPTOE12A6D4F938C TRDPXKD128F1499EF3                 Local H   \n",
       "                                               SOTNDOM12AF729CADB TRGZUAD128F421CE5E              Sam Sparro   \n",
       "                                               SOXMOQF12A6701FB8B TRZUWSX128F92F491A                No Doubt   \n",
       "...                                                                                                      ...   \n",
       "ffff07d7d9bb187aa58c7b81b3d3f35e7cf7c0ee 1     SOKTVCV12AB017E793 TRCWCYC128F9343086  Fabolous / Keri Hilson   \n",
       "                                               SOUSQCN12A8C133302 TROXXYE128F4267245         Destiny's Child   \n",
       "                                         2     SODKXYM12A8C1383FB TROHVOE128F4276FAB              Reni Jusis   \n",
       "                                         5     SOOPDFE12A8C1386BB TRCAQLO128F4284DD0                 Kenny G   \n",
       "                                         25    SOPSVIR12A8C138BB5 TRXFYCU128F4258741                 Bauhaus   \n",
       "\n",
       "                                                                                                              song_name  \n",
       "user_id                                  count song_id            taste_id                                               \n",
       "00007a02388c208ea7176479f6ae06f8224355b3 1     SONGABP12A8C1442D4 TRPELED128F92C577D  Interstate Love Song (LP Version)  \n",
       "                                               SONZGLW12A6D4FBBC1 TRFNAOK128F92F4B77                       Black & Gold  \n",
       "                                               SOSPTOE12A6D4F938C TRDPXKD128F1499EF3                Bound For The Floor  \n",
       "                                               SOTNDOM12AF729CADB TRGZUAD128F421CE5E                        Cottonmouth  \n",
       "                                               SOXMOQF12A6701FB8B TRZUWSX128F92F491A                         Spiderwebs  \n",
       "...                                                                                                                 ...  \n",
       "ffff07d7d9bb187aa58c7b81b3d3f35e7cf7c0ee 1     SOKTVCV12AB017E793 TRCWCYC128F9343086   Everything_ Everyday_ Everywhere  \n",
       "                                               SOUSQCN12A8C133302 TROXXYE128F4267245                        Say My Name  \n",
       "                                         2     SODKXYM12A8C1383FB TROHVOE128F4276FAB                     Raczej Inaczej  \n",
       "                                         5     SOOPDFE12A8C1386BB TRCAQLO128F4284DD0                         Tradewinds  \n",
       "                                         25    SOPSVIR12A8C138BB5 TRXFYCU128F4258741                     Ziggy Stardust  \n",
       "\n",
       "[1048575 rows x 2 columns]"
      ]
     },
     "execution_count": 17,
     "metadata": {},
     "output_type": "execute_result"
    }
   ],
   "source": [
    "x.first()"
   ]
  },
  {
   "cell_type": "code",
   "execution_count": 18,
   "metadata": {},
   "outputs": [],
   "source": [
    "x1=df_new.groupby(['song_id','count'])"
   ]
  },
  {
   "cell_type": "code",
   "execution_count": 19,
   "metadata": {
    "scrolled": true
   },
   "outputs": [
    {
     "data": {
      "text/html": [
       "<div>\n",
       "<style scoped>\n",
       "    .dataframe tbody tr th:only-of-type {\n",
       "        vertical-align: middle;\n",
       "    }\n",
       "\n",
       "    .dataframe tbody tr th {\n",
       "        vertical-align: top;\n",
       "    }\n",
       "\n",
       "    .dataframe thead th {\n",
       "        text-align: right;\n",
       "    }\n",
       "</style>\n",
       "<table border=\"1\" class=\"dataframe\">\n",
       "  <thead>\n",
       "    <tr style=\"text-align: right;\">\n",
       "      <th></th>\n",
       "      <th></th>\n",
       "      <th>user_id</th>\n",
       "      <th>taste_id</th>\n",
       "      <th>artist</th>\n",
       "      <th>song_name</th>\n",
       "    </tr>\n",
       "    <tr>\n",
       "      <th>song_id</th>\n",
       "      <th>count</th>\n",
       "      <th></th>\n",
       "      <th></th>\n",
       "      <th></th>\n",
       "      <th></th>\n",
       "    </tr>\n",
       "  </thead>\n",
       "  <tbody>\n",
       "    <tr>\n",
       "      <th>SOAAAFI12A6D4F9C66</th>\n",
       "      <th>1</th>\n",
       "      <td>d075a43b518c724d8498db70b623eda22cfd2f45</td>\n",
       "      <td>TRZEXLQ128F1491D17</td>\n",
       "      <td>I Love You But I've Chosen Darkness</td>\n",
       "      <td>The Less You See</td>\n",
       "    </tr>\n",
       "    <tr>\n",
       "      <th>SOAAAGK12AB0189572</th>\n",
       "      <th>2</th>\n",
       "      <td>8184aaddf11c4892fdd93fba7dc5e54f8d72eefb</td>\n",
       "      <td>TRDZUFJ12903CE29FC</td>\n",
       "      <td>Au Revoir Simone</td>\n",
       "      <td>Grateful</td>\n",
       "    </tr>\n",
       "    <tr>\n",
       "      <th rowspan=\"3\" valign=\"top\">SOAAAGQ12A8C1420C8</th>\n",
       "      <th>1</th>\n",
       "      <td>0b91b7ba26eea486bcc6aee4e345cbbfe308c4a0</td>\n",
       "      <td>TRJWZII128F92CA924</td>\n",
       "      <td>Bohren &amp; Der Club Of Gore</td>\n",
       "      <td>Orgelblut</td>\n",
       "    </tr>\n",
       "    <tr>\n",
       "      <th>2</th>\n",
       "      <td>4e0a4bcaa5b34b553e61cb6d795ec79d152d4c22</td>\n",
       "      <td>TRJWZII128F92CA924</td>\n",
       "      <td>Bohren &amp; Der Club Of Gore</td>\n",
       "      <td>Orgelblut</td>\n",
       "    </tr>\n",
       "    <tr>\n",
       "      <th>3</th>\n",
       "      <td>89dfb6294d50df97808bacf71854bd75263b6fef</td>\n",
       "      <td>TRJWZII128F92CA924</td>\n",
       "      <td>Bohren &amp; Der Club Of Gore</td>\n",
       "      <td>Orgelblut</td>\n",
       "    </tr>\n",
       "    <tr>\n",
       "      <th>...</th>\n",
       "      <th>...</th>\n",
       "      <td>...</td>\n",
       "      <td>...</td>\n",
       "      <td>...</td>\n",
       "      <td>...</td>\n",
       "    </tr>\n",
       "    <tr>\n",
       "      <th rowspan=\"3\" valign=\"top\">SOZZZPV12A8C1444B5</th>\n",
       "      <th>16</th>\n",
       "      <td>09a1e24438a7c689c31092c01f1f07fcdddc0232</td>\n",
       "      <td>TRUXMIW128F92F999F</td>\n",
       "      <td>Blacks ft. P Money</td>\n",
       "      <td>Fall Back</td>\n",
       "    </tr>\n",
       "    <tr>\n",
       "      <th>17</th>\n",
       "      <td>50af13d5cf3561df99480d2d2dca08ea8f4391de</td>\n",
       "      <td>TRUXMIW128F92F999F</td>\n",
       "      <td>Blacks ft. P Money</td>\n",
       "      <td>Fall Back</td>\n",
       "    </tr>\n",
       "    <tr>\n",
       "      <th>19</th>\n",
       "      <td>7f50bd1bc97d7cca44611fa3036ad3c130561d40</td>\n",
       "      <td>TRUXMIW128F92F999F</td>\n",
       "      <td>Blacks ft. P Money</td>\n",
       "      <td>Fall Back</td>\n",
       "    </tr>\n",
       "    <tr>\n",
       "      <th>SOZZZRV12A8C1361F1</th>\n",
       "      <th>1</th>\n",
       "      <td>9f3e83cd1438ce627fdf1f4569e5ad39d3b58bdb</td>\n",
       "      <td>TRCEWAR128F425D1B6</td>\n",
       "      <td>Sangre Azul</td>\n",
       "      <td>Cuerpo A Cuerpo</td>\n",
       "    </tr>\n",
       "    <tr>\n",
       "      <th>SOZZZWN12AF72A1E29</th>\n",
       "      <th>1</th>\n",
       "      <td>e56969ef30872d84ac6595521fae715ba455d067</td>\n",
       "      <td>TRLAYKX128F92E728C</td>\n",
       "      <td>James McMurtry</td>\n",
       "      <td>Peter Pan</td>\n",
       "    </tr>\n",
       "  </tbody>\n",
       "</table>\n",
       "<p>331270 rows × 4 columns</p>\n",
       "</div>"
      ],
      "text/plain": [
       "                                                           user_id  \\\n",
       "song_id            count                                             \n",
       "SOAAAFI12A6D4F9C66 1      d075a43b518c724d8498db70b623eda22cfd2f45   \n",
       "SOAAAGK12AB0189572 2      8184aaddf11c4892fdd93fba7dc5e54f8d72eefb   \n",
       "SOAAAGQ12A8C1420C8 1      0b91b7ba26eea486bcc6aee4e345cbbfe308c4a0   \n",
       "                   2      4e0a4bcaa5b34b553e61cb6d795ec79d152d4c22   \n",
       "                   3      89dfb6294d50df97808bacf71854bd75263b6fef   \n",
       "...                                                            ...   \n",
       "SOZZZPV12A8C1444B5 16     09a1e24438a7c689c31092c01f1f07fcdddc0232   \n",
       "                   17     50af13d5cf3561df99480d2d2dca08ea8f4391de   \n",
       "                   19     7f50bd1bc97d7cca44611fa3036ad3c130561d40   \n",
       "SOZZZRV12A8C1361F1 1      9f3e83cd1438ce627fdf1f4569e5ad39d3b58bdb   \n",
       "SOZZZWN12AF72A1E29 1      e56969ef30872d84ac6595521fae715ba455d067   \n",
       "\n",
       "                                    taste_id  \\\n",
       "song_id            count                       \n",
       "SOAAAFI12A6D4F9C66 1      TRZEXLQ128F1491D17   \n",
       "SOAAAGK12AB0189572 2      TRDZUFJ12903CE29FC   \n",
       "SOAAAGQ12A8C1420C8 1      TRJWZII128F92CA924   \n",
       "                   2      TRJWZII128F92CA924   \n",
       "                   3      TRJWZII128F92CA924   \n",
       "...                                      ...   \n",
       "SOZZZPV12A8C1444B5 16     TRUXMIW128F92F999F   \n",
       "                   17     TRUXMIW128F92F999F   \n",
       "                   19     TRUXMIW128F92F999F   \n",
       "SOZZZRV12A8C1361F1 1      TRCEWAR128F425D1B6   \n",
       "SOZZZWN12AF72A1E29 1      TRLAYKX128F92E728C   \n",
       "\n",
       "                                                       artist  \\\n",
       "song_id            count                                        \n",
       "SOAAAFI12A6D4F9C66 1      I Love You But I've Chosen Darkness   \n",
       "SOAAAGK12AB0189572 2                         Au Revoir Simone   \n",
       "SOAAAGQ12A8C1420C8 1                Bohren & Der Club Of Gore   \n",
       "                   2                Bohren & Der Club Of Gore   \n",
       "                   3                Bohren & Der Club Of Gore   \n",
       "...                                                       ...   \n",
       "SOZZZPV12A8C1444B5 16                      Blacks ft. P Money   \n",
       "                   17                      Blacks ft. P Money   \n",
       "                   19                      Blacks ft. P Money   \n",
       "SOZZZRV12A8C1361F1 1                              Sangre Azul   \n",
       "SOZZZWN12AF72A1E29 1                           James McMurtry   \n",
       "\n",
       "                                 song_name  \n",
       "song_id            count                    \n",
       "SOAAAFI12A6D4F9C66 1      The Less You See  \n",
       "SOAAAGK12AB0189572 2              Grateful  \n",
       "SOAAAGQ12A8C1420C8 1             Orgelblut  \n",
       "                   2             Orgelblut  \n",
       "                   3             Orgelblut  \n",
       "...                                    ...  \n",
       "SOZZZPV12A8C1444B5 16            Fall Back  \n",
       "                   17            Fall Back  \n",
       "                   19            Fall Back  \n",
       "SOZZZRV12A8C1361F1 1       Cuerpo A Cuerpo  \n",
       "SOZZZWN12AF72A1E29 1             Peter Pan  \n",
       "\n",
       "[331270 rows x 4 columns]"
      ]
     },
     "execution_count": 19,
     "metadata": {},
     "output_type": "execute_result"
    }
   ],
   "source": [
    "x1.first()"
   ]
  },
  {
   "cell_type": "markdown",
   "metadata": {},
   "source": [
    "## Analysis of user_id"
   ]
  },
  {
   "cell_type": "code",
   "execution_count": 53,
   "metadata": {},
   "outputs": [
    {
     "data": {
      "text/plain": [
       "7d90be8dfdbde170f036ce8a4b915440137cb11c    53\n",
       "d30e18323f15426c3cdc8585252ed34459916f51    52\n",
       "2e424b28bff1f62a2dae22a918f09f9c30c06d1b    52\n",
       "016a24e91a72c159a5048ab1b9b2ba5ce761b526    52\n",
       "0f8308935bcbb9a1e04ebb7c4d41c037e5f23b90    52\n",
       "                                            ..\n",
       "a8f1c3ff1c8dff77bca28f2797fe8aae0788650f     5\n",
       "4eb9b8bf9b31043495109a1b3598f9b6c334a335     5\n",
       "1f414721f9564534744789e6bfe0409963ac49b8     5\n",
       "4a05ef3874a718fb59605a75b505df01562249ec     5\n",
       "9df7f090b087a841e8c2bd89a0fb919fd187dab7     5\n",
       "Name: user_id, Length: 79451, dtype: int64"
      ]
     },
     "execution_count": 53,
     "metadata": {},
     "output_type": "execute_result"
    }
   ],
   "source": [
    "song_name_per_users=df_new['user_id'].value_counts()\n",
    "song_name_per_users"
   ]
  },
  {
   "cell_type": "code",
   "execution_count": 20,
   "metadata": {
    "scrolled": true
   },
   "outputs": [
    {
     "data": {
      "text/html": [
       "<div>\n",
       "<style scoped>\n",
       "    .dataframe tbody tr th:only-of-type {\n",
       "        vertical-align: middle;\n",
       "    }\n",
       "\n",
       "    .dataframe tbody tr th {\n",
       "        vertical-align: top;\n",
       "    }\n",
       "\n",
       "    .dataframe thead th {\n",
       "        text-align: right;\n",
       "    }\n",
       "</style>\n",
       "<table border=\"1\" class=\"dataframe\">\n",
       "  <thead>\n",
       "    <tr style=\"text-align: right;\">\n",
       "      <th></th>\n",
       "      <th>user_id</th>\n",
       "      <th>count</th>\n",
       "    </tr>\n",
       "  </thead>\n",
       "  <tbody>\n",
       "    <tr>\n",
       "      <th>39030</th>\n",
       "      <td>7d90be8dfdbde170f036ce8a4b915440137cb11c</td>\n",
       "      <td>53</td>\n",
       "    </tr>\n",
       "    <tr>\n",
       "      <th>4813</th>\n",
       "      <td>0f8308935bcbb9a1e04ebb7c4d41c037e5f23b90</td>\n",
       "      <td>52</td>\n",
       "    </tr>\n",
       "    <tr>\n",
       "      <th>14496</th>\n",
       "      <td>2e424b28bff1f62a2dae22a918f09f9c30c06d1b</td>\n",
       "      <td>52</td>\n",
       "    </tr>\n",
       "    <tr>\n",
       "      <th>445</th>\n",
       "      <td>016a24e91a72c159a5048ab1b9b2ba5ce761b526</td>\n",
       "      <td>52</td>\n",
       "    </tr>\n",
       "    <tr>\n",
       "      <th>65523</th>\n",
       "      <td>d30e18323f15426c3cdc8585252ed34459916f51</td>\n",
       "      <td>52</td>\n",
       "    </tr>\n",
       "    <tr>\n",
       "      <th>...</th>\n",
       "      <td>...</td>\n",
       "      <td>...</td>\n",
       "    </tr>\n",
       "    <tr>\n",
       "      <th>33517</th>\n",
       "      <td>6bcb76befd192b0b51898caaa2ffae1b507db95a</td>\n",
       "      <td>5</td>\n",
       "    </tr>\n",
       "    <tr>\n",
       "      <th>67820</th>\n",
       "      <td>da768496925a3df0986c10b634e66a3d0dcdc19d</td>\n",
       "      <td>5</td>\n",
       "    </tr>\n",
       "    <tr>\n",
       "      <th>33527</th>\n",
       "      <td>6bd8287b6cde35f145cfe72ea67021d61d42dc23</td>\n",
       "      <td>5</td>\n",
       "    </tr>\n",
       "    <tr>\n",
       "      <th>72655</th>\n",
       "      <td>ea402a1d523dba446f60ea3d4f38144322c68aa7</td>\n",
       "      <td>5</td>\n",
       "    </tr>\n",
       "    <tr>\n",
       "      <th>39725</th>\n",
       "      <td>7fe5b2a608a2aed9c658ea8546b5433efb904a46</td>\n",
       "      <td>5</td>\n",
       "    </tr>\n",
       "  </tbody>\n",
       "</table>\n",
       "<p>79451 rows × 2 columns</p>\n",
       "</div>"
      ],
      "text/plain": [
       "                                        user_id  count\n",
       "39030  7d90be8dfdbde170f036ce8a4b915440137cb11c     53\n",
       "4813   0f8308935bcbb9a1e04ebb7c4d41c037e5f23b90     52\n",
       "14496  2e424b28bff1f62a2dae22a918f09f9c30c06d1b     52\n",
       "445    016a24e91a72c159a5048ab1b9b2ba5ce761b526     52\n",
       "65523  d30e18323f15426c3cdc8585252ed34459916f51     52\n",
       "...                                         ...    ...\n",
       "33517  6bcb76befd192b0b51898caaa2ffae1b507db95a      5\n",
       "67820  da768496925a3df0986c10b634e66a3d0dcdc19d      5\n",
       "33527  6bd8287b6cde35f145cfe72ea67021d61d42dc23      5\n",
       "72655  ea402a1d523dba446f60ea3d4f38144322c68aa7      5\n",
       "39725  7fe5b2a608a2aed9c658ea8546b5433efb904a46      5\n",
       "\n",
       "[79451 rows x 2 columns]"
      ]
     },
     "execution_count": 20,
     "metadata": {},
     "output_type": "execute_result"
    }
   ],
   "source": [
    "# cummulative sum of listen count of the songs\n",
    "song_grogsruped = df_new.groupby(['user_id']).agg({'count':'count'}).reset_index()\n",
    "song_grogsruped.sort_values(['count'],ascending= False)"
   ]
  },
  {
   "cell_type": "markdown",
   "metadata": {},
   "source": [
    "## Analysis of artist"
   ]
  },
  {
   "cell_type": "code",
   "execution_count": 21,
   "metadata": {
    "scrolled": true
   },
   "outputs": [
    {
     "data": {
      "text/html": [
       "<div>\n",
       "<style scoped>\n",
       "    .dataframe tbody tr th:only-of-type {\n",
       "        vertical-align: middle;\n",
       "    }\n",
       "\n",
       "    .dataframe tbody tr th {\n",
       "        vertical-align: top;\n",
       "    }\n",
       "\n",
       "    .dataframe thead th {\n",
       "        text-align: right;\n",
       "    }\n",
       "</style>\n",
       "<table border=\"1\" class=\"dataframe\">\n",
       "  <thead>\n",
       "    <tr style=\"text-align: right;\">\n",
       "      <th></th>\n",
       "      <th>artist</th>\n",
       "      <th>count</th>\n",
       "    </tr>\n",
       "  </thead>\n",
       "  <tbody>\n",
       "    <tr>\n",
       "      <th>0</th>\n",
       "      <td>!!!</td>\n",
       "      <td>72</td>\n",
       "    </tr>\n",
       "    <tr>\n",
       "      <th>1</th>\n",
       "      <td>!Deladap</td>\n",
       "      <td>2</td>\n",
       "    </tr>\n",
       "    <tr>\n",
       "      <th>2</th>\n",
       "      <td>&amp; And Oceans</td>\n",
       "      <td>1</td>\n",
       "    </tr>\n",
       "    <tr>\n",
       "      <th>3</th>\n",
       "      <td>'68 Comeback</td>\n",
       "      <td>19</td>\n",
       "    </tr>\n",
       "    <tr>\n",
       "      <th>4</th>\n",
       "      <td>'N Sync/Phil Collins</td>\n",
       "      <td>40</td>\n",
       "    </tr>\n",
       "  </tbody>\n",
       "</table>\n",
       "</div>"
      ],
      "text/plain": [
       "                 artist  count\n",
       "0                   !!!     72\n",
       "1              !Deladap      2\n",
       "2          & And Oceans      1\n",
       "3          '68 Comeback     19\n",
       "4  'N Sync/Phil Collins     40"
      ]
     },
     "execution_count": 21,
     "metadata": {},
     "output_type": "execute_result"
    }
   ],
   "source": [
    "artist_group = df_new.groupby(['artist']).agg({'count':'count'}).reset_index()\n",
    "artist_group.sort_values('count')\n",
    "artist_group.head()"
   ]
  },
  {
   "cell_type": "code",
   "execution_count": 59,
   "metadata": {},
   "outputs": [
    {
     "data": {
      "text/plain": [
       "26487"
      ]
     },
     "execution_count": 59,
     "metadata": {},
     "output_type": "execute_result"
    }
   ],
   "source": [
    "len(df_new['artist'].unique())"
   ]
  },
  {
   "cell_type": "code",
   "execution_count": 60,
   "metadata": {},
   "outputs": [
    {
     "data": {
      "text/plain": [
       "Coldplay                           9070\n",
       "Kings Of Leon                      6195\n",
       "Florence + The Machine             5852\n",
       "Justin Bieber                      5605\n",
       "Jack Johnson                       4824\n",
       "                                   ... \n",
       "Burnski                               1\n",
       "The War On Drugs                      1\n",
       "Orange Factory Feat. Mike Notar       1\n",
       "Whitney Houston & Deborah Cox         1\n",
       "Pipilotti Rist                        1\n",
       "Name: artist, Length: 26487, dtype: int64"
      ]
     },
     "execution_count": 60,
     "metadata": {},
     "output_type": "execute_result"
    }
   ],
   "source": [
    "df_new['artist'].value_counts()"
   ]
  },
  {
   "cell_type": "code",
   "execution_count": 22,
   "metadata": {
    "scrolled": true
   },
   "outputs": [
    {
     "data": {
      "text/plain": [
       "array(['Yellow', 'The Scientist', 'Fix You', \"Don't Panic\", 'Sparks',\n",
       "       'Clocks', 'Life In Technicolor ii', 'Such A Rush',\n",
       "       'Fix You (Live)', 'Speed Of Sound', 'Lost!',\n",
       "       'God Put A Smile Upon Your Face', 'Brothers & Sisters',\n",
       "       'A Rush Of Blood To The Head', 'Clocks (Live In Sydney)',\n",
       "       'One I Love', 'For You', 'You Only Live Twice (Live From Norway)',\n",
       "       'Shiver', 'Swallowed In The Sea', 'In My Place',\n",
       "       'Postcards From Far Away', 'Glass Of Water',\n",
       "       \"Things I Don't Understand\", 'Strawberry Swing', '42',\n",
       "       'Til Kingdom Come', 'The Goldrush', 'X & Y', 'Life In Technicolor',\n",
       "       'We Never Change', 'Bigger Stronger', 'What If', 'Trouble',\n",
       "       \"Everything's Not Lost (Includes Hidden Track 'Life Is For Living')\",\n",
       "       'Only Superstition', 'Politik', 'Careful Where You Stand',\n",
       "       'Warning Sign', 'See You Soon', 'Spies', 'Cemeteries Of London',\n",
       "       'A Whisper', 'A Message', 'Square One', 'Low', 'I Bloom Blaum',\n",
       "       'I Ran Away', 'The World Turned Upside Down',\n",
       "       'Talk (Junkie XL Remix)', 'Help Is Round The Corner', 'Daylight',\n",
       "       'Yes', 'High Speed', \"Now My Feet Won't Touch The Ground\",\n",
       "       'Twisted Logic', 'Violet Hill', 'White Shadows',\n",
       "       'See You Soon (Live In Sydney)', 'Proof', 'Amsterdam', '1.36',\n",
       "       'Shiver (Live In Sydney)',\n",
       "       \"Everything's Not Lost (Live In Sydney)\",\n",
       "       'A Rush Of Blood To The Head (Live In Sydney)',\n",
       "       'Yellow (Live In Sydney)', 'Talk (Francois K Dub)', 'Sleeping Sun',\n",
       "       'Pour Me (Live At The Hollywood Bowl)', 'Lost?',\n",
       "       'Moses (Live In Sydney)',\n",
       "       'Life In Technicolor ii (Live @ The O2_ London)',\n",
       "       'In My Place (Live In Sydney)', 'Talk (Thin White Duke Mix)',\n",
       "       'Speed Of Sound (Live)', 'Amsterdam (Live In Sydney)'],\n",
       "      dtype=object)"
      ]
     },
     "execution_count": 22,
     "metadata": {},
     "output_type": "execute_result"
    }
   ],
   "source": [
    "df_new[df_new['artist']=='Coldplay']['song_name'].unique()"
   ]
  },
  {
   "cell_type": "code",
   "execution_count": 61,
   "metadata": {},
   "outputs": [
    {
     "data": {
      "text/plain": [
       "76"
      ]
     },
     "execution_count": 61,
     "metadata": {},
     "output_type": "execute_result"
    }
   ],
   "source": [
    "len(df_new[df_new['artist']=='Coldplay']['song_name'].unique())"
   ]
  },
  {
   "cell_type": "code",
   "execution_count": 23,
   "metadata": {
    "scrolled": false
   },
   "outputs": [
    {
     "data": {
      "text/plain": [
       "array(['Somebody To Love', 'Down To Earth', 'One Time', 'U Smile',\n",
       "       'Favorite Girl', 'Love Me', 'Common Denominator',\n",
       "       'Never Let You Go', 'Stuck In The Moment', 'Up',\n",
       "       'One Less Lonely Girl', 'That Should Be Me', 'Bigger',\n",
       "       'Runaway Love'], dtype=object)"
      ]
     },
     "execution_count": 23,
     "metadata": {},
     "output_type": "execute_result"
    }
   ],
   "source": [
    "df_new[df_new['artist']=='Justin Bieber']['song_name'].unique()"
   ]
  },
  {
   "cell_type": "code",
   "execution_count": 24,
   "metadata": {},
   "outputs": [
    {
     "data": {
      "text/plain": [
       "0                          !!!\n",
       "1                     !Deladap\n",
       "2                 & And Oceans\n",
       "3                 '68 Comeback\n",
       "4         'N Sync/Phil Collins\n",
       "                 ...          \n",
       "26482          Ã“lafur Arnalds\n",
       "26483           Ã‰rika Machado\n",
       "26484            Ã‰tienne Daho\n",
       "26485    Ã�ngeles del Infierno\n",
       "26486                     Ã�on\n",
       "Name: artist, Length: 26487, dtype: object"
      ]
     },
     "execution_count": 24,
     "metadata": {},
     "output_type": "execute_result"
    }
   ],
   "source": [
    "artist_group['artist']"
   ]
  },
  {
   "cell_type": "code",
   "execution_count": 25,
   "metadata": {},
   "outputs": [
    {
     "data": {
      "image/png": "[encoded data removed]",
      "text/plain": [
       "<Figure size 432x288 with 1 Axes>"
      ]
     },
     "metadata": {
      "needs_background": "light"
     },
     "output_type": "display_data"
    }
   ],
   "source": [
    "from scipy.stats import norm\n",
    "import numpy as np\n",
    "import matplotlib.pyplot as plt\n",
    "\n",
    "\n",
    "\n",
    "plt.plot(artist_group['count'], norm.pdf(artist_group['count']))\n",
    "\n",
    "plt.show()"
   ]
  },
  {
   "cell_type": "code",
   "execution_count": 26,
   "metadata": {},
   "outputs": [],
   "source": [
    "artist_per_users=df_new['artist'].value_counts()\n",
    "sorted_artist_per_user=artist_per_users.sort_values(ascending= False)"
   ]
  },
  {
   "cell_type": "code",
   "execution_count": 50,
   "metadata": {},
   "outputs": [
    {
     "data": {
      "text/plain": [
       "[<matplotlib.lines.Line2D at 0x277245408e0>]"
      ]
     },
     "execution_count": 50,
     "metadata": {},
     "output_type": "execute_result"
    },
    {
     "data": {
      "image/png": "[encoded data removed]",
      "text/plain": [
       "<Figure size 432x288 with 1 Axes>"
      ]
     },
     "metadata": {
      "needs_background": "light"
     },
     "output_type": "display_data"
    }
   ],
   "source": [
    "from scipy import stats\n",
    "pdf = stats.norm.pdf(sorted_artist_per_user)\n",
    "plt.plot(sorted_artist_per_user,pdf, label = \"PDF\")"
   ]
  },
  {
   "cell_type": "code",
   "execution_count": 28,
   "metadata": {
    "scrolled": true
   },
   "outputs": [
    {
     "data": {
      "text/plain": [
       "<matplotlib.axes._subplots.AxesSubplot at 0x277026a2f40>"
      ]
     },
     "execution_count": 28,
     "metadata": {},
     "output_type": "execute_result"
    },
    {
     "data": {
      "image/png": "[encoded data removed]",
      "text/plain": [
       "<Figure size 360x360 with 1 Axes>"
      ]
     },
     "metadata": {
      "needs_background": "light"
     },
     "output_type": "display_data"
    }
   ],
   "source": [
    "plt.figure(figsize=(5,5))\n",
    "sns.kdeplot(sorted_artist_per_user, shade= False)"
   ]
  },
  {
   "cell_type": "markdown",
   "metadata": {},
   "source": [
    "## song_name"
   ]
  },
  {
   "cell_type": "code",
   "execution_count": 30,
   "metadata": {},
   "outputs": [],
   "source": [
    "song_name_per_users=df_new['song_name'].value_counts()"
   ]
  },
  {
   "cell_type": "code",
   "execution_count": 31,
   "metadata": {},
   "outputs": [],
   "source": [
    "song_name_per_usesrs=df_new['song_name'].value_counts().sum()"
   ]
  },
  {
   "cell_type": "code",
   "execution_count": 32,
   "metadata": {},
   "outputs": [
    {
     "data": {
      "text/plain": [
       "1048574"
      ]
     },
     "execution_count": 32,
     "metadata": {},
     "output_type": "execute_result"
    }
   ],
   "source": [
    "song_name_per_usesrs "
   ]
  },
  {
   "cell_type": "code",
   "execution_count": 33,
   "metadata": {
    "scrolled": false
   },
   "outputs": [
    {
     "data": {
      "text/plain": [
       "My Honey And Me              1\n",
       "You Did It You Did It        1\n",
       "Autoironia                   1\n",
       "Avant Garden                 1\n",
       "Maureen (Live In Bolinas)    1\n",
       "Name: song_name, dtype: int64"
      ]
     },
     "execution_count": 33,
     "metadata": {},
     "output_type": "execute_result"
    }
   ],
   "source": [
    "song_name_per_users.sort_values().head()"
   ]
  },
  {
   "cell_type": "code",
   "execution_count": 34,
   "metadata": {},
   "outputs": [
    {
     "data": {
      "text/plain": [
       "Ain't Misbehavin                                                       1229\n",
       "Canada                                                                 1242\n",
       "ReprÃ©sente                                                            1250\n",
       "The Scientist                                                          1268\n",
       "SinceritÃ© Et Jalousie                                                 1301\n",
       "Use Somebody                                                           1377\n",
       "Marry Me                                                               1444\n",
       "Catch You Baby (Steve Pitron & Max Sanna Radio Edit)                   1530\n",
       "OMG                                                                    1600\n",
       "Drop The World                                                         1625\n",
       "Tive Sim                                                               1937\n",
       "Fireflies                                                              1999\n",
       "Hey_ Soul Sister                                                       2049\n",
       "Horn Concerto No. 4 in E flat K495: II. Romance (Andante cantabile)    2397\n",
       "Secrets                                                                2538\n",
       "Revelry                                                                2645\n",
       "Dog Days Are Over (Radio Edit)                                         2711\n",
       "You're The One                                                         3074\n",
       "Undo                                                                   3237\n",
       "Sehr kosmisch                                                          3694\n",
       "Name: song_name, dtype: int64"
      ]
     },
     "execution_count": 34,
     "metadata": {},
     "output_type": "execute_result"
    }
   ],
   "source": [
    "song_name_per_users.sort_values().tail(20)"
   ]
  },
  {
   "cell_type": "code",
   "execution_count": 48,
   "metadata": {},
   "outputs": [
    {
     "data": {
      "text/plain": [
       "<matplotlib.axes._subplots.AxesSubplot at 0x277051427c0>"
      ]
     },
     "execution_count": 48,
     "metadata": {},
     "output_type": "execute_result"
    },
    {
     "data": {
      "image/png": "[encoded data removed]",
      "text/plain": [
       "<Figure size 360x360 with 1 Axes>"
      ]
     },
     "metadata": {
      "needs_background": "light"
     },
     "output_type": "display_data"
    }
   ],
   "source": [
    "plt.figure(figsize=(5,5))\n",
    "plt.xlim(25,600)\n",
    "sns.kdeplot(song_name_per_users, shade= False)"
   ]
  },
  {
   "cell_type": "markdown",
   "metadata": {},
   "source": [
    "###"
   ]
  },
  {
   "cell_type": "code",
   "execution_count": 52,
   "metadata": {},
   "outputs": [
    {
     "data": {
      "text/plain": [
       "[<matplotlib.lines.Line2D at 0x277245a0880>]"
      ]
     },
     "execution_count": 52,
     "metadata": {},
     "output_type": "execute_result"
    },
    {
     "data": {
      "image/png": "[encoded data removed]",
      "text/plain": [
       "<Figure size 432x288 with 1 Axes>"
      ]
     },
     "metadata": {
      "needs_background": "light"
     },
     "output_type": "display_data"
    }
   ],
   "source": [
    "from scipy import stats\n",
    "pdf = stats.norm.pdf(song_name_per_users)\n",
    "plt.plot(song_name_per_users,pdf, label = \"PDF\")"
   ]
  },
  {
   "cell_type": "code",
   "execution_count": 36,
   "metadata": {
    "scrolled": false
   },
   "outputs": [
    {
     "data": {
      "text/html": [
       "<div>\n",
       "<style scoped>\n",
       "    .dataframe tbody tr th:only-of-type {\n",
       "        vertical-align: middle;\n",
       "    }\n",
       "\n",
       "    .dataframe tbody tr th {\n",
       "        vertical-align: top;\n",
       "    }\n",
       "\n",
       "    .dataframe thead th {\n",
       "        text-align: right;\n",
       "    }\n",
       "</style>\n",
       "<table border=\"1\" class=\"dataframe\">\n",
       "  <thead>\n",
       "    <tr style=\"text-align: right;\">\n",
       "      <th></th>\n",
       "      <th>song_name</th>\n",
       "      <th>count</th>\n",
       "    </tr>\n",
       "  </thead>\n",
       "  <tbody>\n",
       "    <tr>\n",
       "      <th>0</th>\n",
       "      <td>Ef Ã‰g HefÃ°i Aldrei...</td>\n",
       "      <td>1</td>\n",
       "    </tr>\n",
       "    <tr>\n",
       "      <th>1</th>\n",
       "      <td>Light Mass Prayers</td>\n",
       "      <td>4</td>\n",
       "    </tr>\n",
       "    <tr>\n",
       "      <th>2</th>\n",
       "      <td>The Arsonist Story\":  Evil Craves Attention/O...</td>\n",
       "      <td>1</td>\n",
       "    </tr>\n",
       "    <tr>\n",
       "      <th>3</th>\n",
       "      <td>Ã‰g Ã�tti GrÃ¡a Ã†sku</td>\n",
       "      <td>4</td>\n",
       "    </tr>\n",
       "    <tr>\n",
       "      <th>4</th>\n",
       "      <td>(Jack The Stripper)</td>\n",
       "      <td>1</td>\n",
       "    </tr>\n",
       "    <tr>\n",
       "      <th>...</th>\n",
       "      <td>...</td>\n",
       "      <td>...</td>\n",
       "    </tr>\n",
       "    <tr>\n",
       "      <th>121470</th>\n",
       "      <td>Ã�rboles Cruzados</td>\n",
       "      <td>16</td>\n",
       "    </tr>\n",
       "    <tr>\n",
       "      <th>121471</th>\n",
       "      <td>Ã�rboles De La Barranca</td>\n",
       "      <td>1</td>\n",
       "    </tr>\n",
       "    <tr>\n",
       "      <th>121472</th>\n",
       "      <td>Ã�rboles de la barranca</td>\n",
       "      <td>1</td>\n",
       "    </tr>\n",
       "    <tr>\n",
       "      <th>121473</th>\n",
       "      <td>Ã�rvore</td>\n",
       "      <td>3</td>\n",
       "    </tr>\n",
       "    <tr>\n",
       "      <th>121474</th>\n",
       "      <td>Ã�tkozott nÃµk</td>\n",
       "      <td>3</td>\n",
       "    </tr>\n",
       "  </tbody>\n",
       "</table>\n",
       "<p>121475 rows × 2 columns</p>\n",
       "</div>"
      ],
      "text/plain": [
       "                                                song_name  count\n",
       "0                                \n",
       "Ef Ã‰g HefÃ°i Aldrei...      1\n",
       "1                                     \n",
       "Light Mass Prayers      4\n",
       "2       \n",
       "The Arsonist Story\":  Evil Craves Attention/O...      1\n",
       "3                                  \n",
       "Ã‰g Ã�tti GrÃ¡a Ã†sku      4\n",
       "4                                     (Jack The Stripper)      1\n",
       "...                                                   ...    ...\n",
       "121470                                  Ã�rboles Cruzados     16\n",
       "121471                            Ã�rboles De La Barranca      1\n",
       "121472                            Ã�rboles de la barranca      1\n",
       "121473                                            Ã�rvore      3\n",
       "121474                                     Ã�tkozott nÃµk      3\n",
       "\n",
       "[121475 rows x 2 columns]"
      ]
     },
     "execution_count": 36,
     "metadata": {},
     "output_type": "execute_result"
    }
   ],
   "source": [
    "# cummulative sum of listen count of the songs\n",
    "sna = df_new.groupby(['song_name']).agg({'count':'count'}).reset_index()\n",
    "sna"
   ]
  },
  {
   "cell_type": "code",
   "execution_count": 37,
   "metadata": {
    "scrolled": true
   },
   "outputs": [
    {
     "ename": "NameError",
     "evalue": "name 'song_grouped' is not defined",
     "output_type": "error",
     "traceback": [
      "\u001b[1;31m---------------------------------------------------------------------------\u001b[0m",
      "\u001b[1;31mNameError\u001b[0m                                 Traceback (most recent call last)",
      "\u001b[1;32m<ipython-input-37-d8236197c636>\u001b[0m in \u001b[0;36m<module>\u001b[1;34m\u001b[0m\n\u001b[1;32m----> 1\u001b[1;33m \u001b[0mgrouped_sum\u001b[0m \u001b[1;33m=\u001b[0m \u001b[0msong_grouped\u001b[0m\u001b[1;33m[\u001b[0m\u001b[1;34m'count'\u001b[0m\u001b[1;33m]\u001b[0m\u001b[1;33m.\u001b[0m\u001b[0msum\u001b[0m\u001b[1;33m(\u001b[0m\u001b[1;33m)\u001b[0m\u001b[1;33m\u001b[0m\u001b[1;33m\u001b[0m\u001b[0m\n\u001b[0m\u001b[0;32m      2\u001b[0m \u001b[0msong_grouped\u001b[0m\u001b[1;33m[\u001b[0m\u001b[1;34m'percentage'\u001b[0m\u001b[1;33m]\u001b[0m \u001b[1;33m=\u001b[0m \u001b[1;33m(\u001b[0m\u001b[0msong_grouped\u001b[0m\u001b[1;33m[\u001b[0m\u001b[1;34m'count'\u001b[0m\u001b[1;33m]\u001b[0m \u001b[1;33m/\u001b[0m \u001b[0mgrouped_sum\u001b[0m \u001b[1;33m)\u001b[0m \u001b[1;33m*\u001b[0m \u001b[1;36m100\u001b[0m\u001b[1;33m\u001b[0m\u001b[1;33m\u001b[0m\u001b[0m\n\u001b[0;32m      3\u001b[0m \u001b[0msong_grouped\u001b[0m\u001b[1;33m.\u001b[0m\u001b[0msort_values\u001b[0m\u001b[1;33m(\u001b[0m\u001b[1;33m[\u001b[0m\u001b[1;34m'count'\u001b[0m\u001b[1;33m,\u001b[0m \u001b[1;34m'song_name'\u001b[0m\u001b[1;33m]\u001b[0m\u001b[1;33m,\u001b[0m \u001b[0mascending\u001b[0m\u001b[1;33m=\u001b[0m\u001b[1;32mFalse\u001b[0m\u001b[1;33m)\u001b[0m\u001b[1;33m\u001b[0m\u001b[1;33m\u001b[0m\u001b[0m\n",
      "\u001b[1;31mNameError\u001b[0m: name 'song_grouped' is not defined"
     ]
    }
   ],
   "source": [
    "grouped_sum = song_grouped['count'].sum()\n",
    "song_grouped['percentage'] = (song_grouped['count'] / grouped_sum ) * 100\n",
    "song_grouped.sort_values(['count', 'song_name'], ascending=False)"
   ]
  },
  {
   "cell_type": "code",
   "execution_count": null,
   "metadata": {},
   "outputs": [],
   "source": [
    "song_grouped['count'].sum()"
   ]
  },
  {
   "cell_type": "code",
   "execution_count": null,
   "metadata": {},
   "outputs": [],
   "source": [
    "# cummulative sum of listen count of the songs\n",
    "sna = df_new.groupby(['song_name']).agg({'count':'count'}).reset_index()\n"
   ]
  },
  {
   "cell_type": "code",
   "execution_count": null,
   "metadata": {},
   "outputs": [],
   "source": []
  },
  {
   "cell_type": "code",
   "execution_count": null,
   "metadata": {},
   "outputs": [],
   "source": []
  },
  {
   "cell_type": "code",
   "execution_count": null,
   "metadata": {},
   "outputs": [],
   "source": []
  },
  {
   "cell_type": "code",
   "execution_count": null,
   "metadata": {},
   "outputs": [],
   "source": []
  },
  {
   "cell_type": "code",
   "execution_count": null,
   "metadata": {},
   "outputs": [],
   "source": []
  },
  {
   "cell_type": "code",
   "execution_count": null,
   "metadata": {},
   "outputs": [],
   "source": []
  },
  {
   "cell_type": "code",
   "execution_count": null,
   "metadata": {},
   "outputs": [],
   "source": []
  },
  {
   "cell_type": "code",
   "execution_count": null,
   "metadata": {},
   "outputs": [],
   "source": []
  },
  {
   "cell_type": "code",
   "execution_count": null,
   "metadata": {},
   "outputs": [],
   "source": []
  }
 ],
 "metadata": {
  "interpreter": {
   "hash": "e0877423d33bf120b21a6ab87b3e1747605247d54ad44f6899f173d4646652a7"
  },
  "kernelspec": {
   "display_name": "Python 3",
   "language": "python",
   "name": "python3"
  },
  "language_info": {
   "codemirror_mode": {
    "name": "ipython",
    "version": 3
   },
   "file_extension": ".py",
   "mimetype": "text/x-python",
   "name": "python",
   "nbconvert_exporter": "python",
   "pygments_lexer": "ipython3",
   "version": "3.8.2"
  }
 },
 "nbformat": 4,
 "nbformat_minor": 4
}
